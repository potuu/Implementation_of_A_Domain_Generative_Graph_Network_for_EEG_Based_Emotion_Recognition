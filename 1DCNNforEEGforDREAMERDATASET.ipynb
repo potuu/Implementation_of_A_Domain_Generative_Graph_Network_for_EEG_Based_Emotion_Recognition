{
  "nbformat": 4,
  "nbformat_minor": 0,
  "metadata": {
    "colab": {
      "provenance": [],
      "authorship_tag": "ABX9TyMeuB8iqjqk7klx2UlA23tg",
      "include_colab_link": true
    },
    "kernelspec": {
      "name": "python3",
      "display_name": "Python 3"
    },
    "language_info": {
      "name": "python"
    }
  },
  "cells": [
    {
      "cell_type": "markdown",
      "metadata": {
        "id": "view-in-github",
        "colab_type": "text"
      },
      "source": [
        "<a href=\"https://colab.research.google.com/github/potuu/Implementation_of_A_Domain_Generative_Graph_Network_for_EEG_Based_Emotion_Recognition/blob/main/1DCNNforEEGforDREAMERDATASET.ipynb\" target=\"_parent\"><img src=\"https://colab.research.google.com/assets/colab-badge.svg\" alt=\"Open In Colab\"/></a>"
      ]
    },
    {
      "cell_type": "code",
      "execution_count": 88,
      "metadata": {
        "id": "cxuE1ShrnJ4V"
      },
      "outputs": [],
      "source": [
        "import os\n",
        "import pandas as pd\n",
        "import numpy as np\n",
        "from scipy.signal import butter, filtfilt\n",
        "import numpy as np\n",
        "import pandas as pd\n",
        "from scipy import signal\n",
        "import matplotlib.pyplot as plt\n",
        "\n",
        "\n",
        "from sklearn.model_selection import train_test_split\n",
        "from sklearn.preprocessing import MinMaxScaler"
      ]
    },
    {
      "cell_type": "code",
      "source": [
        "from google.colab import drive\n",
        "drive.mount('/content/drive')"
      ],
      "metadata": {
        "colab": {
          "base_uri": "https://localhost:8080/"
        },
        "id": "MXei7a9xnM1z",
        "outputId": "55777065-6138-4539-dd9d-38987d6888f2"
      },
      "execution_count": 89,
      "outputs": [
        {
          "output_type": "stream",
          "name": "stdout",
          "text": [
            "Drive already mounted at /content/drive; to attempt to forcibly remount, call drive.mount(\"/content/drive\", force_remount=True).\n"
          ]
        }
      ]
    },
    {
      "cell_type": "code",
      "source": [
        "data= \"/content/drive/MyDrive/DREAMER\""
      ],
      "metadata": {
        "id": "NX4QxcC5nVfK"
      },
      "execution_count": 90,
      "outputs": []
    },
    {
      "cell_type": "code",
      "source": [
        "import pandas as pd\n",
        "\n",
        "# CSV dosyasını yükle\n",
        "df_eeg = pd.read_csv('/content/drive/MyDrive/DREAMER/DREAMER_Extracted_EEG.csv')\n",
        "\n",
        "# Satır ve sütun sayısını yazdır\n",
        "print(f\"Satır sayısı: {df.shape[0]}\")\n",
        "print(f\"Sütun sayısı: {df.shape[1]}\")\n"
      ],
      "metadata": {
        "colab": {
          "base_uri": "https://localhost:8080/"
        },
        "id": "OeNYHvqCnVcV",
        "outputId": "acad7aa2-ac70-41a0-8dde-5f9109444c96"
      },
      "execution_count": 91,
      "outputs": [
        {
          "output_type": "stream",
          "name": "stdout",
          "text": [
            "Satır sayısı: 414\n",
            "Sütun sayısı: 71\n"
          ]
        }
      ]
    },
    {
      "cell_type": "code",
      "source": [
        "import pandas as pd\n",
        "\n",
        "# CSV dosyasını yükle\n",
        "df_mldata = pd.read_csv('/content/drive/MyDrive/DREAMER/ml_data.csv')\n",
        "\n",
        "# Satır ve sütun sayısını yazdır\n",
        "print(f\"Satır sayısı: {df.shape[0]}\")\n",
        "print(f\"Sütun sayısı: {df.shape[1]}\")\n"
      ],
      "metadata": {
        "colab": {
          "base_uri": "https://localhost:8080/"
        },
        "id": "e5EaBkTdnVZJ",
        "outputId": "a71ea17a-9ef8-4233-9fc9-d1f0fd596c19"
      },
      "execution_count": 92,
      "outputs": [
        {
          "output_type": "stream",
          "name": "stdout",
          "text": [
            "Satır sayısı: 414\n",
            "Sütun sayısı: 71\n"
          ]
        }
      ]
    },
    {
      "cell_type": "code",
      "source": [
        "print(\"Sütun başlıkları:\", df_mldata.columns.tolist())"
      ],
      "metadata": {
        "colab": {
          "base_uri": "https://localhost:8080/"
        },
        "id": "YzZgtt-WnVQF",
        "outputId": "9587089c-f254-4422-fd17-29dd73346c72"
      },
      "execution_count": 93,
      "outputs": [
        {
          "output_type": "stream",
          "name": "stdout",
          "text": [
            "Sütun başlıkları: ['Unnamed: 0', 'gama_1', 'beta_1', 'alpha_1', 'theta_1', 'delta_1', 'gama_2', 'beta_2', 'alpha_2', 'theta_2', 'delta_2', 'gama_3', 'beta_3', 'alpha_3', 'theta_3', 'delta_3', 'gama_4', 'beta_4', 'alpha_4', 'theta_4', 'delta_4', 'gama_5', 'beta_5', 'alpha_5', 'theta_5', 'delta_5', 'gama_6', 'beta_6', 'alpha_6', 'theta_6', 'delta_6', 'gama_7', 'beta_7', 'alpha_7', 'theta_7', 'delta_7', 'gama_8', 'beta_8', 'alpha_8', 'theta_8', 'delta_8', 'gama_9', 'beta_9', 'alpha_9', 'theta_9', 'delta_9', 'gama_10', 'beta_10', 'alpha_10', 'theta_10', 'delta_10', 'gama_11', 'beta_11', 'alpha_11', 'theta_11', 'delta_11', 'gama_12', 'beta_12', 'alpha_12', 'theta_12', 'delta_12', 'gama_13', 'beta_13', 'alpha_13', 'theta_13', 'delta_13', 'gama_14', 'beta_14', 'alpha_14', 'theta_14', 'delta_14', 'age', 'gender', 'participant', 'video', 'video_name', 'target_emotion', 'valence', 'arousal', 'dominance', 'stress_bin']\n"
          ]
        }
      ]
    },
    {
      "cell_type": "code",
      "source": [
        "# Silinecek sütunların isimleri\n",
        "columns_to_drop = ['age', 'gender', 'participant', 'video', 'video_name', 'target_emotion', 'dominance', 'stress_bin']\n",
        "\n",
        "# Sütunları silme\n",
        "df_mldata = df_mldata.drop(columns=columns_to_drop)\n",
        "\n",
        "# Yeni sütun başlıklarını yazdırma\n",
        "print(\"Yeni sütun başlıkları:\", df_mldata.columns.tolist())\n"
      ],
      "metadata": {
        "colab": {
          "base_uri": "https://localhost:8080/"
        },
        "id": "jkYIFLJ7zraH",
        "outputId": "0ea2de34-cb38-4e81-be0d-16662985e62a"
      },
      "execution_count": 94,
      "outputs": [
        {
          "output_type": "stream",
          "name": "stdout",
          "text": [
            "Yeni sütun başlıkları: ['Unnamed: 0', 'gama_1', 'beta_1', 'alpha_1', 'theta_1', 'delta_1', 'gama_2', 'beta_2', 'alpha_2', 'theta_2', 'delta_2', 'gama_3', 'beta_3', 'alpha_3', 'theta_3', 'delta_3', 'gama_4', 'beta_4', 'alpha_4', 'theta_4', 'delta_4', 'gama_5', 'beta_5', 'alpha_5', 'theta_5', 'delta_5', 'gama_6', 'beta_6', 'alpha_6', 'theta_6', 'delta_6', 'gama_7', 'beta_7', 'alpha_7', 'theta_7', 'delta_7', 'gama_8', 'beta_8', 'alpha_8', 'theta_8', 'delta_8', 'gama_9', 'beta_9', 'alpha_9', 'theta_9', 'delta_9', 'gama_10', 'beta_10', 'alpha_10', 'theta_10', 'delta_10', 'gama_11', 'beta_11', 'alpha_11', 'theta_11', 'delta_11', 'gama_12', 'beta_12', 'alpha_12', 'theta_12', 'delta_12', 'gama_13', 'beta_13', 'alpha_13', 'theta_13', 'delta_13', 'gama_14', 'beta_14', 'alpha_14', 'theta_14', 'delta_14', 'valence', 'arousal']\n"
          ]
        }
      ]
    },
    {
      "cell_type": "code",
      "source": [
        "print(df_mldata.head())"
      ],
      "metadata": {
        "colab": {
          "base_uri": "https://localhost:8080/"
        },
        "id": "igIBREKC31tm",
        "outputId": "c2d5f359-1ce3-402f-a6b1-86abcf9bae2e"
      },
      "execution_count": 95,
      "outputs": [
        {
          "output_type": "stream",
          "name": "stdout",
          "text": [
            "   Unnamed: 0    gama_1    beta_1   alpha_1   theta_1   delta_1    gama_2  \\\n",
            "0           0  0.068498  0.067553  0.072495  0.169771  0.170403  0.071361   \n",
            "1           3  0.068582  0.067710  0.072515  0.169813  0.170427  0.071729   \n",
            "2           7  0.066527  0.062804  0.068150  0.169661  0.170381  0.005208   \n",
            "3          10  0.065708  0.064115  0.069321  0.170132  0.170712  0.071078   \n",
            "4          13  0.065731  0.064503  0.070086  0.170163  0.170689  0.071258   \n",
            "\n",
            "     beta_2   alpha_2   theta_2  ...  alpha_13  theta_13  delta_13   gama_14  \\\n",
            "0  0.071796  0.083615  0.160586  ...  0.075437  0.155727  0.161956  0.037639   \n",
            "1  0.072496  0.083717  0.160397  ...  0.085504  0.171295  0.177267  0.080688   \n",
            "2 -0.123433  0.030055  0.159760  ... -2.883818  0.039073 -0.055503 -2.593069   \n",
            "3  0.071809  0.082709  0.160688  ...  0.091331  0.198616  0.201631  0.084082   \n",
            "4  0.071927  0.083060  0.160700  ...  0.092224  0.198670  0.201643  0.085350   \n",
            "\n",
            "    beta_14  alpha_14  theta_14  delta_14  valence  arousal  \n",
            "0 -0.014512  0.068057  0.099452  0.103307        4        3  \n",
            "1  0.065658  0.084318  0.137808  0.142644        4        3  \n",
            "2 -4.127245 -3.183542 -0.021477 -0.142905        1        2  \n",
            "3  0.086341  0.089884  0.177187  0.178742        4        2  \n",
            "4  0.087553  0.091223  0.177178  0.178684        3        1  \n",
            "\n",
            "[5 rows x 73 columns]\n"
          ]
        }
      ]
    },
    {
      "cell_type": "markdown",
      "source": [
        "Band-Pass Filter Uygulama\n",
        "EEG sinyalleri için 0.5 Hz ile 75 Hz arasında bir band-pass filtre uyguladık"
      ],
      "metadata": {
        "id": "sRRtkCom0Jo-"
      }
    },
    {
      "cell_type": "code",
      "source": [
        "import pandas as pd\n",
        "from scipy.signal import butter, filtfilt\n",
        "\n",
        "# Butterworth band-pass filter design\n",
        "def butter_bandpass(lowcut, highcut, fs, order=4):\n",
        "    nyquist = 0.5 * fs\n",
        "    low = lowcut / nyquist\n",
        "    high = highcut / nyquist\n",
        "    b, a = butter(order, [low, high], btype='band')\n",
        "    return b, a\n",
        "\n",
        "def bandpass_filter(data, lowcut, highcut, fs):\n",
        "    b, a = butter_bandpass(lowcut, highcut, fs)\n",
        "    return filtfilt(b, a, data)\n",
        "\n",
        "# Filtre parametreleri\n",
        "lowcut = 0.5  # alt frekans (örnek)\n",
        "highcut = 75.0  # üst frekans (örnek)\n",
        "sampling_rate = 256  # örnekleme frekansı (MAHNOB-HCI dataset için 256 Hz)\n",
        "\n",
        "# 'df_mldata' DataFrame'ini yüklediğiniz varsayalım\n",
        "# df_mldata = pd.read_csv('veri.csv') # Bu satırı uygun şekilde güncelleyebilirsiniz\n",
        "\n",
        "# 'Unnamed: 0', 'valence' ve 'arousal' sütunları dışındaki tüm sütunları seçelim\n",
        "columns_to_filter = [col for col in df_mldata.columns if col not in ['Unnamed: 0', 'valence', 'arousal']]\n",
        "\n",
        "# Her sütuna band-pass filtre uygulama\n",
        "for col in columns_to_filter:\n",
        "    df_mldata[col] = bandpass_filter(df_mldata[col].values, lowcut, highcut, sampling_rate)\n",
        "\n",
        "# Filtre uygulanmış veri\n",
        "print(df_mldata.head())\n"
      ],
      "metadata": {
        "colab": {
          "base_uri": "https://localhost:8080/"
        },
        "id": "p0ZyA5Ho4uNB",
        "outputId": "18979cf3-7efa-499a-ee7d-69986ade78f3"
      },
      "execution_count": 96,
      "outputs": [
        {
          "output_type": "stream",
          "name": "stdout",
          "text": [
            "   Unnamed: 0    gama_1    beta_1   alpha_1   theta_1   delta_1    gama_2  \\\n",
            "0           0  0.005869  0.027365  0.033067 -0.040210 -0.037844 -0.006895   \n",
            "1           3  0.004501  0.025362  0.031217 -0.042312 -0.039845 -0.023134   \n",
            "2           7  0.001774  0.022561  0.028468 -0.043936 -0.041404 -0.063695   \n",
            "3          10 -0.000568  0.020713  0.026979 -0.045722 -0.043203 -0.025069   \n",
            "4          13 -0.001492  0.020614  0.027402 -0.047835 -0.045297  0.034223   \n",
            "\n",
            "     beta_2   alpha_2   theta_2  ...  alpha_13  theta_13  delta_13   gama_14  \\\n",
            "0 -0.003863 -0.002326 -0.041099  ...  0.004707 -0.018662 -0.014274 -0.009877   \n",
            "1 -0.065879  0.045046 -0.041055  ... -1.061401 -0.058563 -0.090196 -0.940381   \n",
            "2 -0.137987 -0.098036 -0.050965  ... -1.572350 -0.070121 -0.120116 -1.393807   \n",
            "3 -0.049912 -0.077787 -0.045079  ... -0.853376 -0.026066 -0.053345 -0.752464   \n",
            "4  0.060748  0.185818 -0.035873  ...  0.158851  0.023759  0.030045  0.157165   \n",
            "\n",
            "    beta_14  alpha_14  theta_14  delta_14  valence  arousal  \n",
            "0 -0.012220 -0.011860 -0.033285 -0.028014        4        3  \n",
            "1 -1.461620 -1.180668 -0.064955 -0.103845        4        3  \n",
            "2 -2.163902 -1.742114 -0.072263 -0.133788        1        2  \n",
            "3 -1.150734 -0.952088 -0.018153 -0.051101        4        2  \n",
            "4  0.280164  0.161389  0.043364  0.052658        3        1  \n",
            "\n",
            "[5 rows x 73 columns]\n"
          ]
        }
      ]
    },
    {
      "cell_type": "code",
      "source": [
        "# 'valence' ve 'arousal' sütunlarındaki unique değerleri yazdırma\n",
        "print(\"Valence unique values:\", df_mldata['valence'].unique())\n",
        "print(\"Arousal unique values:\", df_mldata['arousal'].unique())\n"
      ],
      "metadata": {
        "colab": {
          "base_uri": "https://localhost:8080/"
        },
        "id": "EWn3VFEh7q3_",
        "outputId": "78a3c502-e185-4286-df0e-aab6842298da"
      },
      "execution_count": 97,
      "outputs": [
        {
          "output_type": "stream",
          "name": "stdout",
          "text": [
            "Valence unique values: [4 1 3 2 5]\n",
            "Arousal unique values: [3 2 1 5 4]\n"
          ]
        }
      ]
    },
    {
      "cell_type": "code",
      "source": [
        "# 'valence' ve 'arousal' sütunlarındaki ortalamayı bulma\n",
        "valence_mean = df_mldata['valence'].mean()\n",
        "arousal_mean = df_mldata['arousal'].mean()\n",
        "\n",
        "# 'valence' sütununu high (1) ve low (0) olarak sınıflandırma\n",
        "df_mldata['valence'] = df_mldata['valence'].apply(lambda x: 1 if x > valence_mean else 0)\n",
        "\n",
        "# 'arousal' sütununu high (1) ve low (0) olarak sınıflandırma\n",
        "df_mldata['arousal'] = df_mldata['arousal'].apply(lambda x: 1 if x > arousal_mean else 0)\n",
        "\n",
        "# Sonuçları yazdırma\n",
        "print(df_mldata[['valence', 'arousal']].head())\n"
      ],
      "metadata": {
        "colab": {
          "base_uri": "https://localhost:8080/"
        },
        "id": "jzS4Lal673e4",
        "outputId": "2e505605-0210-4a40-9178-8f785810a669"
      },
      "execution_count": 98,
      "outputs": [
        {
          "output_type": "stream",
          "name": "stdout",
          "text": [
            "   valence  arousal\n",
            "0        1        1\n",
            "1        1        1\n",
            "2        0        0\n",
            "3        1        0\n",
            "4        1        0\n"
          ]
        }
      ]
    },
    {
      "cell_type": "code",
      "source": [
        "print(df_mldata.head())"
      ],
      "metadata": {
        "colab": {
          "base_uri": "https://localhost:8080/"
        },
        "id": "pktX1HST77UC",
        "outputId": "7592b1a1-eeac-40d0-c6b8-f51568e8932a"
      },
      "execution_count": 99,
      "outputs": [
        {
          "output_type": "stream",
          "name": "stdout",
          "text": [
            "   Unnamed: 0    gama_1    beta_1   alpha_1   theta_1   delta_1    gama_2  \\\n",
            "0           0  0.005869  0.027365  0.033067 -0.040210 -0.037844 -0.006895   \n",
            "1           3  0.004501  0.025362  0.031217 -0.042312 -0.039845 -0.023134   \n",
            "2           7  0.001774  0.022561  0.028468 -0.043936 -0.041404 -0.063695   \n",
            "3          10 -0.000568  0.020713  0.026979 -0.045722 -0.043203 -0.025069   \n",
            "4          13 -0.001492  0.020614  0.027402 -0.047835 -0.045297  0.034223   \n",
            "\n",
            "     beta_2   alpha_2   theta_2  ...  alpha_13  theta_13  delta_13   gama_14  \\\n",
            "0 -0.003863 -0.002326 -0.041099  ...  0.004707 -0.018662 -0.014274 -0.009877   \n",
            "1 -0.065879  0.045046 -0.041055  ... -1.061401 -0.058563 -0.090196 -0.940381   \n",
            "2 -0.137987 -0.098036 -0.050965  ... -1.572350 -0.070121 -0.120116 -1.393807   \n",
            "3 -0.049912 -0.077787 -0.045079  ... -0.853376 -0.026066 -0.053345 -0.752464   \n",
            "4  0.060748  0.185818 -0.035873  ...  0.158851  0.023759  0.030045  0.157165   \n",
            "\n",
            "    beta_14  alpha_14  theta_14  delta_14  valence  arousal  \n",
            "0 -0.012220 -0.011860 -0.033285 -0.028014        1        1  \n",
            "1 -1.461620 -1.180668 -0.064955 -0.103845        1        1  \n",
            "2 -2.163902 -1.742114 -0.072263 -0.133788        0        0  \n",
            "3 -1.150734 -0.952088 -0.018153 -0.051101        1        0  \n",
            "4  0.280164  0.161389  0.043364  0.052658        1        0  \n",
            "\n",
            "[5 rows x 73 columns]\n"
          ]
        }
      ]
    },
    {
      "cell_type": "markdown",
      "source": [
        "Feature Selection"
      ],
      "metadata": {
        "id": "UcCyPRu-7EUJ"
      }
    },
    {
      "cell_type": "code",
      "source": [
        "import pandas as pd\n",
        "from sklearn.feature_selection import mutual_info_classif\n",
        "import numpy as np"
      ],
      "metadata": {
        "id": "q6frcgRp69OG"
      },
      "execution_count": 101,
      "outputs": []
    },
    {
      "cell_type": "code",
      "source": [
        "y = df_mldata['valence']  # Burada 'valence' seçilmiştir, 'arousal' da kullanılabilir\n",
        "X = df_mldata.drop(columns=['Unnamed: 0', 'valence', 'arousal'])  # Özellik matrisi\n",
        "\n",
        "# Mutual Information hesapla\n",
        "mi_values = mutual_info_classif(X, y)\n",
        "\n",
        "# Sonuçları DataFrame'e dönüştür ve sıralama\n",
        "feature_ranking = pd.DataFrame({'Feature': X.columns, 'MI': mi_values})\n",
        "feature_ranking = feature_ranking.sort_values(by='MI', ascending=False)\n",
        "\n",
        "# En yüksek 20 özelliği seç\n",
        "top_20_features = feature_ranking.head(20)\n",
        "\n",
        "# Görselleştirme\n",
        "plt.figure(figsize=(10, 6))\n",
        "sns.barplot(x='MI', y='Feature', data=top_20_features, palette='viridis')\n",
        "\n",
        "# Başlık ve etiketler\n",
        "plt.title('Top 20 Features Based on Mutual Information with Valence', fontsize=14)\n",
        "plt.xlabel('Mutual Information Value', fontsize=12)\n",
        "plt.ylabel('Feature', fontsize=12)\n",
        "\n",
        "# Görselleştirmeyi göster\n",
        "plt.tight_layout()\n",
        "plt.show()"
      ],
      "metadata": {
        "colab": {
          "base_uri": "https://localhost:8080/",
          "height": 660
        },
        "id": "Axsklexe69Ly",
        "outputId": "f2651521-68ec-4e00-cd1b-caad578724c7"
      },
      "execution_count": 103,
      "outputs": [
        {
          "output_type": "stream",
          "name": "stderr",
          "text": [
            "<ipython-input-103-6c5e1e9ebfb5>:16: FutureWarning: \n",
            "\n",
            "Passing `palette` without assigning `hue` is deprecated and will be removed in v0.14.0. Assign the `y` variable to `hue` and set `legend=False` for the same effect.\n",
            "\n",
            "  sns.barplot(x='MI', y='Feature', data=top_20_features, palette='viridis')\n"
          ]
        },
        {
          "output_type": "display_data",
          "data": {
            "text/plain": [
              "<Figure size 1000x600 with 1 Axes>"
            ],
            "image/png": "[encoded data removed]"
          },
          "metadata": {}
        }
      ]
    },
    {
      "cell_type": "code",
      "source": [
        "# Yazılı açıklama oluşturma\n",
        "print(\"Mutual Information Değerlerine Göre En Önemli 5 Özellik:\")\n",
        "for index, row in top_20_features.iterrows():\n",
        "    feature_name = row['Feature']\n",
        "    mi_value = row['MI']\n",
        "    print(f\"- Özellik: {feature_name}, Mutual Information: {mi_value:.4f}\")\n",
        "    if mi_value > 0.2:\n",
        "        print(f\"  Bu özellik, hedef değişkenle güçlü bir ilişki gösteriyor ve sınıflandırma modelinde önemli bir rol oynayabilir.\")\n",
        "    else:\n",
        "        print(f\"  Bu özellik, hedef değişkenle daha zayıf bir ilişkiye sahip olabilir ve modelde daha az etkili olabilir.\")\n",
        "\n",
        "print(\"\\nTüm Özelliklerin Mutual Information Değerleri:\")\n",
        "for index, row in feature_ranking.iterrows():\n",
        "    feature_name = row['Feature']\n",
        "    mi_value = row['MI']\n",
        "    print(f\"- Özellik: {feature_name}, Mutual Information: {mi_value:.4f}\")"
      ],
      "metadata": {
        "colab": {
          "base_uri": "https://localhost:8080/"
        },
        "id": "2TFbUUwYDKpp",
        "outputId": "e644d8f8-7fcd-48ef-c516-483e6bc5fbf7"
      },
      "execution_count": 113,
      "outputs": [
        {
          "output_type": "stream",
          "name": "stdout",
          "text": [
            "Mutual Information Değerlerine Göre En Önemli 5 Özellik:\n",
            "- Özellik: gama_4, Mutual Information: 0.1079\n",
            "  Bu özellik, hedef değişkenle daha zayıf bir ilişkiye sahip olabilir ve modelde daha az etkili olabilir.\n",
            "- Özellik: alpha_4, Mutual Information: 0.0935\n",
            "  Bu özellik, hedef değişkenle daha zayıf bir ilişkiye sahip olabilir ve modelde daha az etkili olabilir.\n",
            "- Özellik: alpha_5, Mutual Information: 0.0782\n",
            "  Bu özellik, hedef değişkenle daha zayıf bir ilişkiye sahip olabilir ve modelde daha az etkili olabilir.\n",
            "- Özellik: gama_3, Mutual Information: 0.0685\n",
            "  Bu özellik, hedef değişkenle daha zayıf bir ilişkiye sahip olabilir ve modelde daha az etkili olabilir.\n",
            "- Özellik: alpha_8, Mutual Information: 0.0672\n",
            "  Bu özellik, hedef değişkenle daha zayıf bir ilişkiye sahip olabilir ve modelde daha az etkili olabilir.\n",
            "- Özellik: gama_1, Mutual Information: 0.0584\n",
            "  Bu özellik, hedef değişkenle daha zayıf bir ilişkiye sahip olabilir ve modelde daha az etkili olabilir.\n",
            "- Özellik: delta_1, Mutual Information: 0.0580\n",
            "  Bu özellik, hedef değişkenle daha zayıf bir ilişkiye sahip olabilir ve modelde daha az etkili olabilir.\n",
            "- Özellik: delta_5, Mutual Information: 0.0427\n",
            "  Bu özellik, hedef değişkenle daha zayıf bir ilişkiye sahip olabilir ve modelde daha az etkili olabilir.\n",
            "- Özellik: delta_9, Mutual Information: 0.0406\n",
            "  Bu özellik, hedef değişkenle daha zayıf bir ilişkiye sahip olabilir ve modelde daha az etkili olabilir.\n",
            "- Özellik: alpha_13, Mutual Information: 0.0333\n",
            "  Bu özellik, hedef değişkenle daha zayıf bir ilişkiye sahip olabilir ve modelde daha az etkili olabilir.\n",
            "- Özellik: delta_2, Mutual Information: 0.0319\n",
            "  Bu özellik, hedef değişkenle daha zayıf bir ilişkiye sahip olabilir ve modelde daha az etkili olabilir.\n",
            "- Özellik: delta_14, Mutual Information: 0.0316\n",
            "  Bu özellik, hedef değişkenle daha zayıf bir ilişkiye sahip olabilir ve modelde daha az etkili olabilir.\n",
            "- Özellik: delta_3, Mutual Information: 0.0315\n",
            "  Bu özellik, hedef değişkenle daha zayıf bir ilişkiye sahip olabilir ve modelde daha az etkili olabilir.\n",
            "- Özellik: delta_12, Mutual Information: 0.0274\n",
            "  Bu özellik, hedef değişkenle daha zayıf bir ilişkiye sahip olabilir ve modelde daha az etkili olabilir.\n",
            "- Özellik: gama_2, Mutual Information: 0.0262\n",
            "  Bu özellik, hedef değişkenle daha zayıf bir ilişkiye sahip olabilir ve modelde daha az etkili olabilir.\n",
            "- Özellik: theta_14, Mutual Information: 0.0254\n",
            "  Bu özellik, hedef değişkenle daha zayıf bir ilişkiye sahip olabilir ve modelde daha az etkili olabilir.\n",
            "- Özellik: beta_4, Mutual Information: 0.0184\n",
            "  Bu özellik, hedef değişkenle daha zayıf bir ilişkiye sahip olabilir ve modelde daha az etkili olabilir.\n",
            "- Özellik: gama_8, Mutual Information: 0.0183\n",
            "  Bu özellik, hedef değişkenle daha zayıf bir ilişkiye sahip olabilir ve modelde daha az etkili olabilir.\n",
            "- Özellik: theta_10, Mutual Information: 0.0180\n",
            "  Bu özellik, hedef değişkenle daha zayıf bir ilişkiye sahip olabilir ve modelde daha az etkili olabilir.\n",
            "- Özellik: gama_5, Mutual Information: 0.0177\n",
            "  Bu özellik, hedef değişkenle daha zayıf bir ilişkiye sahip olabilir ve modelde daha az etkili olabilir.\n",
            "\n",
            "Tüm Özelliklerin Mutual Information Değerleri:\n",
            "- Özellik: gama_4, Mutual Information: 0.1079\n",
            "- Özellik: alpha_4, Mutual Information: 0.0935\n",
            "- Özellik: alpha_5, Mutual Information: 0.0782\n",
            "- Özellik: gama_3, Mutual Information: 0.0685\n",
            "- Özellik: alpha_8, Mutual Information: 0.0672\n",
            "- Özellik: gama_1, Mutual Information: 0.0584\n",
            "- Özellik: delta_1, Mutual Information: 0.0580\n",
            "- Özellik: delta_5, Mutual Information: 0.0427\n",
            "- Özellik: delta_9, Mutual Information: 0.0406\n",
            "- Özellik: alpha_13, Mutual Information: 0.0333\n",
            "- Özellik: delta_2, Mutual Information: 0.0319\n",
            "- Özellik: delta_14, Mutual Information: 0.0316\n",
            "- Özellik: delta_3, Mutual Information: 0.0315\n",
            "- Özellik: delta_12, Mutual Information: 0.0274\n",
            "- Özellik: gama_2, Mutual Information: 0.0262\n",
            "- Özellik: theta_14, Mutual Information: 0.0254\n",
            "- Özellik: beta_4, Mutual Information: 0.0184\n",
            "- Özellik: gama_8, Mutual Information: 0.0183\n",
            "- Özellik: theta_10, Mutual Information: 0.0180\n",
            "- Özellik: gama_5, Mutual Information: 0.0177\n",
            "- Özellik: alpha_11, Mutual Information: 0.0170\n",
            "- Özellik: theta_2, Mutual Information: 0.0163\n",
            "- Özellik: delta_4, Mutual Information: 0.0162\n",
            "- Özellik: alpha_3, Mutual Information: 0.0152\n",
            "- Özellik: alpha_7, Mutual Information: 0.0122\n",
            "- Özellik: theta_1, Mutual Information: 0.0120\n",
            "- Özellik: theta_4, Mutual Information: 0.0089\n",
            "- Özellik: theta_6, Mutual Information: 0.0070\n",
            "- Özellik: beta_14, Mutual Information: 0.0047\n",
            "- Özellik: delta_7, Mutual Information: 0.0045\n",
            "- Özellik: beta_6, Mutual Information: 0.0032\n",
            "- Özellik: gama_6, Mutual Information: 0.0027\n",
            "- Özellik: alpha_12, Mutual Information: 0.0020\n",
            "- Özellik: delta_10, Mutual Information: 0.0010\n",
            "- Özellik: theta_12, Mutual Information: 0.0000\n",
            "- Özellik: beta_5, Mutual Information: 0.0000\n",
            "- Özellik: theta_11, Mutual Information: 0.0000\n",
            "- Özellik: delta_11, Mutual Information: 0.0000\n",
            "- Özellik: gama_12, Mutual Information: 0.0000\n",
            "- Özellik: beta_12, Mutual Information: 0.0000\n",
            "- Özellik: beta_2, Mutual Information: 0.0000\n",
            "- Özellik: gama_13, Mutual Information: 0.0000\n",
            "- Özellik: beta_11, Mutual Information: 0.0000\n",
            "- Özellik: alpha_1, Mutual Information: 0.0000\n",
            "- Özellik: theta_13, Mutual Information: 0.0000\n",
            "- Özellik: delta_13, Mutual Information: 0.0000\n",
            "- Özellik: gama_14, Mutual Information: 0.0000\n",
            "- Özellik: alpha_14, Mutual Information: 0.0000\n",
            "- Özellik: beta_3, Mutual Information: 0.0000\n",
            "- Özellik: beta_13, Mutual Information: 0.0000\n",
            "- Özellik: alpha_10, Mutual Information: 0.0000\n",
            "- Özellik: gama_11, Mutual Information: 0.0000\n",
            "- Özellik: theta_5, Mutual Information: 0.0000\n",
            "- Özellik: alpha_6, Mutual Information: 0.0000\n",
            "- Özellik: delta_6, Mutual Information: 0.0000\n",
            "- Özellik: gama_7, Mutual Information: 0.0000\n",
            "- Özellik: beta_7, Mutual Information: 0.0000\n",
            "- Özellik: theta_7, Mutual Information: 0.0000\n",
            "- Özellik: beta_1, Mutual Information: 0.0000\n",
            "- Özellik: beta_8, Mutual Information: 0.0000\n",
            "- Özellik: theta_8, Mutual Information: 0.0000\n",
            "- Özellik: alpha_2, Mutual Information: 0.0000\n",
            "- Özellik: delta_8, Mutual Information: 0.0000\n",
            "- Özellik: gama_9, Mutual Information: 0.0000\n",
            "- Özellik: theta_3, Mutual Information: 0.0000\n",
            "- Özellik: alpha_9, Mutual Information: 0.0000\n",
            "- Özellik: theta_9, Mutual Information: 0.0000\n",
            "- Özellik: gama_10, Mutual Information: 0.0000\n",
            "- Özellik: beta_10, Mutual Information: 0.0000\n",
            "- Özellik: beta_9, Mutual Information: 0.0000\n"
          ]
        }
      ]
    },
    {
      "cell_type": "code",
      "source": [],
      "metadata": {
        "id": "EB3_ngOC7OWO"
      },
      "execution_count": 57,
      "outputs": []
    },
    {
      "cell_type": "code",
      "source": [],
      "metadata": {
        "id": "KTMik2hPElJY"
      },
      "execution_count": null,
      "outputs": []
    },
    {
      "cell_type": "markdown",
      "source": [
        "## MODEL"
      ],
      "metadata": {
        "id": "ia25is9XEnt0"
      }
    },
    {
      "cell_type": "code",
      "source": [
        "import pandas as pd\n",
        "\n",
        "# Mutual Information değerlerini içeren DataFrame (top_20_features gibi)\n",
        "top_20_features = pd.DataFrame({\n",
        "    'Feature': ['gama_4', 'alpha_4', 'alpha_5', 'gama_3', 'alpha_8', 'gama_1', 'delta_1', 'delta_5', 'delta_9',\n",
        "                'alpha_13', 'delta_2', 'delta_14', 'delta_3', 'delta_12', 'gama_2', 'theta_14', 'beta_4', 'gama_8',\n",
        "                'theta_10', 'gama_5'],\n",
        "    'MI': [0.1079, 0.0935, 0.0782, 0.0685, 0.0672, 0.0584, 0.0580, 0.0427, 0.0406, 0.0333, 0.0319, 0.0316,\n",
        "           0.0315, 0.0274, 0.0262, 0.0254, 0.0184, 0.0183, 0.0180, 0.0177]\n",
        "})\n",
        "\n",
        "# MI değeri 0.02'den büyük olan özellikleri seçiyoruz\n",
        "selected_features = top_20_features[top_20_features['MI'] > 0.02]['Feature'].tolist()\n",
        "\n",
        "print(\"Seçilen Özellikler:\", selected_features)\n"
      ],
      "metadata": {
        "colab": {
          "base_uri": "https://localhost:8080/"
        },
        "id": "puFbzOQRElHW",
        "outputId": "e4b6bca8-bd53-4994-85ad-3cdba0bb596f"
      },
      "execution_count": 122,
      "outputs": [
        {
          "output_type": "stream",
          "name": "stdout",
          "text": [
            "Seçilen Özellikler: ['gama_4', 'alpha_4', 'alpha_5', 'gama_3', 'alpha_8', 'gama_1', 'delta_1', 'delta_5', 'delta_9', 'alpha_13', 'delta_2', 'delta_14', 'delta_3', 'delta_12', 'gama_2', 'theta_14']\n"
          ]
        }
      ]
    },
    {
      "cell_type": "code",
      "source": [
        "# Eğer hedef değişken valence ise (örneğin 'valence' olarak adlandırılmışsa)\n",
        "y = df_mldata['valence']  # Hedef değişkeni df'den seçiyoruz\n",
        "\n",
        "# veya arousal için\n",
        "# y = df['arousal']  # Hedef değişkeni df'den seçiyoruz\n"
      ],
      "metadata": {
        "id": "rdiFbMquGi-o"
      },
      "execution_count": 119,
      "outputs": []
    },
    {
      "cell_type": "markdown",
      "source": [
        "Arousal Binary"
      ],
      "metadata": {
        "id": "fy0rznE1Hyea"
      }
    },
    {
      "cell_type": "code",
      "source": [
        "from sklearn.model_selection import train_test_split\n",
        "from sklearn.preprocessing import StandardScaler\n",
        "from sklearn.metrics import classification_report\n",
        "from keras.models import Sequential\n",
        "from keras.layers import Dense\n",
        "from keras.utils import to_categorical\n"
      ],
      "metadata": {
        "id": "CaRgbDJGIKyZ"
      },
      "execution_count": 132,
      "outputs": []
    },
    {
      "cell_type": "code",
      "source": [
        "# Özellikler ve hedef değişkenlerin belirlenmesi\n",
        "selected_features = ['gama_4', 'alpha_4', 'alpha_5', 'gama_3', 'alpha_8',\n",
        "                     'gama_1', 'delta_1', 'delta_5', 'delta_9', 'alpha_13',\n",
        "                     'delta_2', 'delta_14', 'delta_3', 'delta_12', 'gama_2',\n",
        "                     'theta_14', 'beta_4', 'gama_8', 'theta_10', 'gama_5']  # Seçilen özellikler\n",
        "\n",
        "X = df_mldata[selected_features]  # Seçilen özellikler\n",
        "y_valence = df_mldata['valence']  # Valence hedef değişkeni\n",
        "y_arousal = df_mldata['arousal']  # Arousal hedef değişkeni"
      ],
      "metadata": {
        "id": "klt5qC3_IMbr"
      },
      "execution_count": 133,
      "outputs": []
    },
    {
      "cell_type": "code",
      "source": [
        "# Veriyi eğitim ve test setlerine ayırma\n",
        "X_train, X_test, y_train_valence, y_test_valence = train_test_split(X, y_valence, test_size=0.2, random_state=42)\n",
        "_, _, y_train_arousal, y_test_arousal = train_test_split(X, y_arousal, test_size=0.2, random_state=42)\n",
        "\n",
        "# Veriyi ölçeklendirme\n",
        "scaler = StandardScaler()\n",
        "X_train_scaled = scaler.fit_transform(X_train)\n",
        "X_test_scaled = scaler.transform(X_test)\n"
      ],
      "metadata": {
        "id": "fcRusVWWIPso"
      },
      "execution_count": 134,
      "outputs": []
    },
    {
      "cell_type": "code",
      "source": [
        "# Modelin oluşturulması\n",
        "model_arousal_binary = Sequential([\n",
        "    Dense(64, activation='relu', input_dim=X_train_scaled.shape[1]),\n",
        "    Dense(32, activation='relu'),\n",
        "    Dense(1, activation='sigmoid')  # Binary sınıflandırma için sigmoid çıkışı\n",
        "])"
      ],
      "metadata": {
        "colab": {
          "base_uri": "https://localhost:8080/"
        },
        "id": "DMW9uKRnIRwg",
        "outputId": "11a4283a-a1e6-45ba-d298-6c8814de8d18"
      },
      "execution_count": 135,
      "outputs": [
        {
          "output_type": "stream",
          "name": "stderr",
          "text": [
            "/usr/local/lib/python3.10/dist-packages/keras/src/layers/core/dense.py:87: UserWarning: Do not pass an `input_shape`/`input_dim` argument to a layer. When using Sequential models, prefer using an `Input(shape)` object as the first layer in the model instead.\n",
            "  super().__init__(activity_regularizer=activity_regularizer, **kwargs)\n"
          ]
        }
      ]
    },
    {
      "cell_type": "code",
      "source": [
        "# Modeli derleme\n",
        "model_arousal_binary.compile(optimizer='adam', loss='binary_crossentropy', metrics=['accuracy'])\n",
        "\n",
        "# Modeli eğitme\n",
        "history_arousal_binary = model_arousal_binary.fit(X_train_scaled, y_train_arousal, epochs=100, batch_size=64,\n",
        "                                                  validation_data=(X_test_scaled, y_test_arousal), verbose=2)\n",
        "\n",
        "# Model Performansını Değerlendirme\n",
        "y_pred_arousal = model_arousal_binary.predict(X_test_scaled)\n",
        "y_pred_arousal = (y_pred_arousal > 0.5).astype(int)  # Tahminleri ikili sınıflara dönüştür\n",
        "\n",
        "print(\"Arousal Binary Classification Performance:\")\n",
        "print(classification_report(y_test_arousal, y_pred_arousal))"
      ],
      "metadata": {
        "colab": {
          "base_uri": "https://localhost:8080/"
        },
        "id": "tacZwsQEITWb",
        "outputId": "28644eb5-42e0-49b0-f968-0af3c54b465c"
      },
      "execution_count": 136,
      "outputs": [
        {
          "output_type": "stream",
          "name": "stdout",
          "text": [
            "Epoch 1/100\n",
            "2/2 - 1s - 669ms/step - accuracy: 0.4909 - loss: 0.7031 - val_accuracy: 0.4643 - val_loss: 0.7269\n",
            "Epoch 2/100\n",
            "2/2 - 0s - 44ms/step - accuracy: 0.5182 - loss: 0.6857 - val_accuracy: 0.4643 - val_loss: 0.7036\n",
            "Epoch 3/100\n",
            "2/2 - 0s - 77ms/step - accuracy: 0.5545 - loss: 0.6796 - val_accuracy: 0.5714 - val_loss: 0.6927\n",
            "Epoch 4/100\n",
            "2/2 - 0s - 41ms/step - accuracy: 0.5636 - loss: 0.6808 - val_accuracy: 0.5714 - val_loss: 0.6897\n",
            "Epoch 5/100\n",
            "2/2 - 0s - 80ms/step - accuracy: 0.5727 - loss: 0.6755 - val_accuracy: 0.5714 - val_loss: 0.6975\n",
            "Epoch 6/100\n",
            "2/2 - 0s - 55ms/step - accuracy: 0.5818 - loss: 0.6683 - val_accuracy: 0.5714 - val_loss: 0.7057\n",
            "Epoch 7/100\n",
            "2/2 - 0s - 70ms/step - accuracy: 0.5818 - loss: 0.6649 - val_accuracy: 0.5714 - val_loss: 0.7136\n",
            "Epoch 8/100\n",
            "2/2 - 0s - 42ms/step - accuracy: 0.5818 - loss: 0.6649 - val_accuracy: 0.5714 - val_loss: 0.7198\n",
            "Epoch 9/100\n",
            "2/2 - 0s - 46ms/step - accuracy: 0.5909 - loss: 0.6621 - val_accuracy: 0.6071 - val_loss: 0.7190\n",
            "Epoch 10/100\n",
            "2/2 - 0s - 72ms/step - accuracy: 0.5909 - loss: 0.6598 - val_accuracy: 0.6071 - val_loss: 0.7161\n",
            "Epoch 11/100\n",
            "2/2 - 0s - 43ms/step - accuracy: 0.6091 - loss: 0.6587 - val_accuracy: 0.6429 - val_loss: 0.7110\n",
            "Epoch 12/100\n",
            "2/2 - 0s - 64ms/step - accuracy: 0.6182 - loss: 0.6559 - val_accuracy: 0.6429 - val_loss: 0.7094\n",
            "Epoch 13/100\n",
            "2/2 - 0s - 42ms/step - accuracy: 0.6273 - loss: 0.6545 - val_accuracy: 0.6429 - val_loss: 0.7091\n",
            "Epoch 14/100\n",
            "2/2 - 0s - 67ms/step - accuracy: 0.6273 - loss: 0.6538 - val_accuracy: 0.6429 - val_loss: 0.7113\n",
            "Epoch 15/100\n",
            "2/2 - 0s - 69ms/step - accuracy: 0.6273 - loss: 0.6527 - val_accuracy: 0.6429 - val_loss: 0.7135\n",
            "Epoch 16/100\n",
            "2/2 - 0s - 69ms/step - accuracy: 0.6182 - loss: 0.6511 - val_accuracy: 0.6429 - val_loss: 0.7150\n",
            "Epoch 17/100\n",
            "2/2 - 0s - 42ms/step - accuracy: 0.6182 - loss: 0.6499 - val_accuracy: 0.6429 - val_loss: 0.7182\n",
            "Epoch 18/100\n",
            "2/2 - 0s - 69ms/step - accuracy: 0.6182 - loss: 0.6492 - val_accuracy: 0.6429 - val_loss: 0.7238\n",
            "Epoch 19/100\n",
            "2/2 - 0s - 44ms/step - accuracy: 0.6182 - loss: 0.6474 - val_accuracy: 0.6429 - val_loss: 0.7265\n",
            "Epoch 20/100\n",
            "2/2 - 0s - 68ms/step - accuracy: 0.6182 - loss: 0.6465 - val_accuracy: 0.6429 - val_loss: 0.7279\n",
            "Epoch 21/100\n",
            "2/2 - 0s - 60ms/step - accuracy: 0.6182 - loss: 0.6457 - val_accuracy: 0.6429 - val_loss: 0.7280\n",
            "Epoch 22/100\n",
            "2/2 - 0s - 58ms/step - accuracy: 0.6182 - loss: 0.6444 - val_accuracy: 0.6429 - val_loss: 0.7295\n",
            "Epoch 23/100\n",
            "2/2 - 0s - 70ms/step - accuracy: 0.6182 - loss: 0.6439 - val_accuracy: 0.6071 - val_loss: 0.7302\n",
            "Epoch 24/100\n",
            "2/2 - 0s - 72ms/step - accuracy: 0.6182 - loss: 0.6425 - val_accuracy: 0.6071 - val_loss: 0.7324\n",
            "Epoch 25/100\n",
            "2/2 - 0s - 68ms/step - accuracy: 0.6182 - loss: 0.6414 - val_accuracy: 0.6071 - val_loss: 0.7344\n",
            "Epoch 26/100\n",
            "2/2 - 0s - 64ms/step - accuracy: 0.6273 - loss: 0.6408 - val_accuracy: 0.6071 - val_loss: 0.7347\n",
            "Epoch 27/100\n",
            "2/2 - 0s - 63ms/step - accuracy: 0.6273 - loss: 0.6399 - val_accuracy: 0.6071 - val_loss: 0.7372\n",
            "Epoch 28/100\n",
            "2/2 - 0s - 57ms/step - accuracy: 0.6273 - loss: 0.6386 - val_accuracy: 0.6071 - val_loss: 0.7373\n",
            "Epoch 29/100\n",
            "2/2 - 0s - 74ms/step - accuracy: 0.6364 - loss: 0.6374 - val_accuracy: 0.6071 - val_loss: 0.7358\n",
            "Epoch 30/100\n",
            "2/2 - 0s - 71ms/step - accuracy: 0.6455 - loss: 0.6372 - val_accuracy: 0.6071 - val_loss: 0.7334\n",
            "Epoch 31/100\n",
            "2/2 - 0s - 133ms/step - accuracy: 0.6545 - loss: 0.6358 - val_accuracy: 0.6071 - val_loss: 0.7348\n",
            "Epoch 32/100\n",
            "2/2 - 0s - 77ms/step - accuracy: 0.6545 - loss: 0.6352 - val_accuracy: 0.6071 - val_loss: 0.7381\n",
            "Epoch 33/100\n",
            "2/2 - 0s - 157ms/step - accuracy: 0.6636 - loss: 0.6336 - val_accuracy: 0.6071 - val_loss: 0.7400\n",
            "Epoch 34/100\n",
            "2/2 - 0s - 140ms/step - accuracy: 0.6636 - loss: 0.6331 - val_accuracy: 0.6071 - val_loss: 0.7429\n",
            "Epoch 35/100\n",
            "2/2 - 0s - 69ms/step - accuracy: 0.6636 - loss: 0.6321 - val_accuracy: 0.6071 - val_loss: 0.7437\n",
            "Epoch 36/100\n",
            "2/2 - 0s - 140ms/step - accuracy: 0.6636 - loss: 0.6309 - val_accuracy: 0.6071 - val_loss: 0.7466\n",
            "Epoch 37/100\n",
            "2/2 - 0s - 74ms/step - accuracy: 0.6636 - loss: 0.6298 - val_accuracy: 0.6071 - val_loss: 0.7497\n",
            "Epoch 38/100\n",
            "2/2 - 0s - 69ms/step - accuracy: 0.6636 - loss: 0.6287 - val_accuracy: 0.6071 - val_loss: 0.7523\n",
            "Epoch 39/100\n",
            "2/2 - 0s - 82ms/step - accuracy: 0.6636 - loss: 0.6279 - val_accuracy: 0.6071 - val_loss: 0.7542\n",
            "Epoch 40/100\n",
            "2/2 - 0s - 127ms/step - accuracy: 0.6727 - loss: 0.6271 - val_accuracy: 0.6071 - val_loss: 0.7554\n",
            "Epoch 41/100\n",
            "2/2 - 0s - 65ms/step - accuracy: 0.6727 - loss: 0.6263 - val_accuracy: 0.6071 - val_loss: 0.7568\n",
            "Epoch 42/100\n",
            "2/2 - 0s - 75ms/step - accuracy: 0.6727 - loss: 0.6250 - val_accuracy: 0.6071 - val_loss: 0.7565\n",
            "Epoch 43/100\n",
            "2/2 - 0s - 56ms/step - accuracy: 0.6727 - loss: 0.6242 - val_accuracy: 0.6071 - val_loss: 0.7577\n",
            "Epoch 44/100\n",
            "2/2 - 0s - 45ms/step - accuracy: 0.6727 - loss: 0.6233 - val_accuracy: 0.6071 - val_loss: 0.7600\n",
            "Epoch 45/100\n",
            "2/2 - 0s - 64ms/step - accuracy: 0.6727 - loss: 0.6223 - val_accuracy: 0.6071 - val_loss: 0.7643\n",
            "Epoch 46/100\n",
            "2/2 - 0s - 69ms/step - accuracy: 0.6727 - loss: 0.6212 - val_accuracy: 0.6071 - val_loss: 0.7685\n",
            "Epoch 47/100\n",
            "2/2 - 0s - 65ms/step - accuracy: 0.6727 - loss: 0.6210 - val_accuracy: 0.6071 - val_loss: 0.7720\n",
            "Epoch 48/100\n",
            "2/2 - 0s - 41ms/step - accuracy: 0.6818 - loss: 0.6196 - val_accuracy: 0.6071 - val_loss: 0.7721\n",
            "Epoch 49/100\n",
            "2/2 - 0s - 68ms/step - accuracy: 0.6818 - loss: 0.6194 - val_accuracy: 0.6071 - val_loss: 0.7711\n",
            "Epoch 50/100\n",
            "2/2 - 0s - 82ms/step - accuracy: 0.6818 - loss: 0.6179 - val_accuracy: 0.6071 - val_loss: 0.7729\n",
            "Epoch 51/100\n",
            "2/2 - 0s - 43ms/step - accuracy: 0.6818 - loss: 0.6174 - val_accuracy: 0.6071 - val_loss: 0.7777\n",
            "Epoch 52/100\n",
            "2/2 - 0s - 69ms/step - accuracy: 0.6818 - loss: 0.6160 - val_accuracy: 0.6071 - val_loss: 0.7784\n",
            "Epoch 53/100\n",
            "2/2 - 0s - 43ms/step - accuracy: 0.6818 - loss: 0.6155 - val_accuracy: 0.6071 - val_loss: 0.7787\n",
            "Epoch 54/100\n",
            "2/2 - 0s - 52ms/step - accuracy: 0.6818 - loss: 0.6143 - val_accuracy: 0.6071 - val_loss: 0.7813\n",
            "Epoch 55/100\n",
            "2/2 - 0s - 57ms/step - accuracy: 0.6818 - loss: 0.6136 - val_accuracy: 0.6071 - val_loss: 0.7829\n",
            "Epoch 56/100\n",
            "2/2 - 0s - 76ms/step - accuracy: 0.6818 - loss: 0.6127 - val_accuracy: 0.5714 - val_loss: 0.7846\n",
            "Epoch 57/100\n",
            "2/2 - 0s - 63ms/step - accuracy: 0.6818 - loss: 0.6117 - val_accuracy: 0.5714 - val_loss: 0.7856\n",
            "Epoch 58/100\n",
            "2/2 - 0s - 79ms/step - accuracy: 0.6818 - loss: 0.6105 - val_accuracy: 0.5714 - val_loss: 0.7857\n",
            "Epoch 59/100\n",
            "2/2 - 0s - 52ms/step - accuracy: 0.6818 - loss: 0.6091 - val_accuracy: 0.5714 - val_loss: 0.7852\n",
            "Epoch 60/100\n",
            "2/2 - 0s - 74ms/step - accuracy: 0.6818 - loss: 0.6084 - val_accuracy: 0.5714 - val_loss: 0.7869\n",
            "Epoch 61/100\n",
            "2/2 - 0s - 61ms/step - accuracy: 0.6818 - loss: 0.6079 - val_accuracy: 0.5714 - val_loss: 0.7864\n",
            "Epoch 62/100\n",
            "2/2 - 0s - 68ms/step - accuracy: 0.6818 - loss: 0.6066 - val_accuracy: 0.5714 - val_loss: 0.7900\n",
            "Epoch 63/100\n",
            "2/2 - 0s - 60ms/step - accuracy: 0.6818 - loss: 0.6060 - val_accuracy: 0.5714 - val_loss: 0.7943\n",
            "Epoch 64/100\n",
            "2/2 - 0s - 59ms/step - accuracy: 0.6818 - loss: 0.6047 - val_accuracy: 0.5714 - val_loss: 0.7960\n",
            "Epoch 65/100\n",
            "2/2 - 0s - 67ms/step - accuracy: 0.6818 - loss: 0.6033 - val_accuracy: 0.5714 - val_loss: 0.7956\n",
            "Epoch 66/100\n",
            "2/2 - 0s - 61ms/step - accuracy: 0.6909 - loss: 0.6024 - val_accuracy: 0.5714 - val_loss: 0.7965\n",
            "Epoch 67/100\n",
            "2/2 - 0s - 51ms/step - accuracy: 0.6818 - loss: 0.6015 - val_accuracy: 0.5357 - val_loss: 0.7975\n",
            "Epoch 68/100\n",
            "2/2 - 0s - 45ms/step - accuracy: 0.6818 - loss: 0.6006 - val_accuracy: 0.5000 - val_loss: 0.7999\n",
            "Epoch 69/100\n",
            "2/2 - 0s - 58ms/step - accuracy: 0.6818 - loss: 0.5997 - val_accuracy: 0.5357 - val_loss: 0.8048\n",
            "Epoch 70/100\n",
            "2/2 - 0s - 68ms/step - accuracy: 0.6818 - loss: 0.5989 - val_accuracy: 0.5714 - val_loss: 0.8089\n",
            "Epoch 71/100\n",
            "2/2 - 0s - 29ms/step - accuracy: 0.6818 - loss: 0.5975 - val_accuracy: 0.5714 - val_loss: 0.8143\n",
            "Epoch 72/100\n",
            "2/2 - 0s - 33ms/step - accuracy: 0.6818 - loss: 0.5965 - val_accuracy: 0.5714 - val_loss: 0.8186\n",
            "Epoch 73/100\n",
            "2/2 - 0s - 28ms/step - accuracy: 0.6818 - loss: 0.5959 - val_accuracy: 0.5714 - val_loss: 0.8217\n",
            "Epoch 74/100\n",
            "2/2 - 0s - 29ms/step - accuracy: 0.6818 - loss: 0.5948 - val_accuracy: 0.5714 - val_loss: 0.8224\n",
            "Epoch 75/100\n",
            "2/2 - 0s - 40ms/step - accuracy: 0.6818 - loss: 0.5942 - val_accuracy: 0.5714 - val_loss: 0.8236\n",
            "Epoch 76/100\n",
            "2/2 - 0s - 58ms/step - accuracy: 0.6818 - loss: 0.5937 - val_accuracy: 0.5714 - val_loss: 0.8251\n",
            "Epoch 77/100\n",
            "2/2 - 0s - 28ms/step - accuracy: 0.6818 - loss: 0.5926 - val_accuracy: 0.5714 - val_loss: 0.8287\n",
            "Epoch 78/100\n",
            "2/2 - 0s - 68ms/step - accuracy: 0.6909 - loss: 0.5910 - val_accuracy: 0.5000 - val_loss: 0.8326\n",
            "Epoch 79/100\n",
            "2/2 - 0s - 29ms/step - accuracy: 0.6909 - loss: 0.5905 - val_accuracy: 0.5000 - val_loss: 0.8361\n",
            "Epoch 80/100\n",
            "2/2 - 0s - 29ms/step - accuracy: 0.6909 - loss: 0.5901 - val_accuracy: 0.5000 - val_loss: 0.8353\n",
            "Epoch 81/100\n",
            "2/2 - 0s - 31ms/step - accuracy: 0.6909 - loss: 0.5889 - val_accuracy: 0.5000 - val_loss: 0.8327\n",
            "Epoch 82/100\n",
            "2/2 - 0s - 28ms/step - accuracy: 0.6909 - loss: 0.5878 - val_accuracy: 0.5000 - val_loss: 0.8330\n",
            "Epoch 83/100\n",
            "2/2 - 0s - 29ms/step - accuracy: 0.6909 - loss: 0.5872 - val_accuracy: 0.5000 - val_loss: 0.8345\n",
            "Epoch 84/100\n",
            "2/2 - 0s - 28ms/step - accuracy: 0.6909 - loss: 0.5866 - val_accuracy: 0.5000 - val_loss: 0.8365\n",
            "Epoch 85/100\n",
            "2/2 - 0s - 30ms/step - accuracy: 0.6909 - loss: 0.5856 - val_accuracy: 0.5000 - val_loss: 0.8392\n",
            "Epoch 86/100\n",
            "2/2 - 0s - 30ms/step - accuracy: 0.6909 - loss: 0.5848 - val_accuracy: 0.5000 - val_loss: 0.8442\n",
            "Epoch 87/100\n",
            "2/2 - 0s - 29ms/step - accuracy: 0.6909 - loss: 0.5835 - val_accuracy: 0.5000 - val_loss: 0.8487\n",
            "Epoch 88/100\n",
            "2/2 - 0s - 32ms/step - accuracy: 0.6909 - loss: 0.5828 - val_accuracy: 0.5000 - val_loss: 0.8525\n",
            "Epoch 89/100\n",
            "2/2 - 0s - 66ms/step - accuracy: 0.6909 - loss: 0.5825 - val_accuracy: 0.5000 - val_loss: 0.8553\n",
            "Epoch 90/100\n",
            "2/2 - 0s - 74ms/step - accuracy: 0.6909 - loss: 0.5815 - val_accuracy: 0.5000 - val_loss: 0.8586\n",
            "Epoch 91/100\n",
            "2/2 - 0s - 61ms/step - accuracy: 0.6909 - loss: 0.5808 - val_accuracy: 0.5000 - val_loss: 0.8605\n",
            "Epoch 92/100\n",
            "2/2 - 0s - 30ms/step - accuracy: 0.7000 - loss: 0.5800 - val_accuracy: 0.5000 - val_loss: 0.8642\n",
            "Epoch 93/100\n",
            "2/2 - 0s - 32ms/step - accuracy: 0.7091 - loss: 0.5791 - val_accuracy: 0.5000 - val_loss: 0.8677\n",
            "Epoch 94/100\n",
            "2/2 - 0s - 30ms/step - accuracy: 0.7091 - loss: 0.5783 - val_accuracy: 0.5000 - val_loss: 0.8708\n",
            "Epoch 95/100\n",
            "2/2 - 0s - 30ms/step - accuracy: 0.7091 - loss: 0.5776 - val_accuracy: 0.5000 - val_loss: 0.8738\n",
            "Epoch 96/100\n",
            "2/2 - 0s - 30ms/step - accuracy: 0.7091 - loss: 0.5768 - val_accuracy: 0.5000 - val_loss: 0.8778\n",
            "Epoch 97/100\n",
            "2/2 - 0s - 32ms/step - accuracy: 0.7000 - loss: 0.5769 - val_accuracy: 0.5000 - val_loss: 0.8817\n",
            "Epoch 98/100\n",
            "2/2 - 0s - 31ms/step - accuracy: 0.7000 - loss: 0.5755 - val_accuracy: 0.5000 - val_loss: 0.8835\n",
            "Epoch 99/100\n",
            "2/2 - 0s - 31ms/step - accuracy: 0.7000 - loss: 0.5746 - val_accuracy: 0.5000 - val_loss: 0.8821\n",
            "Epoch 100/100\n",
            "2/2 - 0s - 37ms/step - accuracy: 0.7000 - loss: 0.5745 - val_accuracy: 0.5000 - val_loss: 0.8829\n"
          ]
        },
        {
          "output_type": "stream",
          "name": "stderr",
          "text": [
            "WARNING:tensorflow:5 out of the last 5 calls to <function TensorFlowTrainer.make_predict_function.<locals>.one_step_on_data_distributed at 0x7f47af050ee0> triggered tf.function retracing. Tracing is expensive and the excessive number of tracings could be due to (1) creating @tf.function repeatedly in a loop, (2) passing tensors with different shapes, (3) passing Python objects instead of tensors. For (1), please define your @tf.function outside of the loop. For (2), @tf.function has reduce_retracing=True option that can avoid unnecessary retracing. For (3), please refer to https://www.tensorflow.org/guide/function#controlling_retracing and https://www.tensorflow.org/api_docs/python/tf/function for  more details.\n"
          ]
        },
        {
          "output_type": "stream",
          "name": "stdout",
          "text": [
            "\u001b[1m1/1\u001b[0m \u001b[32m━━━━━━━━━━━━━━━━━━━━\u001b[0m\u001b[37m\u001b[0m \u001b[1m0s\u001b[0m 68ms/step\n",
            "Arousal Binary Classification Performance:\n",
            "              precision    recall  f1-score   support\n",
            "\n",
            "           0       0.17      0.10      0.12        10\n",
            "           1       0.59      0.72      0.65        18\n",
            "\n",
            "    accuracy                           0.50        28\n",
            "   macro avg       0.38      0.41      0.39        28\n",
            "weighted avg       0.44      0.50      0.46        28\n",
            "\n"
          ]
        }
      ]
    },
    {
      "cell_type": "code",
      "source": [],
      "metadata": {
        "id": "dnbSve85Ek7m"
      },
      "execution_count": null,
      "outputs": []
    },
    {
      "cell_type": "markdown",
      "source": [
        "Valence Binary"
      ],
      "metadata": {
        "id": "VHPAG4MTHs3U"
      }
    },
    {
      "cell_type": "code",
      "source": [
        "# Özellikler ve hedef değişkenlerin belirlenmesi\n",
        "selected_features = ['gama_4', 'alpha_4', 'alpha_5', 'gama_3', 'alpha_8',\n",
        "                     'gama_1', 'delta_1', 'delta_5', 'delta_9', 'alpha_13',\n",
        "                     'delta_2', 'delta_14', 'delta_3', 'delta_12', 'gama_2',\n",
        "                     'theta_14', 'beta_4', 'gama_8', 'theta_10', 'gama_5']  # Seçilen özellikler\n",
        "\n",
        "X = df_mldata[selected_features]  # Seçilen özellikler\n",
        "y_valence = df_mldata['valence']  # Valence hedef değişkeni\n",
        "\n",
        "# Veriyi eğitim ve test setlerine ayırma\n",
        "X_train, X_test, y_train_valence, y_test_valence = train_test_split(X, y_valence, test_size=0.2, random_state=42)\n",
        "\n",
        "# Veriyi ölçeklendirme\n",
        "scaler = StandardScaler()\n",
        "X_train_scaled = scaler.fit_transform(X_train)\n",
        "X_test_scaled = scaler.transform(X_test)\n"
      ],
      "metadata": {
        "id": "D1TBU4JsIEqw"
      },
      "execution_count": 137,
      "outputs": []
    },
    {
      "cell_type": "code",
      "source": [
        "# **Valence için Binary Classification Modeli**\n",
        "\n",
        "# Modelin oluşturulması\n",
        "model_valence_binary = Sequential([\n",
        "    Dense(64, activation='relu', input_dim=X_train_scaled.shape[1]),\n",
        "    Dense(32, activation='relu'),\n",
        "    Dense(1, activation='sigmoid')  # Binary sınıflandırma için sigmoid çıkışı\n",
        "])"
      ],
      "metadata": {
        "colab": {
          "base_uri": "https://localhost:8080/"
        },
        "id": "SKYKbNFsIG_m",
        "outputId": "d4e0f249-7dc2-4e34-93db-4801546cbad8"
      },
      "execution_count": 138,
      "outputs": [
        {
          "output_type": "stream",
          "name": "stderr",
          "text": [
            "/usr/local/lib/python3.10/dist-packages/keras/src/layers/core/dense.py:87: UserWarning: Do not pass an `input_shape`/`input_dim` argument to a layer. When using Sequential models, prefer using an `Input(shape)` object as the first layer in the model instead.\n",
            "  super().__init__(activity_regularizer=activity_regularizer, **kwargs)\n"
          ]
        }
      ]
    },
    {
      "cell_type": "code",
      "source": [
        "# Modeli derleme\n",
        "model_valence_binary.compile(optimizer='adam', loss='binary_crossentropy', metrics=['accuracy'])\n",
        "\n",
        "# Modeli eğitme\n",
        "history_valence_binary = model_valence_binary.fit(X_train_scaled, y_train_valence, epochs=100, batch_size=64,\n",
        "                                                  validation_data=(X_test_scaled, y_test_valence), verbose=2)\n",
        "\n",
        "# **Model Performansını Değerlendirme**\n",
        "y_pred_valence = model_valence_binary.predict(X_test_scaled)\n",
        "y_pred_valence = (y_pred_valence > 0.5).astype(int)  # Tahminleri ikili sınıflara dönüştür\n",
        "\n",
        "print(\"Valence Binary Classification Performance:\")\n",
        "print(classification_report(y_test_valence, y_pred_valence))"
      ],
      "metadata": {
        "colab": {
          "base_uri": "https://localhost:8080/"
        },
        "id": "mpzNc73eIIu7",
        "outputId": "0c76154e-ab5b-47ca-a416-18851745efb1"
      },
      "execution_count": 139,
      "outputs": [
        {
          "output_type": "stream",
          "name": "stdout",
          "text": [
            "Epoch 1/100\n",
            "2/2 - 2s - 1s/step - accuracy: 0.5091 - loss: 0.7136 - val_accuracy: 0.6071 - val_loss: 0.6930\n",
            "Epoch 2/100\n",
            "2/2 - 0s - 48ms/step - accuracy: 0.5182 - loss: 0.6995 - val_accuracy: 0.6429 - val_loss: 0.6893\n",
            "Epoch 3/100\n",
            "2/2 - 0s - 72ms/step - accuracy: 0.5091 - loss: 0.6931 - val_accuracy: 0.6071 - val_loss: 0.6884\n",
            "Epoch 4/100\n",
            "2/2 - 0s - 43ms/step - accuracy: 0.5000 - loss: 0.6873 - val_accuracy: 0.6071 - val_loss: 0.6894\n",
            "Epoch 5/100\n",
            "2/2 - 0s - 74ms/step - accuracy: 0.5182 - loss: 0.6848 - val_accuracy: 0.5714 - val_loss: 0.6916\n",
            "Epoch 6/100\n",
            "2/2 - 0s - 53ms/step - accuracy: 0.4818 - loss: 0.6813 - val_accuracy: 0.5714 - val_loss: 0.6972\n",
            "Epoch 7/100\n",
            "2/2 - 0s - 67ms/step - accuracy: 0.5091 - loss: 0.6784 - val_accuracy: 0.5357 - val_loss: 0.7039\n",
            "Epoch 8/100\n",
            "2/2 - 0s - 47ms/step - accuracy: 0.5455 - loss: 0.6747 - val_accuracy: 0.5357 - val_loss: 0.7114\n",
            "Epoch 9/100\n",
            "2/2 - 0s - 71ms/step - accuracy: 0.5545 - loss: 0.6718 - val_accuracy: 0.5000 - val_loss: 0.7190\n",
            "Epoch 10/100\n",
            "2/2 - 0s - 52ms/step - accuracy: 0.5545 - loss: 0.6710 - val_accuracy: 0.5000 - val_loss: 0.7273\n",
            "Epoch 11/100\n",
            "2/2 - 0s - 44ms/step - accuracy: 0.5455 - loss: 0.6690 - val_accuracy: 0.4643 - val_loss: 0.7309\n",
            "Epoch 12/100\n",
            "2/2 - 0s - 115ms/step - accuracy: 0.5545 - loss: 0.6679 - val_accuracy: 0.4286 - val_loss: 0.7344\n",
            "Epoch 13/100\n",
            "2/2 - 0s - 91ms/step - accuracy: 0.5545 - loss: 0.6666 - val_accuracy: 0.4286 - val_loss: 0.7357\n",
            "Epoch 14/100\n",
            "2/2 - 0s - 80ms/step - accuracy: 0.5545 - loss: 0.6653 - val_accuracy: 0.4286 - val_loss: 0.7372\n",
            "Epoch 15/100\n",
            "2/2 - 0s - 42ms/step - accuracy: 0.5545 - loss: 0.6641 - val_accuracy: 0.4286 - val_loss: 0.7389\n",
            "Epoch 16/100\n",
            "2/2 - 0s - 60ms/step - accuracy: 0.5636 - loss: 0.6627 - val_accuracy: 0.4286 - val_loss: 0.7387\n",
            "Epoch 17/100\n",
            "2/2 - 0s - 72ms/step - accuracy: 0.5727 - loss: 0.6621 - val_accuracy: 0.4286 - val_loss: 0.7364\n",
            "Epoch 18/100\n",
            "2/2 - 0s - 49ms/step - accuracy: 0.5818 - loss: 0.6606 - val_accuracy: 0.4286 - val_loss: 0.7367\n",
            "Epoch 19/100\n",
            "2/2 - 0s - 67ms/step - accuracy: 0.5818 - loss: 0.6595 - val_accuracy: 0.4286 - val_loss: 0.7383\n",
            "Epoch 20/100\n",
            "2/2 - 0s - 91ms/step - accuracy: 0.5818 - loss: 0.6586 - val_accuracy: 0.4286 - val_loss: 0.7409\n",
            "Epoch 21/100\n",
            "2/2 - 0s - 51ms/step - accuracy: 0.5818 - loss: 0.6573 - val_accuracy: 0.4286 - val_loss: 0.7425\n",
            "Epoch 22/100\n",
            "2/2 - 0s - 53ms/step - accuracy: 0.5818 - loss: 0.6565 - val_accuracy: 0.4286 - val_loss: 0.7445\n",
            "Epoch 23/100\n",
            "2/2 - 0s - 30ms/step - accuracy: 0.5818 - loss: 0.6557 - val_accuracy: 0.4286 - val_loss: 0.7462\n",
            "Epoch 24/100\n",
            "2/2 - 0s - 30ms/step - accuracy: 0.5818 - loss: 0.6546 - val_accuracy: 0.4286 - val_loss: 0.7497\n",
            "Epoch 25/100\n",
            "2/2 - 0s - 28ms/step - accuracy: 0.5818 - loss: 0.6537 - val_accuracy: 0.4643 - val_loss: 0.7529\n",
            "Epoch 26/100\n",
            "2/2 - 0s - 28ms/step - accuracy: 0.5818 - loss: 0.6529 - val_accuracy: 0.4643 - val_loss: 0.7558\n",
            "Epoch 27/100\n",
            "2/2 - 0s - 34ms/step - accuracy: 0.5818 - loss: 0.6521 - val_accuracy: 0.4643 - val_loss: 0.7574\n",
            "Epoch 28/100\n",
            "2/2 - 0s - 64ms/step - accuracy: 0.5818 - loss: 0.6514 - val_accuracy: 0.4643 - val_loss: 0.7588\n",
            "Epoch 29/100\n",
            "2/2 - 0s - 29ms/step - accuracy: 0.5818 - loss: 0.6503 - val_accuracy: 0.4643 - val_loss: 0.7572\n",
            "Epoch 30/100\n",
            "2/2 - 0s - 31ms/step - accuracy: 0.5818 - loss: 0.6494 - val_accuracy: 0.4643 - val_loss: 0.7569\n",
            "Epoch 31/100\n",
            "2/2 - 0s - 40ms/step - accuracy: 0.5818 - loss: 0.6484 - val_accuracy: 0.4643 - val_loss: 0.7556\n",
            "Epoch 32/100\n",
            "2/2 - 0s - 50ms/step - accuracy: 0.5909 - loss: 0.6477 - val_accuracy: 0.4643 - val_loss: 0.7560\n",
            "Epoch 33/100\n",
            "2/2 - 0s - 29ms/step - accuracy: 0.5909 - loss: 0.6471 - val_accuracy: 0.4643 - val_loss: 0.7570\n",
            "Epoch 34/100\n",
            "2/2 - 0s - 29ms/step - accuracy: 0.6000 - loss: 0.6461 - val_accuracy: 0.5000 - val_loss: 0.7592\n",
            "Epoch 35/100\n",
            "2/2 - 0s - 30ms/step - accuracy: 0.6000 - loss: 0.6454 - val_accuracy: 0.5000 - val_loss: 0.7629\n",
            "Epoch 36/100\n",
            "2/2 - 0s - 32ms/step - accuracy: 0.6000 - loss: 0.6445 - val_accuracy: 0.4643 - val_loss: 0.7657\n",
            "Epoch 37/100\n",
            "2/2 - 0s - 31ms/step - accuracy: 0.6000 - loss: 0.6435 - val_accuracy: 0.4643 - val_loss: 0.7666\n",
            "Epoch 38/100\n",
            "2/2 - 0s - 30ms/step - accuracy: 0.6000 - loss: 0.6426 - val_accuracy: 0.4643 - val_loss: 0.7691\n",
            "Epoch 39/100\n",
            "2/2 - 0s - 30ms/step - accuracy: 0.6182 - loss: 0.6415 - val_accuracy: 0.4286 - val_loss: 0.7713\n",
            "Epoch 40/100\n",
            "2/2 - 0s - 29ms/step - accuracy: 0.6182 - loss: 0.6409 - val_accuracy: 0.3929 - val_loss: 0.7722\n",
            "Epoch 41/100\n",
            "2/2 - 0s - 29ms/step - accuracy: 0.6182 - loss: 0.6400 - val_accuracy: 0.3929 - val_loss: 0.7759\n",
            "Epoch 42/100\n",
            "2/2 - 0s - 29ms/step - accuracy: 0.6182 - loss: 0.6398 - val_accuracy: 0.3929 - val_loss: 0.7799\n",
            "Epoch 43/100\n",
            "2/2 - 0s - 30ms/step - accuracy: 0.6182 - loss: 0.6383 - val_accuracy: 0.3929 - val_loss: 0.7784\n",
            "Epoch 44/100\n",
            "2/2 - 0s - 31ms/step - accuracy: 0.6182 - loss: 0.6378 - val_accuracy: 0.3929 - val_loss: 0.7764\n",
            "Epoch 45/100\n",
            "2/2 - 0s - 34ms/step - accuracy: 0.6182 - loss: 0.6367 - val_accuracy: 0.4286 - val_loss: 0.7754\n",
            "Epoch 46/100\n",
            "2/2 - 0s - 76ms/step - accuracy: 0.6273 - loss: 0.6361 - val_accuracy: 0.4286 - val_loss: 0.7744\n",
            "Epoch 47/100\n",
            "2/2 - 0s - 30ms/step - accuracy: 0.6364 - loss: 0.6354 - val_accuracy: 0.4286 - val_loss: 0.7783\n",
            "Epoch 48/100\n",
            "2/2 - 0s - 30ms/step - accuracy: 0.6545 - loss: 0.6346 - val_accuracy: 0.4286 - val_loss: 0.7808\n",
            "Epoch 49/100\n",
            "2/2 - 0s - 28ms/step - accuracy: 0.6636 - loss: 0.6338 - val_accuracy: 0.4286 - val_loss: 0.7820\n",
            "Epoch 50/100\n",
            "2/2 - 0s - 29ms/step - accuracy: 0.6455 - loss: 0.6330 - val_accuracy: 0.4286 - val_loss: 0.7814\n",
            "Epoch 51/100\n",
            "2/2 - 0s - 30ms/step - accuracy: 0.6273 - loss: 0.6323 - val_accuracy: 0.4643 - val_loss: 0.7805\n",
            "Epoch 52/100\n",
            "2/2 - 0s - 33ms/step - accuracy: 0.6364 - loss: 0.6315 - val_accuracy: 0.5000 - val_loss: 0.7800\n",
            "Epoch 53/100\n",
            "2/2 - 0s - 29ms/step - accuracy: 0.6364 - loss: 0.6312 - val_accuracy: 0.5000 - val_loss: 0.7787\n",
            "Epoch 54/100\n",
            "2/2 - 0s - 28ms/step - accuracy: 0.6364 - loss: 0.6302 - val_accuracy: 0.5000 - val_loss: 0.7822\n",
            "Epoch 55/100\n",
            "2/2 - 0s - 31ms/step - accuracy: 0.6455 - loss: 0.6297 - val_accuracy: 0.5000 - val_loss: 0.7858\n",
            "Epoch 56/100\n",
            "2/2 - 0s - 30ms/step - accuracy: 0.6545 - loss: 0.6292 - val_accuracy: 0.5000 - val_loss: 0.7940\n",
            "Epoch 57/100\n",
            "2/2 - 0s - 70ms/step - accuracy: 0.6455 - loss: 0.6279 - val_accuracy: 0.5000 - val_loss: 0.7973\n",
            "Epoch 58/100\n",
            "2/2 - 0s - 44ms/step - accuracy: 0.6455 - loss: 0.6273 - val_accuracy: 0.5000 - val_loss: 0.7997\n",
            "Epoch 59/100\n",
            "2/2 - 0s - 62ms/step - accuracy: 0.6545 - loss: 0.6268 - val_accuracy: 0.5000 - val_loss: 0.7977\n",
            "Epoch 60/100\n",
            "2/2 - 0s - 29ms/step - accuracy: 0.6364 - loss: 0.6263 - val_accuracy: 0.5000 - val_loss: 0.7952\n",
            "Epoch 61/100\n",
            "2/2 - 0s - 30ms/step - accuracy: 0.6364 - loss: 0.6255 - val_accuracy: 0.5000 - val_loss: 0.7974\n",
            "Epoch 62/100\n",
            "2/2 - 0s - 30ms/step - accuracy: 0.6455 - loss: 0.6245 - val_accuracy: 0.4643 - val_loss: 0.8010\n",
            "Epoch 63/100\n",
            "2/2 - 0s - 31ms/step - accuracy: 0.6455 - loss: 0.6241 - val_accuracy: 0.4286 - val_loss: 0.8051\n",
            "Epoch 64/100\n",
            "2/2 - 0s - 30ms/step - accuracy: 0.6545 - loss: 0.6233 - val_accuracy: 0.4286 - val_loss: 0.8058\n",
            "Epoch 65/100\n",
            "2/2 - 0s - 31ms/step - accuracy: 0.6455 - loss: 0.6228 - val_accuracy: 0.4286 - val_loss: 0.8062\n",
            "Epoch 66/100\n",
            "2/2 - 0s - 30ms/step - accuracy: 0.6636 - loss: 0.6222 - val_accuracy: 0.4286 - val_loss: 0.8097\n",
            "Epoch 67/100\n",
            "2/2 - 0s - 29ms/step - accuracy: 0.6636 - loss: 0.6212 - val_accuracy: 0.4286 - val_loss: 0.8110\n",
            "Epoch 68/100\n",
            "2/2 - 0s - 32ms/step - accuracy: 0.6545 - loss: 0.6209 - val_accuracy: 0.4643 - val_loss: 0.8125\n",
            "Epoch 69/100\n",
            "2/2 - 0s - 29ms/step - accuracy: 0.6727 - loss: 0.6206 - val_accuracy: 0.4643 - val_loss: 0.8136\n",
            "Epoch 70/100\n",
            "2/2 - 0s - 30ms/step - accuracy: 0.6545 - loss: 0.6199 - val_accuracy: 0.4286 - val_loss: 0.8149\n",
            "Epoch 71/100\n",
            "2/2 - 0s - 34ms/step - accuracy: 0.6455 - loss: 0.6190 - val_accuracy: 0.4286 - val_loss: 0.8180\n",
            "Epoch 72/100\n",
            "2/2 - 0s - 66ms/step - accuracy: 0.6636 - loss: 0.6185 - val_accuracy: 0.4286 - val_loss: 0.8206\n",
            "Epoch 73/100\n",
            "2/2 - 0s - 66ms/step - accuracy: 0.6636 - loss: 0.6181 - val_accuracy: 0.4286 - val_loss: 0.8237\n",
            "Epoch 74/100\n",
            "2/2 - 0s - 32ms/step - accuracy: 0.6727 - loss: 0.6176 - val_accuracy: 0.4286 - val_loss: 0.8274\n",
            "Epoch 75/100\n",
            "2/2 - 0s - 30ms/step - accuracy: 0.6727 - loss: 0.6167 - val_accuracy: 0.4286 - val_loss: 0.8250\n",
            "Epoch 76/100\n",
            "2/2 - 0s - 32ms/step - accuracy: 0.6636 - loss: 0.6162 - val_accuracy: 0.4286 - val_loss: 0.8232\n",
            "Epoch 77/100\n",
            "2/2 - 0s - 29ms/step - accuracy: 0.6636 - loss: 0.6155 - val_accuracy: 0.4286 - val_loss: 0.8258\n",
            "Epoch 78/100\n",
            "2/2 - 0s - 29ms/step - accuracy: 0.6545 - loss: 0.6150 - val_accuracy: 0.4286 - val_loss: 0.8289\n",
            "Epoch 79/100\n",
            "2/2 - 0s - 28ms/step - accuracy: 0.6455 - loss: 0.6143 - val_accuracy: 0.4286 - val_loss: 0.8312\n",
            "Epoch 80/100\n",
            "2/2 - 0s - 69ms/step - accuracy: 0.6455 - loss: 0.6139 - val_accuracy: 0.4286 - val_loss: 0.8317\n",
            "Epoch 81/100\n",
            "2/2 - 0s - 28ms/step - accuracy: 0.6545 - loss: 0.6135 - val_accuracy: 0.4286 - val_loss: 0.8319\n",
            "Epoch 82/100\n",
            "2/2 - 0s - 29ms/step - accuracy: 0.6273 - loss: 0.6129 - val_accuracy: 0.4286 - val_loss: 0.8319\n",
            "Epoch 83/100\n",
            "2/2 - 0s - 34ms/step - accuracy: 0.6273 - loss: 0.6123 - val_accuracy: 0.4643 - val_loss: 0.8302\n",
            "Epoch 84/100\n",
            "2/2 - 0s - 36ms/step - accuracy: 0.6273 - loss: 0.6126 - val_accuracy: 0.4286 - val_loss: 0.8321\n",
            "Epoch 85/100\n",
            "2/2 - 0s - 32ms/step - accuracy: 0.6364 - loss: 0.6109 - val_accuracy: 0.4286 - val_loss: 0.8336\n",
            "Epoch 86/100\n",
            "2/2 - 0s - 35ms/step - accuracy: 0.6364 - loss: 0.6112 - val_accuracy: 0.4286 - val_loss: 0.8403\n",
            "Epoch 87/100\n",
            "2/2 - 0s - 29ms/step - accuracy: 0.6273 - loss: 0.6098 - val_accuracy: 0.4286 - val_loss: 0.8468\n",
            "Epoch 88/100\n",
            "2/2 - 0s - 68ms/step - accuracy: 0.6364 - loss: 0.6094 - val_accuracy: 0.4286 - val_loss: 0.8495\n",
            "Epoch 89/100\n",
            "2/2 - 0s - 28ms/step - accuracy: 0.6364 - loss: 0.6084 - val_accuracy: 0.4286 - val_loss: 0.8483\n",
            "Epoch 90/100\n",
            "2/2 - 0s - 29ms/step - accuracy: 0.6364 - loss: 0.6080 - val_accuracy: 0.4286 - val_loss: 0.8504\n",
            "Epoch 91/100\n",
            "2/2 - 0s - 28ms/step - accuracy: 0.6364 - loss: 0.6072 - val_accuracy: 0.4286 - val_loss: 0.8519\n",
            "Epoch 92/100\n",
            "2/2 - 0s - 31ms/step - accuracy: 0.6273 - loss: 0.6067 - val_accuracy: 0.4286 - val_loss: 0.8580\n",
            "Epoch 93/100\n",
            "2/2 - 0s - 28ms/step - accuracy: 0.6273 - loss: 0.6062 - val_accuracy: 0.4643 - val_loss: 0.8630\n",
            "Epoch 94/100\n",
            "2/2 - 0s - 29ms/step - accuracy: 0.6273 - loss: 0.6054 - val_accuracy: 0.4286 - val_loss: 0.8664\n",
            "Epoch 95/100\n",
            "2/2 - 0s - 29ms/step - accuracy: 0.6364 - loss: 0.6048 - val_accuracy: 0.4286 - val_loss: 0.8687\n",
            "Epoch 96/100\n",
            "2/2 - 0s - 73ms/step - accuracy: 0.6455 - loss: 0.6048 - val_accuracy: 0.4286 - val_loss: 0.8656\n",
            "Epoch 97/100\n",
            "2/2 - 0s - 31ms/step - accuracy: 0.6455 - loss: 0.6036 - val_accuracy: 0.4643 - val_loss: 0.8623\n",
            "Epoch 98/100\n",
            "2/2 - 0s - 29ms/step - accuracy: 0.6364 - loss: 0.6028 - val_accuracy: 0.4643 - val_loss: 0.8599\n",
            "Epoch 99/100\n",
            "2/2 - 0s - 30ms/step - accuracy: 0.6364 - loss: 0.6024 - val_accuracy: 0.4643 - val_loss: 0.8643\n",
            "Epoch 100/100\n",
            "2/2 - 0s - 31ms/step - accuracy: 0.6364 - loss: 0.6014 - val_accuracy: 0.4643 - val_loss: 0.8709\n"
          ]
        },
        {
          "output_type": "stream",
          "name": "stderr",
          "text": [
            "WARNING:tensorflow:6 out of the last 6 calls to <function TensorFlowTrainer.make_predict_function.<locals>.one_step_on_data_distributed at 0x7f47af4a4790> triggered tf.function retracing. Tracing is expensive and the excessive number of tracings could be due to (1) creating @tf.function repeatedly in a loop, (2) passing tensors with different shapes, (3) passing Python objects instead of tensors. For (1), please define your @tf.function outside of the loop. For (2), @tf.function has reduce_retracing=True option that can avoid unnecessary retracing. For (3), please refer to https://www.tensorflow.org/guide/function#controlling_retracing and https://www.tensorflow.org/api_docs/python/tf/function for  more details.\n"
          ]
        },
        {
          "output_type": "stream",
          "name": "stdout",
          "text": [
            "\u001b[1m1/1\u001b[0m \u001b[32m━━━━━━━━━━━━━━━━━━━━\u001b[0m\u001b[37m\u001b[0m \u001b[1m0s\u001b[0m 66ms/step\n",
            "Valence Binary Classification Performance:\n",
            "              precision    recall  f1-score   support\n",
            "\n",
            "           0       0.36      0.45      0.40        11\n",
            "           1       0.57      0.47      0.52        17\n",
            "\n",
            "    accuracy                           0.46        28\n",
            "   macro avg       0.46      0.46      0.46        28\n",
            "weighted avg       0.49      0.46      0.47        28\n",
            "\n"
          ]
        }
      ]
    },
    {
      "cell_type": "code",
      "source": [],
      "metadata": {
        "id": "vBjqq7Q6HpMp"
      },
      "execution_count": null,
      "outputs": []
    },
    {
      "cell_type": "markdown",
      "source": [
        "MultiClass Model"
      ],
      "metadata": {
        "id": "-l05dNx9K4Hq"
      }
    },
    {
      "cell_type": "code",
      "source": [
        "# 3'lü sınıf deneme, 70% oldu sonucu\n",
        "\n",
        "# from sklearn.model_selection import train_test_split\n",
        "# from sklearn.preprocessing import StandardScaler\n",
        "# from sklearn.metrics import classification_report\n",
        "# from keras.models import Sequential\n",
        "# from keras.layers import Dense\n",
        "# from keras.utils import to_categorical\n",
        "\n",
        "# # Özellikler ve hedef değişkenlerin belirlenmesi\n",
        "# selected_features = ['gama_4', 'alpha_4', 'alpha_5', 'gama_3', 'alpha_8',\n",
        "#                      'gama_1', 'delta_1', 'delta_5', 'delta_9', 'alpha_13',\n",
        "#                      'delta_2', 'delta_14', 'delta_3', 'delta_12', 'gama_2',\n",
        "#                      'theta_14', 'beta_4', 'gama_8', 'theta_10', 'gama_5']  # Seçilen özellikler\n",
        "\n",
        "# X = df_mldata[selected_features]  # Seçilen özellikler\n",
        "# y_valence = df_mldata['valence']  # Valence hedef değişkeni\n",
        "# y_arousal = df_mldata['arousal']  # Arousal hedef değişkeni\n",
        "\n",
        "# # Veriyi eğitim ve test setlerine ayırma\n",
        "# X_train, X_test, y_train_valence, y_test_valence = train_test_split(X, y_valence, test_size=0.2, random_state=42)\n",
        "# _, _, y_train_arousal, y_test_arousal = train_test_split(X, y_arousal, test_size=0.2, random_state=42)\n",
        "\n",
        "# # Veriyi ölçeklendirme\n",
        "# scaler = StandardScaler()\n",
        "# X_train_scaled = scaler.fit_transform(X_train)\n",
        "# X_test_scaled = scaler.transform(X_test)\n",
        "\n",
        "# # **Multiclass Classification Model (Valence için)**\n",
        "\n",
        "# # Valence hedef değişkenini kategorik hale getirme\n",
        "# y_train_valence = to_categorical(y_train_valence, num_classes=3)  # 3 sınıf örneği (örneğin: düşük, orta, yüksek)\n",
        "# y_test_valence = to_categorical(y_test_valence, num_classes=3)\n",
        "\n",
        "# # Modelin oluşturulması\n",
        "# model_valence = Sequential([\n",
        "#     Dense(64, activation='relu', input_dim=X_train_scaled.shape[1]),\n",
        "#     Dense(32, activation='relu'),\n",
        "#     Dense(3, activation='softmax')  # Çoklu sınıf için softmax çıkışı\n",
        "# ])\n",
        "\n",
        "# # Modeli derleme\n",
        "# model_valence.compile(optimizer='adam', loss='categorical_crossentropy', metrics=['accuracy'])\n",
        "\n",
        "# # Modeli eğitme\n",
        "# history_valence = model_valence.fit(X_train_scaled, y_train_valence, epochs=100, batch_size=64,\n",
        "#                                     validation_data=(X_test_scaled, y_test_valence), verbose=2)\n",
        "\n",
        "# # **Model Performansını Değerlendirme (Valence)**\n",
        "# y_pred_valence = model_valence.predict(X_test_scaled)\n",
        "# y_pred_valence = y_pred_valence.argmax(axis=1)  # Tahminlerin sınıfını seçme\n",
        "\n",
        "# # Gerçek ve tahmin edilen sınıflar arasında karşılaştırma\n",
        "# print(\"Valence Multiclass Classification Performance:\")\n",
        "# print(classification_report(y_test_valence.argmax(axis=1), y_pred_valence))\n",
        "\n",
        "# # **Multiclass Classification Model (Arousal için)**\n",
        "\n",
        "# # Arousal hedef değişkenini kategorik hale getirme\n",
        "# y_train_arousal = to_categorical(y_train_arousal, num_classes=3)  # 3 sınıf örneği\n",
        "# y_test_arousal = to_categorical(y_test_arousal, num_classes=3)\n",
        "\n",
        "# # Modelin oluşturulması\n",
        "# model_arousal = Sequential([\n",
        "#     Dense(64, activation='relu', input_dim=X_train_scaled.shape[1]),\n",
        "#     Dense(32, activation='relu'),\n",
        "#     Dense(3, activation='softmax')  # Çoklu sınıf için softmax çıkışı\n",
        "# ])\n",
        "\n",
        "# # Modeli derleme\n",
        "# model_arousal.compile(optimizer='adam', loss='categorical_crossentropy', metrics=['accuracy'])\n",
        "\n",
        "# # Modeli eğitme\n",
        "# history_arousal = model_arousal.fit(X_train_scaled, y_train_arousal, epochs=100, batch_size=64,\n",
        "#                                     validation_data=(X_test_scaled, y_test_arousal), verbose=2)\n",
        "\n",
        "# # **Model Performansını Değerlendirme (Arousal)**\n",
        "# y_pred_arousal = model_arousal.predict(X_test_scaled)\n",
        "# y_pred_arousal = y_pred_arousal.argmax(axis=1)  # Tahminlerin sınıfını seçme\n",
        "\n",
        "# # Gerçek ve tahmin edilen sınıflar arasında karşılaştırma\n",
        "# print(\"Arousal Multiclass Classification Performance:\")\n",
        "# print(classification_report(y_test_arousal.argmax(axis=1), y_pred_arousal))\n"
      ],
      "metadata": {
        "id": "83yDXH3LK6Y5"
      },
      "execution_count": 150,
      "outputs": []
    },
    {
      "cell_type": "code",
      "source": [],
      "metadata": {
        "id": "zN6ecIc-LeDY"
      },
      "execution_count": null,
      "outputs": []
    },
    {
      "cell_type": "code",
      "source": [
        "from sklearn.model_selection import train_test_split\n",
        "from sklearn.preprocessing import StandardScaler\n",
        "from sklearn.metrics import classification_report\n",
        "from keras.models import Sequential\n",
        "from keras.layers import Dense\n",
        "from keras.utils import to_categorical"
      ],
      "metadata": {
        "id": "Ed6RQYT8LeBI"
      },
      "execution_count": 156,
      "outputs": []
    },
    {
      "cell_type": "code",
      "source": [
        "# Özellikler ve hedef değişkenlerin belirlenmesi\n",
        "selected_features = ['gama_4', 'alpha_4', 'alpha_5', 'gama_3', 'alpha_8',\n",
        "                     'gama_1', 'delta_1', 'delta_5', 'delta_9', 'alpha_13',\n",
        "                     'delta_2', 'delta_14', 'delta_3', 'delta_12', 'gama_2',\n",
        "                     'theta_14', 'beta_4', 'gama_8', 'theta_10', 'gama_5']  # Seçilen özellikler\n",
        "\n",
        "X = df_mldata[selected_features]  # Seçilen özellikler\n",
        "y_valence = df_mldata['valence']  # Valence hedef değişkeni\n",
        "y_arousal = df_mldata['arousal']  # Arousal hedef değişkeni\n",
        "\n",
        "# Veriyi eğitim ve test setlerine ayırma\n",
        "X_train, X_test, y_train_valence, y_test_valence = train_test_split(X, y_valence, test_size=0.2, random_state=42)\n",
        "_, _, y_train_arousal, y_test_arousal = train_test_split(X, y_arousal, test_size=0.2, random_state=42)\n",
        "\n",
        "# Veriyi ölçeklendirme\n",
        "scaler = StandardScaler()\n",
        "X_train_scaled = scaler.fit_transform(X_train)\n",
        "X_test_scaled = scaler.transform(X_test)"
      ],
      "metadata": {
        "id": "1c3ucFWlLdz3"
      },
      "execution_count": 160,
      "outputs": []
    },
    {
      "cell_type": "markdown",
      "source": [
        "Valence"
      ],
      "metadata": {
        "id": "D3U9qpABMriZ"
      }
    },
    {
      "cell_type": "code",
      "source": [
        "# **4 Sınıflı Classification Model (Valence için)**\n",
        "\n",
        "# Valence hedef değişkenini kategorik hale getirme (4 sınıf)\n",
        "y_train_valence = to_categorical(y_train_valence, num_classes=4)  # 4 sınıf örneği\n",
        "y_test_valence = to_categorical(y_test_valence, num_classes=4)"
      ],
      "metadata": {
        "id": "g6FE8hElLdwc"
      },
      "execution_count": 161,
      "outputs": []
    },
    {
      "cell_type": "code",
      "source": [
        "# Modelin oluşturulması\n",
        "model_valence = Sequential([\n",
        "    Dense(64, activation='relu', input_dim=X_train_scaled.shape[1]),\n",
        "    Dense(32, activation='relu'),\n",
        "    Dense(4, activation='softmax')  # 4 sınıf için softmax çıkışı\n",
        "])"
      ],
      "metadata": {
        "colab": {
          "base_uri": "https://localhost:8080/"
        },
        "id": "JIShEGQ5MAg5",
        "outputId": "fa44ad1a-d3d3-4b96-d48e-b19226fd3b1a"
      },
      "execution_count": 162,
      "outputs": [
        {
          "output_type": "stream",
          "name": "stderr",
          "text": [
            "/usr/local/lib/python3.10/dist-packages/keras/src/layers/core/dense.py:87: UserWarning: Do not pass an `input_shape`/`input_dim` argument to a layer. When using Sequential models, prefer using an `Input(shape)` object as the first layer in the model instead.\n",
            "  super().__init__(activity_regularizer=activity_regularizer, **kwargs)\n"
          ]
        }
      ]
    },
    {
      "cell_type": "code",
      "source": [
        "# Modeli derleme\n",
        "model_valence.compile(optimizer='adam', loss='categorical_crossentropy', metrics=['accuracy'])\n",
        "\n",
        "# Modeli eğitme\n",
        "history_valence = model_valence.fit(X_train_scaled, y_train_valence, epochs=100, batch_size=64,\n",
        "                                    validation_data=(X_test_scaled, y_test_valence), verbose=2)\n",
        "\n",
        "# **Model Performansını Değerlendirme (Valence)**\n",
        "y_pred_valence = model_valence.predict(X_test_scaled)\n",
        "y_pred_valence = y_pred_valence.argmax(axis=1)  # Tahminlerin sınıfını seçme\n",
        "\n",
        "# Gerçek ve tahmin edilen sınıflar arasında karşılaştırma\n",
        "print(\"Valence 4-class Classification Performance:\")\n",
        "print(classification_report(y_test_valence.argmax(axis=1), y_pred_valence))"
      ],
      "metadata": {
        "colab": {
          "base_uri": "https://localhost:8080/"
        },
        "id": "KuvpMOvqLj1S",
        "outputId": "647464f2-335b-4f35-c00d-02b3998e92ec"
      },
      "execution_count": 163,
      "outputs": [
        {
          "output_type": "stream",
          "name": "stdout",
          "text": [
            "Epoch 1/100\n",
            "2/2 - 2s - 874ms/step - accuracy: 0.0727 - loss: 1.4968 - val_accuracy: 0.2143 - val_loss: 1.5211\n",
            "Epoch 2/100\n",
            "2/2 - 0s - 57ms/step - accuracy: 0.2909 - loss: 1.4289 - val_accuracy: 0.3571 - val_loss: 1.4613\n",
            "Epoch 3/100\n",
            "2/2 - 0s - 30ms/step - accuracy: 0.4636 - loss: 1.3768 - val_accuracy: 0.4286 - val_loss: 1.4109\n",
            "Epoch 4/100\n",
            "2/2 - 0s - 29ms/step - accuracy: 0.5182 - loss: 1.3368 - val_accuracy: 0.4286 - val_loss: 1.3643\n",
            "Epoch 5/100\n",
            "2/2 - 0s - 43ms/step - accuracy: 0.5364 - loss: 1.3022 - val_accuracy: 0.3929 - val_loss: 1.3211\n",
            "Epoch 6/100\n",
            "2/2 - 0s - 57ms/step - accuracy: 0.5273 - loss: 1.2668 - val_accuracy: 0.3929 - val_loss: 1.2857\n",
            "Epoch 7/100\n",
            "2/2 - 0s - 50ms/step - accuracy: 0.5364 - loss: 1.2441 - val_accuracy: 0.4286 - val_loss: 1.2552\n",
            "Epoch 8/100\n",
            "2/2 - 0s - 61ms/step - accuracy: 0.5364 - loss: 1.2239 - val_accuracy: 0.3929 - val_loss: 1.2329\n",
            "Epoch 9/100\n",
            "2/2 - 0s - 58ms/step - accuracy: 0.5364 - loss: 1.2057 - val_accuracy: 0.3929 - val_loss: 1.2148\n",
            "Epoch 10/100\n",
            "2/2 - 0s - 30ms/step - accuracy: 0.5182 - loss: 1.1895 - val_accuracy: 0.3929 - val_loss: 1.1983\n",
            "Epoch 11/100\n",
            "2/2 - 0s - 40ms/step - accuracy: 0.5182 - loss: 1.1704 - val_accuracy: 0.3929 - val_loss: 1.1830\n",
            "Epoch 12/100\n",
            "2/2 - 0s - 57ms/step - accuracy: 0.5182 - loss: 1.1510 - val_accuracy: 0.3929 - val_loss: 1.1679\n",
            "Epoch 13/100\n",
            "2/2 - 0s - 29ms/step - accuracy: 0.5182 - loss: 1.1297 - val_accuracy: 0.3929 - val_loss: 1.1536\n",
            "Epoch 14/100\n",
            "2/2 - 0s - 30ms/step - accuracy: 0.5364 - loss: 1.1085 - val_accuracy: 0.4286 - val_loss: 1.1400\n",
            "Epoch 15/100\n",
            "2/2 - 0s - 35ms/step - accuracy: 0.5364 - loss: 1.0872 - val_accuracy: 0.4286 - val_loss: 1.1271\n",
            "Epoch 16/100\n",
            "2/2 - 0s - 37ms/step - accuracy: 0.5364 - loss: 1.0643 - val_accuracy: 0.3929 - val_loss: 1.1133\n",
            "Epoch 17/100\n",
            "2/2 - 0s - 29ms/step - accuracy: 0.5364 - loss: 1.0426 - val_accuracy: 0.3929 - val_loss: 1.0988\n",
            "Epoch 18/100\n",
            "2/2 - 0s - 38ms/step - accuracy: 0.5455 - loss: 1.0210 - val_accuracy: 0.3929 - val_loss: 1.0833\n",
            "Epoch 19/100\n",
            "2/2 - 0s - 37ms/step - accuracy: 0.5545 - loss: 0.9990 - val_accuracy: 0.3929 - val_loss: 1.0667\n",
            "Epoch 20/100\n",
            "2/2 - 0s - 32ms/step - accuracy: 0.5545 - loss: 0.9768 - val_accuracy: 0.3929 - val_loss: 1.0488\n",
            "Epoch 21/100\n",
            "2/2 - 0s - 28ms/step - accuracy: 0.5545 - loss: 0.9553 - val_accuracy: 0.3929 - val_loss: 1.0321\n",
            "Epoch 22/100\n",
            "2/2 - 0s - 29ms/step - accuracy: 0.5545 - loss: 0.9332 - val_accuracy: 0.3929 - val_loss: 1.0129\n",
            "Epoch 23/100\n",
            "2/2 - 0s - 30ms/step - accuracy: 0.5636 - loss: 0.9115 - val_accuracy: 0.3929 - val_loss: 0.9929\n",
            "Epoch 24/100\n",
            "2/2 - 0s - 30ms/step - accuracy: 0.5636 - loss: 0.8913 - val_accuracy: 0.3929 - val_loss: 0.9731\n",
            "Epoch 25/100\n",
            "2/2 - 0s - 28ms/step - accuracy: 0.5545 - loss: 0.8723 - val_accuracy: 0.4286 - val_loss: 0.9559\n",
            "Epoch 26/100\n",
            "2/2 - 0s - 29ms/step - accuracy: 0.5545 - loss: 0.8552 - val_accuracy: 0.3929 - val_loss: 0.9402\n",
            "Epoch 27/100\n",
            "2/2 - 0s - 31ms/step - accuracy: 0.5545 - loss: 0.8373 - val_accuracy: 0.3929 - val_loss: 0.9286\n",
            "Epoch 28/100\n",
            "2/2 - 0s - 30ms/step - accuracy: 0.5545 - loss: 0.8210 - val_accuracy: 0.3929 - val_loss: 0.9204\n",
            "Epoch 29/100\n",
            "2/2 - 0s - 28ms/step - accuracy: 0.5636 - loss: 0.8055 - val_accuracy: 0.3929 - val_loss: 0.9124\n",
            "Epoch 30/100\n",
            "2/2 - 0s - 28ms/step - accuracy: 0.5636 - loss: 0.7916 - val_accuracy: 0.3929 - val_loss: 0.9035\n",
            "Epoch 31/100\n",
            "2/2 - 0s - 36ms/step - accuracy: 0.5636 - loss: 0.7784 - val_accuracy: 0.3929 - val_loss: 0.8925\n",
            "Epoch 32/100\n",
            "2/2 - 0s - 34ms/step - accuracy: 0.5727 - loss: 0.7671 - val_accuracy: 0.3929 - val_loss: 0.8833\n",
            "Epoch 33/100\n",
            "2/2 - 0s - 39ms/step - accuracy: 0.5727 - loss: 0.7564 - val_accuracy: 0.3929 - val_loss: 0.8723\n",
            "Epoch 34/100\n",
            "2/2 - 0s - 34ms/step - accuracy: 0.5727 - loss: 0.7468 - val_accuracy: 0.3929 - val_loss: 0.8630\n",
            "Epoch 35/100\n",
            "2/2 - 0s - 28ms/step - accuracy: 0.5636 - loss: 0.7385 - val_accuracy: 0.3929 - val_loss: 0.8556\n",
            "Epoch 36/100\n",
            "2/2 - 0s - 30ms/step - accuracy: 0.5636 - loss: 0.7310 - val_accuracy: 0.3929 - val_loss: 0.8507\n",
            "Epoch 37/100\n",
            "2/2 - 0s - 33ms/step - accuracy: 0.5636 - loss: 0.7235 - val_accuracy: 0.4286 - val_loss: 0.8496\n",
            "Epoch 38/100\n",
            "2/2 - 0s - 31ms/step - accuracy: 0.5727 - loss: 0.7173 - val_accuracy: 0.4286 - val_loss: 0.8503\n",
            "Epoch 39/100\n",
            "2/2 - 0s - 32ms/step - accuracy: 0.5727 - loss: 0.7120 - val_accuracy: 0.4286 - val_loss: 0.8481\n",
            "Epoch 40/100\n",
            "2/2 - 0s - 30ms/step - accuracy: 0.5727 - loss: 0.7072 - val_accuracy: 0.4286 - val_loss: 0.8435\n",
            "Epoch 41/100\n",
            "2/2 - 0s - 29ms/step - accuracy: 0.5727 - loss: 0.7023 - val_accuracy: 0.4286 - val_loss: 0.8356\n",
            "Epoch 42/100\n",
            "2/2 - 0s - 29ms/step - accuracy: 0.5818 - loss: 0.6979 - val_accuracy: 0.4286 - val_loss: 0.8263\n",
            "Epoch 43/100\n",
            "2/2 - 0s - 28ms/step - accuracy: 0.5818 - loss: 0.6947 - val_accuracy: 0.4286 - val_loss: 0.8191\n",
            "Epoch 44/100\n",
            "2/2 - 0s - 29ms/step - accuracy: 0.5727 - loss: 0.6913 - val_accuracy: 0.4286 - val_loss: 0.8162\n",
            "Epoch 45/100\n",
            "2/2 - 0s - 29ms/step - accuracy: 0.5818 - loss: 0.6889 - val_accuracy: 0.4286 - val_loss: 0.8151\n",
            "Epoch 46/100\n",
            "2/2 - 0s - 37ms/step - accuracy: 0.5909 - loss: 0.6856 - val_accuracy: 0.4286 - val_loss: 0.8127\n",
            "Epoch 47/100\n",
            "2/2 - 0s - 37ms/step - accuracy: 0.5909 - loss: 0.6830 - val_accuracy: 0.4286 - val_loss: 0.8128\n",
            "Epoch 48/100\n",
            "2/2 - 0s - 39ms/step - accuracy: 0.5818 - loss: 0.6806 - val_accuracy: 0.4286 - val_loss: 0.8125\n",
            "Epoch 49/100\n",
            "2/2 - 0s - 30ms/step - accuracy: 0.5818 - loss: 0.6788 - val_accuracy: 0.4286 - val_loss: 0.8156\n",
            "Epoch 50/100\n",
            "2/2 - 0s - 29ms/step - accuracy: 0.5818 - loss: 0.6762 - val_accuracy: 0.4286 - val_loss: 0.8149\n",
            "Epoch 51/100\n",
            "2/2 - 0s - 30ms/step - accuracy: 0.5818 - loss: 0.6747 - val_accuracy: 0.4643 - val_loss: 0.8131\n",
            "Epoch 52/100\n",
            "2/2 - 0s - 30ms/step - accuracy: 0.5818 - loss: 0.6727 - val_accuracy: 0.4643 - val_loss: 0.8130\n",
            "Epoch 53/100\n",
            "2/2 - 0s - 29ms/step - accuracy: 0.5818 - loss: 0.6715 - val_accuracy: 0.4643 - val_loss: 0.8134\n",
            "Epoch 54/100\n",
            "2/2 - 0s - 29ms/step - accuracy: 0.5818 - loss: 0.6698 - val_accuracy: 0.4643 - val_loss: 0.8122\n",
            "Epoch 55/100\n",
            "2/2 - 0s - 28ms/step - accuracy: 0.5818 - loss: 0.6693 - val_accuracy: 0.5000 - val_loss: 0.8073\n",
            "Epoch 56/100\n",
            "2/2 - 0s - 29ms/step - accuracy: 0.5818 - loss: 0.6674 - val_accuracy: 0.5000 - val_loss: 0.8070\n",
            "Epoch 57/100\n",
            "2/2 - 0s - 28ms/step - accuracy: 0.5909 - loss: 0.6658 - val_accuracy: 0.5000 - val_loss: 0.8098\n",
            "Epoch 58/100\n",
            "2/2 - 0s - 30ms/step - accuracy: 0.5909 - loss: 0.6645 - val_accuracy: 0.5000 - val_loss: 0.8131\n",
            "Epoch 59/100\n",
            "2/2 - 0s - 29ms/step - accuracy: 0.5909 - loss: 0.6642 - val_accuracy: 0.4643 - val_loss: 0.8186\n",
            "Epoch 60/100\n",
            "2/2 - 0s - 28ms/step - accuracy: 0.5909 - loss: 0.6628 - val_accuracy: 0.5000 - val_loss: 0.8180\n",
            "Epoch 61/100\n",
            "2/2 - 0s - 42ms/step - accuracy: 0.5909 - loss: 0.6619 - val_accuracy: 0.5357 - val_loss: 0.8130\n",
            "Epoch 62/100\n",
            "2/2 - 0s - 59ms/step - accuracy: 0.5909 - loss: 0.6603 - val_accuracy: 0.5714 - val_loss: 0.8115\n",
            "Epoch 63/100\n",
            "2/2 - 0s - 29ms/step - accuracy: 0.5909 - loss: 0.6592 - val_accuracy: 0.5714 - val_loss: 0.8080\n",
            "Epoch 64/100\n",
            "2/2 - 0s - 30ms/step - accuracy: 0.5909 - loss: 0.6583 - val_accuracy: 0.5714 - val_loss: 0.8069\n",
            "Epoch 65/100\n",
            "2/2 - 0s - 30ms/step - accuracy: 0.5818 - loss: 0.6575 - val_accuracy: 0.6071 - val_loss: 0.8055\n",
            "Epoch 66/100\n",
            "2/2 - 0s - 28ms/step - accuracy: 0.6091 - loss: 0.6568 - val_accuracy: 0.6071 - val_loss: 0.8071\n",
            "Epoch 67/100\n",
            "2/2 - 0s - 30ms/step - accuracy: 0.6091 - loss: 0.6555 - val_accuracy: 0.6071 - val_loss: 0.8097\n",
            "Epoch 68/100\n",
            "2/2 - 0s - 28ms/step - accuracy: 0.6182 - loss: 0.6546 - val_accuracy: 0.5714 - val_loss: 0.8123\n",
            "Epoch 69/100\n",
            "2/2 - 0s - 31ms/step - accuracy: 0.6091 - loss: 0.6535 - val_accuracy: 0.5714 - val_loss: 0.8167\n",
            "Epoch 70/100\n",
            "2/2 - 0s - 28ms/step - accuracy: 0.6091 - loss: 0.6527 - val_accuracy: 0.5714 - val_loss: 0.8211\n",
            "Epoch 71/100\n",
            "2/2 - 0s - 28ms/step - accuracy: 0.6091 - loss: 0.6516 - val_accuracy: 0.5000 - val_loss: 0.8236\n",
            "Epoch 72/100\n",
            "2/2 - 0s - 30ms/step - accuracy: 0.6273 - loss: 0.6509 - val_accuracy: 0.5000 - val_loss: 0.8242\n",
            "Epoch 73/100\n",
            "2/2 - 0s - 29ms/step - accuracy: 0.6273 - loss: 0.6506 - val_accuracy: 0.5000 - val_loss: 0.8263\n",
            "Epoch 74/100\n",
            "2/2 - 0s - 29ms/step - accuracy: 0.6364 - loss: 0.6493 - val_accuracy: 0.4643 - val_loss: 0.8243\n",
            "Epoch 75/100\n",
            "2/2 - 0s - 34ms/step - accuracy: 0.6364 - loss: 0.6489 - val_accuracy: 0.5000 - val_loss: 0.8207\n",
            "Epoch 76/100\n",
            "2/2 - 0s - 51ms/step - accuracy: 0.6364 - loss: 0.6483 - val_accuracy: 0.4643 - val_loss: 0.8177\n",
            "Epoch 77/100\n",
            "2/2 - 0s - 54ms/step - accuracy: 0.5909 - loss: 0.6471 - val_accuracy: 0.4643 - val_loss: 0.8184\n",
            "Epoch 78/100\n",
            "2/2 - 0s - 28ms/step - accuracy: 0.6273 - loss: 0.6462 - val_accuracy: 0.4643 - val_loss: 0.8188\n",
            "Epoch 79/100\n",
            "2/2 - 0s - 30ms/step - accuracy: 0.6273 - loss: 0.6451 - val_accuracy: 0.5000 - val_loss: 0.8215\n",
            "Epoch 80/100\n",
            "2/2 - 0s - 31ms/step - accuracy: 0.6182 - loss: 0.6443 - val_accuracy: 0.4643 - val_loss: 0.8239\n",
            "Epoch 81/100\n",
            "2/2 - 0s - 31ms/step - accuracy: 0.6182 - loss: 0.6439 - val_accuracy: 0.4643 - val_loss: 0.8289\n",
            "Epoch 82/100\n",
            "2/2 - 0s - 30ms/step - accuracy: 0.6364 - loss: 0.6435 - val_accuracy: 0.5000 - val_loss: 0.8285\n",
            "Epoch 83/100\n",
            "2/2 - 0s - 31ms/step - accuracy: 0.6455 - loss: 0.6422 - val_accuracy: 0.4643 - val_loss: 0.8257\n",
            "Epoch 84/100\n",
            "2/2 - 0s - 44ms/step - accuracy: 0.6273 - loss: 0.6413 - val_accuracy: 0.4643 - val_loss: 0.8237\n",
            "Epoch 85/100\n",
            "2/2 - 0s - 47ms/step - accuracy: 0.6364 - loss: 0.6412 - val_accuracy: 0.4643 - val_loss: 0.8221\n",
            "Epoch 86/100\n",
            "2/2 - 0s - 65ms/step - accuracy: 0.6273 - loss: 0.6405 - val_accuracy: 0.4643 - val_loss: 0.8257\n",
            "Epoch 87/100\n",
            "2/2 - 0s - 64ms/step - accuracy: 0.6455 - loss: 0.6393 - val_accuracy: 0.4643 - val_loss: 0.8303\n",
            "Epoch 88/100\n",
            "2/2 - 0s - 46ms/step - accuracy: 0.6636 - loss: 0.6387 - val_accuracy: 0.4643 - val_loss: 0.8343\n",
            "Epoch 89/100\n",
            "2/2 - 0s - 77ms/step - accuracy: 0.6364 - loss: 0.6381 - val_accuracy: 0.5000 - val_loss: 0.8327\n",
            "Epoch 90/100\n",
            "2/2 - 0s - 58ms/step - accuracy: 0.6364 - loss: 0.6373 - val_accuracy: 0.4643 - val_loss: 0.8316\n",
            "Epoch 91/100\n",
            "2/2 - 0s - 68ms/step - accuracy: 0.6273 - loss: 0.6364 - val_accuracy: 0.4643 - val_loss: 0.8329\n",
            "Epoch 92/100\n",
            "2/2 - 0s - 68ms/step - accuracy: 0.6182 - loss: 0.6362 - val_accuracy: 0.4643 - val_loss: 0.8359\n",
            "Epoch 93/100\n",
            "2/2 - 0s - 67ms/step - accuracy: 0.6364 - loss: 0.6353 - val_accuracy: 0.4643 - val_loss: 0.8361\n",
            "Epoch 94/100\n",
            "2/2 - 0s - 72ms/step - accuracy: 0.6091 - loss: 0.6347 - val_accuracy: 0.4643 - val_loss: 0.8351\n",
            "Epoch 95/100\n",
            "2/2 - 0s - 67ms/step - accuracy: 0.6091 - loss: 0.6341 - val_accuracy: 0.4643 - val_loss: 0.8376\n",
            "Epoch 96/100\n",
            "2/2 - 0s - 40ms/step - accuracy: 0.6273 - loss: 0.6329 - val_accuracy: 0.4643 - val_loss: 0.8379\n",
            "Epoch 97/100\n",
            "2/2 - 0s - 44ms/step - accuracy: 0.6182 - loss: 0.6321 - val_accuracy: 0.4643 - val_loss: 0.8401\n",
            "Epoch 98/100\n",
            "2/2 - 0s - 70ms/step - accuracy: 0.6364 - loss: 0.6320 - val_accuracy: 0.3929 - val_loss: 0.8376\n",
            "Epoch 99/100\n",
            "2/2 - 0s - 68ms/step - accuracy: 0.6545 - loss: 0.6306 - val_accuracy: 0.4643 - val_loss: 0.8398\n",
            "Epoch 100/100\n",
            "2/2 - 0s - 51ms/step - accuracy: 0.6273 - loss: 0.6303 - val_accuracy: 0.4643 - val_loss: 0.8433\n",
            "\u001b[1m1/1\u001b[0m \u001b[32m━━━━━━━━━━━━━━━━━━━━\u001b[0m\u001b[37m\u001b[0m \u001b[1m0s\u001b[0m 129ms/step\n",
            "Valence 4-class Classification Performance:\n",
            "              precision    recall  f1-score   support\n",
            "\n",
            "           0       0.39      0.64      0.48        11\n",
            "           1       0.60      0.35      0.44        17\n",
            "\n",
            "    accuracy                           0.46        28\n",
            "   macro avg       0.49      0.49      0.46        28\n",
            "weighted avg       0.52      0.46      0.46        28\n",
            "\n"
          ]
        }
      ]
    },
    {
      "cell_type": "markdown",
      "source": [
        "Arousal"
      ],
      "metadata": {
        "id": "D4RAeGqBMnzW"
      }
    },
    {
      "cell_type": "code",
      "source": [
        "# **4 Sınıflı Classification Model (Arousal için)**\n",
        "\n",
        "# Arousal hedef değişkenini kategorik hale getirme (4 sınıf)\n",
        "y_train_arousal = to_categorical(y_train_arousal, num_classes=4)  # 4 sınıf örneği\n",
        "y_test_arousal = to_categorical(y_test_arousal, num_classes=4)\n",
        "\n",
        "# Modelin oluşturulması\n",
        "model_arousal = Sequential([\n",
        "    Dense(64, activation='relu', input_dim=X_train_scaled.shape[1]),\n",
        "    Dense(32, activation='relu'),\n",
        "    Dense(4, activation='softmax')  # 4 sınıf için softmax çıkışı\n",
        "])"
      ],
      "metadata": {
        "colab": {
          "base_uri": "https://localhost:8080/"
        },
        "id": "_28Dgbf3MMCX",
        "outputId": "9954de2a-31e2-4288-d891-87020fb535d1"
      },
      "execution_count": 164,
      "outputs": [
        {
          "output_type": "stream",
          "name": "stderr",
          "text": [
            "/usr/local/lib/python3.10/dist-packages/keras/src/layers/core/dense.py:87: UserWarning: Do not pass an `input_shape`/`input_dim` argument to a layer. When using Sequential models, prefer using an `Input(shape)` object as the first layer in the model instead.\n",
            "  super().__init__(activity_regularizer=activity_regularizer, **kwargs)\n"
          ]
        }
      ]
    },
    {
      "cell_type": "code",
      "source": [
        "# Modeli derleme\n",
        "model_arousal.compile(optimizer='adam', loss='categorical_crossentropy', metrics=['accuracy'])\n",
        "\n",
        "# Modeli eğitme\n",
        "history_arousal = model_arousal.fit(X_train_scaled, y_train_arousal, epochs=100, batch_size=64,\n",
        "                                    validation_data=(X_test_scaled, y_test_arousal), verbose=2)\n",
        "\n",
        "# **Model Performansını Değerlendirme (Arousal)**\n",
        "y_pred_arousal = model_arousal.predict(X_test_scaled)\n",
        "y_pred_arousal = y_pred_arousal.argmax(axis=1)  # Tahminlerin sınıfını seçme\n",
        "\n",
        "# Gerçek ve tahmin edilen sınıflar arasında karşılaştırma\n",
        "print(\"Arousal 4-class Classification Performance:\")\n",
        "print(classification_report(y_test_arousal.argmax(axis=1), y_pred_arousal))"
      ],
      "metadata": {
        "colab": {
          "base_uri": "https://localhost:8080/"
        },
        "id": "ZjXg5U00MPpG",
        "outputId": "1de57b4f-7b80-4e77-ee50-1ccf0b9af073"
      },
      "execution_count": 165,
      "outputs": [
        {
          "output_type": "stream",
          "name": "stdout",
          "text": [
            "Epoch 1/100\n",
            "2/2 - 3s - 2s/step - accuracy: 0.5364 - loss: 1.3998 - val_accuracy: 0.5357 - val_loss: 1.3621\n",
            "Epoch 2/100\n",
            "2/2 - 0s - 45ms/step - accuracy: 0.5364 - loss: 1.3375 - val_accuracy: 0.5357 - val_loss: 1.3118\n",
            "Epoch 3/100\n",
            "2/2 - 0s - 122ms/step - accuracy: 0.5455 - loss: 1.2854 - val_accuracy: 0.6071 - val_loss: 1.2713\n",
            "Epoch 4/100\n",
            "2/2 - 0s - 125ms/step - accuracy: 0.5636 - loss: 1.2391 - val_accuracy: 0.6071 - val_loss: 1.2354\n",
            "Epoch 5/100\n",
            "2/2 - 0s - 31ms/step - accuracy: 0.5727 - loss: 1.2039 - val_accuracy: 0.6071 - val_loss: 1.2050\n",
            "Epoch 6/100\n",
            "2/2 - 0s - 33ms/step - accuracy: 0.5727 - loss: 1.1701 - val_accuracy: 0.6071 - val_loss: 1.1771\n",
            "Epoch 7/100\n",
            "2/2 - 0s - 32ms/step - accuracy: 0.5909 - loss: 1.1389 - val_accuracy: 0.6071 - val_loss: 1.1524\n",
            "Epoch 8/100\n",
            "2/2 - 0s - 29ms/step - accuracy: 0.5909 - loss: 1.1082 - val_accuracy: 0.6071 - val_loss: 1.1299\n",
            "Epoch 9/100\n",
            "2/2 - 0s - 78ms/step - accuracy: 0.5909 - loss: 1.0817 - val_accuracy: 0.6071 - val_loss: 1.1102\n",
            "Epoch 10/100\n",
            "2/2 - 0s - 60ms/step - accuracy: 0.5909 - loss: 1.0539 - val_accuracy: 0.6071 - val_loss: 1.0906\n",
            "Epoch 11/100\n",
            "2/2 - 0s - 29ms/step - accuracy: 0.5909 - loss: 1.0285 - val_accuracy: 0.6071 - val_loss: 1.0711\n",
            "Epoch 12/100\n",
            "2/2 - 0s - 70ms/step - accuracy: 0.6000 - loss: 1.0041 - val_accuracy: 0.6071 - val_loss: 1.0535\n",
            "Epoch 13/100\n",
            "2/2 - 0s - 29ms/step - accuracy: 0.6000 - loss: 0.9811 - val_accuracy: 0.6071 - val_loss: 1.0362\n",
            "Epoch 14/100\n",
            "2/2 - 0s - 32ms/step - accuracy: 0.5909 - loss: 0.9588 - val_accuracy: 0.6071 - val_loss: 1.0196\n",
            "Epoch 15/100\n",
            "2/2 - 0s - 31ms/step - accuracy: 0.5909 - loss: 0.9373 - val_accuracy: 0.6071 - val_loss: 1.0022\n",
            "Epoch 16/100\n",
            "2/2 - 0s - 67ms/step - accuracy: 0.6000 - loss: 0.9169 - val_accuracy: 0.6071 - val_loss: 0.9834\n",
            "Epoch 17/100\n",
            "2/2 - 0s - 31ms/step - accuracy: 0.6000 - loss: 0.8970 - val_accuracy: 0.6071 - val_loss: 0.9653\n",
            "Epoch 18/100\n",
            "2/2 - 0s - 29ms/step - accuracy: 0.6091 - loss: 0.8778 - val_accuracy: 0.6071 - val_loss: 0.9487\n",
            "Epoch 19/100\n",
            "2/2 - 0s - 29ms/step - accuracy: 0.6091 - loss: 0.8609 - val_accuracy: 0.5714 - val_loss: 0.9342\n",
            "Epoch 20/100\n",
            "2/2 - 0s - 73ms/step - accuracy: 0.6091 - loss: 0.8431 - val_accuracy: 0.5714 - val_loss: 0.9212\n",
            "Epoch 21/100\n",
            "2/2 - 0s - 34ms/step - accuracy: 0.6091 - loss: 0.8275 - val_accuracy: 0.5714 - val_loss: 0.9106\n",
            "Epoch 22/100\n",
            "2/2 - 0s - 31ms/step - accuracy: 0.6182 - loss: 0.8126 - val_accuracy: 0.5714 - val_loss: 0.9016\n",
            "Epoch 23/100\n",
            "2/2 - 0s - 31ms/step - accuracy: 0.6273 - loss: 0.7980 - val_accuracy: 0.5714 - val_loss: 0.8920\n",
            "Epoch 24/100\n",
            "2/2 - 0s - 31ms/step - accuracy: 0.6273 - loss: 0.7848 - val_accuracy: 0.5714 - val_loss: 0.8840\n",
            "Epoch 25/100\n",
            "2/2 - 0s - 42ms/step - accuracy: 0.6273 - loss: 0.7732 - val_accuracy: 0.5714 - val_loss: 0.8761\n",
            "Epoch 26/100\n",
            "2/2 - 0s - 54ms/step - accuracy: 0.6364 - loss: 0.7620 - val_accuracy: 0.5714 - val_loss: 0.8674\n",
            "Epoch 27/100\n",
            "2/2 - 0s - 56ms/step - accuracy: 0.6364 - loss: 0.7518 - val_accuracy: 0.5714 - val_loss: 0.8593\n",
            "Epoch 28/100\n",
            "2/2 - 0s - 45ms/step - accuracy: 0.6455 - loss: 0.7428 - val_accuracy: 0.5714 - val_loss: 0.8514\n",
            "Epoch 29/100\n",
            "2/2 - 0s - 47ms/step - accuracy: 0.6455 - loss: 0.7335 - val_accuracy: 0.5714 - val_loss: 0.8455\n",
            "Epoch 30/100\n",
            "2/2 - 0s - 44ms/step - accuracy: 0.6545 - loss: 0.7262 - val_accuracy: 0.5714 - val_loss: 0.8398\n",
            "Epoch 31/100\n",
            "2/2 - 0s - 78ms/step - accuracy: 0.6545 - loss: 0.7184 - val_accuracy: 0.5714 - val_loss: 0.8341\n",
            "Epoch 32/100\n",
            "2/2 - 0s - 50ms/step - accuracy: 0.6545 - loss: 0.7117 - val_accuracy: 0.5714 - val_loss: 0.8277\n",
            "Epoch 33/100\n",
            "2/2 - 0s - 60ms/step - accuracy: 0.6545 - loss: 0.7053 - val_accuracy: 0.5714 - val_loss: 0.8234\n",
            "Epoch 34/100\n",
            "2/2 - 0s - 46ms/step - accuracy: 0.6545 - loss: 0.7001 - val_accuracy: 0.5714 - val_loss: 0.8204\n",
            "Epoch 35/100\n",
            "2/2 - 0s - 67ms/step - accuracy: 0.6545 - loss: 0.6948 - val_accuracy: 0.5714 - val_loss: 0.8179\n",
            "Epoch 36/100\n",
            "2/2 - 0s - 56ms/step - accuracy: 0.6545 - loss: 0.6896 - val_accuracy: 0.5714 - val_loss: 0.8144\n",
            "Epoch 37/100\n",
            "2/2 - 0s - 56ms/step - accuracy: 0.6545 - loss: 0.6854 - val_accuracy: 0.5714 - val_loss: 0.8121\n",
            "Epoch 38/100\n",
            "2/2 - 0s - 42ms/step - accuracy: 0.6545 - loss: 0.6811 - val_accuracy: 0.5714 - val_loss: 0.8094\n",
            "Epoch 39/100\n",
            "2/2 - 0s - 49ms/step - accuracy: 0.6545 - loss: 0.6773 - val_accuracy: 0.5714 - val_loss: 0.8073\n",
            "Epoch 40/100\n",
            "2/2 - 0s - 62ms/step - accuracy: 0.6636 - loss: 0.6741 - val_accuracy: 0.5714 - val_loss: 0.8052\n",
            "Epoch 41/100\n",
            "2/2 - 0s - 44ms/step - accuracy: 0.6636 - loss: 0.6706 - val_accuracy: 0.5714 - val_loss: 0.8032\n",
            "Epoch 42/100\n",
            "2/2 - 0s - 55ms/step - accuracy: 0.6636 - loss: 0.6675 - val_accuracy: 0.5714 - val_loss: 0.8026\n",
            "Epoch 43/100\n",
            "2/2 - 0s - 71ms/step - accuracy: 0.6727 - loss: 0.6648 - val_accuracy: 0.5714 - val_loss: 0.8013\n",
            "Epoch 44/100\n",
            "2/2 - 0s - 223ms/step - accuracy: 0.6636 - loss: 0.6624 - val_accuracy: 0.5714 - val_loss: 0.7996\n",
            "Epoch 45/100\n",
            "2/2 - 1s - 260ms/step - accuracy: 0.6727 - loss: 0.6588 - val_accuracy: 0.5714 - val_loss: 0.7992\n",
            "Epoch 46/100\n",
            "2/2 - 0s - 115ms/step - accuracy: 0.6727 - loss: 0.6566 - val_accuracy: 0.5714 - val_loss: 0.8008\n",
            "Epoch 47/100\n",
            "2/2 - 0s - 141ms/step - accuracy: 0.6727 - loss: 0.6540 - val_accuracy: 0.5714 - val_loss: 0.8011\n",
            "Epoch 48/100\n",
            "2/2 - 0s - 74ms/step - accuracy: 0.6727 - loss: 0.6526 - val_accuracy: 0.5714 - val_loss: 0.7993\n",
            "Epoch 49/100\n",
            "2/2 - 0s - 193ms/step - accuracy: 0.6727 - loss: 0.6490 - val_accuracy: 0.5714 - val_loss: 0.7984\n",
            "Epoch 50/100\n",
            "2/2 - 0s - 145ms/step - accuracy: 0.6727 - loss: 0.6473 - val_accuracy: 0.5714 - val_loss: 0.7978\n",
            "Epoch 51/100\n",
            "2/2 - 0s - 99ms/step - accuracy: 0.6727 - loss: 0.6452 - val_accuracy: 0.5714 - val_loss: 0.7976\n",
            "Epoch 52/100\n",
            "2/2 - 0s - 132ms/step - accuracy: 0.6727 - loss: 0.6438 - val_accuracy: 0.6071 - val_loss: 0.7992\n",
            "Epoch 53/100\n",
            "2/2 - 0s - 160ms/step - accuracy: 0.6727 - loss: 0.6412 - val_accuracy: 0.6071 - val_loss: 0.7993\n",
            "Epoch 54/100\n",
            "2/2 - 0s - 103ms/step - accuracy: 0.6727 - loss: 0.6397 - val_accuracy: 0.6071 - val_loss: 0.8009\n",
            "Epoch 55/100\n",
            "2/2 - 0s - 91ms/step - accuracy: 0.6727 - loss: 0.6380 - val_accuracy: 0.6071 - val_loss: 0.8023\n",
            "Epoch 56/100\n",
            "2/2 - 0s - 110ms/step - accuracy: 0.6727 - loss: 0.6361 - val_accuracy: 0.6071 - val_loss: 0.8036\n",
            "Epoch 57/100\n",
            "2/2 - 0s - 154ms/step - accuracy: 0.6727 - loss: 0.6346 - val_accuracy: 0.6071 - val_loss: 0.8047\n",
            "Epoch 58/100\n",
            "2/2 - 0s - 93ms/step - accuracy: 0.6727 - loss: 0.6330 - val_accuracy: 0.5714 - val_loss: 0.8064\n",
            "Epoch 59/100\n",
            "2/2 - 0s - 144ms/step - accuracy: 0.6727 - loss: 0.6317 - val_accuracy: 0.5714 - val_loss: 0.8069\n",
            "Epoch 60/100\n",
            "2/2 - 0s - 67ms/step - accuracy: 0.6727 - loss: 0.6301 - val_accuracy: 0.5714 - val_loss: 0.8055\n",
            "Epoch 61/100\n",
            "2/2 - 0s - 80ms/step - accuracy: 0.6727 - loss: 0.6288 - val_accuracy: 0.5714 - val_loss: 0.8037\n",
            "Epoch 62/100\n",
            "2/2 - 0s - 55ms/step - accuracy: 0.6727 - loss: 0.6278 - val_accuracy: 0.5714 - val_loss: 0.8020\n",
            "Epoch 63/100\n",
            "2/2 - 0s - 59ms/step - accuracy: 0.6818 - loss: 0.6265 - val_accuracy: 0.5714 - val_loss: 0.8025\n",
            "Epoch 64/100\n",
            "2/2 - 0s - 70ms/step - accuracy: 0.6818 - loss: 0.6254 - val_accuracy: 0.5714 - val_loss: 0.8034\n",
            "Epoch 65/100\n",
            "2/2 - 0s - 54ms/step - accuracy: 0.6727 - loss: 0.6234 - val_accuracy: 0.5714 - val_loss: 0.8078\n",
            "Epoch 66/100\n",
            "2/2 - 0s - 77ms/step - accuracy: 0.6727 - loss: 0.6227 - val_accuracy: 0.5714 - val_loss: 0.8120\n",
            "Epoch 67/100\n",
            "2/2 - 0s - 96ms/step - accuracy: 0.6727 - loss: 0.6218 - val_accuracy: 0.5714 - val_loss: 0.8152\n",
            "Epoch 68/100\n",
            "2/2 - 0s - 124ms/step - accuracy: 0.6727 - loss: 0.6205 - val_accuracy: 0.5714 - val_loss: 0.8149\n",
            "Epoch 69/100\n",
            "2/2 - 0s - 66ms/step - accuracy: 0.6727 - loss: 0.6192 - val_accuracy: 0.5714 - val_loss: 0.8142\n",
            "Epoch 70/100\n",
            "2/2 - 0s - 61ms/step - accuracy: 0.6818 - loss: 0.6177 - val_accuracy: 0.5714 - val_loss: 0.8145\n",
            "Epoch 71/100\n",
            "2/2 - 0s - 53ms/step - accuracy: 0.6818 - loss: 0.6167 - val_accuracy: 0.5714 - val_loss: 0.8156\n",
            "Epoch 72/100\n",
            "2/2 - 0s - 36ms/step - accuracy: 0.6818 - loss: 0.6157 - val_accuracy: 0.5000 - val_loss: 0.8153\n",
            "Epoch 73/100\n",
            "2/2 - 0s - 67ms/step - accuracy: 0.6818 - loss: 0.6143 - val_accuracy: 0.5000 - val_loss: 0.8161\n",
            "Epoch 74/100\n",
            "2/2 - 0s - 31ms/step - accuracy: 0.6818 - loss: 0.6137 - val_accuracy: 0.5000 - val_loss: 0.8180\n",
            "Epoch 75/100\n",
            "2/2 - 0s - 31ms/step - accuracy: 0.6818 - loss: 0.6123 - val_accuracy: 0.5000 - val_loss: 0.8214\n",
            "Epoch 76/100\n",
            "2/2 - 0s - 31ms/step - accuracy: 0.6818 - loss: 0.6122 - val_accuracy: 0.5000 - val_loss: 0.8249\n",
            "Epoch 77/100\n",
            "2/2 - 0s - 30ms/step - accuracy: 0.6818 - loss: 0.6103 - val_accuracy: 0.5000 - val_loss: 0.8271\n",
            "Epoch 78/100\n",
            "2/2 - 0s - 31ms/step - accuracy: 0.6818 - loss: 0.6089 - val_accuracy: 0.5000 - val_loss: 0.8280\n",
            "Epoch 79/100\n",
            "2/2 - 0s - 31ms/step - accuracy: 0.6818 - loss: 0.6080 - val_accuracy: 0.5000 - val_loss: 0.8293\n",
            "Epoch 80/100\n",
            "2/2 - 0s - 28ms/step - accuracy: 0.6818 - loss: 0.6071 - val_accuracy: 0.5000 - val_loss: 0.8307\n",
            "Epoch 81/100\n",
            "2/2 - 0s - 28ms/step - accuracy: 0.6818 - loss: 0.6060 - val_accuracy: 0.5000 - val_loss: 0.8326\n",
            "Epoch 82/100\n",
            "2/2 - 0s - 28ms/step - accuracy: 0.6818 - loss: 0.6055 - val_accuracy: 0.5000 - val_loss: 0.8358\n",
            "Epoch 83/100\n",
            "2/2 - 0s - 36ms/step - accuracy: 0.6818 - loss: 0.6042 - val_accuracy: 0.5000 - val_loss: 0.8366\n",
            "Epoch 84/100\n",
            "2/2 - 0s - 62ms/step - accuracy: 0.6818 - loss: 0.6029 - val_accuracy: 0.5000 - val_loss: 0.8371\n",
            "Epoch 85/100\n",
            "2/2 - 0s - 42ms/step - accuracy: 0.6818 - loss: 0.6024 - val_accuracy: 0.5000 - val_loss: 0.8373\n",
            "Epoch 86/100\n",
            "2/2 - 0s - 29ms/step - accuracy: 0.6818 - loss: 0.6021 - val_accuracy: 0.5000 - val_loss: 0.8377\n",
            "Epoch 87/100\n",
            "2/2 - 0s - 70ms/step - accuracy: 0.6818 - loss: 0.6024 - val_accuracy: 0.5000 - val_loss: 0.8388\n",
            "Epoch 88/100\n",
            "2/2 - 0s - 30ms/step - accuracy: 0.6909 - loss: 0.6007 - val_accuracy: 0.5000 - val_loss: 0.8413\n",
            "Epoch 89/100\n",
            "2/2 - 0s - 29ms/step - accuracy: 0.6909 - loss: 0.5991 - val_accuracy: 0.5000 - val_loss: 0.8443\n",
            "Epoch 90/100\n",
            "2/2 - 0s - 29ms/step - accuracy: 0.6818 - loss: 0.5978 - val_accuracy: 0.5000 - val_loss: 0.8469\n",
            "Epoch 91/100\n",
            "2/2 - 0s - 33ms/step - accuracy: 0.6818 - loss: 0.6004 - val_accuracy: 0.5000 - val_loss: 0.8499\n",
            "Epoch 92/100\n",
            "2/2 - 0s - 30ms/step - accuracy: 0.6818 - loss: 0.5967 - val_accuracy: 0.5000 - val_loss: 0.8512\n",
            "Epoch 93/100\n",
            "2/2 - 0s - 30ms/step - accuracy: 0.6909 - loss: 0.5958 - val_accuracy: 0.5000 - val_loss: 0.8532\n",
            "Epoch 94/100\n",
            "2/2 - 0s - 33ms/step - accuracy: 0.6909 - loss: 0.5953 - val_accuracy: 0.5000 - val_loss: 0.8549\n",
            "Epoch 95/100\n",
            "2/2 - 0s - 41ms/step - accuracy: 0.6909 - loss: 0.5937 - val_accuracy: 0.5000 - val_loss: 0.8565\n",
            "Epoch 96/100\n",
            "2/2 - 0s - 61ms/step - accuracy: 0.6909 - loss: 0.5931 - val_accuracy: 0.5000 - val_loss: 0.8573\n",
            "Epoch 97/100\n",
            "2/2 - 0s - 39ms/step - accuracy: 0.6909 - loss: 0.5922 - val_accuracy: 0.5000 - val_loss: 0.8589\n",
            "Epoch 98/100\n",
            "2/2 - 0s - 31ms/step - accuracy: 0.6909 - loss: 0.5913 - val_accuracy: 0.5000 - val_loss: 0.8606\n",
            "Epoch 99/100\n",
            "2/2 - 0s - 31ms/step - accuracy: 0.6909 - loss: 0.5917 - val_accuracy: 0.5000 - val_loss: 0.8624\n",
            "Epoch 100/100\n",
            "2/2 - 0s - 31ms/step - accuracy: 0.6909 - loss: 0.5899 - val_accuracy: 0.5000 - val_loss: 0.8650\n",
            "\u001b[1m1/1\u001b[0m \u001b[32m━━━━━━━━━━━━━━━━━━━━\u001b[0m\u001b[37m\u001b[0m \u001b[1m0s\u001b[0m 62ms/step\n",
            "Arousal 4-class Classification Performance:\n",
            "              precision    recall  f1-score   support\n",
            "\n",
            "           0       0.17      0.10      0.12        10\n",
            "           1       0.59      0.72      0.65        18\n",
            "\n",
            "    accuracy                           0.50        28\n",
            "   macro avg       0.38      0.41      0.39        28\n",
            "weighted avg       0.44      0.50      0.46        28\n",
            "\n"
          ]
        }
      ]
    },
    {
      "cell_type": "code",
      "source": [],
      "metadata": {
        "id": "uTARN82MLVP6"
      },
      "execution_count": null,
      "outputs": []
    },
    {
      "cell_type": "code",
      "source": [],
      "metadata": {
        "id": "ApahIQjAM64Q"
      },
      "execution_count": null,
      "outputs": []
    },
    {
      "cell_type": "code",
      "source": [
        "# kodların hepsini bir araya topladım, bu yaklaşımda ise %63 civarı doğruluk çıkıyordu.\n",
        "\n",
        "# from sklearn.model_selection import train_test_split\n",
        "# from sklearn.preprocessing import StandardScaler\n",
        "# from sklearn.metrics import classification_report\n",
        "# from keras.models import Sequential\n",
        "# from keras.layers import Dense\n",
        "# from keras.utils import to_categorical\n",
        "\n",
        "# # Özellikler ve hedef değişkenlerin belirlenmesi\n",
        "# selected_features = ['gama_4', 'alpha_4', 'alpha_5', 'gama_3', 'alpha_8',\n",
        "#                      'gama_1', 'delta_1', 'delta_5', 'delta_9', 'alpha_13',\n",
        "#                      'delta_2', 'delta_14', 'delta_3', 'delta_12', 'gama_2',\n",
        "#                      'theta_14', 'beta_4', 'gama_8', 'theta_10', 'gama_5']  # Seçilen özellikler\n",
        "\n",
        "# X = df_mldata[selected_features]  # Seçilen özellikler\n",
        "# y_valence = df_mldata['valence']  # Valence hedef değişkeni\n",
        "# y_arousal = df_mldata['arousal']  # Arousal hedef değişkeni\n",
        "\n",
        "# # Veriyi eğitim ve test setlerine ayırma\n",
        "# X_train, X_test, y_train_valence, y_test_valence = train_test_split(X, y_valence, test_size=0.2, random_state=42)\n",
        "# _, _, y_train_arousal, y_test_arousal = train_test_split(X, y_arousal, test_size=0.2, random_state=42)\n",
        "\n",
        "# # Eğitim ve test setlerinin boyutları hakkında bilgi\n",
        "# print(f\"Eğitim Seti Boyutu: {X_train.shape[0]} örnek\")\n",
        "# print(f\"Test Seti Boyutu: {X_test.shape[0]} örnek\")\n",
        "\n",
        "# # Veriyi ölçeklendirme\n",
        "# scaler = StandardScaler()\n",
        "# X_train_scaled = scaler.fit_transform(X_train)\n",
        "# X_test_scaled = scaler.transform(X_test)\n",
        "\n",
        "# # **4 Sınıflı Classification Model (Valence için)**\n",
        "\n",
        "# # Valence hedef değişkenini kategorik hale getirme (4 sınıf)\n",
        "# y_train_valence = to_categorical(y_train_valence, num_classes=4)  # 4 sınıf örneği\n",
        "# y_test_valence = to_categorical(y_test_valence, num_classes=4)\n",
        "\n",
        "# # Modelin oluşturulması\n",
        "# model_valence = Sequential([\n",
        "#     Dense(64, activation='relu', input_dim=X_train_scaled.shape[1]),\n",
        "#     Dense(32, activation='relu'),\n",
        "#     Dense(4, activation='softmax')  # 4 sınıf için softmax çıkışı\n",
        "# ])\n",
        "\n",
        "# # Modeli derleme\n",
        "# model_valence.compile(optimizer='adam', loss='categorical_crossentropy', metrics=['accuracy'])\n",
        "\n",
        "# # Modeli eğitme\n",
        "# history_valence = model_valence.fit(X_train_scaled, y_train_valence, epochs=100, batch_size=64,\n",
        "#                                     validation_data=(X_test_scaled, y_test_valence), verbose=2)\n",
        "\n",
        "# # Eğitim ve test seti doğruluk ve kaybı\n",
        "# train_loss_valence, train_accuracy_valence = model_valence.evaluate(X_train_scaled, y_train_valence, verbose=0)\n",
        "# test_loss_valence, test_accuracy_valence = model_valence.evaluate(X_test_scaled, y_test_valence, verbose=0)\n",
        "\n",
        "# print(\"\\n**Valence 4-class Classification Performance**\")\n",
        "# print(f\"Train Accuracy: {train_accuracy_valence:.4f}\")\n",
        "# print(f\"Train Loss: {train_loss_valence:.4f}\")\n",
        "# print(f\"Test Accuracy: {test_accuracy_valence:.4f}\")\n",
        "# print(f\"Test Loss: {test_loss_valence:.4f}\")\n",
        "\n",
        "# # **Model Performansını Değerlendirme (Valence)**\n",
        "# y_pred_valence = model_valence.predict(X_test_scaled)\n",
        "# y_pred_valence = y_pred_valence.argmax(axis=1)  # Tahminlerin sınıfını seçme\n",
        "\n",
        "# # Gerçek ve tahmin edilen sınıflar arasında karşılaştırma\n",
        "# print(\"Valence 4-class Classification Performance (classification_report):\")\n",
        "# print(classification_report(y_test_valence.argmax(axis=1), y_pred_valence))\n",
        "\n",
        "# # **4 Sınıflı Classification Model (Arousal için)**\n",
        "\n",
        "# # Arousal hedef değişkenini kategorik hale getirme (4 sınıf)\n",
        "# y_train_arousal = to_categorical(y_train_arousal, num_classes=4)  # 4 sınıf örneği\n",
        "# y_test_arousal = to_categorical(y_test_arousal, num_classes=4)\n",
        "\n",
        "# # Modelin oluşturulması\n",
        "# model_arousal = Sequential([\n",
        "#     Dense(64, activation='relu', input_dim=X_train_scaled.shape[1]),\n",
        "#     Dense(32, activation='relu'),\n",
        "#     Dense(4, activation='softmax')  # 4 sınıf için softmax çıkışı\n",
        "# ])\n",
        "\n",
        "# # Modeli derleme\n",
        "# model_arousal.compile(optimizer='adam', loss='categorical_crossentropy', metrics=['accuracy'])\n",
        "\n",
        "# # Modeli eğitme\n",
        "# history_arousal = model_arousal.fit(X_train_scaled, y_train_arousal, epochs=100, batch_size=64,\n",
        "#                                     validation_data=(X_test_scaled, y_test_arousal), verbose=2)\n",
        "\n",
        "# # Eğitim ve test seti doğruluk ve kaybı\n",
        "# train_loss_arousal, train_accuracy_arousal = model_arousal.evaluate(X_train_scaled, y_train_arousal, verbose=0)\n",
        "# test_loss_arousal, test_accuracy_arousal = model_arousal.evaluate(X_test_scaled, y_test_arousal, verbose=0)\n",
        "\n",
        "# print(\"\\n**Arousal 4-class Classification Performance**\")\n",
        "# print(f\"Train Accuracy: {train_accuracy_arousal:.4f}\")\n",
        "# print(f\"Train Loss: {train_loss_arousal:.4f}\")\n",
        "# print(f\"Test Accuracy: {test_accuracy_arousal:.4f}\")\n",
        "# print(f\"Test Loss: {test_loss_arousal:.4f}\")\n",
        "\n",
        "# # **Model Performansını Değerlendirme (Arousal)**\n",
        "# y_pred_arousal = model_arousal.predict(X_test_scaled)\n",
        "# y_pred_arousal = y_pred_arousal.argmax(axis=1)  # Tahminlerin sınıfını seçme\n",
        "\n",
        "# # Gerçek ve tahmin edilen sınıflar arasında karşılaştırma\n",
        "# print(\"Arousal 4-class Classification Performance (classification_report):\")\n",
        "# print(classification_report(y_test_arousal.argmax(axis=1), y_pred_arousal))\n"
      ],
      "metadata": {
        "id": "NTAcH4IeM61u"
      },
      "execution_count": 167,
      "outputs": []
    },
    {
      "cell_type": "code",
      "source": [],
      "metadata": {
        "id": "Xi2zzbASNFw0"
      },
      "execution_count": 167,
      "outputs": []
    }
  ]
}