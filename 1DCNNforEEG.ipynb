{
  "nbformat": 4,
  "nbformat_minor": 0,
  "metadata": {
    "colab": {
      "provenance": [],
      "include_colab_link": true
    },
    "kernelspec": {
      "name": "python3",
      "display_name": "Python 3"
    },
    "language_info": {
      "name": "python"
    }
  },
  "cells": [
    {
      "cell_type": "markdown",
      "metadata": {
        "id": "view-in-github",
        "colab_type": "text"
      },
      "source": [
        "<a href=\"https://colab.research.google.com/github/potuu/Implementation_of_A_Domain_Generative_Graph_Network_for_EEG_Based_Emotion_Recognition/blob/main/1DCNNforEEG.ipynb\" target=\"_parent\"><img src=\"https://colab.research.google.com/assets/colab-badge.svg\" alt=\"Open In Colab\"/></a>"
      ]
    },
    {
      "cell_type": "markdown",
      "source": [
        "# PREPROCESSING"
      ],
      "metadata": {
        "id": "vuA_P_i2iuHE"
      }
    },
    {
      "cell_type": "code",
      "execution_count": 1,
      "metadata": {
        "id": "cgcie5DzoObi"
      },
      "outputs": [],
      "source": [
        "import os\n",
        "import pandas as pd\n",
        "import numpy as np\n",
        "from scipy.signal import butter, filtfilt\n",
        "\n",
        "\n",
        "from sklearn.model_selection import train_test_split\n",
        "from sklearn.preprocessing import MinMaxScaler"
      ]
    },
    {
      "cell_type": "code",
      "source": [
        "from google.colab import drive\n",
        "drive.mount('/content/drive')"
      ],
      "metadata": {
        "colab": {
          "base_uri": "https://localhost:8080/"
        },
        "id": "e-U12Nda9xoa",
        "outputId": "389c9ca7-2fd6-46c3-b707-c7d4e1d94f6e"
      },
      "execution_count": 2,
      "outputs": [
        {
          "output_type": "stream",
          "name": "stdout",
          "text": [
            "Drive already mounted at /content/drive; to attempt to forcibly remount, call drive.mount(\"/content/drive\", force_remount=True).\n"
          ]
        }
      ]
    },
    {
      "cell_type": "code",
      "source": [
        "def process_eeg_directory(directory_path):\n",
        "    \"\"\"\n",
        "    Processes all subject and experiment files in a directory, groups data by `user_id`,\n",
        "    adds a unique ID based on the file name, and combines all grouped data into a single DataFrame.\n",
        "\n",
        "    Args:\n",
        "    - directory_path (str): Path to the directory containing EEG data files.\n",
        "\n",
        "    Returns:\n",
        "    - combined_data (pd.DataFrame): A single DataFrame containing all grouped data.\n",
        "    \"\"\"\n",
        "    grouped_data = []\n",
        "\n",
        "    # List all files in the directory\n",
        "    file_list = [f for f in os.listdir(directory_path) if f.endswith('.csv')]\n",
        "\n",
        "    # Loop through each file\n",
        "    for file_name in file_list:\n",
        "        file_path = os.path.join(directory_path, file_name)\n",
        "\n",
        "        # Read the CSV file into a DataFrame\n",
        "        df = pd.read_csv(file_path)\n",
        "\n",
        "        # Check if `user_id` column exists\n",
        "        if 'user_id' in df.columns:\n",
        "            # Add a column to indicate the source file (unique ID for rows from this file)\n",
        "            df['source_file'] = os.path.splitext(file_name)[0]  # File name without extension\n",
        "\n",
        "            # Group by `user_id` and aggregate data into lists\n",
        "            grouped = df.groupby('user_id').agg(list).reset_index()\n",
        "\n",
        "            # Preserve the unique ID (source file) in the grouped data\n",
        "            grouped['source_file'] = os.path.splitext(file_name)[0]\n",
        "\n",
        "            # Append the grouped data to the list\n",
        "            grouped_data.append(grouped)\n",
        "        else:\n",
        "            print(f\"'user_id' column not found in file: {file_name}\")\n",
        "\n",
        "    # Combine all grouped data into a single DataFrame\n",
        "    if grouped_data:\n",
        "        combined_data = pd.concat(grouped_data, ignore_index=True)\n",
        "        print(\"All files have been grouped by `user_id` and combined successfully.\")\n",
        "    else:\n",
        "        combined_data = pd.DataFrame()\n",
        "        print(\"No data was processed or combined.\")\n",
        "\n",
        "    return combined_data\n",
        "\n",
        "\n",
        "# Example usage\n",
        "directory_path = \"/content/drive/MyDrive/eeg_database_kou/data_trail_csv\"  # Replace with your actual directory path\n",
        "combined_eeg_data = process_eeg_directory(directory_path)\n",
        "\n",
        "# Save the combined data to a CSV file (optional)\n",
        "combined_eeg_data.to_csv(\"grouped_combined_eeg_data.csv\", index=False)\n",
        "\n",
        "# Display a preview of the combined data\n",
        "print(\"Combined EEG Data:\")\n",
        "print(combined_eeg_data.head())"
      ],
      "metadata": {
        "id": "vN_H90M1oUbb",
        "colab": {
          "base_uri": "https://localhost:8080/"
        },
        "outputId": "b4facc83-8d42-4d94-d0da-71b18e4c9424"
      },
      "execution_count": 3,
      "outputs": [
        {
          "output_type": "stream",
          "name": "stdout",
          "text": [
            "All files have been grouped by `user_id` and combined successfully.\n",
            "Combined EEG Data:\n",
            "                                user_id  \\\n",
            "0  06f49575-a0ee-46fd-8d0d-4133886d62a5   \n",
            "1  4737537c-0a5d-46e2-9c1f-9872520872c4   \n",
            "2  4737537c-0a5d-46e2-9c1f-9872520872c4   \n",
            "3  06f49575-a0ee-46fd-8d0d-4133886d62a5   \n",
            "4  06f49575-a0ee-46fd-8d0d-4133886d62a5   \n",
            "\n",
            "                                           Timestamp  \\\n",
            "0  [10:51:23 AM, 10:51:23 AM, 10:51:23 AM, 10:51:...   \n",
            "1  [10:39:08 AM, 10:39:08 AM, 10:39:08 AM, 10:39:...   \n",
            "2  [10:40:17 AM, 10:40:17 AM, 10:40:17 AM, 10:40:...   \n",
            "3  [10:54:24 AM, 10:54:24 AM, 10:54:24 AM, 10:54:...   \n",
            "4  [10:54:59 AM, 10:54:59 AM, 10:54:59 AM, 10:54:...   \n",
            "\n",
            "                                             EEG.AF3  \\\n",
            "0  [3891.281982, 3895.384521, 3906.153809, 3900.0...   \n",
            "1  [4017.435791, 4020.512939, 4015.384521, 4005.1...   \n",
            "2  [4081.538574, 4083.589844, 4080.512939, 4074.3...   \n",
            "3  [3981.025635, 3972.820557, 3965.641113, 3968.2...   \n",
            "4  [3951.281982, 3953.846191, 3957.435791, 3954.8...   \n",
            "\n",
            "                                              EEG.F7  \\\n",
            "0  [4160.0, 4166.666504, 4174.871582, 4169.230957...   \n",
            "1  [4245.128418, 4254.358887, 4250.769043, 4239.4...   \n",
            "2  [4361.025879, 4365.641113, 4358.461426, 4346.1...   \n",
            "3  [4150.769043, 4145.641113, 4137.94873, 4145.64...   \n",
            "4  [4236.922852, 4243.077148, 4245.128418, 4238.4...   \n",
            "\n",
            "                                              EEG.F3  \\\n",
            "0  [3673.333252, 3671.281982, 3678.461426, 3675.3...   \n",
            "1  [3796.923096, 3808.718018, 3805.128174, 3784.6...   \n",
            "2  [3842.564209, 3847.179443, 3842.05127, 3829.23...   \n",
            "3  [3720.512939, 3716.923096, 3713.846191, 3714.3...   \n",
            "4  [3740.512939, 3736.410156, 3736.410156, 3738.9...   \n",
            "\n",
            "                                             EEG.FC5  \\\n",
            "0  [4122.05127, 4119.487305, 4125.641113, 4128.20...   \n",
            "1  [4116.410156, 4128.717773, 4116.922852, 4100.5...   \n",
            "2  [4176.922852, 4180.512695, 4173.333496, 4161.0...   \n",
            "3  [4148.205078, 4145.128418, 4141.538574, 4143.5...   \n",
            "4  [4126.666504, 4135.897461, 4138.974121, 4133.8...   \n",
            "\n",
            "                                              EEG.T7  \\\n",
            "0  [3999.487061, 4003.589844, 4011.281982, 4011.2...   \n",
            "1  [4105.128418, 4105.128418, 4103.589844, 4106.1...   \n",
            "2  [4099.487305, 4107.179688, 4109.743652, 4102.5...   \n",
            "3  [4052.307617, 4047.179443, 4043.589844, 4052.3...   \n",
            "4  [4058.461426, 4061.025635, 4065.128174, 4063.0...   \n",
            "\n",
            "                                              EEG.P7  \\\n",
            "0  [4099.487305, 4104.102539, 4113.846191, 4117.4...   \n",
            "1  [4184.102539, 4177.436035, 4180.512695, 4183.0...   \n",
            "2  [4176.922852, 4180.0, 4180.512695, 4176.922852...   \n",
            "3  [4072.820557, 4071.794922, 4073.846191, 4080.0...   \n",
            "4  [4142.05127, 4142.563965, 4146.666504, 4151.28...   \n",
            "\n",
            "                                              EEG.O1  \\\n",
            "0  [4008.718018, 4016.923096, 4035.897461, 4043.0...   \n",
            "1  [4158.974121, 4158.461426, 4167.692383, 4162.5...   \n",
            "2  [4160.0, 4162.563965, 4166.153809, 4168.205078...   \n",
            "3  [4069.743652, 4068.718018, 4068.718018, 4076.4...   \n",
            "4  [4100.512695, 4101.025879, 4104.102539, 4104.6...   \n",
            "\n",
            "                                              EEG.O2  \\\n",
            "0  [3998.461426, 4001.538574, 4007.692383, 4006.6...   \n",
            "1  [4118.974121, 4118.461426, 4126.666504, 4125.6...   \n",
            "2  [4380.512695, 4376.410156, 4377.436035, 4381.5...   \n",
            "3  [4026.666748, 4024.615479, 4024.102539, 4029.2...   \n",
            "4  [4036.923096, 4037.94873, 4041.025635, 4045.12...   \n",
            "\n",
            "                                              EEG.P8  \\\n",
            "0  [3801.538574, 3800.0, 3804.615479, 3804.102539...   \n",
            "1  [3928.718018, 3929.743652, 3943.076904, 3950.7...   \n",
            "2  [3959.487061, 3957.435791, 3960.512939, 3965.1...   \n",
            "3  [3814.871826, 3817.435791, 3820.0, 3823.589844...   \n",
            "4  [3855.897461, 3854.871826, 3858.974365, 3858.4...   \n",
            "\n",
            "                                              EEG.T8  \\\n",
            "0  [4606.666504, 4599.487305, 4601.025879, 4607.1...   \n",
            "1  [4600.512695, 4610.256348, 4621.025879, 4620.0...   \n",
            "2  [4608.717773, 4609.230957, 4608.717773, 4603.5...   \n",
            "3  [4323.589844, 4318.974121, 4317.436035, 4324.1...   \n",
            "4  [4626.666504, 4622.563965, 4644.102539, 4664.6...   \n",
            "\n",
            "                                             EEG.FC6  \\\n",
            "0  [4384.102539, 4385.641113, 4396.922852, 4394.3...   \n",
            "1  [4431.794922, 4440.512695, 4447.179688, 4442.5...   \n",
            "2  [4464.615234, 4472.820313, 4471.282227, 4462.0...   \n",
            "3  [4453.846191, 4444.102539, 4439.487305, 4448.2...   \n",
            "4  [4429.743652, 4435.897461, 4443.589844, 4438.9...   \n",
            "\n",
            "                                              EEG.F4  \\\n",
            "0  [4398.974121, 4403.077148, 4407.692383, 4402.5...   \n",
            "1  [4568.205078, 4572.307617, 4571.794922, 4558.4...   \n",
            "2  [4586.153809, 4586.153809, 4587.692383, 4587.6...   \n",
            "3  [4443.077148, 4438.461426, 4438.974121, 4442.5...   \n",
            "4  [4486.153809, 4484.102539, 4492.307617, 4497.4...   \n",
            "\n",
            "                                              EEG.F8  \\\n",
            "0  [4117.94873, 4114.871582, 4122.05127, 4124.102...   \n",
            "1  [4072.307617, 4075.384521, 4089.743652, 4088.7...   \n",
            "2  [4109.743652, 4110.256348, 4110.256348, 4107.6...   \n",
            "3  [4177.436035, 4167.179688, 4161.538574, 4165.6...   \n",
            "4  [4130.256348, 4135.384766, 4138.461426, 4138.4...   \n",
            "\n",
            "                                             EEG.AF4 source_file  \n",
            "0  [4429.230957, 4434.871582, 4440.0, 4429.743652...         4_6  \n",
            "1  [4601.538574, 4605.128418, 4603.589844, 4591.7...       40_18  \n",
            "2  [4681.025879, 4685.128418, 4685.128418, 4676.9...       40_20  \n",
            "3  [4564.102539, 4557.94873, 4557.436035, 4562.56...        4_11  \n",
            "4  [4498.461426, 4500.0, 4504.615234, 4504.102539...        4_12  \n"
          ]
        }
      ]
    },
    {
      "cell_type": "code",
      "source": [
        "# Sort the DataFrame by `source_file` with proper numerical order\n",
        "combined_eeg_data['source_file'] = combined_eeg_data['source_file'].str.split('_').map(lambda x: (int(x[0]), int(x[1])))\n",
        "combined_eeg_data = combined_eeg_data.sort_values(by='source_file').reset_index(drop=True)\n",
        "\n",
        "# Display sorted `source_file` column\n",
        "print(combined_eeg_data['source_file'].head())"
      ],
      "metadata": {
        "id": "yWAqDGdToiIa",
        "colab": {
          "base_uri": "https://localhost:8080/"
        },
        "outputId": "71c5fc2f-1ab5-4b8b-f32d-34e2a730a4c4"
      },
      "execution_count": 4,
      "outputs": [
        {
          "output_type": "stream",
          "name": "stdout",
          "text": [
            "0    (1, 1)\n",
            "1    (1, 2)\n",
            "2    (1, 3)\n",
            "3    (1, 4)\n",
            "4    (1, 5)\n",
            "Name: source_file, dtype: object\n"
          ]
        }
      ]
    },
    {
      "cell_type": "code",
      "source": [
        "labels_data_path = \"/content/drive/MyDrive/eeg_database_kou/label_processed_data.csv\"\n",
        "labels_data = pd.read_csv(labels_data_path)\n",
        "split_columns = [\"user_id\", \"trial\", \"start_date\", \"finish_date\", \"duration\", \"val\", \"aro\", \"dom\"]\n",
        "processed_labels_data = labels_data.iloc[:, 0].str.split(\";\", expand=True)\n",
        "processed_labels_data.columns = split_columns\n",
        "\n",
        "# Inspect the transformed data\n",
        "print(\"Labels Preview:\")\n",
        "print(processed_labels_data.head())\n",
        "\n",
        "# Check for missing values in label data\n",
        "print(\"\\nMissing Values in Label Data:\")\n",
        "print(processed_labels_data.isnull().sum())"
      ],
      "metadata": {
        "id": "jIRNvIDSolfC",
        "colab": {
          "base_uri": "https://localhost:8080/"
        },
        "outputId": "a369b7c7-199f-48a0-c734-d7f473856e7c"
      },
      "execution_count": 5,
      "outputs": [
        {
          "output_type": "stream",
          "name": "stdout",
          "text": [
            "Labels Preview:\n",
            "                                user_id trial                  start_date  \\\n",
            "0  7a4efc4f-6def-4ba3-a56d-672aec0fe324     1  2023-10-11 12:45:06.863000   \n",
            "1  7a4efc4f-6def-4ba3-a56d-672aec0fe324     2  2023-10-11 12:45:41.053000   \n",
            "2  7a4efc4f-6def-4ba3-a56d-672aec0fe324     3  2023-10-11 12:46:15.225000   \n",
            "3  7a4efc4f-6def-4ba3-a56d-672aec0fe324     4  2023-10-11 12:46:49.414000   \n",
            "4  7a4efc4f-6def-4ba3-a56d-672aec0fe324     5  2023-10-11 12:47:33.596000   \n",
            "\n",
            "                  finish_date duration val aro dom  \n",
            "0  2023-10-11 12:45:35.888000       29   1   0   1  \n",
            "1  2023-10-11 12:46:10.055000       29   0   1   1  \n",
            "2  2023-10-11 12:46:44.240000       29   1   1   0  \n",
            "3  2023-10-11 12:47:18.427000       29   0   1   1  \n",
            "4  2023-10-11 12:48:02.605000       29   1   0   0  \n",
            "\n",
            "Missing Values in Label Data:\n",
            "user_id        0\n",
            "trial          0\n",
            "start_date     0\n",
            "finish_date    0\n",
            "duration       0\n",
            "val            0\n",
            "aro            0\n",
            "dom            0\n",
            "dtype: int64\n"
          ]
        }
      ]
    },
    {
      "cell_type": "code",
      "source": [
        "import math\n",
        "\n",
        "# Add the `source_file` column to processed_labels_data\n",
        "processed_labels_data['source_file'] = processed_labels_data.apply(\n",
        "    lambda row: (math.ceil((row.name + 1) / 20), int(row['trial'])),  # 20 trials per subject\n",
        "    axis=1\n",
        ")\n",
        "\n",
        "# Inspect the updated DataFrame\n",
        "print(\"Processed Labels with Source File:\")\n",
        "print(processed_labels_data.tail())\n"
      ],
      "metadata": {
        "id": "wpZtAjIZooGF",
        "colab": {
          "base_uri": "https://localhost:8080/"
        },
        "outputId": "cf750629-d224-4e1f-881c-1785acf5dd4a"
      },
      "execution_count": 6,
      "outputs": [
        {
          "output_type": "stream",
          "name": "stdout",
          "text": [
            "Processed Labels with Source File:\n",
            "                                  user_id trial                  start_date  \\\n",
            "795  4737537c-0a5d-46e2-9c1f-9872520872c4    16  2023-12-14 10:37:49.814000   \n",
            "796  4737537c-0a5d-46e2-9c1f-9872520872c4    17  2023-12-14 10:38:34.042000   \n",
            "797  4737537c-0a5d-46e2-9c1f-9872520872c4    18  2023-12-14 10:39:08.306000   \n",
            "798  4737537c-0a5d-46e2-9c1f-9872520872c4    19  2023-12-14 10:39:42.525000   \n",
            "799  4737537c-0a5d-46e2-9c1f-9872520872c4    20  2023-12-14 10:40:16.724000   \n",
            "\n",
            "                    finish_date duration val aro dom source_file  \n",
            "795  2023-12-14 10:38:18.829000       29   0   1   1    (40, 16)  \n",
            "796  2023-12-14 10:39:03.078000       29   1   1   1    (40, 17)  \n",
            "797  2023-12-14 10:39:37.327000       29   0   1   1    (40, 18)  \n",
            "798  2023-12-14 10:40:11.539000       29   1   1   1    (40, 19)  \n",
            "799  2023-12-14 10:40:45.751000       29   0   1   1    (40, 20)  \n"
          ]
        }
      ]
    },
    {
      "cell_type": "code",
      "source": [
        "from scipy.signal import butter, filtfilt\n",
        "from sklearn.model_selection import train_test_split\n",
        "from sklearn.preprocessing import MinMaxScaler\n",
        "import numpy as np\n",
        "\n",
        "# Bandpass Filter Function\n",
        "def bandpass_filter(data, lowcut=1.0, highcut=50.0, fs=128.0, order=4):\n",
        "    \"\"\"\n",
        "    Apply a bandpass filter to EEG data.\n",
        "\n",
        "    Args:\n",
        "    - data (ndarray): EEG data (timesteps x channels).\n",
        "    - lowcut (float): Low cutoff frequency in Hz.\n",
        "    - highcut (float): High cutoff frequency in Hz.\n",
        "    - fs (float): Sampling frequency in Hz.\n",
        "    - order (int): Filter order.\n",
        "\n",
        "    Returns:\n",
        "    - filtered_data (ndarray): Bandpass filtered EEG data.\n",
        "    \"\"\"\n",
        "    nyquist = 0.5 * fs\n",
        "    low = lowcut / nyquist\n",
        "    high = highcut / nyquist\n",
        "    b, a = butter(order, [low, high], btype='band')\n",
        "    filtered_data = filtfilt(b, a, data, axis=0)\n",
        "    return filtered_data\n",
        "\n",
        "# Preprocess EEG Data without Labels\n",
        "def preprocess_eeg_data(df, target_length=3712, lowcut=1.0, highcut=50.0, fs=128.0):\n",
        "    \"\"\"\n",
        "    Preprocess EEG data by applying a bandpass filter and fixing the length.\n",
        "\n",
        "    Args:\n",
        "    - df (DataFrame): Raw EEG data DataFrame (columns are EEG channels).\n",
        "    - target_length (int): Fixed length for time-series data.\n",
        "    - lowcut (float): Low cutoff frequency for the filter.\n",
        "    - highcut (float): High cutoff frequency for the filter.\n",
        "    - fs (float): Sampling frequency.\n",
        "\n",
        "    Returns:\n",
        "    - data (ndarray): Preprocessed EEG data of shape (samples, timesteps, channels).\n",
        "    \"\"\"\n",
        "    n_samples = len(df)\n",
        "    n_channels = len(df.columns)  # Assuming all columns are EEG channels\n",
        "    data = np.zeros((n_samples, target_length, n_channels))\n",
        "\n",
        "    for i in range(n_samples):\n",
        "        for j in range(n_channels):\n",
        "            channel_data = df.iloc[i, j]\n",
        "            if isinstance(channel_data, str):\n",
        "                channel_data = eval(channel_data)  # Convert string to list\n",
        "\n",
        "            # Apply bandpass filter\n",
        "            channel_data = bandpass_filter(np.array(channel_data), lowcut, highcut, fs)\n",
        "\n",
        "            # Adjust length\n",
        "            if len(channel_data) < target_length:\n",
        "                channel_data = np.pad(channel_data, (0, target_length - len(channel_data)), 'constant')\n",
        "            else:\n",
        "                channel_data = channel_data[:target_length]\n",
        "\n",
        "            data[i, :, j] = channel_data\n",
        "\n",
        "    return data\n",
        "\n",
        "# Min-Max Scaling\n",
        "def apply_min_max_scaling(data):\n",
        "    \"\"\"\n",
        "    Apply Min-Max scaling to EEG data.\n",
        "\n",
        "    Args:\n",
        "    - data (ndarray): EEG data (samples x timesteps x channels).\n",
        "\n",
        "    Returns:\n",
        "    - scaled_data (ndarray): Scaled EEG data.\n",
        "    \"\"\"\n",
        "    scaler = MinMaxScaler(feature_range=(0, 1))\n",
        "    n_samples, n_timesteps, n_channels = data.shape\n",
        "    scaled_data = np.zeros_like(data)\n",
        "\n",
        "    # Scale each channel independently\n",
        "    for ch in range(n_channels):\n",
        "        reshaped_data = data[:, :, ch].reshape(-1, 1)  # Flatten for scaling\n",
        "        scaled_channel = scaler.fit_transform(reshaped_data).reshape(n_samples, n_timesteps)\n",
        "        scaled_data[:, :, ch] = scaled_channel\n",
        "\n",
        "    return scaled_data"
      ],
      "metadata": {
        "id": "0zcQYTE3ouro"
      },
      "execution_count": 7,
      "outputs": []
    },
    {
      "cell_type": "code",
      "source": [
        "# Ensure 'source_file' is in tuple format for both DataFrames\n",
        "combined_eeg_data['source_file'] = combined_eeg_data['source_file'].apply(\n",
        "    lambda x: eval(x) if isinstance(x, str) else x\n",
        ")\n",
        "processed_labels_data['source_file'] = processed_labels_data['source_file'].apply(\n",
        "    lambda x: eval(x) if isinstance(x, str) else x\n",
        ")\n",
        "\n",
        "# Merge combined_eeg_data with processed_labels_data based on 'source_file'\n",
        "merged_data = combined_eeg_data.merge(\n",
        "    processed_labels_data[['source_file', 'aro', 'val']],\n",
        "    on='source_file',\n",
        "    how='left'  # Use 'left' join to keep all rows from combined_eeg_data\n",
        ")\n",
        "\n",
        "# Inspect the resulting DataFrame\n",
        "print(\"Merged Data (with Labels):\")\n",
        "print(merged_data.head())\n",
        "\n",
        "# Save the merged DataFrame to a new CSV file (optional)\n",
        "#merged_data.to_csv(\"merged_eeg_with_labels.csv\", index=False)"
      ],
      "metadata": {
        "id": "tL7p665Nox5N",
        "colab": {
          "base_uri": "https://localhost:8080/"
        },
        "outputId": "85c2b877-799a-4084-a72b-7ddbe07c4464"
      },
      "execution_count": 8,
      "outputs": [
        {
          "output_type": "stream",
          "name": "stdout",
          "text": [
            "Merged Data (with Labels):\n",
            "                                user_id  \\\n",
            "0  7a4efc4f-6def-4ba3-a56d-672aec0fe324   \n",
            "1  7a4efc4f-6def-4ba3-a56d-672aec0fe324   \n",
            "2  7a4efc4f-6def-4ba3-a56d-672aec0fe324   \n",
            "3  7a4efc4f-6def-4ba3-a56d-672aec0fe324   \n",
            "4  7a4efc4f-6def-4ba3-a56d-672aec0fe324   \n",
            "\n",
            "                                           Timestamp  \\\n",
            "0  [12:45:07 PM, 12:45:07 PM, 12:45:07 PM, 12:45:...   \n",
            "1  [12:45:41 PM, 12:45:41 PM, 12:45:41 PM, 12:45:...   \n",
            "2  [12:46:15 PM, 12:46:15 PM, 12:46:15 PM, 12:46:...   \n",
            "3  [12:46:49 PM, 12:46:49 PM, 12:46:49 PM, 12:46:...   \n",
            "4  [12:47:34 PM, 12:47:34 PM, 12:47:34 PM, 12:47:...   \n",
            "\n",
            "                                             EEG.AF3  \\\n",
            "0  [4018.461426, 4014.871826, 4011.794922, 4010.2...   \n",
            "1  [3984.615479, 3990.256348, 3988.205078, 3980.5...   \n",
            "2  [3985.641113, 3987.692383, 3985.641113, 3985.6...   \n",
            "3  [4014.358887, 4011.794922, 4015.897461, 4015.3...   \n",
            "4  [3727.692383, 3735.384521, 3740.512939, 3735.3...   \n",
            "\n",
            "                                              EEG.F7  \\\n",
            "0  [4269.230957, 4261.538574, 4252.820313, 4247.1...   \n",
            "1  [4274.358887, 4278.974121, 4270.769043, 4263.5...   \n",
            "2  [4320.512695, 4320.0, 4327.692383, 4338.974121...   \n",
            "3  [4216.410156, 4220.0, 4234.871582, 4243.589844...   \n",
            "4  [4250.769043, 4256.922852, 4252.820313, 4249.2...   \n",
            "\n",
            "                                              EEG.F3  \\\n",
            "0  [3793.846191, 3794.358887, 3788.205078, 3785.1...   \n",
            "1  [3747.692383, 3749.230713, 3746.666748, 3740.5...   \n",
            "2  [3793.333252, 3796.923096, 3794.871826, 3794.8...   \n",
            "3  [3769.230713, 3772.307617, 3775.897461, 3771.7...   \n",
            "4  [3791.281982, 3800.0, 3805.641113, 3796.410156...   \n",
            "\n",
            "                                             EEG.FC5  \\\n",
            "0  [4104.615234, 4103.589844, 4102.563965, 4101.5...   \n",
            "1  [4115.384766, 4115.897461, 4114.358887, 4112.3...   \n",
            "2  [4109.743652, 4111.282227, 4107.179688, 4108.7...   \n",
            "3  [4129.230957, 4129.230957, 4132.820313, 4132.8...   \n",
            "4  [4119.487305, 4115.897461, 4113.846191, 4118.9...   \n",
            "\n",
            "                                              EEG.T7  \\\n",
            "0  [4106.153809, 4102.05127, 4101.538574, 4102.56...   \n",
            "1  [4078.461426, 4075.897461, 4073.333252, 4075.8...   \n",
            "2  [4076.410156, 4071.794922, 4066.153809, 4068.7...   \n",
            "3  [4092.307617, 4097.94873, 4101.538574, 4098.46...   \n",
            "4  [4082.05127, 4084.615479, 4085.641113, 4087.17...   \n",
            "\n",
            "                                              EEG.P7  \\\n",
            "0  [4095.384521, 4093.846191, 4093.333252, 4091.2...   \n",
            "1  [4151.794922, 4155.384766, 4155.384766, 4155.3...   \n",
            "2  [4122.563965, 4124.102539, 4116.410156, 4115.3...   \n",
            "3  [4120.512695, 4125.641113, 4140.0, 4140.0, 413...   \n",
            "4  [4150.256348, 4152.820313, 4155.384766, 4155.8...   \n",
            "\n",
            "                                              EEG.O1  \\\n",
            "0  [4060.512939, 4066.153809, 4063.076904, 4061.0...   \n",
            "1  [4024.102539, 4032.820557, 4033.846191, 4030.7...   \n",
            "2  [4010.256348, 4021.025635, 4018.461426, 4019.4...   \n",
            "3  [4154.358887, 4152.307617, 4164.102539, 4163.5...   \n",
            "4  [4177.436035, 4180.0, 4182.563965, 4186.153809...   \n",
            "\n",
            "                                              EEG.O2  \\\n",
            "0  [4052.307617, 4056.410156, 4068.205078, 4078.4...   \n",
            "1  [4081.025635, 4090.256348, 4090.769287, 4089.7...   \n",
            "2  [4023.589844, 4032.307617, 4029.230713, 4027.1...   \n",
            "3  [4055.384521, 4048.205078, 4051.281982, 4050.7...   \n",
            "4  [4072.820557, 4076.923096, 4075.384521, 4072.8...   \n",
            "\n",
            "                                              EEG.P8  \\\n",
            "0  [3903.589844, 3906.153809, 3914.871826, 3932.3...   \n",
            "1  [3986.153809, 3991.281982, 3991.281982, 3978.4...   \n",
            "2  [3890.769287, 3900.512939, 3892.307617, 3890.2...   \n",
            "3  [3947.692383, 3943.076904, 3951.794922, 3951.2...   \n",
            "4  [3934.358887, 3947.692383, 3946.153809, 3939.4...   \n",
            "\n",
            "                                              EEG.T8  \\\n",
            "0  [4510.256348, 4512.307617, 4526.153809, 4533.3...   \n",
            "1  [4533.333496, 4540.512695, 4558.461426, 4558.4...   \n",
            "2  [4539.487305, 4545.641113, 4537.94873, 4530.76...   \n",
            "3  [4518.974121, 4508.717773, 4513.846191, 4516.9...   \n",
            "4  [4572.307617, 4568.205078, 4566.666504, 4581.5...   \n",
            "\n",
            "                                             EEG.FC6  \\\n",
            "0  [4497.436035, 4454.871582, 4456.922852, 4505.1...   \n",
            "1  [4477.94873, 4486.666504, 4486.153809, 4477.94...   \n",
            "2  [4504.615234, 4506.666504, 4497.94873, 4495.38...   \n",
            "3  [4457.94873, 4455.384766, 4464.102539, 4466.15...   \n",
            "4  [4444.102539, 4448.717773, 4453.333496, 4456.4...   \n",
            "\n",
            "                                              EEG.F4  \\\n",
            "0  [4372.820313, 4371.282227, 4365.641113, 4367.1...   \n",
            "1  [4586.153809, 4589.230957, 4590.769043, 4589.7...   \n",
            "2  [4569.230957, 4573.333496, 4563.077148, 4561.5...   \n",
            "3  [4506.153809, 4507.692383, 4514.871582, 4513.3...   \n",
            "4  [4548.205078, 4552.307617, 4556.922852, 4556.9...   \n",
            "\n",
            "                                              EEG.F8  \\\n",
            "0  [4113.333496, 4106.666504, 4104.615234, 4111.7...   \n",
            "1  [4062.564209, 4072.307617, 4069.743652, 4063.0...   \n",
            "2  [4026.666748, 4009.743652, 3996.923096, 3985.6...   \n",
            "3  [4121.538574, 4121.025879, 4125.641113, 4125.6...   \n",
            "4  [4138.461426, 4137.94873, 4140.512695, 4150.25...   \n",
            "\n",
            "                                             EEG.AF4 source_file aro val  \n",
            "0  [4636.410156, 4592.307617, 4599.487305, 4643.5...      (1, 1)   0   1  \n",
            "1  [4658.974121, 4671.794922, 4672.820313, 4665.1...      (1, 2)   1   0  \n",
            "2  [4597.94873, 4599.487305, 4585.641113, 4581.53...      (1, 3)   1   1  \n",
            "3  [4617.94873, 4613.846191, 4625.128418, 4626.15...      (1, 4)   1   0  \n",
            "4  [4593.846191, 4598.461426, 4612.820313, 4615.3...      (1, 5)   0   1  \n"
          ]
        }
      ]
    },
    {
      "cell_type": "code",
      "source": [
        "num_user_ids = len(merged_data)\n",
        "\n",
        "print(f\"Number of samples: {num_user_ids}\")"
      ],
      "metadata": {
        "id": "IHDChFCho1Af",
        "colab": {
          "base_uri": "https://localhost:8080/"
        },
        "outputId": "224e3089-6ee2-4c66-c256-177ac55719d0"
      },
      "execution_count": 9,
      "outputs": [
        {
          "output_type": "stream",
          "name": "stdout",
          "text": [
            "Number of samples: 800\n"
          ]
        }
      ]
    },
    {
      "cell_type": "code",
      "source": [
        "merged_data.shape"
      ],
      "metadata": {
        "id": "1oEMxHzlOc7L",
        "colab": {
          "base_uri": "https://localhost:8080/"
        },
        "outputId": "28792342-abda-45d1-c40b-37dd8d659bd6"
      },
      "execution_count": 10,
      "outputs": [
        {
          "output_type": "execute_result",
          "data": {
            "text/plain": [
              "(800, 19)"
            ]
          },
          "metadata": {},
          "execution_count": 10
        }
      ]
    },
    {
      "cell_type": "code",
      "source": [
        "# EEG ile başlayan sütunları seçelim\n",
        "eeg_columns = [col for col in merged_data.columns if col.startswith('EEG.')]\n",
        "\n",
        "# EEG sütunlarındaki array'lerde kaç veri olduğunu yazdıralım\n",
        "for col in eeg_columns:\n",
        "    # Her bir sütundaki array'in boyutunu yazdırıyoruz\n",
        "    print(f\"{col}: {len(merged_data[col].iloc[0])} verisi var.\")\n"
      ],
      "metadata": {
        "colab": {
          "base_uri": "https://localhost:8080/"
        },
        "id": "VBqA14upBGVt",
        "outputId": "59e497f5-b780-4f12-9e5e-86022d888eb2"
      },
      "execution_count": 11,
      "outputs": [
        {
          "output_type": "stream",
          "name": "stdout",
          "text": [
            "EEG.AF3: 3708 verisi var.\n",
            "EEG.F7: 3708 verisi var.\n",
            "EEG.F3: 3708 verisi var.\n",
            "EEG.FC5: 3708 verisi var.\n",
            "EEG.T7: 3708 verisi var.\n",
            "EEG.P7: 3708 verisi var.\n",
            "EEG.O1: 3708 verisi var.\n",
            "EEG.O2: 3708 verisi var.\n",
            "EEG.P8: 3708 verisi var.\n",
            "EEG.T8: 3708 verisi var.\n",
            "EEG.FC6: 3708 verisi var.\n",
            "EEG.F4: 3708 verisi var.\n",
            "EEG.F8: 3708 verisi var.\n",
            "EEG.AF4: 3708 verisi var.\n"
          ]
        }
      ]
    },
    {
      "cell_type": "code",
      "source": [
        "import pandas as pd\n",
        "\n",
        "# merged_data veri çerçevesi zaten mevcut varsayalım\n",
        "\n",
        "# EEG ile başlayan sütunları seçelim\n",
        "eeg_columns = [col for col in merged_data.columns if col.startswith('EEG.')]\n",
        "\n",
        "# EEG sütunlarındaki array'lerdeki uzunlukları kontrol edelim\n",
        "for col in eeg_columns:\n",
        "    inconsistent_rows = []\n",
        "\n",
        "    # Her bir satırdaki array'in uzunluğunu kontrol edelim\n",
        "    for index, row in merged_data.iterrows():\n",
        "        # Array'in uzunluğunu kontrol et (sayı 3708'e eşit olmalı)\n",
        "        if len(row[col]) != 3708:\n",
        "            inconsistent_rows.append(index)\n",
        "\n",
        "    # Eğer tutarsızlık varsa, bu satırları yazdıralım\n",
        "    if inconsistent_rows:\n",
        "        print(f\"{col} sütununda uzunluğu farklı olan satırlar: {inconsistent_rows}\")\n"
      ],
      "metadata": {
        "colab": {
          "base_uri": "https://localhost:8080/"
        },
        "id": "tVt9MJliBIlW",
        "outputId": "0762b081-dc15-4fc7-907b-3aac6af538c8"
      },
      "execution_count": 12,
      "outputs": [
        {
          "output_type": "stream",
          "name": "stdout",
          "text": [
            "EEG.AF3 sütununda uzunluğu farklı olan satırlar: [2, 4, 5, 6, 9, 12, 13, 16, 22, 23, 24, 25, 28, 32, 33, 34, 39, 41, 42, 43, 44, 45, 46, 47, 49, 50, 57, 58, 59, 60, 61, 62, 63, 64, 65, 66, 67, 69, 70, 79, 85, 86, 87, 88, 89, 90, 91, 92, 99, 100, 101, 108, 109, 110, 111, 112, 119, 120, 121, 122, 123, 128, 129, 130, 131, 132, 133, 140, 141, 142, 143, 144, 145, 146, 147, 148, 149, 150, 151, 152, 153, 154, 155, 156, 157, 158, 159, 160, 161, 162, 163, 164, 165, 166, 167, 168, 169, 170, 180, 181, 184, 187, 188, 189, 190, 191, 192, 193, 194, 200, 201, 202, 203, 204, 205, 206, 216, 217, 218, 219, 220, 221, 222, 223, 225, 230, 231, 239, 242, 248, 249, 250, 251, 256, 258, 259, 260, 261, 262, 263, 264, 265, 266, 267, 278, 279, 280, 281, 282, 283, 284, 292, 293, 294, 295, 296, 297, 298, 299, 300, 303, 304, 305, 312, 313, 314, 315, 316, 317, 318, 319, 320, 321, 322, 323, 331, 332, 333, 334, 335, 336, 337, 338, 339, 340, 341, 342, 343, 344, 345, 346, 347, 352, 353, 354, 355, 356, 357, 358, 359, 360, 361, 362, 363, 364, 372, 373, 374, 375, 376, 377, 378, 379, 380, 381, 382, 383, 386, 388, 389, 390, 391, 392, 393, 394, 395, 400, 401, 402, 403, 404, 405, 412, 413, 414, 415, 416, 421, 422, 423, 424, 425, 426, 427, 428, 429, 430, 436, 437, 438, 439, 444, 445, 446, 447, 448, 449, 453, 454, 455, 456, 457, 458, 459, 466, 467, 468, 469, 470, 471, 472, 473, 474, 475, 482, 484, 486, 487, 488, 489, 496, 497, 498, 499, 501, 503, 504, 517, 524, 525, 526, 527, 528, 529, 530, 531, 536, 537, 538, 539, 544, 545, 546, 547, 548, 549, 550, 551, 552, 553, 554, 555, 559, 564, 565, 566, 567, 568, 569, 570, 571, 572, 573, 574, 575, 579, 585, 586, 587, 588, 589, 590, 591, 592, 593, 594, 595, 600, 601, 602, 603, 612, 613, 614, 615, 616, 617, 618, 619, 624, 625, 626, 627, 628, 629, 630, 631, 632, 633, 634, 635, 639, 644, 645, 646, 647, 652, 653, 654, 655, 656, 657, 658, 661, 662, 663, 664, 665, 666, 667, 668, 669, 676, 677, 678, 679, 680, 681, 682, 683, 684, 685, 686, 687, 696, 697, 698, 699, 700, 701, 702, 703, 704, 705, 706, 707, 716, 717, 718, 719, 720, 721, 722, 723, 724, 725, 726, 727, 733, 734, 735, 736, 737, 738, 739, 744, 745, 746, 747, 748, 749, 750, 751, 752, 753, 754, 755, 759, 760, 764, 765, 766, 767, 768, 769, 770, 771, 772, 773, 774, 775, 784, 785, 786, 787, 788, 789, 790, 791, 799]\n",
            "EEG.F7 sütununda uzunluğu farklı olan satırlar: [2, 4, 5, 6, 9, 12, 13, 16, 22, 23, 24, 25, 28, 32, 33, 34, 39, 41, 42, 43, 44, 45, 46, 47, 49, 50, 57, 58, 59, 60, 61, 62, 63, 64, 65, 66, 67, 69, 70, 79, 85, 86, 87, 88, 89, 90, 91, 92, 99, 100, 101, 108, 109, 110, 111, 112, 119, 120, 121, 122, 123, 128, 129, 130, 131, 132, 133, 140, 141, 142, 143, 144, 145, 146, 147, 148, 149, 150, 151, 152, 153, 154, 155, 156, 157, 158, 159, 160, 161, 162, 163, 164, 165, 166, 167, 168, 169, 170, 180, 181, 184, 187, 188, 189, 190, 191, 192, 193, 194, 200, 201, 202, 203, 204, 205, 206, 216, 217, 218, 219, 220, 221, 222, 223, 225, 230, 231, 239, 242, 248, 249, 250, 251, 256, 258, 259, 260, 261, 262, 263, 264, 265, 266, 267, 278, 279, 280, 281, 282, 283, 284, 292, 293, 294, 295, 296, 297, 298, 299, 300, 303, 304, 305, 312, 313, 314, 315, 316, 317, 318, 319, 320, 321, 322, 323, 331, 332, 333, 334, 335, 336, 337, 338, 339, 340, 341, 342, 343, 344, 345, 346, 347, 352, 353, 354, 355, 356, 357, 358, 359, 360, 361, 362, 363, 364, 372, 373, 374, 375, 376, 377, 378, 379, 380, 381, 382, 383, 386, 388, 389, 390, 391, 392, 393, 394, 395, 400, 401, 402, 403, 404, 405, 412, 413, 414, 415, 416, 421, 422, 423, 424, 425, 426, 427, 428, 429, 430, 436, 437, 438, 439, 444, 445, 446, 447, 448, 449, 453, 454, 455, 456, 457, 458, 459, 466, 467, 468, 469, 470, 471, 472, 473, 474, 475, 482, 484, 486, 487, 488, 489, 496, 497, 498, 499, 501, 503, 504, 517, 524, 525, 526, 527, 528, 529, 530, 531, 536, 537, 538, 539, 544, 545, 546, 547, 548, 549, 550, 551, 552, 553, 554, 555, 559, 564, 565, 566, 567, 568, 569, 570, 571, 572, 573, 574, 575, 579, 585, 586, 587, 588, 589, 590, 591, 592, 593, 594, 595, 600, 601, 602, 603, 612, 613, 614, 615, 616, 617, 618, 619, 624, 625, 626, 627, 628, 629, 630, 631, 632, 633, 634, 635, 639, 644, 645, 646, 647, 652, 653, 654, 655, 656, 657, 658, 661, 662, 663, 664, 665, 666, 667, 668, 669, 676, 677, 678, 679, 680, 681, 682, 683, 684, 685, 686, 687, 696, 697, 698, 699, 700, 701, 702, 703, 704, 705, 706, 707, 716, 717, 718, 719, 720, 721, 722, 723, 724, 725, 726, 727, 733, 734, 735, 736, 737, 738, 739, 744, 745, 746, 747, 748, 749, 750, 751, 752, 753, 754, 755, 759, 760, 764, 765, 766, 767, 768, 769, 770, 771, 772, 773, 774, 775, 784, 785, 786, 787, 788, 789, 790, 791, 799]\n",
            "EEG.F3 sütununda uzunluğu farklı olan satırlar: [2, 4, 5, 6, 9, 12, 13, 16, 22, 23, 24, 25, 28, 32, 33, 34, 39, 41, 42, 43, 44, 45, 46, 47, 49, 50, 57, 58, 59, 60, 61, 62, 63, 64, 65, 66, 67, 69, 70, 79, 85, 86, 87, 88, 89, 90, 91, 92, 99, 100, 101, 108, 109, 110, 111, 112, 119, 120, 121, 122, 123, 128, 129, 130, 131, 132, 133, 140, 141, 142, 143, 144, 145, 146, 147, 148, 149, 150, 151, 152, 153, 154, 155, 156, 157, 158, 159, 160, 161, 162, 163, 164, 165, 166, 167, 168, 169, 170, 180, 181, 184, 187, 188, 189, 190, 191, 192, 193, 194, 200, 201, 202, 203, 204, 205, 206, 216, 217, 218, 219, 220, 221, 222, 223, 225, 230, 231, 239, 242, 248, 249, 250, 251, 256, 258, 259, 260, 261, 262, 263, 264, 265, 266, 267, 278, 279, 280, 281, 282, 283, 284, 292, 293, 294, 295, 296, 297, 298, 299, 300, 303, 304, 305, 312, 313, 314, 315, 316, 317, 318, 319, 320, 321, 322, 323, 331, 332, 333, 334, 335, 336, 337, 338, 339, 340, 341, 342, 343, 344, 345, 346, 347, 352, 353, 354, 355, 356, 357, 358, 359, 360, 361, 362, 363, 364, 372, 373, 374, 375, 376, 377, 378, 379, 380, 381, 382, 383, 386, 388, 389, 390, 391, 392, 393, 394, 395, 400, 401, 402, 403, 404, 405, 412, 413, 414, 415, 416, 421, 422, 423, 424, 425, 426, 427, 428, 429, 430, 436, 437, 438, 439, 444, 445, 446, 447, 448, 449, 453, 454, 455, 456, 457, 458, 459, 466, 467, 468, 469, 470, 471, 472, 473, 474, 475, 482, 484, 486, 487, 488, 489, 496, 497, 498, 499, 501, 503, 504, 517, 524, 525, 526, 527, 528, 529, 530, 531, 536, 537, 538, 539, 544, 545, 546, 547, 548, 549, 550, 551, 552, 553, 554, 555, 559, 564, 565, 566, 567, 568, 569, 570, 571, 572, 573, 574, 575, 579, 585, 586, 587, 588, 589, 590, 591, 592, 593, 594, 595, 600, 601, 602, 603, 612, 613, 614, 615, 616, 617, 618, 619, 624, 625, 626, 627, 628, 629, 630, 631, 632, 633, 634, 635, 639, 644, 645, 646, 647, 652, 653, 654, 655, 656, 657, 658, 661, 662, 663, 664, 665, 666, 667, 668, 669, 676, 677, 678, 679, 680, 681, 682, 683, 684, 685, 686, 687, 696, 697, 698, 699, 700, 701, 702, 703, 704, 705, 706, 707, 716, 717, 718, 719, 720, 721, 722, 723, 724, 725, 726, 727, 733, 734, 735, 736, 737, 738, 739, 744, 745, 746, 747, 748, 749, 750, 751, 752, 753, 754, 755, 759, 760, 764, 765, 766, 767, 768, 769, 770, 771, 772, 773, 774, 775, 784, 785, 786, 787, 788, 789, 790, 791, 799]\n",
            "EEG.FC5 sütununda uzunluğu farklı olan satırlar: [2, 4, 5, 6, 9, 12, 13, 16, 22, 23, 24, 25, 28, 32, 33, 34, 39, 41, 42, 43, 44, 45, 46, 47, 49, 50, 57, 58, 59, 60, 61, 62, 63, 64, 65, 66, 67, 69, 70, 79, 85, 86, 87, 88, 89, 90, 91, 92, 99, 100, 101, 108, 109, 110, 111, 112, 119, 120, 121, 122, 123, 128, 129, 130, 131, 132, 133, 140, 141, 142, 143, 144, 145, 146, 147, 148, 149, 150, 151, 152, 153, 154, 155, 156, 157, 158, 159, 160, 161, 162, 163, 164, 165, 166, 167, 168, 169, 170, 180, 181, 184, 187, 188, 189, 190, 191, 192, 193, 194, 200, 201, 202, 203, 204, 205, 206, 216, 217, 218, 219, 220, 221, 222, 223, 225, 230, 231, 239, 242, 248, 249, 250, 251, 256, 258, 259, 260, 261, 262, 263, 264, 265, 266, 267, 278, 279, 280, 281, 282, 283, 284, 292, 293, 294, 295, 296, 297, 298, 299, 300, 303, 304, 305, 312, 313, 314, 315, 316, 317, 318, 319, 320, 321, 322, 323, 331, 332, 333, 334, 335, 336, 337, 338, 339, 340, 341, 342, 343, 344, 345, 346, 347, 352, 353, 354, 355, 356, 357, 358, 359, 360, 361, 362, 363, 364, 372, 373, 374, 375, 376, 377, 378, 379, 380, 381, 382, 383, 386, 388, 389, 390, 391, 392, 393, 394, 395, 400, 401, 402, 403, 404, 405, 412, 413, 414, 415, 416, 421, 422, 423, 424, 425, 426, 427, 428, 429, 430, 436, 437, 438, 439, 444, 445, 446, 447, 448, 449, 453, 454, 455, 456, 457, 458, 459, 466, 467, 468, 469, 470, 471, 472, 473, 474, 475, 482, 484, 486, 487, 488, 489, 496, 497, 498, 499, 501, 503, 504, 517, 524, 525, 526, 527, 528, 529, 530, 531, 536, 537, 538, 539, 544, 545, 546, 547, 548, 549, 550, 551, 552, 553, 554, 555, 559, 564, 565, 566, 567, 568, 569, 570, 571, 572, 573, 574, 575, 579, 585, 586, 587, 588, 589, 590, 591, 592, 593, 594, 595, 600, 601, 602, 603, 612, 613, 614, 615, 616, 617, 618, 619, 624, 625, 626, 627, 628, 629, 630, 631, 632, 633, 634, 635, 639, 644, 645, 646, 647, 652, 653, 654, 655, 656, 657, 658, 661, 662, 663, 664, 665, 666, 667, 668, 669, 676, 677, 678, 679, 680, 681, 682, 683, 684, 685, 686, 687, 696, 697, 698, 699, 700, 701, 702, 703, 704, 705, 706, 707, 716, 717, 718, 719, 720, 721, 722, 723, 724, 725, 726, 727, 733, 734, 735, 736, 737, 738, 739, 744, 745, 746, 747, 748, 749, 750, 751, 752, 753, 754, 755, 759, 760, 764, 765, 766, 767, 768, 769, 770, 771, 772, 773, 774, 775, 784, 785, 786, 787, 788, 789, 790, 791, 799]\n",
            "EEG.T7 sütununda uzunluğu farklı olan satırlar: [2, 4, 5, 6, 9, 12, 13, 16, 22, 23, 24, 25, 28, 32, 33, 34, 39, 41, 42, 43, 44, 45, 46, 47, 49, 50, 57, 58, 59, 60, 61, 62, 63, 64, 65, 66, 67, 69, 70, 79, 85, 86, 87, 88, 89, 90, 91, 92, 99, 100, 101, 108, 109, 110, 111, 112, 119, 120, 121, 122, 123, 128, 129, 130, 131, 132, 133, 140, 141, 142, 143, 144, 145, 146, 147, 148, 149, 150, 151, 152, 153, 154, 155, 156, 157, 158, 159, 160, 161, 162, 163, 164, 165, 166, 167, 168, 169, 170, 180, 181, 184, 187, 188, 189, 190, 191, 192, 193, 194, 200, 201, 202, 203, 204, 205, 206, 216, 217, 218, 219, 220, 221, 222, 223, 225, 230, 231, 239, 242, 248, 249, 250, 251, 256, 258, 259, 260, 261, 262, 263, 264, 265, 266, 267, 278, 279, 280, 281, 282, 283, 284, 292, 293, 294, 295, 296, 297, 298, 299, 300, 303, 304, 305, 312, 313, 314, 315, 316, 317, 318, 319, 320, 321, 322, 323, 331, 332, 333, 334, 335, 336, 337, 338, 339, 340, 341, 342, 343, 344, 345, 346, 347, 352, 353, 354, 355, 356, 357, 358, 359, 360, 361, 362, 363, 364, 372, 373, 374, 375, 376, 377, 378, 379, 380, 381, 382, 383, 386, 388, 389, 390, 391, 392, 393, 394, 395, 400, 401, 402, 403, 404, 405, 412, 413, 414, 415, 416, 421, 422, 423, 424, 425, 426, 427, 428, 429, 430, 436, 437, 438, 439, 444, 445, 446, 447, 448, 449, 453, 454, 455, 456, 457, 458, 459, 466, 467, 468, 469, 470, 471, 472, 473, 474, 475, 482, 484, 486, 487, 488, 489, 496, 497, 498, 499, 501, 503, 504, 517, 524, 525, 526, 527, 528, 529, 530, 531, 536, 537, 538, 539, 544, 545, 546, 547, 548, 549, 550, 551, 552, 553, 554, 555, 559, 564, 565, 566, 567, 568, 569, 570, 571, 572, 573, 574, 575, 579, 585, 586, 587, 588, 589, 590, 591, 592, 593, 594, 595, 600, 601, 602, 603, 612, 613, 614, 615, 616, 617, 618, 619, 624, 625, 626, 627, 628, 629, 630, 631, 632, 633, 634, 635, 639, 644, 645, 646, 647, 652, 653, 654, 655, 656, 657, 658, 661, 662, 663, 664, 665, 666, 667, 668, 669, 676, 677, 678, 679, 680, 681, 682, 683, 684, 685, 686, 687, 696, 697, 698, 699, 700, 701, 702, 703, 704, 705, 706, 707, 716, 717, 718, 719, 720, 721, 722, 723, 724, 725, 726, 727, 733, 734, 735, 736, 737, 738, 739, 744, 745, 746, 747, 748, 749, 750, 751, 752, 753, 754, 755, 759, 760, 764, 765, 766, 767, 768, 769, 770, 771, 772, 773, 774, 775, 784, 785, 786, 787, 788, 789, 790, 791, 799]\n",
            "EEG.P7 sütununda uzunluğu farklı olan satırlar: [2, 4, 5, 6, 9, 12, 13, 16, 22, 23, 24, 25, 28, 32, 33, 34, 39, 41, 42, 43, 44, 45, 46, 47, 49, 50, 57, 58, 59, 60, 61, 62, 63, 64, 65, 66, 67, 69, 70, 79, 85, 86, 87, 88, 89, 90, 91, 92, 99, 100, 101, 108, 109, 110, 111, 112, 119, 120, 121, 122, 123, 128, 129, 130, 131, 132, 133, 140, 141, 142, 143, 144, 145, 146, 147, 148, 149, 150, 151, 152, 153, 154, 155, 156, 157, 158, 159, 160, 161, 162, 163, 164, 165, 166, 167, 168, 169, 170, 180, 181, 184, 187, 188, 189, 190, 191, 192, 193, 194, 200, 201, 202, 203, 204, 205, 206, 216, 217, 218, 219, 220, 221, 222, 223, 225, 230, 231, 239, 242, 248, 249, 250, 251, 256, 258, 259, 260, 261, 262, 263, 264, 265, 266, 267, 278, 279, 280, 281, 282, 283, 284, 292, 293, 294, 295, 296, 297, 298, 299, 300, 303, 304, 305, 312, 313, 314, 315, 316, 317, 318, 319, 320, 321, 322, 323, 331, 332, 333, 334, 335, 336, 337, 338, 339, 340, 341, 342, 343, 344, 345, 346, 347, 352, 353, 354, 355, 356, 357, 358, 359, 360, 361, 362, 363, 364, 372, 373, 374, 375, 376, 377, 378, 379, 380, 381, 382, 383, 386, 388, 389, 390, 391, 392, 393, 394, 395, 400, 401, 402, 403, 404, 405, 412, 413, 414, 415, 416, 421, 422, 423, 424, 425, 426, 427, 428, 429, 430, 436, 437, 438, 439, 444, 445, 446, 447, 448, 449, 453, 454, 455, 456, 457, 458, 459, 466, 467, 468, 469, 470, 471, 472, 473, 474, 475, 482, 484, 486, 487, 488, 489, 496, 497, 498, 499, 501, 503, 504, 517, 524, 525, 526, 527, 528, 529, 530, 531, 536, 537, 538, 539, 544, 545, 546, 547, 548, 549, 550, 551, 552, 553, 554, 555, 559, 564, 565, 566, 567, 568, 569, 570, 571, 572, 573, 574, 575, 579, 585, 586, 587, 588, 589, 590, 591, 592, 593, 594, 595, 600, 601, 602, 603, 612, 613, 614, 615, 616, 617, 618, 619, 624, 625, 626, 627, 628, 629, 630, 631, 632, 633, 634, 635, 639, 644, 645, 646, 647, 652, 653, 654, 655, 656, 657, 658, 661, 662, 663, 664, 665, 666, 667, 668, 669, 676, 677, 678, 679, 680, 681, 682, 683, 684, 685, 686, 687, 696, 697, 698, 699, 700, 701, 702, 703, 704, 705, 706, 707, 716, 717, 718, 719, 720, 721, 722, 723, 724, 725, 726, 727, 733, 734, 735, 736, 737, 738, 739, 744, 745, 746, 747, 748, 749, 750, 751, 752, 753, 754, 755, 759, 760, 764, 765, 766, 767, 768, 769, 770, 771, 772, 773, 774, 775, 784, 785, 786, 787, 788, 789, 790, 791, 799]\n",
            "EEG.O1 sütununda uzunluğu farklı olan satırlar: [2, 4, 5, 6, 9, 12, 13, 16, 22, 23, 24, 25, 28, 32, 33, 34, 39, 41, 42, 43, 44, 45, 46, 47, 49, 50, 57, 58, 59, 60, 61, 62, 63, 64, 65, 66, 67, 69, 70, 79, 85, 86, 87, 88, 89, 90, 91, 92, 99, 100, 101, 108, 109, 110, 111, 112, 119, 120, 121, 122, 123, 128, 129, 130, 131, 132, 133, 140, 141, 142, 143, 144, 145, 146, 147, 148, 149, 150, 151, 152, 153, 154, 155, 156, 157, 158, 159, 160, 161, 162, 163, 164, 165, 166, 167, 168, 169, 170, 180, 181, 184, 187, 188, 189, 190, 191, 192, 193, 194, 200, 201, 202, 203, 204, 205, 206, 216, 217, 218, 219, 220, 221, 222, 223, 225, 230, 231, 239, 242, 248, 249, 250, 251, 256, 258, 259, 260, 261, 262, 263, 264, 265, 266, 267, 278, 279, 280, 281, 282, 283, 284, 292, 293, 294, 295, 296, 297, 298, 299, 300, 303, 304, 305, 312, 313, 314, 315, 316, 317, 318, 319, 320, 321, 322, 323, 331, 332, 333, 334, 335, 336, 337, 338, 339, 340, 341, 342, 343, 344, 345, 346, 347, 352, 353, 354, 355, 356, 357, 358, 359, 360, 361, 362, 363, 364, 372, 373, 374, 375, 376, 377, 378, 379, 380, 381, 382, 383, 386, 388, 389, 390, 391, 392, 393, 394, 395, 400, 401, 402, 403, 404, 405, 412, 413, 414, 415, 416, 421, 422, 423, 424, 425, 426, 427, 428, 429, 430, 436, 437, 438, 439, 444, 445, 446, 447, 448, 449, 453, 454, 455, 456, 457, 458, 459, 466, 467, 468, 469, 470, 471, 472, 473, 474, 475, 482, 484, 486, 487, 488, 489, 496, 497, 498, 499, 501, 503, 504, 517, 524, 525, 526, 527, 528, 529, 530, 531, 536, 537, 538, 539, 544, 545, 546, 547, 548, 549, 550, 551, 552, 553, 554, 555, 559, 564, 565, 566, 567, 568, 569, 570, 571, 572, 573, 574, 575, 579, 585, 586, 587, 588, 589, 590, 591, 592, 593, 594, 595, 600, 601, 602, 603, 612, 613, 614, 615, 616, 617, 618, 619, 624, 625, 626, 627, 628, 629, 630, 631, 632, 633, 634, 635, 639, 644, 645, 646, 647, 652, 653, 654, 655, 656, 657, 658, 661, 662, 663, 664, 665, 666, 667, 668, 669, 676, 677, 678, 679, 680, 681, 682, 683, 684, 685, 686, 687, 696, 697, 698, 699, 700, 701, 702, 703, 704, 705, 706, 707, 716, 717, 718, 719, 720, 721, 722, 723, 724, 725, 726, 727, 733, 734, 735, 736, 737, 738, 739, 744, 745, 746, 747, 748, 749, 750, 751, 752, 753, 754, 755, 759, 760, 764, 765, 766, 767, 768, 769, 770, 771, 772, 773, 774, 775, 784, 785, 786, 787, 788, 789, 790, 791, 799]\n",
            "EEG.O2 sütununda uzunluğu farklı olan satırlar: [2, 4, 5, 6, 9, 12, 13, 16, 22, 23, 24, 25, 28, 32, 33, 34, 39, 41, 42, 43, 44, 45, 46, 47, 49, 50, 57, 58, 59, 60, 61, 62, 63, 64, 65, 66, 67, 69, 70, 79, 85, 86, 87, 88, 89, 90, 91, 92, 99, 100, 101, 108, 109, 110, 111, 112, 119, 120, 121, 122, 123, 128, 129, 130, 131, 132, 133, 140, 141, 142, 143, 144, 145, 146, 147, 148, 149, 150, 151, 152, 153, 154, 155, 156, 157, 158, 159, 160, 161, 162, 163, 164, 165, 166, 167, 168, 169, 170, 180, 181, 184, 187, 188, 189, 190, 191, 192, 193, 194, 200, 201, 202, 203, 204, 205, 206, 216, 217, 218, 219, 220, 221, 222, 223, 225, 230, 231, 239, 242, 248, 249, 250, 251, 256, 258, 259, 260, 261, 262, 263, 264, 265, 266, 267, 278, 279, 280, 281, 282, 283, 284, 292, 293, 294, 295, 296, 297, 298, 299, 300, 303, 304, 305, 312, 313, 314, 315, 316, 317, 318, 319, 320, 321, 322, 323, 331, 332, 333, 334, 335, 336, 337, 338, 339, 340, 341, 342, 343, 344, 345, 346, 347, 352, 353, 354, 355, 356, 357, 358, 359, 360, 361, 362, 363, 364, 372, 373, 374, 375, 376, 377, 378, 379, 380, 381, 382, 383, 386, 388, 389, 390, 391, 392, 393, 394, 395, 400, 401, 402, 403, 404, 405, 412, 413, 414, 415, 416, 421, 422, 423, 424, 425, 426, 427, 428, 429, 430, 436, 437, 438, 439, 444, 445, 446, 447, 448, 449, 453, 454, 455, 456, 457, 458, 459, 466, 467, 468, 469, 470, 471, 472, 473, 474, 475, 482, 484, 486, 487, 488, 489, 496, 497, 498, 499, 501, 503, 504, 517, 524, 525, 526, 527, 528, 529, 530, 531, 536, 537, 538, 539, 544, 545, 546, 547, 548, 549, 550, 551, 552, 553, 554, 555, 559, 564, 565, 566, 567, 568, 569, 570, 571, 572, 573, 574, 575, 579, 585, 586, 587, 588, 589, 590, 591, 592, 593, 594, 595, 600, 601, 602, 603, 612, 613, 614, 615, 616, 617, 618, 619, 624, 625, 626, 627, 628, 629, 630, 631, 632, 633, 634, 635, 639, 644, 645, 646, 647, 652, 653, 654, 655, 656, 657, 658, 661, 662, 663, 664, 665, 666, 667, 668, 669, 676, 677, 678, 679, 680, 681, 682, 683, 684, 685, 686, 687, 696, 697, 698, 699, 700, 701, 702, 703, 704, 705, 706, 707, 716, 717, 718, 719, 720, 721, 722, 723, 724, 725, 726, 727, 733, 734, 735, 736, 737, 738, 739, 744, 745, 746, 747, 748, 749, 750, 751, 752, 753, 754, 755, 759, 760, 764, 765, 766, 767, 768, 769, 770, 771, 772, 773, 774, 775, 784, 785, 786, 787, 788, 789, 790, 791, 799]\n",
            "EEG.P8 sütununda uzunluğu farklı olan satırlar: [2, 4, 5, 6, 9, 12, 13, 16, 22, 23, 24, 25, 28, 32, 33, 34, 39, 41, 42, 43, 44, 45, 46, 47, 49, 50, 57, 58, 59, 60, 61, 62, 63, 64, 65, 66, 67, 69, 70, 79, 85, 86, 87, 88, 89, 90, 91, 92, 99, 100, 101, 108, 109, 110, 111, 112, 119, 120, 121, 122, 123, 128, 129, 130, 131, 132, 133, 140, 141, 142, 143, 144, 145, 146, 147, 148, 149, 150, 151, 152, 153, 154, 155, 156, 157, 158, 159, 160, 161, 162, 163, 164, 165, 166, 167, 168, 169, 170, 180, 181, 184, 187, 188, 189, 190, 191, 192, 193, 194, 200, 201, 202, 203, 204, 205, 206, 216, 217, 218, 219, 220, 221, 222, 223, 225, 230, 231, 239, 242, 248, 249, 250, 251, 256, 258, 259, 260, 261, 262, 263, 264, 265, 266, 267, 278, 279, 280, 281, 282, 283, 284, 292, 293, 294, 295, 296, 297, 298, 299, 300, 303, 304, 305, 312, 313, 314, 315, 316, 317, 318, 319, 320, 321, 322, 323, 331, 332, 333, 334, 335, 336, 337, 338, 339, 340, 341, 342, 343, 344, 345, 346, 347, 352, 353, 354, 355, 356, 357, 358, 359, 360, 361, 362, 363, 364, 372, 373, 374, 375, 376, 377, 378, 379, 380, 381, 382, 383, 386, 388, 389, 390, 391, 392, 393, 394, 395, 400, 401, 402, 403, 404, 405, 412, 413, 414, 415, 416, 421, 422, 423, 424, 425, 426, 427, 428, 429, 430, 436, 437, 438, 439, 444, 445, 446, 447, 448, 449, 453, 454, 455, 456, 457, 458, 459, 466, 467, 468, 469, 470, 471, 472, 473, 474, 475, 482, 484, 486, 487, 488, 489, 496, 497, 498, 499, 501, 503, 504, 517, 524, 525, 526, 527, 528, 529, 530, 531, 536, 537, 538, 539, 544, 545, 546, 547, 548, 549, 550, 551, 552, 553, 554, 555, 559, 564, 565, 566, 567, 568, 569, 570, 571, 572, 573, 574, 575, 579, 585, 586, 587, 588, 589, 590, 591, 592, 593, 594, 595, 600, 601, 602, 603, 612, 613, 614, 615, 616, 617, 618, 619, 624, 625, 626, 627, 628, 629, 630, 631, 632, 633, 634, 635, 639, 644, 645, 646, 647, 652, 653, 654, 655, 656, 657, 658, 661, 662, 663, 664, 665, 666, 667, 668, 669, 676, 677, 678, 679, 680, 681, 682, 683, 684, 685, 686, 687, 696, 697, 698, 699, 700, 701, 702, 703, 704, 705, 706, 707, 716, 717, 718, 719, 720, 721, 722, 723, 724, 725, 726, 727, 733, 734, 735, 736, 737, 738, 739, 744, 745, 746, 747, 748, 749, 750, 751, 752, 753, 754, 755, 759, 760, 764, 765, 766, 767, 768, 769, 770, 771, 772, 773, 774, 775, 784, 785, 786, 787, 788, 789, 790, 791, 799]\n",
            "EEG.T8 sütununda uzunluğu farklı olan satırlar: [2, 4, 5, 6, 9, 12, 13, 16, 22, 23, 24, 25, 28, 32, 33, 34, 39, 41, 42, 43, 44, 45, 46, 47, 49, 50, 57, 58, 59, 60, 61, 62, 63, 64, 65, 66, 67, 69, 70, 79, 85, 86, 87, 88, 89, 90, 91, 92, 99, 100, 101, 108, 109, 110, 111, 112, 119, 120, 121, 122, 123, 128, 129, 130, 131, 132, 133, 140, 141, 142, 143, 144, 145, 146, 147, 148, 149, 150, 151, 152, 153, 154, 155, 156, 157, 158, 159, 160, 161, 162, 163, 164, 165, 166, 167, 168, 169, 170, 180, 181, 184, 187, 188, 189, 190, 191, 192, 193, 194, 200, 201, 202, 203, 204, 205, 206, 216, 217, 218, 219, 220, 221, 222, 223, 225, 230, 231, 239, 242, 248, 249, 250, 251, 256, 258, 259, 260, 261, 262, 263, 264, 265, 266, 267, 278, 279, 280, 281, 282, 283, 284, 292, 293, 294, 295, 296, 297, 298, 299, 300, 303, 304, 305, 312, 313, 314, 315, 316, 317, 318, 319, 320, 321, 322, 323, 331, 332, 333, 334, 335, 336, 337, 338, 339, 340, 341, 342, 343, 344, 345, 346, 347, 352, 353, 354, 355, 356, 357, 358, 359, 360, 361, 362, 363, 364, 372, 373, 374, 375, 376, 377, 378, 379, 380, 381, 382, 383, 386, 388, 389, 390, 391, 392, 393, 394, 395, 400, 401, 402, 403, 404, 405, 412, 413, 414, 415, 416, 421, 422, 423, 424, 425, 426, 427, 428, 429, 430, 436, 437, 438, 439, 444, 445, 446, 447, 448, 449, 453, 454, 455, 456, 457, 458, 459, 466, 467, 468, 469, 470, 471, 472, 473, 474, 475, 482, 484, 486, 487, 488, 489, 496, 497, 498, 499, 501, 503, 504, 517, 524, 525, 526, 527, 528, 529, 530, 531, 536, 537, 538, 539, 544, 545, 546, 547, 548, 549, 550, 551, 552, 553, 554, 555, 559, 564, 565, 566, 567, 568, 569, 570, 571, 572, 573, 574, 575, 579, 585, 586, 587, 588, 589, 590, 591, 592, 593, 594, 595, 600, 601, 602, 603, 612, 613, 614, 615, 616, 617, 618, 619, 624, 625, 626, 627, 628, 629, 630, 631, 632, 633, 634, 635, 639, 644, 645, 646, 647, 652, 653, 654, 655, 656, 657, 658, 661, 662, 663, 664, 665, 666, 667, 668, 669, 676, 677, 678, 679, 680, 681, 682, 683, 684, 685, 686, 687, 696, 697, 698, 699, 700, 701, 702, 703, 704, 705, 706, 707, 716, 717, 718, 719, 720, 721, 722, 723, 724, 725, 726, 727, 733, 734, 735, 736, 737, 738, 739, 744, 745, 746, 747, 748, 749, 750, 751, 752, 753, 754, 755, 759, 760, 764, 765, 766, 767, 768, 769, 770, 771, 772, 773, 774, 775, 784, 785, 786, 787, 788, 789, 790, 791, 799]\n",
            "EEG.FC6 sütununda uzunluğu farklı olan satırlar: [2, 4, 5, 6, 9, 12, 13, 16, 22, 23, 24, 25, 28, 32, 33, 34, 39, 41, 42, 43, 44, 45, 46, 47, 49, 50, 57, 58, 59, 60, 61, 62, 63, 64, 65, 66, 67, 69, 70, 79, 85, 86, 87, 88, 89, 90, 91, 92, 99, 100, 101, 108, 109, 110, 111, 112, 119, 120, 121, 122, 123, 128, 129, 130, 131, 132, 133, 140, 141, 142, 143, 144, 145, 146, 147, 148, 149, 150, 151, 152, 153, 154, 155, 156, 157, 158, 159, 160, 161, 162, 163, 164, 165, 166, 167, 168, 169, 170, 180, 181, 184, 187, 188, 189, 190, 191, 192, 193, 194, 200, 201, 202, 203, 204, 205, 206, 216, 217, 218, 219, 220, 221, 222, 223, 225, 230, 231, 239, 242, 248, 249, 250, 251, 256, 258, 259, 260, 261, 262, 263, 264, 265, 266, 267, 278, 279, 280, 281, 282, 283, 284, 292, 293, 294, 295, 296, 297, 298, 299, 300, 303, 304, 305, 312, 313, 314, 315, 316, 317, 318, 319, 320, 321, 322, 323, 331, 332, 333, 334, 335, 336, 337, 338, 339, 340, 341, 342, 343, 344, 345, 346, 347, 352, 353, 354, 355, 356, 357, 358, 359, 360, 361, 362, 363, 364, 372, 373, 374, 375, 376, 377, 378, 379, 380, 381, 382, 383, 386, 388, 389, 390, 391, 392, 393, 394, 395, 400, 401, 402, 403, 404, 405, 412, 413, 414, 415, 416, 421, 422, 423, 424, 425, 426, 427, 428, 429, 430, 436, 437, 438, 439, 444, 445, 446, 447, 448, 449, 453, 454, 455, 456, 457, 458, 459, 466, 467, 468, 469, 470, 471, 472, 473, 474, 475, 482, 484, 486, 487, 488, 489, 496, 497, 498, 499, 501, 503, 504, 517, 524, 525, 526, 527, 528, 529, 530, 531, 536, 537, 538, 539, 544, 545, 546, 547, 548, 549, 550, 551, 552, 553, 554, 555, 559, 564, 565, 566, 567, 568, 569, 570, 571, 572, 573, 574, 575, 579, 585, 586, 587, 588, 589, 590, 591, 592, 593, 594, 595, 600, 601, 602, 603, 612, 613, 614, 615, 616, 617, 618, 619, 624, 625, 626, 627, 628, 629, 630, 631, 632, 633, 634, 635, 639, 644, 645, 646, 647, 652, 653, 654, 655, 656, 657, 658, 661, 662, 663, 664, 665, 666, 667, 668, 669, 676, 677, 678, 679, 680, 681, 682, 683, 684, 685, 686, 687, 696, 697, 698, 699, 700, 701, 702, 703, 704, 705, 706, 707, 716, 717, 718, 719, 720, 721, 722, 723, 724, 725, 726, 727, 733, 734, 735, 736, 737, 738, 739, 744, 745, 746, 747, 748, 749, 750, 751, 752, 753, 754, 755, 759, 760, 764, 765, 766, 767, 768, 769, 770, 771, 772, 773, 774, 775, 784, 785, 786, 787, 788, 789, 790, 791, 799]\n",
            "EEG.F4 sütununda uzunluğu farklı olan satırlar: [2, 4, 5, 6, 9, 12, 13, 16, 22, 23, 24, 25, 28, 32, 33, 34, 39, 41, 42, 43, 44, 45, 46, 47, 49, 50, 57, 58, 59, 60, 61, 62, 63, 64, 65, 66, 67, 69, 70, 79, 85, 86, 87, 88, 89, 90, 91, 92, 99, 100, 101, 108, 109, 110, 111, 112, 119, 120, 121, 122, 123, 128, 129, 130, 131, 132, 133, 140, 141, 142, 143, 144, 145, 146, 147, 148, 149, 150, 151, 152, 153, 154, 155, 156, 157, 158, 159, 160, 161, 162, 163, 164, 165, 166, 167, 168, 169, 170, 180, 181, 184, 187, 188, 189, 190, 191, 192, 193, 194, 200, 201, 202, 203, 204, 205, 206, 216, 217, 218, 219, 220, 221, 222, 223, 225, 230, 231, 239, 242, 248, 249, 250, 251, 256, 258, 259, 260, 261, 262, 263, 264, 265, 266, 267, 278, 279, 280, 281, 282, 283, 284, 292, 293, 294, 295, 296, 297, 298, 299, 300, 303, 304, 305, 312, 313, 314, 315, 316, 317, 318, 319, 320, 321, 322, 323, 331, 332, 333, 334, 335, 336, 337, 338, 339, 340, 341, 342, 343, 344, 345, 346, 347, 352, 353, 354, 355, 356, 357, 358, 359, 360, 361, 362, 363, 364, 372, 373, 374, 375, 376, 377, 378, 379, 380, 381, 382, 383, 386, 388, 389, 390, 391, 392, 393, 394, 395, 400, 401, 402, 403, 404, 405, 412, 413, 414, 415, 416, 421, 422, 423, 424, 425, 426, 427, 428, 429, 430, 436, 437, 438, 439, 444, 445, 446, 447, 448, 449, 453, 454, 455, 456, 457, 458, 459, 466, 467, 468, 469, 470, 471, 472, 473, 474, 475, 482, 484, 486, 487, 488, 489, 496, 497, 498, 499, 501, 503, 504, 517, 524, 525, 526, 527, 528, 529, 530, 531, 536, 537, 538, 539, 544, 545, 546, 547, 548, 549, 550, 551, 552, 553, 554, 555, 559, 564, 565, 566, 567, 568, 569, 570, 571, 572, 573, 574, 575, 579, 585, 586, 587, 588, 589, 590, 591, 592, 593, 594, 595, 600, 601, 602, 603, 612, 613, 614, 615, 616, 617, 618, 619, 624, 625, 626, 627, 628, 629, 630, 631, 632, 633, 634, 635, 639, 644, 645, 646, 647, 652, 653, 654, 655, 656, 657, 658, 661, 662, 663, 664, 665, 666, 667, 668, 669, 676, 677, 678, 679, 680, 681, 682, 683, 684, 685, 686, 687, 696, 697, 698, 699, 700, 701, 702, 703, 704, 705, 706, 707, 716, 717, 718, 719, 720, 721, 722, 723, 724, 725, 726, 727, 733, 734, 735, 736, 737, 738, 739, 744, 745, 746, 747, 748, 749, 750, 751, 752, 753, 754, 755, 759, 760, 764, 765, 766, 767, 768, 769, 770, 771, 772, 773, 774, 775, 784, 785, 786, 787, 788, 789, 790, 791, 799]\n",
            "EEG.F8 sütununda uzunluğu farklı olan satırlar: [2, 4, 5, 6, 9, 12, 13, 16, 22, 23, 24, 25, 28, 32, 33, 34, 39, 41, 42, 43, 44, 45, 46, 47, 49, 50, 57, 58, 59, 60, 61, 62, 63, 64, 65, 66, 67, 69, 70, 79, 85, 86, 87, 88, 89, 90, 91, 92, 99, 100, 101, 108, 109, 110, 111, 112, 119, 120, 121, 122, 123, 128, 129, 130, 131, 132, 133, 140, 141, 142, 143, 144, 145, 146, 147, 148, 149, 150, 151, 152, 153, 154, 155, 156, 157, 158, 159, 160, 161, 162, 163, 164, 165, 166, 167, 168, 169, 170, 180, 181, 184, 187, 188, 189, 190, 191, 192, 193, 194, 200, 201, 202, 203, 204, 205, 206, 216, 217, 218, 219, 220, 221, 222, 223, 225, 230, 231, 239, 242, 248, 249, 250, 251, 256, 258, 259, 260, 261, 262, 263, 264, 265, 266, 267, 278, 279, 280, 281, 282, 283, 284, 292, 293, 294, 295, 296, 297, 298, 299, 300, 303, 304, 305, 312, 313, 314, 315, 316, 317, 318, 319, 320, 321, 322, 323, 331, 332, 333, 334, 335, 336, 337, 338, 339, 340, 341, 342, 343, 344, 345, 346, 347, 352, 353, 354, 355, 356, 357, 358, 359, 360, 361, 362, 363, 364, 372, 373, 374, 375, 376, 377, 378, 379, 380, 381, 382, 383, 386, 388, 389, 390, 391, 392, 393, 394, 395, 400, 401, 402, 403, 404, 405, 412, 413, 414, 415, 416, 421, 422, 423, 424, 425, 426, 427, 428, 429, 430, 436, 437, 438, 439, 444, 445, 446, 447, 448, 449, 453, 454, 455, 456, 457, 458, 459, 466, 467, 468, 469, 470, 471, 472, 473, 474, 475, 482, 484, 486, 487, 488, 489, 496, 497, 498, 499, 501, 503, 504, 517, 524, 525, 526, 527, 528, 529, 530, 531, 536, 537, 538, 539, 544, 545, 546, 547, 548, 549, 550, 551, 552, 553, 554, 555, 559, 564, 565, 566, 567, 568, 569, 570, 571, 572, 573, 574, 575, 579, 585, 586, 587, 588, 589, 590, 591, 592, 593, 594, 595, 600, 601, 602, 603, 612, 613, 614, 615, 616, 617, 618, 619, 624, 625, 626, 627, 628, 629, 630, 631, 632, 633, 634, 635, 639, 644, 645, 646, 647, 652, 653, 654, 655, 656, 657, 658, 661, 662, 663, 664, 665, 666, 667, 668, 669, 676, 677, 678, 679, 680, 681, 682, 683, 684, 685, 686, 687, 696, 697, 698, 699, 700, 701, 702, 703, 704, 705, 706, 707, 716, 717, 718, 719, 720, 721, 722, 723, 724, 725, 726, 727, 733, 734, 735, 736, 737, 738, 739, 744, 745, 746, 747, 748, 749, 750, 751, 752, 753, 754, 755, 759, 760, 764, 765, 766, 767, 768, 769, 770, 771, 772, 773, 774, 775, 784, 785, 786, 787, 788, 789, 790, 791, 799]\n",
            "EEG.AF4 sütununda uzunluğu farklı olan satırlar: [2, 4, 5, 6, 9, 12, 13, 16, 22, 23, 24, 25, 28, 32, 33, 34, 39, 41, 42, 43, 44, 45, 46, 47, 49, 50, 57, 58, 59, 60, 61, 62, 63, 64, 65, 66, 67, 69, 70, 79, 85, 86, 87, 88, 89, 90, 91, 92, 99, 100, 101, 108, 109, 110, 111, 112, 119, 120, 121, 122, 123, 128, 129, 130, 131, 132, 133, 140, 141, 142, 143, 144, 145, 146, 147, 148, 149, 150, 151, 152, 153, 154, 155, 156, 157, 158, 159, 160, 161, 162, 163, 164, 165, 166, 167, 168, 169, 170, 180, 181, 184, 187, 188, 189, 190, 191, 192, 193, 194, 200, 201, 202, 203, 204, 205, 206, 216, 217, 218, 219, 220, 221, 222, 223, 225, 230, 231, 239, 242, 248, 249, 250, 251, 256, 258, 259, 260, 261, 262, 263, 264, 265, 266, 267, 278, 279, 280, 281, 282, 283, 284, 292, 293, 294, 295, 296, 297, 298, 299, 300, 303, 304, 305, 312, 313, 314, 315, 316, 317, 318, 319, 320, 321, 322, 323, 331, 332, 333, 334, 335, 336, 337, 338, 339, 340, 341, 342, 343, 344, 345, 346, 347, 352, 353, 354, 355, 356, 357, 358, 359, 360, 361, 362, 363, 364, 372, 373, 374, 375, 376, 377, 378, 379, 380, 381, 382, 383, 386, 388, 389, 390, 391, 392, 393, 394, 395, 400, 401, 402, 403, 404, 405, 412, 413, 414, 415, 416, 421, 422, 423, 424, 425, 426, 427, 428, 429, 430, 436, 437, 438, 439, 444, 445, 446, 447, 448, 449, 453, 454, 455, 456, 457, 458, 459, 466, 467, 468, 469, 470, 471, 472, 473, 474, 475, 482, 484, 486, 487, 488, 489, 496, 497, 498, 499, 501, 503, 504, 517, 524, 525, 526, 527, 528, 529, 530, 531, 536, 537, 538, 539, 544, 545, 546, 547, 548, 549, 550, 551, 552, 553, 554, 555, 559, 564, 565, 566, 567, 568, 569, 570, 571, 572, 573, 574, 575, 579, 585, 586, 587, 588, 589, 590, 591, 592, 593, 594, 595, 600, 601, 602, 603, 612, 613, 614, 615, 616, 617, 618, 619, 624, 625, 626, 627, 628, 629, 630, 631, 632, 633, 634, 635, 639, 644, 645, 646, 647, 652, 653, 654, 655, 656, 657, 658, 661, 662, 663, 664, 665, 666, 667, 668, 669, 676, 677, 678, 679, 680, 681, 682, 683, 684, 685, 686, 687, 696, 697, 698, 699, 700, 701, 702, 703, 704, 705, 706, 707, 716, 717, 718, 719, 720, 721, 722, 723, 724, 725, 726, 727, 733, 734, 735, 736, 737, 738, 739, 744, 745, 746, 747, 748, 749, 750, 751, 752, 753, 754, 755, 759, 760, 764, 765, 766, 767, 768, 769, 770, 771, 772, 773, 774, 775, 784, 785, 786, 787, 788, 789, 790, 791, 799]\n"
          ]
        }
      ]
    },
    {
      "cell_type": "code",
      "source": [
        "# 346. satırdaki verilere ulaşmak için\n",
        "print(merged_data.iloc[345])\n"
      ],
      "metadata": {
        "id": "DmGqvBH7AY-D",
        "colab": {
          "base_uri": "https://localhost:8080/"
        },
        "outputId": "71bafa8a-f6ec-448f-eec9-4aa0b33fc4c7"
      },
      "execution_count": 13,
      "outputs": [
        {
          "output_type": "stream",
          "name": "stdout",
          "text": [
            "user_id                     9bbf02ef-b2a5-4956-8654-5de9eaa126c4\n",
            "Timestamp      [02:59:30 PM, 02:59:30 PM, 02:59:30 PM, 02:59:...\n",
            "EEG.AF3        [3986.153809, 3993.846191, 3996.923096, 3994.8...\n",
            "EEG.F7         [4183.077148, 4192.820313, 4196.410156, 4187.1...\n",
            "EEG.F3         [3783.589844, 3784.615479, 3785.641113, 3783.0...\n",
            "EEG.FC5        [4107.692383, 4108.205078, 4121.538574, 4118.4...\n",
            "EEG.T7         [4095.384521, 4093.846191, 4091.281982, 4091.7...\n",
            "EEG.P7         [4158.461426, 4154.871582, 4152.820313, 4154.3...\n",
            "EEG.O1         [4173.846191, 4169.743652, 4169.230957, 4170.2...\n",
            "EEG.O2         [4122.05127, 4122.05127, 4113.846191, 4111.282...\n",
            "EEG.P8         [3913.846191, 3920.512939, 3914.871826, 3907.1...\n",
            "EEG.T8         [4504.615234, 4514.871582, 4515.897461, 4509.7...\n",
            "EEG.FC6        [4480.512695, 4491.282227, 4494.358887, 4489.2...\n",
            "EEG.F4         [4554.871582, 4562.563965, 4567.179688, 4562.5...\n",
            "EEG.F8         [4076.410156, 4091.794922, 4097.94873, 4092.30...\n",
            "EEG.AF4        [4523.589844, 4535.384766, 4540.512695, 4536.9...\n",
            "source_file                                              (18, 6)\n",
            "aro                                                            0\n",
            "val                                                            0\n",
            "Name: 345, dtype: object\n"
          ]
        }
      ]
    },
    {
      "cell_type": "code",
      "source": [
        "# İlk satırdaki EEG.F8 değerini almak\n",
        "row_index = 0  # Hangi satırı kontrol etmek istiyorsanız o indeksi belirtin\n",
        "f8_values = merged_data.loc[row_index, \"EEG.F8\"]\n",
        "\n",
        "print(f8_values)\n"
      ],
      "metadata": {
        "colab": {
          "base_uri": "https://localhost:8080/"
        },
        "id": "i5oQ4BavSypl",
        "outputId": "7f2c8389-6f8d-45c7-cee9-269355aabf14"
      },
      "execution_count": 14,
      "outputs": [
        {
          "output_type": "stream",
          "name": "stdout",
          "text": [
            "[4113.333496, 4106.666504, 4104.615234, 4111.794922, 4117.436035, 4116.922852, 4135.384766, 4177.436035, 4191.794922, 4173.846191, 4165.641113, 4172.307617, 4170.769043, 4160.512695, 4151.282227, 4134.358887, 4115.897461, 4114.358887, 4120.512695, 4110.769043, 4101.025879, 4108.717773, 4116.922852, 4114.871582, 4109.230957, 4104.102539, 4104.102539, 4106.153809, 4108.205078, 4114.358887, 4120.512695, 4121.025879, 4120.0, 4121.025879, 4117.94873, 4110.256348, 4106.666504, 4110.769043, 4110.256348, 4109.743652, 4115.384766, 4114.871582, 4105.641113, 4103.589844, 4108.205078, 4107.179688, 4105.641113, 4106.666504, 4105.128418, 4103.589844, 4103.589844, 4105.641113, 4108.717773, 4112.820313, 4110.769043, 4110.256348, 4112.307617, 4111.794922, 4110.769043, 4112.307617, 4114.358887, 4113.333496, 4111.282227, 4107.179688, 4102.563965, 4106.666504, 4123.589844, 4141.025879, 4148.205078, 4150.769043, 4155.897461, 4153.846191, 4140.512695, 4137.94873, 4149.743652, 4148.205078, 4142.563965, 4154.871582, 4161.538574, 4153.846191, 4154.358887, 4154.358887, 4148.717773, 4155.897461, 4165.128418, 4157.94873, 4149.230957, 4152.820313, 4162.563965, 4169.743652, 4163.077148, 4151.282227, 4149.230957, 4144.615234, 4141.025879, 4151.794922, 4157.436035, 4153.333496, 4151.794922, 4150.256348, 4152.307617, 4159.487305, 4158.974121, 4154.871582, 4151.282227, 4138.974121, 4135.384766, 4155.384766, 4174.358887, 4174.358887, 4163.589844, 4155.897461, 4150.769043, 4144.615234, 4140.512695, 4139.487305, 4134.358887, 4126.666504, 4120.512695, 4110.256348, 4101.025879, 4107.179688, 4121.025879, 4123.589844, 4121.538574, 4123.077148, 4117.436035, 4110.256348, 4117.436035, 4124.102539, 4120.0, 4120.0, 4125.641113, 4117.436035, 4109.743652, 4116.410156, 4121.025879, 4119.487305, 4118.974121, 4115.384766, 4116.922852, 4123.589844, 4122.563965, 4119.487305, 4123.589844, 4124.615234, 4123.589844, 4127.692383, 4134.358887, 4141.025879, 4141.538574, 4132.307617, 4122.563965, 4118.974121, 4120.512695, 4123.589844, 4124.615234, 4123.077148, 4121.025879, 4120.512695, 4118.974121, 4120.0, 4125.128418, 4124.615234, 4120.512695, 4122.05127, 4126.666504, 4127.179688, 4125.641113, 4124.615234, 4120.512695, 4116.922852, 4125.128418, 4141.025879, 4147.692383, 4146.666504, 4141.538574, 4127.692383, 4117.436035, 4120.512695, 4121.538574, 4120.512695, 4118.461426, 4110.769043, 4109.230957, 4122.563965, 4128.205078, 4119.487305, 4115.384766, 4118.974121, 4120.512695, 4112.307617, 4105.641113, 4115.897461, 4125.128418, 4115.897461, 4105.128418, 4107.179688, 4111.794922, 4109.230957, 4109.230957, 4117.436035, 4123.077148, 4117.436035, 4112.307617, 4114.871582, 4116.410156, 4118.974121, 4122.563965, 4122.05127, 4124.615234, 4125.641113, 4121.538574, 4125.641113, 4130.769043, 4123.077148, 4123.589844, 4133.333496, 4127.692383, 4122.563965, 4136.410156, 4144.102539, 4135.897461, 4134.358887, 4141.538574, 4141.025879, 4134.871582, 4134.871582, 4138.461426, 4137.436035, 4137.94873, 4142.05127, 4141.538574, 4136.410156, 4136.410156, 4137.94873, 4135.384766, 4138.974121, 4151.282227, 4155.897461, 4150.256348, 4149.743652, 4150.769043, 4141.538574, 4141.025879, 4148.205078, 4143.589844, 4138.461426, 4149.230957, 4157.94873, 4151.794922, 4144.102539, 4138.461426, 4134.871582, 4135.897461, 4137.436035, 4138.461426, 4139.487305, 4136.922852, 4129.743652, 4122.563965, 4123.589844, 4130.769043, 4137.94873, 4140.0, 4138.461426, 4138.461426, 4136.922852, 4135.897461, 4139.487305, 4142.05127, 4140.0, 4136.922852, 4135.384766, 4137.436035, 4138.461426, 4138.461426, 4138.974121, 4140.0, 4137.436035, 4133.333496, 4134.871582, 4137.436035, 4141.538574, 4152.307617, 4157.94873, 4145.641113, 4133.333496, 4140.512695, 4149.743652, 4150.769043, 4149.230957, 4144.615234, 4137.436035, 4136.922852, 4138.461426, 4135.384766, 4136.410156, 4138.974121, 4130.256348, 4121.025879, 4125.641113, 4127.692383, 4125.128418, 4133.846191, 4141.025879, 4140.512695, 4135.897461, 4127.692383, 4120.512695, 4120.512695, 4125.128418, 4131.794922, 4137.94873, 4136.410156, 4130.256348, 4130.256348, 4129.230957, 4125.641113, 4127.692383, 4129.230957, 4128.717773, 4132.820313, 4141.538574, 4139.487305, 4127.179688, 4120.512695, 4113.333496, 4105.128418, 4108.205078, 4115.384766, 4113.846191, 4110.769043, 4117.94873, 4129.743652, 4135.384766, 4129.743652, 4120.512695, 4115.384766, 4113.333496, 4116.922852, 4124.102539, 4120.0, 4114.358887, 4117.436035, 4122.563965, 4124.102539, 4122.05127, 4114.871582, 4111.282227, 4113.333496, 4113.846191, 4115.897461, 4119.487305, 4112.307617, 4104.102539, 4103.589844, 4105.641113, 4115.384766, 4126.153809, 4123.589844, 4123.077148, 4125.641113, 4122.05127, 4120.512695, 4120.512695, 4108.717773, 4101.538574, 4108.205078, 4115.897461, 4118.461426, 4093.846191, 4083.076904, 4180.0, 4309.743652, 4342.563965, 4331.282227, 4349.230957, 4354.871582, 4342.05127, 4341.025879, 4342.05127, 4341.538574, 4340.0, 4338.974121, 4348.205078, 4351.794922, 4343.589844, 4340.0, 4336.410156, 4329.230957, 4326.153809, 4317.436035, 4310.256348, 4320.512695, 4331.794922, 4327.179688, 4320.0, 4315.897461, 4316.922852, 4322.05127, 4316.922852, 4309.230957, 4309.743652, 4310.256348, 4310.769043, 4309.230957, 4305.641113, 4302.05127, 4298.461426, 4294.871582, 4291.794922, 4285.128418, 4280.512695, 4282.563965, 4276.410156, 4264.615234, 4263.589844, 4266.666504, 4264.615234, 4254.358887, 4239.487305, 4225.128418, 4222.563965, 4227.692383, 4222.05127, 4212.307617, 4213.333496, 4216.922852, 4216.922852, 4215.384766, 4207.179688, 4198.461426, 4203.077148, 4208.717773, 4207.692383, 4206.666504, 4200.0, 4191.794922, 4194.358887, 4202.05127, 4203.077148, 4196.410156, 4194.358887, 4196.410156, 4198.461426, 4200.512695, 4197.94873, 4187.179688, 4182.05127, 4181.025879, 4176.922852, 4177.94873, 4177.436035, 4170.256348, 4170.256348, 4172.820313, 4167.179688, 4166.666504, 4170.256348, 4166.153809, 4164.615234, 4171.794922, 4176.922852, 4172.820313, 4164.615234, 4170.256348, 4184.102539, 4183.077148, 4176.922852, 4182.563965, 4186.666504, 4184.102539, 4183.077148, 4177.94873, 4172.307617, 4174.871582, 4172.307617, 4170.256348, 4172.307617, 4168.717773, 4170.769043, 4181.538574, 4170.256348, 4151.794922, 4169.743652, 4201.025879, 4215.897461, 4228.205078, 4238.974121, 4237.94873, 4233.846191, 4234.358887, 4233.846191, 4230.256348, 4228.717773, 4239.487305, 4252.307617, 4248.205078, 4235.897461, 4227.692383, 4218.974121, 4213.333496, 4214.358887, 4214.871582, 4220.0, 4229.230957, 4233.333496, 4231.282227, 4225.641113, 4225.641113, 4229.230957, 4223.589844, 4214.871582, 4216.410156, 4218.974121, 4215.897461, 4212.307617, 4211.794922, 4213.846191, 4210.256348, 4200.512695, 4198.461426, 4201.538574, 4198.974121, 4197.94873, 4201.025879, 4200.0, 4200.512695, 4205.128418, 4206.666504, 4202.563965, 4201.538574, 4203.589844, 4201.025879, 4198.974121, 4201.538574, 4201.538574, 4198.461426, 4196.922852, 4193.846191, 4185.128418, 4181.538574, 4182.05127, 4181.538574, 4183.589844, 4189.230957, 4190.256348, 4185.641113, 4186.666504, 4198.461426, 4212.307617, 4212.820313, 4203.077148, 4202.05127, 4198.974121, 4180.512695, 4170.256348, 4182.05127, 4189.230957, 4184.102539, 4183.077148, 4182.563965, 4178.461426, 4171.794922, 4169.230957, 4176.410156, 4185.641113, 4184.615234, 4175.384766, 4170.256348, 4165.128418, 4157.436035, 4150.256348, 4154.358887, 4164.102539, 4162.563965, 4161.025879, 4163.589844, 4160.512695, 4153.333496, 4153.846191, 4154.358887, 4154.358887, 4156.922852, 4153.846191, 4151.794922, 4153.333496, 4151.794922, 4150.256348, 4152.307617, 4155.384766, 4156.410156, 4155.384766, 4155.384766, 4155.384766, 4155.897461, 4155.384766, 4150.256348, 4150.769043, 4154.358887, 4144.102539, 4135.384766, 4138.461426, 4132.820313, 4118.974121, 4110.769043, 4110.769043, 4111.794922, 4109.230957, 4105.128418, 4105.641113, 4107.692383, 4113.333496, 4116.410156, 4114.358887, 4114.871582, 4116.410156, 4116.922852, 4118.974121, 4116.922852, 4110.769043, 4106.666504, 4097.436035, 4087.692383, 4092.820557, 4094.871826, 4086.666748, 4095.384521, 4122.05127, 4142.563965, 4156.922852, 4165.128418, 4160.512695, 4156.410156, 4159.487305, 4156.922852, 4153.333496, 4150.769043, 4147.692383, 4145.641113, 4140.0, 4136.922852, 4140.0, 4140.0, 4137.436035, 4138.974121, 4143.077148, 4140.0, 4134.871582, 4136.410156, 4138.974121, 4136.410156, 4142.563965, 4156.922852, 4153.846191, 4144.102539, 4151.794922, 4162.05127, 4155.897461, 4144.615234, 4133.333496, 4123.077148, 4121.025879, 4122.05127, 4118.461426, 4124.102539, 4132.307617, 4127.692383, 4123.077148, 4124.615234, 4125.128418, 4123.077148, 4122.05127, 4128.205078, 4134.871582, 4128.717773, 4119.487305, 4122.563965, 4126.666504, 4124.102539, 4124.615234, 4123.589844, 4114.358887, 4110.256348, 4114.358887, 4108.205078, 4094.871826, 4095.897461, 4103.077148, 4105.641113, 4108.717773, 4110.256348, 4105.641113, 4104.102539, 4114.358887, 4123.589844, 4124.102539, 4120.0, 4111.794922, 4112.820313, 4118.461426, 4112.307617, 4103.077148, 4101.538574, 4101.025879, 4103.077148, 4107.692383, 4099.487305, 4093.333252, 4102.563965, 4105.641113, 4106.666504, 4114.871582, 4114.871582, 4106.666504, 4103.589844, 4101.538574, 4101.025879, 4103.589844, 4110.769043, 4116.922852, 4110.256348, 4100.0, 4102.563965, 4104.102539, 4108.717773, 4114.871582, 4110.256348, 4110.769043, 4129.743652, 4140.512695, 4138.974121, 4146.153809, 4155.384766, 4154.871582, 4154.871582, 4161.025879, 4158.974121, 4150.769043, 4156.410156, 4158.974121, 4147.692383, 4142.05127, 4140.0, 4138.974121, 4147.692383, 4150.769043, 4141.025879, 4133.846191, 4128.717773, 4123.589844, 4123.077148, 4114.871582, 4103.077148, 4105.641113, 4108.205078, 4103.077148, 4104.615234, 4107.179688, 4100.512695, 4098.461426, 4106.666504, 4110.256348, 4105.641113, 4103.077148, 4106.153809, 4103.589844, 4098.461426, 4101.025879, 4106.666504, 4105.641113, 4102.05127, 4104.102539, 4107.692383, 4103.589844, 4098.461426, 4100.512695, 4102.563965, 4103.589844, 4111.794922, 4111.794922, 4103.077148, 4104.615234, 4113.333496, 4115.384766, 4116.410156, 4116.410156, 4111.794922, 4111.282227, 4113.846191, 4112.307617, 4109.743652, 4107.692383, 4112.307617, 4118.461426, 4113.333496, 4109.230957, 4116.922852, 4113.846191, 4102.563965, 4103.589844, 4114.358887, 4119.487305, 4117.94873, 4114.871582, 4122.563965, 4135.384766, 4138.461426, 4138.461426, 4140.0, 4132.820313, 4121.538574, 4119.487305, 4118.974121, 4113.333496, 4114.871582, 4121.538574, 4125.128418, 4124.615234, 4121.538574, 4119.487305, 4121.538574, 4119.487305, 4116.410156, 4120.0, 4123.589844, 4130.256348, 4135.384766, 4126.666504, 4118.974121, 4126.666504, 4133.846191, 4133.846191, 4137.436035, 4142.05127, 4137.94873, 4127.692383, 4125.641113, 4133.333496, 4139.487305, 4134.871582, 4129.230957, 4130.256348, 4133.846191, 4137.94873, 4137.436035, 4130.256348, 4127.179688, 4132.820313, 4127.179688, 4116.922852, 4121.025879, 4124.615234, 4119.487305, 4116.410156, 4118.461426, 4129.230957, 4142.05127, 4143.589844, 4143.077148, 4144.102539, 4140.512695, 4143.077148, 4152.307617, 4152.820313, 4147.692383, 4147.692383, 4153.846191, 4158.974121, 4158.974121, 4156.922852, 4152.820313, 4150.769043, 4148.205078, 4143.589844, 4150.256348, 4166.153809, 4170.769043, 4167.179688, 4171.282227, 4172.307617, 4166.666504, 4165.641113, 4170.769043, 4174.871582, 4170.769043, 4166.153809, 4164.102539, 4156.922852, 4149.230957, 4152.307617, 4156.922852, 4161.538574, 4168.205078, 4173.333496, 4173.846191, 4171.282227, 4168.717773, 4169.230957, 4165.641113, 4156.922852, 4152.307617, 4155.384766, 4155.384766, 4153.333496, 4155.384766, 4156.922852, 4155.897461, 4152.820313, 4148.205078, 4146.666504, 4146.153809, 4138.461426, 4138.461426, 4149.743652, 4145.641113, 4137.436035, 4138.461426, 4134.871582, 4133.333496, 4136.410156, 4140.0, 4147.179688, 4149.230957, 4143.077148, 4146.153809, 4154.871582, 4152.820313, 4144.102539, 4136.922852, 4136.922852, 4144.102539, 4147.692383, 4151.282227, 4154.871582, 4150.256348, 4143.077148, 4145.128418, 4154.871582, 4155.384766, 4148.205078, 4155.384766, 4170.256348, 4168.205078, 4160.512695, 4166.153809, 4170.256348, 4168.717773, 4165.641113, 4156.922852, 4157.94873, 4165.128418, 4155.384766, 4146.153809, 4155.384766, 4156.410156, 4143.589844, 4135.897461, 4136.410156, 4137.94873, 4135.897461, 4136.410156, 4139.487305, 4138.974121, 4135.384766, 4137.436035, 4141.538574, 4133.846191, 4123.589844, 4127.692383, 4138.461426, 4135.897461, 4127.692383, 4126.666504, 4125.128418, 4122.05127, 4123.589844, 4126.153809, 4125.641113, 4125.128418, 4126.666504, 4126.153809, 4123.589844, 4120.512695, 4121.025879, 4123.077148, 4117.94873, 4106.666504, 4103.589844, 4109.230957, 4107.179688, 4107.179688, 4118.974121, 4128.717773, 4121.538574, 4111.282227, 4116.410156, 4122.05127, 4116.410156, 4115.897461, 4124.615234, 4120.0, 4113.333496, 4119.487305, 4115.384766, 4108.717773, 4115.897461, 4116.410156, 4109.230957, 4117.436035, 4127.692383, 4118.974121, 4111.282227, 4117.94873, 4123.589844, 4120.512695, 4125.128418, 4135.384766, 4130.256348, 4120.0, 4123.589844, 4124.615234, 4111.282227, 4107.692383, 4117.436035, 4122.05127, 4122.05127, 4124.102539, 4123.077148, 4121.538574, 4126.153809, 4126.666504, 4119.487305, 4120.0, 4128.205078, 4123.077148, 4111.282227, 4113.333496, 4123.077148, 4126.153809, 4122.563965, 4126.666504, 4132.820313, 4130.256348, 4126.153809, 4124.102539, 4116.410156, 4113.846191, 4121.538574, 4125.128418, 4129.230957, 4138.974121, 4136.410156, 4122.05127, 4120.512695, 4133.846191, 4143.077148, 4137.94873, 4128.205078, 4128.717773, 4135.897461, 4127.179688, 4116.922852, 4135.897461, 4146.666504, 4124.102539, 4116.410156, 4129.230957, 4126.153809, 4121.538574, 4130.256348, 4131.282227, 4123.589844, 4123.077148, 4130.256348, 4130.769043, 4123.077148, 4120.0, 4118.974121, 4115.384766, 4116.922852, 4118.461426, 4111.794922, 4111.794922, 4122.563965, 4128.205078, 4125.641113, 4118.974121, 4116.922852, 4121.025879, 4121.538574, 4117.436035, 4120.0, 4123.589844, 4123.077148, 4128.717773, 4131.794922, 4124.102539, 4120.512695, 4125.128418, 4126.666504, 4125.128418, 4120.512695, 4112.307617, 4106.666504, 4109.230957, 4114.871582, 4116.922852, 4114.871582, 4108.205078, 4094.358887, 4089.230713, 4102.05127, 4110.256348, 4105.128418, 4107.179688, 4120.0, 4126.153809, 4119.487305, 4111.282227, 4109.230957, 4109.230957, 4104.102539, 4099.487305, 4103.077148, 4106.666504, 4104.615234, 4103.589844, 4102.563965, 4096.922852, 4095.384521, 4096.922852, 4091.281982, 4091.281982, 4103.589844, 4103.077148, 4094.871826, 4100.0, 4100.0, 4091.794922, 4095.384521, 4093.333252, 4076.923096, 4072.307617, 4072.307617, 4060.0, 4055.897461, 4060.512939, 4055.897461, 4049.743652, 4051.794922, 4050.256348, 4035.384521, 4023.589844, 4017.94873, 4009.230713, 4005.641113, 4018.461426, 4040.0, 4048.718018, 4041.025635, 4041.538574, 4056.923096, 4057.94873, 4048.205078, 4048.718018, 4043.589844, 4036.923096, 4047.179443, 4056.923096, 4054.871826, 4055.384521, 4057.94873, 4052.307617, 4049.743652, 4048.205078, 4045.641113, 4049.230713, 4053.846191, 4054.871826, 4057.435791, 4063.076904, 4062.564209, 4057.94873, 4056.410156, 4048.718018, 4043.589844, 4046.666748, 4048.205078, 4052.307617, 4068.205078, 4080.512939, 4072.307617, 4063.589844, 4067.692383, 4073.333252, 4073.846191, 4075.384521, 4079.487061, 4072.307617, 4071.281982, 4085.641113, 4081.538574, 4062.564209, 4064.615479, 4071.794922, 4062.05127, 4060.512939, 4066.666748, 4066.153809, 4069.230713, 4072.307617, 4073.333252, 4081.025635, 4086.666748, 4083.589844, 4081.538574, 4081.538574, 4079.487061, 4076.923096, 4069.230713, 4061.538574, 4064.102539, 4064.615479, 4054.871826, 4050.256348, 4050.256348, 4042.564209, 4040.0, 4047.692383, 4044.102539, 4036.923096, 4040.0, 4037.435791, 4033.846191, 4043.076904, 4046.153809, 4037.94873, 4039.487061, 4044.615479, 4041.538574, 4044.102539, 4057.435791, 4062.564209, 4058.461426, 4050.769287, 4045.641113, 4060.0, 4086.666748, 4108.717773, 4134.358887, 4158.974121, 4169.230957, 4177.436035, 4186.666504, 4189.743652, 4185.128418, 4174.871582, 4169.230957, 4164.102539, 4152.307617, 4146.666504, 4154.871582, 4155.384766, 4150.769043, 4157.94873, 4162.05127, 4155.384766, 4148.205078, 4155.897461, 4167.179688, 4166.666504, 4164.615234, 4170.256348, 4173.333496, 4168.205078, 4173.333496, 4183.589844, 4186.153809, 4186.153809, 4182.05127, 4174.358887, 4175.384766, 4184.102539, 4184.615234, 4182.563965, 4188.717773, 4191.282227, 4186.666504, 4185.128418, 4188.205078, 4188.717773, 4184.615234, 4183.589844, 4187.179688, 4181.025879, 4168.205078, 4166.666504, 4171.282227, 4168.717773, 4169.230957, 4175.897461, 4173.846191, 4169.230957, 4168.205078, 4167.692383, 4170.256348, 4172.307617, 4166.666504, 4164.615234, 4173.333496, 4174.871582, 4168.205078, 4166.666504, 4169.743652, 4179.487305, 4187.179688, 4183.589844, 4176.410156, 4174.871582, 4172.307617, 4169.230957, 4171.282227, 4170.769043, 4162.563965, 4162.05127, 4165.641113, 4161.025879, 4155.897461, 4157.94873, 4150.256348, 4139.487305, 4143.589844, 4143.077148, 4135.384766, 4136.922852, 4142.05127, 4141.025879, 4138.461426, 4130.769043, 4121.538574, 4124.102539, 4128.205078, 4123.077148, 4117.94873, 4118.974121, 4128.205078, 4135.897461, 4136.410156, 4133.333496, 4128.717773, 4124.102539, 4121.025879, 4115.384766, 4103.077148, 4094.871826, 4096.410156, 4094.358887, 4093.846191, 4101.025879, 4102.05127, 4091.281982, 4089.743652, 4093.846191, 4093.333252, 4098.974121, 4109.230957, 4107.179688, 4106.666504, 4119.487305, 4118.461426, 4110.256348, 4113.846191, 4110.769043, 4099.487305, 4100.0, 4113.846191, 4118.974121, 4108.717773, 4101.538574, 4110.256348, 4116.922852, 4108.205078, 4103.589844, 4105.128418, 4105.641113, 4109.743652, 4111.282227, 4103.589844, 4089.230713, 4075.897461, 4063.589844, 4055.384521, 4056.923096, 4061.025635, 4062.05127, 4064.102539, 4067.692383, 4065.641113, 4061.538574, 4062.05127, 4065.641113, 4069.230713, 4066.153809, 4060.0, 4066.153809, 4076.923096, 4070.769287, 4062.05127, 4068.718018, 4068.718018, 4056.923096, 4064.102539, 4078.461426, 4073.846191, 4063.589844, 4060.512939, 4057.435791, 4059.487061, 4066.666748, 4068.205078, 4069.230713, 4070.256348, 4072.307617, 4078.461426, 4080.512939, 4073.846191, 4070.256348, 4071.794922, 4067.179443, 4061.025635, 4063.589844, 4069.743652, 4071.281982, 4073.846191, 4078.974365, 4078.974365, 4075.384521, 4074.871826, 4071.794922, 4061.538574, 4054.871826, 4053.333252, 4048.718018, 4047.179443, 4049.743652, 4043.589844, 4031.794922, 4023.589844, 4017.435791, 4017.94873, 4026.153809, 4027.692383, 4021.538574, 4016.923096, 4011.281982, 4001.025635, 4001.538574, 4009.230713, 4000.512939, 3986.666748, 3988.718018, 3991.794922, 3989.743652, 3995.897461, 3998.461426, 3988.718018, 3990.256348, 4001.025635, 3996.923096, 3986.666748, 3989.230713, 3996.410156, 3993.846191, 3986.153809, 3985.641113, 3988.205078, 3987.692383, 3987.179443, 3989.230713, 3988.205078, 3983.589844, 3982.05127, 3986.666748, 3989.230713, 3985.128174, 3985.128174, 3988.718018, 3986.666748, 3989.230713, 3995.384521, 3993.846191, 3994.871826, 3999.487061, 3993.846191, 3980.512939, 3970.256348, 3965.128174, 3964.102539, 3962.05127, 3958.974365, 3957.94873, 3956.923096, 3958.461426, 3961.025635, 3958.461426, 3955.897461, 3956.923096, 3957.94873, 3953.846191, 3952.307617, 3958.461426, 3962.05127, 3958.974365, 3957.435791, 3955.384521, 3952.820557, 3961.025635, 3972.307617, 3977.435791, 3973.333252, 3965.641113, 3967.179443, 3974.871826, 3968.718018, 3958.461426, 3957.94873, 3951.281982, 3943.076904, 3953.846191, 3964.615479, 3962.564209, 3958.461426, 3957.435791, 3958.461426, 3958.974365, 3956.923096, 3959.487061, 3962.564209, 3956.410156, 3958.974365, 3968.205078, 3966.666748, 3966.666748, 3969.230713, 3963.589844, 3962.564209, 3971.281982, 3973.333252, 3969.230713, 3970.256348, 3969.230713, 3966.666748, 3966.153809, 3965.128174, 3968.718018, 3973.333252, 3966.666748, 3961.538574, 3975.897461, 3991.281982, 3993.333252, 3989.743652, 3980.512939, 3972.820557, 3972.307617, 3975.384521, 3978.461426, 3980.512939, 3978.461426, 3976.923096, 3977.94873, 3981.025635, 3981.538574, 3971.794922, 3971.281982, 3988.718018, 3995.897461, 3988.718018, 3987.692383, 3994.358887, 3989.743652, 3976.410156, 3970.256348, 3973.846191, 3975.384521, 3974.358887, 3980.0, 3982.05127, 3974.358887, 3970.256348, 3977.94873, 3985.641113, 3983.076904, 3975.897461, 3970.769287, 3973.333252, 3980.512939, 3985.128174, 3986.153809, 3985.641113, 3982.564209, 3981.538574, 3987.692383, 3990.769287, 3990.769287, 3991.281982, 3987.692383, 3988.718018, 3985.641113, 3972.820557, 3980.0, 4007.692383, 4013.333252, 4004.615479, 4008.718018, 4010.256348, 4003.589844, 4001.538574, 4000.0, 4002.05127, 4015.384521, 4024.615479, 4020.512939, 4021.025635, 4027.179443, 4027.692383, 4022.564209, 4019.487061, 4018.974365, 4019.487061, 4024.615479, 4031.794922, 4035.897461, 4038.974365, 4042.05127, 4043.589844, 4036.410156, 4024.102539, 4033.846191, 4069.230713, 4091.281982, 4094.871826, 4105.128418, 4108.205078, 4092.307617, 4079.487061, 4076.410156, 4081.025635, 4088.205078, 4090.256348, 4085.641113, 4080.0, 4074.871826, 4068.205078, 4065.128174, 4066.666748, 4072.307617, 4081.025635, 4086.153809, 4087.179443, 4085.641113, 4090.256348, 4094.871826, 4087.692383, 4081.538574, 4085.641113, 4085.128174, 4077.94873, 4080.0, 4082.564209, 4075.384521, 4071.794922, 4076.923096, 4083.589844, 4087.179443, 4090.256348, 4090.769287, 4083.076904, 4075.897461, 4079.487061, 4078.461426, 4074.358887, 4078.974365, 4081.538574, 4079.487061, 4079.487061, 4081.025635, 4085.128174, 4091.281982, 4091.794922, 4084.615479, 4073.333252, 4071.794922, 4088.205078, 4106.666504, 4111.282227, 4108.717773, 4105.641113, 4109.743652, 4116.922852, 4113.846191, 4106.153809, 4105.128418, 4112.820313, 4122.563965, 4122.05127, 4112.820313, 4111.794922, 4118.974121, 4116.922852, 4109.743652, 4110.769043, 4109.230957, 4099.487305, 4096.410156, 4100.512695, 4101.025879, 4103.077148, 4107.179688, 4109.230957, 4103.589844, 4090.769287, 4094.358887, 4122.563965, 4140.0, 4133.333496, 4128.717773, 4137.94873, 4137.94873, 4124.102539, 4117.94873, 4126.153809, 4122.563965, 4110.256348, 4110.256348, 4120.0, 4121.538574, 4112.307617, 4105.128418, 4110.769043, 4118.461426, 4120.512695, 4120.0, 4116.410156, 4110.256348, 4107.692383, 4107.179688, 4102.563965, 4100.512695, 4107.692383, 4111.282227, 4101.025879, 4097.94873, 4106.153809, 4098.461426, 4085.641113, 4093.846191, 4106.153809, 4105.128418, 4104.102539, 4104.615234, 4106.666504, 4114.871582, 4122.563965, 4124.615234, 4122.563965, 4117.94873, 4116.922852, 4122.05127, 4124.102539, 4118.461426, 4115.897461, 4117.94873, 4114.358887, 4107.692383, 4102.563965, 4092.820557, 4086.666748, 4093.333252, 4096.410156, 4094.358887, 4097.94873, 4097.94873, 4090.769287, 4086.666748, 4095.897461, 4105.128418, 4102.563965, 4099.487305, 4106.153809, 4108.717773, 4105.128418, 4106.153809, 4104.615234, 4109.230957, 4122.05127, 4114.358887, 4102.563965, 4116.922852, 4131.282227, 4122.563965, 4117.436035, 4123.589844, 4124.102539, 4123.077148, 4123.077148, 4119.487305, 4118.461426, 4121.538574, 4120.512695, 4123.589844, 4135.897461, 4140.512695, 4138.974121, 4138.974121, 4129.230957, 4118.974121, 4124.615234, 4128.205078, 4114.871582, 4107.179688, 4107.692383, 4092.820557, 4072.820557, 4060.0, 4045.128174, 4038.461426, 4048.718018, 4053.333252, 4049.230713, 4047.179443, 4044.102539, 4047.179443, 4054.358887, 4047.179443, 4036.410156, 4038.461426, 4047.179443, 4052.820557, 4052.820557, 4045.641113, 4035.897461, 4032.820557, 4035.897461, 4038.461426, 4037.435791, 4038.461426, 4036.410156, 4020.0, 4005.128174, 4008.205078, 4017.435791, 4017.94873, 4017.435791, 4022.05127, 4021.025635, 4013.333252, 4011.281982, 4014.358887, 4016.923096, 4019.487061, 4014.358887, 4006.666748, 4006.666748, 4016.410156, 4025.128174, 4026.666748, 4023.589844, 4022.05127, 4024.615479, 4025.128174, 4023.589844, 4021.025635, 4018.974365, 4020.0, 4021.025635, 4022.564209, 4022.564209, 4020.512939, 4020.0, 4017.435791, 4014.871826, 4021.538574, 4028.205078, 4023.589844, 4015.384521, 4017.435791, 4025.641113, 4030.769287, 4031.281982, 4031.794922, 4034.358887, 4034.358887, 4034.871826, 4036.410156, 4037.94873, 4047.179443, 4054.871826, 4053.846191, 4049.230713, 4044.615479, 4045.128174, 4049.230713, 4037.94873, 4026.666748, 4045.641113, 4074.358887, 4089.743652, 4105.128418, 4128.717773, 4145.641113, 4146.153809, 4142.05127, 4137.436035, 4127.179688, 4124.102539, 4133.846191, 4138.974121, 4136.922852, 4131.282227, 4123.077148, 4127.179688, 4133.333496, 4129.230957, 4128.205078, 4130.769043, 4123.077148, 4114.871582, 4124.615234, 4134.358887, 4127.179688, 4119.487305, 4124.102539, 4124.102539, 4114.871582, 4122.563965, 4138.974121, 4140.512695, 4136.410156, 4143.589844, 4148.205078, 4140.0, 4135.897461, 4137.436035, 4134.871582, 4135.384766, 4138.461426, 4138.461426, 4140.0, 4140.0, 4137.436035, 4144.615234, 4148.205078, 4141.025879, 4145.641113, 4148.717773, 4144.102539, 4147.692383, 4147.692383, 4136.922852, 4134.871582, 4139.487305, 4139.487305, 4135.897461, 4129.743652, 4127.692383, 4127.692383, 4125.128418, 4133.846191, 4144.102539, 4133.846191, 4117.436035, 4114.871582, 4117.436035, 4118.461426, 4116.922852, 4110.256348, 4107.692383, 4115.897461, 4122.05127, 4114.358887, 4110.256348, 4114.871582, 4122.05127, 4123.077148, 4114.358887, 4110.769043, 4122.05127, 4135.897461, 4140.0, 4131.794922, 4120.512695, 4118.974121, 4126.666504, 4124.102539, 4124.102539, 4131.282227, 4127.692383, 4120.0, 4120.512695, 4123.077148, 4120.0, 4120.0, 4122.05127, 4124.102539, 4122.563965, 4121.538574, 4132.307617, 4135.384766, 4124.615234, 4122.05127, 4123.077148, 4117.94873, 4122.05127, 4125.641113, 4116.922852, 4114.871582, 4122.05127, 4122.05127, 4116.410156, 4114.871582, 4120.0, 4126.666504, 4125.641113, 4120.512695, 4122.05127, 4125.128418, 4122.563965, 4118.974121, 4118.974121, 4120.0, 4127.179688, 4136.410156, 4133.846191, 4126.153809, 4127.692383, 4124.102539, 4107.179688, 4105.128418, 4115.897461, 4108.717773, 4102.563965, 4115.384766, 4122.05127, 4116.922852, 4118.974121, 4118.461426, 4105.128418, 4101.538574, 4110.256348, 4107.692383, 4105.641113, 4118.974121, 4120.512695, 4104.102539, 4102.05127, 4110.256348, 4106.666504, 4105.641113, 4110.256348, 4109.230957, 4113.846191, 4118.461426, 4109.743652, 4108.205078, 4116.410156, 4114.871582, 4109.743652, 4107.179688, 4103.589844, 4103.589844, 4104.102539, 4097.94873, 4092.820557, 4094.871826, 4099.487305, 4101.025879, 4095.384521, 4089.743652, 4089.230713, 4096.410156, 4108.717773, 4125.128418, 4136.922852, 4130.769043, 4120.0, 4118.974121, 4122.563965, 4129.230957, 4137.94873, 4138.461426, 4135.384766, 4140.512695, 4138.974121, 4122.563965, 4104.615234, 4102.563965, 4119.487305, 4136.410156, 4138.461426, 4136.922852, 4134.871582, 4131.794922, 4131.282227, 4129.230957, 4125.641113, 4126.153809, 4124.102539, 4122.563965, 4127.179688, 4128.205078, 4116.410156, 4107.179688, 4108.205078, 4110.256348, 4105.641113, 4103.589844, 4114.871582, 4120.512695, 4112.307617, 4108.205078, 4109.743652, 4110.256348, 4113.846191, 4122.563965, 4124.102539, 4121.025879, 4122.563965, 4123.589844, 4115.897461, 4107.692383, 4114.871582, 4124.615234, 4120.0, 4115.897461, 4123.589844, 4121.538574, 4110.256348, 4109.743652, 4112.307617, 4107.692383, 4105.128418, 4105.128418, 4108.205078, 4120.0, 4125.641113, 4123.077148, 4125.128418, 4125.128418, 4118.461426, 4119.487305, 4122.05127, 4121.025879, 4122.05127, 4122.563965, 4120.512695, 4118.461426, 4120.0, 4124.615234, 4124.615234, 4122.563965, 4125.641113, 4122.563965, 4111.794922, 4113.846191, 4122.05127, 4122.563965, 4117.436035, 4112.307617, 4110.256348, 4107.179688, 4102.563965, 4100.0, 4098.461426, 4095.897461, 4100.0, 4107.692383, 4106.153809, 4095.384521, 4086.666748, 4086.666748, 4095.897461, 4100.512695, 4095.897461, 4091.794922, 4092.307617, 4093.333252, 4090.256348, 4090.769287, 4098.461426, 4099.487305, 4095.897461, 4102.05127, 4108.717773, 4100.512695, 4093.333252, 4097.94873, 4104.615234, 4102.563965, 4093.846191, 4089.743652, 4089.743652, 4091.281982, 4099.487305, 4107.692383, 4108.205078, 4105.641113, 4105.128418, 4111.794922, 4123.077148, 4131.282227, 4134.871582, 4141.538574, 4147.692383, 4153.846191, 4158.974121, 4158.461426, 4160.512695, 4168.717773, 4174.358887, 4175.897461, 4173.333496, 4175.384766, 4185.641113, 4186.666504, 4175.897461, 4175.384766, 4172.820313, 4155.897461, 4145.128418, 4138.974121, 4131.794922, 4138.461426, 4140.0, 4125.641113, 4126.666504, 4137.94873, 4131.794922, 4119.487305, 4113.846191, 4113.333496, 4113.846191, 4114.358887, 4114.871582, 4115.897461, 4110.256348, 4101.025879, 4101.538574, 4104.102539, 4106.666504, 4109.743652, 4105.128418, 4103.589844, 4107.692383, 4104.615234, 4095.897461, 4100.0, 4110.256348, 4109.230957, 4107.179688, 4109.743652, 4105.128418, 4101.025879, 4106.153809, 4110.769043, 4108.205078, 4104.102539, 4105.641113, 4107.692383, 4103.077148, 4096.410156, 4101.538574, 4103.077148, 4090.769287, 4093.846191, 4107.692383, 4099.487305, 4085.128174, 4088.205078, 4094.358887, 4095.897461, 4100.0, 4103.077148, 4105.128418, 4106.666504, 4105.641113, 4101.025879, 4096.410156, 4092.307617, 4090.769287, 4092.307617, 4091.281982, 4088.205078, 4089.230713, 4091.794922, 4087.179443, 4083.589844, 4088.205078, 4090.769287, 4087.179443, 4087.692383, 4090.256348, 4088.205078, 4090.769287, 4098.461426, 4093.333252, 4082.564209, 4085.128174, 4090.256348, 4083.076904, 4074.358887, 4073.846191, 4075.384521, 4072.307617, 4067.692383, 4067.692383, 4065.128174, 4061.025635, 4065.641113, 4067.179443, 4058.461426, 4058.461426, 4064.615479, 4060.0, 4058.461426, 4063.076904, 4055.897461, 4042.05127, 4037.435791, 4040.0, 4031.794922, 4017.94873, 4021.025635, 4033.846191, 4034.871826, 4030.769287, 4029.230713, 4028.205078, 4028.718018, 4024.102539, 4019.487061, 4016.923096, 4012.820557, 4009.743652, 4007.692383, 4004.102539, 3997.94873, 3993.846191, 3997.435791, 4003.589844, 4000.512939, 3994.358887, 3992.820557, 3993.333252, 3992.820557, 3994.358887, 3995.384521, 3994.358887, 3993.846191, 3994.871826, 3992.820557, 3994.871826, 4005.641113, 4011.281982, 4011.281982, 4011.281982, 4003.076904, 3997.435791, 4007.692383, 4015.897461, 4017.435791, 4017.435791, 4007.692383, 4000.512939, 4010.256348, 4017.435791, 4007.179443, 4001.025635, 4009.743652, 4013.846191, 4008.205078, 4004.615479, 4010.256348, 4016.923096, 4018.461426, 4016.923096, 4015.384521, 4017.94873, 4020.512939, 4017.94873, 4016.923096, 4022.05127, 4025.641113, 4024.102539, 4025.641113, 4028.718018, 4030.256348, 4035.897461, 4041.538574, 4041.538574, 4038.974365, 4036.410156, 4032.820557, 4034.358887, 4037.94873, 4035.384521, 4032.307617, 4035.897461, 4040.0, 4037.94873, 4034.871826, 4039.487061, 4044.615479, 4044.615479, 4047.692383, 4049.230713, 4047.179443, 4052.307617, 4059.487061, 4057.94873, 4057.435791, 4059.487061, 4059.487061, 4062.05127, 4064.102539, 4061.538574, 4057.94873, 4061.025635, 4069.743652, 4070.256348, 4068.718018, 4076.410156, 4080.0, 4072.820557, 4071.794922, 4075.897461, 4074.871826, 4076.410156, 4083.076904, 4087.179443, 4089.743652, 4086.666748, 4081.025635, 4081.538574, 4081.025635, 4077.94873, 4082.05127, 4088.718018, 4083.076904, 4075.897461, 4078.974365, 4082.564209, 4078.461426, 4078.974365, 4086.666748, 4084.615479, 4078.461426, 4083.076904, 4086.153809, 4079.487061, 4079.487061, 4087.692383, 4092.307617, 4095.897461, 4098.974121, 4099.487305, 4096.410156, 4091.794922, 4094.871826, 4103.589844, 4106.666504, 4105.128418, 4107.692383, 4108.205078, 4111.794922, 4120.512695, 4124.102539, 4121.025879, 4115.897461, 4112.307617, 4106.153809, 4104.102539, 4112.307617, 4120.0, 4121.025879, 4120.0, 4117.94873, 4117.436035, 4123.589844, 4125.641113, 4117.94873, 4122.05127, 4132.820313, 4131.794922, 4125.641113, 4123.077148, 4120.512695, 4120.512695, 4129.743652, 4132.307617, 4129.230957, 4135.384766, 4139.487305, 4138.974121, 4136.410156, 4129.743652, 4127.179688, 4128.205078, 4126.666504, 4130.256348, 4137.94873, 4135.384766, 4133.846191, 4137.94873, 4132.820313, 4123.077148, 4123.077148, 4130.256348, 4135.897461, 4144.102539, 4151.282227, 4145.641113, 4135.897461, 4137.94873, 4138.974121, 4127.179688, 4113.846191, 4105.641113, 4101.538574, 4103.589844, 4110.256348, 4110.769043, 4105.128418, 4102.563965, 4102.563965, 4103.589844, 4106.153809, 4112.307617, 4116.922852, 4112.820313, 4102.563965, 4096.922852, 4098.974121, 4097.436035, 4096.922852, 4100.512695, 4095.897461, 4085.128174, 4085.641113, 4092.307617, 4091.794922, 4096.922852, 4106.666504, 4106.666504, 4104.102539, 4105.641113, 4108.205078, 4107.179688, 4106.666504, 4103.589844, 4097.94873, 4097.436035, 4104.615234, 4110.256348, 4106.153809, 4102.563965, 4105.128418, 4110.256348, 4116.922852, 4118.461426, 4113.846191, 4104.615234, 4093.333252, 4093.846191, 4106.153809, 4110.769043, 4107.179688, 4106.153809, 4103.077148, 4095.384521, 4095.897461, 4098.974121, 4100.0, 4104.102539, 4105.128418, 4097.436035, 4091.794922, 4087.179443, 4082.564209, 4085.128174, 4091.794922, 4096.922852, 4104.102539, 4108.205078, 4109.230957, 4112.307617, 4108.717773, 4102.563965, 4106.666504, 4110.256348, 4109.230957, 4108.717773, 4103.589844, 4098.974121, 4096.922852, 4094.358887, 4090.769287, 4088.718018, 4092.820557, 4102.05127, 4110.256348, 4110.256348, 4106.666504, 4107.692383, 4115.897461, 4115.897461, 4100.512695, 4092.307617, 4098.974121, 4105.128418, 4107.179688, 4109.230957, 4108.717773, 4100.512695, 4095.384521, 4100.512695, 4101.538574, 4099.487305, 4106.666504, 4110.256348, 4106.666504, 4109.230957, 4112.820313, 4105.128418, 4098.461426, 4100.0, 4102.05127, 4099.487305, 4097.94873, 4098.461426, 4100.0, 4099.487305, 4100.512695, 4096.410156, 4086.666748, 4085.128174, 4091.281982, 4095.384521, 4092.820557, 4087.692383, 4086.153809, 4084.102539, 4074.358887, 4064.615479, 4066.153809, 4071.794922, 4074.871826, 4080.0, 4081.025635, 4077.435791, 4073.333252, 4071.794922, 4077.94873, 4087.179443, 4086.666748, 4080.512939, 4082.564209, 4087.179443, 4083.589844, 4076.923096, 4076.410156, 4081.025635, 4081.538574, 4073.846191, 4073.333252, 4086.666748, 4094.358887, 4087.179443, 4084.102539, 4091.281982, 4091.281982, 4081.025635, 4073.846191, 4078.461426, 4084.615479, 4083.076904, 4080.0, 4079.487061, 4086.153809, 4094.871826, 4090.256348, 4077.94873, 4076.410156, 4078.461426, 4078.461426, 4078.974365, 4075.897461, 4070.769287, 4066.666748, 4063.076904, 4066.666748, 4069.230713, 4061.025635, 4059.487061, 4069.230713, 4069.743652, 4062.564209, 4063.589844, 4067.692383, 4065.128174, 4065.641113, 4071.281982, 4072.307617, 4069.230713, 4067.179443, 4062.564209, 4058.974365, 4063.076904, 4068.205078, 4067.692383, 4065.128174, 4063.076904, 4066.666748, 4075.897461, 4079.487061, 4071.794922, 4060.512939, 4061.025635, 4068.718018, 4070.256348, 4065.641113, 4064.102539, 4061.025635, 4055.384521, 4055.384521, 4062.564209, 4061.538574, 4058.461426, 4065.641113, 4067.179443, 4057.94873, 4056.410156, 4062.564209, 4065.641113, 4070.769287, 4077.435791, 4074.358887, 4069.230713, 4072.820557, 4074.871826, 4068.205078, 4067.692383, 4075.897461, 4074.358887, 4067.179443, 4068.718018, 4074.358887, 4079.487061, 4084.615479, 4087.692383, 4083.589844, 4075.384521, 4074.871826, 4080.0, 4079.487061, 4075.384521, 4070.769287, 4068.718018, 4069.743652, 4070.769287, 4070.256348, 4074.871826, 4075.897461, 4070.769287, 4072.820557, 4077.94873, 4071.794922, 4062.564209, 4067.692383, 4076.923096, 4078.461426, 4074.358887, 4068.205078, 4069.230713, 4074.871826, 4077.435791, 4079.487061, 4084.102539, 4085.641113, 4087.692383, 4095.384521, 4104.615234, 4111.794922, 4117.436035, 4117.94873, 4111.282227, 4106.153809, 4104.102539, 4096.410156, 4088.718018, 4087.692383, 4089.230713, 4086.153809, 4074.358887, 4061.538574, 4065.641113, 4074.871826, 4071.794922, 4065.128174, 4063.589844, 4065.128174, 4064.102539, 4063.589844, 4070.769287, 4074.358887, 4069.230713, 4068.718018, 4078.461426, 4084.102539, 4080.512939, 4071.281982, 4064.102539, 4065.641113, 4064.102539, 4059.487061, 4063.076904, 4060.512939, 4055.897461, 4068.205078, 4080.0, 4070.769287, 4065.641113, 4073.333252, 4074.871826, 4078.461426, 4085.128174, 4074.871826, 4063.589844, 4070.769287, 4079.487061, 4077.435791, 4078.461426, 4076.923096, 4069.230713, 4070.256348, 4074.871826, 4071.794922, 4064.102539, 4064.615479, 4071.794922, 4075.897461, 4073.846191, 4071.794922, 4075.384521, 4073.846191, 4066.153809, 4064.615479, 4071.794922, 4076.923096, 4070.769287, 4063.076904, 4066.153809, 4070.769287, 4065.641113, 4062.564209, 4066.153809, 4064.102539, 4056.410156, 4056.410156, 4060.0, 4061.538574, 4064.102539, 4068.205078, 4065.128174, 4063.076904, 4068.718018, 4075.897461, 4078.974365, 4076.410156, 4072.820557, 4077.94873, 4083.589844, 4076.410156, 4068.718018, 4071.794922, 4075.384521, 4072.307617, 4070.256348, 4069.230713, 4057.435791, 4049.743652, 4062.564209, 4080.0, 4087.179443, 4088.718018, 4088.718018, 4086.666748, 4091.794922, 4094.871826, 4087.179443, 4077.435791, 4080.512939, 4089.743652, 4093.333252, 4090.256348, 4080.0, 4076.923096, 4086.153809, 4090.769287, 4087.692383, 4090.769287, 4096.410156, 4093.846191, 4089.230713, 4087.179443, 4091.794922, 4092.820557, 4087.179443, 4094.871826, 4104.102539, 4093.333252, 4089.230713, 4100.512695, 4097.436035, 4086.153809, 4087.692383, 4096.922852, 4101.025879, 4097.94873, 4090.256348, 4089.230713, 4099.487305, 4102.563965, 4097.94873, 4100.0, 4106.153809, 4107.692383, 4104.615234, 4095.897461, 4089.230713, 4100.512695, 4111.282227, 4106.153809, 4104.102539, 4115.384766, 4124.615234, 4120.512695, 4114.871582, 4118.974121, 4127.179688, 4133.333496, 4141.025879, 4142.05127, 4126.666504, 4109.230957, 4105.128418, 4106.666504, 4104.102539, 4104.102539, 4109.743652, 4116.410156, 4123.589844, 4126.666504, 4117.94873, 4110.256348, 4114.871582, 4113.333496, 4105.641113, 4112.820313, 4125.128418, 4121.025879, 4117.436035, 4127.179688, 4135.897461, 4138.461426, 4136.922852, 4133.333496, 4125.641113, 4121.025879, 4123.077148, 4122.05127, 4122.05127, 4125.128418, 4124.102539, 4122.05127, 4122.05127, 4122.05127, 4127.179688, 4130.769043, 4126.666504, 4130.769043, 4136.410156, 4131.282227, 4131.282227, 4134.358887, 4127.179688, 4120.512695, 4118.461426, 4114.358887, 4117.436035, 4122.05127, 4121.538574, 4116.922852, 4109.230957, 4110.769043, 4124.615234, 4127.692383, 4118.461426, 4117.94873, 4118.974121, 4113.333496, 4108.205078, 4107.179688, 4120.0, 4137.436035, 4141.538574, 4138.461426, 4134.358887, 4124.102539, 4120.0, 4126.666504, 4126.666504, 4118.974121, 4116.410156, 4115.897461, 4108.205078, 4105.128418, 4117.94873, 4125.641113, 4119.487305, 4126.153809, 4140.512695, 4135.384766, 4124.615234, 4125.128418, 4126.153809, 4122.563965, 4121.538574, 4125.128418, 4128.717773, 4127.692383, 4124.615234, 4122.563965, 4118.461426, 4116.410156, 4121.025879, 4120.0, 4121.025879, 4133.846191, 4140.512695, 4136.410156, 4136.410156, 4138.974121, 4137.436035, 4136.922852, 4137.94873, 4139.487305, 4140.0, 4137.94873, 4137.94873, 4139.487305, 4137.436035, 4135.384766, 4134.871582, 4131.794922, 4123.077148, 4118.974121, 4128.205078, 4132.820313, 4125.641113, 4120.0, 4123.589844, 4127.692383, 4124.615234, 4125.641113, 4134.358887, 4140.512695, 4138.461426, 4136.922852, 4140.0, 4138.461426, 4140.512695, 4150.769043, 4152.307617, 4141.025879, 4134.871582, 4137.94873, 4137.94873, 4134.871582, 4137.436035, 4140.512695, 4138.974121, 4137.436035, 4138.974121, 4140.0, 4138.461426, 4132.820313, 4123.077148, 4117.94873, 4119.487305, 4126.666504, 4136.410156, 4142.05127, 4137.94873, 4130.256348, 4125.641113, 4121.538574, 4126.153809, 4137.436035, 4137.94873, 4131.282227, 4134.358887, 4133.846191, 4126.666504, 4128.717773, 4133.846191, 4134.871582, 4136.922852, 4145.641113, 4149.230957, 4141.538574, 4132.307617, 4132.820313, 4135.897461, 4133.333496, 4134.871582, 4141.025879, 4134.358887, 4119.487305, 4126.666504, 4152.307617, 4166.153809, 4162.05127, 4154.358887, 4151.282227, 4155.384766, 4155.897461, 4146.666504, 4145.641113, 4150.256348, 4145.641113, 4138.461426, 4135.897461, 4128.717773, 4122.05127, 4118.974121, 4110.769043, 4104.102539, 4107.179688, 4112.307617, 4113.333496, 4113.333496, 4106.153809, 4094.358887, 4094.358887, 4100.512695, 4094.358887, 4087.179443, 4090.769287, 4095.384521, 4102.05127, 4110.769043, 4107.179688, 4101.025879, 4102.563965, 4103.589844, 4105.128418, 4104.615234, 4100.512695, 4102.05127, 4107.692383, 4107.692383, 4109.743652, 4116.410156, 4113.333496, 4105.641113, 4105.641113, 4110.256348, 4111.282227, 4108.717773, 4103.589844, 4101.538574, 4106.666504, 4110.256348, 4113.846191, 4117.436035, 4115.384766, 4109.230957, 4107.179688, 4109.743652, 4111.794922, 4110.256348, 4106.666504, 4105.128418, 4107.692383, 4106.153809, 4106.153809, 4108.717773, 4108.717773, 4106.153809, 4110.769043, 4121.025879, 4119.487305, 4112.307617, 4112.820313, 4118.461426, 4118.974121, 4122.563965, 4130.256348, 4127.692383, 4120.0, 4121.025879, 4126.153809, 4127.692383, 4127.179688, 4131.794922, 4137.436035, 4132.820313, 4127.692383, 4133.333496, 4138.461426, 4134.358887, 4134.871582, 4139.487305, 4134.358887, 4123.077148, 4118.974121, 4127.179688, 4134.871582, 4134.358887, 4136.410156, 4137.94873, 4132.307617, 4130.769043, 4135.897461, 4133.846191, 4130.256348, 4133.846191, 4140.512695, 4150.256348, 4156.410156, 4150.256348, 4149.743652, 4157.436035, 4157.436035, 4153.333496, 4153.846191, 4152.820313, 4146.153809, 4141.538574, 4142.563965, 4139.487305, 4128.717773, 4128.717773, 4133.333496, 4115.384766, 4101.538574, 4113.846191, 4115.897461, 4104.615234, 4107.179688, 4109.230957, 4106.153809, 4107.692383, 4111.282227, 4112.820313, 4113.333496, 4115.384766, 4122.563965, 4130.769043, 4132.820313, 4137.94873, 4140.0, 4137.94873, 4138.974121, 4139.487305, 4140.512695, 4139.487305, 4134.358887, 4132.820313, 4136.922852, 4134.358887, 4130.256348, 4135.897461, 4143.077148, 4137.94873, 4123.077148, 4122.563965, 4133.333496, 4131.794922, 4122.05127, 4120.0, 4125.641113, 4128.717773, 4133.333496, 4137.436035, 4128.205078, 4109.230957, 4103.077148, 4105.641113, 4100.512695, 4101.025879, 4109.230957, 4109.230957, 4109.743652, 4114.358887, 4107.692383, 4100.512695, 4100.0, 4099.487305, 4101.025879, 4104.615234, 4109.230957, 4119.487305, 4124.615234, 4116.922852, 4113.333496, 4111.282227, 4100.0, 4102.05127, 4121.025879, 4134.358887, 4140.512695, 4137.436035, 4127.179688, 4128.205078, 4136.410156, 4134.871582, 4127.179688, 4125.641113, 4128.205078, 4132.307617, 4137.94873, 4141.538574, 4142.563965, 4140.0, 4136.410156, 4139.487305, 4140.512695, 4137.436035, 4136.410156, 4137.436035, 4133.333496, 4123.589844, 4116.410156, 4117.94873, 4127.179688, 4127.179688, 4116.410156, 4114.871582, 4122.05127, 4124.615234, 4121.025879, 4117.436035, 4115.897461, 4117.436035, 4125.641113, 4132.307617, 4131.794922, 4132.820313, 4138.461426, 4138.461426, 4133.333496, 4142.05127, 4154.358887, 4150.256348, 4144.102539, 4136.922852, 4126.666504, 4128.205078, 4132.820313, 4128.717773, 4128.205078, 4126.666504, 4118.461426, 4120.512695, 4125.128418, 4118.974121, 4121.025879, 4126.153809, 4125.128418, 4121.025879, 4120.512695, 4127.179688, 4123.077148, 4111.794922, 4116.922852, 4127.179688, 4116.410156, 4108.717773, 4119.487305, 4128.205078, 4125.641113, 4121.538574, 4129.230957, 4136.410156, 4125.641113, 4122.05127, 4136.410156, 4141.025879, 4135.384766, 4138.461426, 4141.538574, 4135.384766, 4127.692383, 4121.025879, 4117.94873, 4117.436035, 4120.0, 4124.615234, 4123.077148, 4117.94873, 4121.538574, 4127.179688, 4125.128418, 4126.666504, 4136.410156, 4138.974121, 4135.384766, 4136.922852, 4136.922852, 4135.384766, 4137.94873, 4130.256348, 4115.384766, 4113.846191, 4118.974121, 4123.077148, 4130.256348, 4136.410156, 4136.922852, 4133.846191, 4130.256348, 4126.666504, 4124.102539, 4126.666504, 4132.820313, 4133.333496, 4125.128418, 4120.512695, 4121.025879, 4112.820313, 4107.692383, 4116.410156, 4117.94873, 4111.282227, 4112.307617, 4113.333496, 4110.256348, 4112.820313, 4110.769043, 4106.666504, 4107.692383, 4103.589844, 4094.871826, 4092.307617, 4092.307617, 4088.205078, 4086.666748, 4092.307617, 4097.94873, 4097.436035, 4094.358887, 4090.769287, 4093.333252, 4100.512695, 4097.94873, 4098.974121, 4108.205078, 4107.179688, 4104.102539, 4104.102539, 4093.846191, 4077.94873, 4083.076904, 4101.538574, 4105.641113, 4095.897461, 4096.410156, 4106.666504, 4108.205078, 4103.589844, 4107.179688, 4112.307617, 4108.205078, 4106.666504, 4116.922852, 4127.179688, 4126.666504, 4127.179688, 4132.307617, 4132.820313, 4130.256348, 4136.922852, 4147.692383, 4141.538574, 4136.922852, 4151.282227, 4157.94873, 4147.179688, 4148.205078, 4157.436035, 4148.205078, 4130.769043, 4123.589844, 4123.077148, 4121.538574, 4120.0, 4120.0, 4123.077148, 4124.102539, 4122.05127, 4128.717773, 4135.384766, 4130.256348, 4124.615234, 4124.102539, 4122.563965, 4120.512695, 4117.436035, 4113.846191, 4117.436035, 4124.102539, 4118.974121, 4107.692383, 4109.743652, 4116.922852, 4112.307617, 4106.153809, 4105.641113, 4108.205078, 4111.794922, 4108.205078, 4102.563965, 4103.589844, 4097.436035, 4093.333252, 4114.871582, 4135.897461, 4133.333496, 4128.717773, 4132.820313, 4136.922852, 4131.794922, 4121.538574, 4124.615234, 4135.897461, 4140.512695, 4138.974121, 4137.436035, 4132.820313, 4126.153809, 4123.589844, 4122.563965, 4120.512695, 4123.589844, 4128.205078, 4126.153809, 4126.153809, 4132.820313, 4135.897461, 4134.871582, 4136.922852, 4137.436035, 4136.922852, 4139.487305, 4136.410156, 4135.384766, 4136.922852, 4135.897461, 4137.436035, 4142.563965, 4135.897461, 4125.128418, 4129.743652, 4136.410156, 4135.897461, 4135.384766, 4129.230957, 4118.461426, 4115.897461, 4123.589844, 4124.102539, 4120.0, 4125.641113, 4136.410156, 4145.641113, 4152.307617, 4148.205078, 4137.94873, 4142.05127, 4153.846191, 4152.307617, 4137.436035, 4125.641113, 4129.230957, 4140.0, 4138.461426, 4135.897461, 4145.128418, 4149.230957, 4139.487305, 4133.846191, 4138.974121, 4138.974121, 4134.358887, 4133.846191, 4135.897461, 4136.410156, 4137.436035, 4136.410156, 4135.384766, 4142.563965, 4150.256348, 4150.256348, 4149.230957, 4151.282227, 4150.256348, 4152.820313, 4158.461426, 4155.384766, 4153.846191, 4155.897461, 4153.333496, 4151.794922, 4155.384766, 4154.871582, 4150.256348, 4151.282227, 4153.333496, 4154.358887, 4153.846191, 4150.769043, 4149.230957, 4153.333496, 4152.307617, 4140.512695, 4142.563965, 4152.307617, 4146.666504, 4140.0, 4143.589844, 4140.512695, 4134.871582, 4136.922852, 4137.436035, 4136.410156, 4138.461426, 4137.94873, 4136.410156, 4138.974121, 4137.94873, 4125.641113, 4124.615234, 4139.487305, 4143.589844, 4135.384766, 4131.282227, 4128.205078, 4123.077148, 4126.153809, 4132.820313, 4135.384766, 4137.94873, 4142.05127, 4140.0, 4133.846191, 4135.384766, 4138.974121, 4138.974121, 4137.94873, 4143.589844, 4149.230957, 4145.128418, 4136.410156, 4130.256348, 4125.641113, 4122.05127, 4123.077148, 4125.128418, 4122.563965, 4115.384766, 4111.794922, 4115.384766, 4121.538574, 4122.05127, 4111.282227, 4108.717773, 4120.512695, 4125.128418, 4118.974121, 4118.974121, 4124.102539, 4123.077148, 4120.0, 4122.563965, 4125.641113, 4124.102539, 4121.025879, 4121.538574, 4125.128418, 4129.743652, 4124.615234, 4117.436035, 4118.461426, 4115.384766]\n"
          ]
        }
      ]
    },
    {
      "cell_type": "code",
      "source": [
        "# Veriyi temizleme\n",
        "merged_data_cleaned = merged_data.dropna()  # Eksik verileri kaldırma\n"
      ],
      "metadata": {
        "id": "aEmmwhESQ4ou"
      },
      "execution_count": 15,
      "outputs": []
    },
    {
      "cell_type": "code",
      "source": [],
      "metadata": {
        "id": "XNdgoQVERP30"
      },
      "execution_count": 172,
      "outputs": []
    },
    {
      "cell_type": "code",
      "source": [
        "# user_id, Timestamp, source_file sütunlarını kaldırma\n",
        "merged_data_cleaned = merged_data.drop(columns=['user_id', 'Timestamp', 'source_file'])\n",
        "\n",
        "# Veriyi ekrana yazdırma\n",
        "print(merged_data_cleaned.head())\n"
      ],
      "metadata": {
        "colab": {
          "base_uri": "https://localhost:8080/"
        },
        "id": "J3TNKe6xRP1l",
        "outputId": "c7909807-019a-4673-9f4d-ce04e786489a"
      },
      "execution_count": 28,
      "outputs": [
        {
          "output_type": "stream",
          "name": "stdout",
          "text": [
            "                                             EEG.AF3  \\\n",
            "0  [4018.461426, 4014.871826, 4011.794922, 4010.2...   \n",
            "1  [3984.615479, 3990.256348, 3988.205078, 3980.5...   \n",
            "2  [3985.641113, 3987.692383, 3985.641113, 3985.6...   \n",
            "3  [4014.358887, 4011.794922, 4015.897461, 4015.3...   \n",
            "4  [3727.692383, 3735.384521, 3740.512939, 3735.3...   \n",
            "\n",
            "                                              EEG.F7  \\\n",
            "0  [4269.230957, 4261.538574, 4252.820313, 4247.1...   \n",
            "1  [4274.358887, 4278.974121, 4270.769043, 4263.5...   \n",
            "2  [4320.512695, 4320.0, 4327.692383, 4338.974121...   \n",
            "3  [4216.410156, 4220.0, 4234.871582, 4243.589844...   \n",
            "4  [4250.769043, 4256.922852, 4252.820313, 4249.2...   \n",
            "\n",
            "                                              EEG.F3  \\\n",
            "0  [3793.846191, 3794.358887, 3788.205078, 3785.1...   \n",
            "1  [3747.692383, 3749.230713, 3746.666748, 3740.5...   \n",
            "2  [3793.333252, 3796.923096, 3794.871826, 3794.8...   \n",
            "3  [3769.230713, 3772.307617, 3775.897461, 3771.7...   \n",
            "4  [3791.281982, 3800.0, 3805.641113, 3796.410156...   \n",
            "\n",
            "                                             EEG.FC5  \\\n",
            "0  [4104.615234, 4103.589844, 4102.563965, 4101.5...   \n",
            "1  [4115.384766, 4115.897461, 4114.358887, 4112.3...   \n",
            "2  [4109.743652, 4111.282227, 4107.179688, 4108.7...   \n",
            "3  [4129.230957, 4129.230957, 4132.820313, 4132.8...   \n",
            "4  [4119.487305, 4115.897461, 4113.846191, 4118.9...   \n",
            "\n",
            "                                              EEG.T7  \\\n",
            "0  [4106.153809, 4102.05127, 4101.538574, 4102.56...   \n",
            "1  [4078.461426, 4075.897461, 4073.333252, 4075.8...   \n",
            "2  [4076.410156, 4071.794922, 4066.153809, 4068.7...   \n",
            "3  [4092.307617, 4097.94873, 4101.538574, 4098.46...   \n",
            "4  [4082.05127, 4084.615479, 4085.641113, 4087.17...   \n",
            "\n",
            "                                              EEG.P7  \\\n",
            "0  [4095.384521, 4093.846191, 4093.333252, 4091.2...   \n",
            "1  [4151.794922, 4155.384766, 4155.384766, 4155.3...   \n",
            "2  [4122.563965, 4124.102539, 4116.410156, 4115.3...   \n",
            "3  [4120.512695, 4125.641113, 4140.0, 4140.0, 413...   \n",
            "4  [4150.256348, 4152.820313, 4155.384766, 4155.8...   \n",
            "\n",
            "                                              EEG.O1  \\\n",
            "0  [4060.512939, 4066.153809, 4063.076904, 4061.0...   \n",
            "1  [4024.102539, 4032.820557, 4033.846191, 4030.7...   \n",
            "2  [4010.256348, 4021.025635, 4018.461426, 4019.4...   \n",
            "3  [4154.358887, 4152.307617, 4164.102539, 4163.5...   \n",
            "4  [4177.436035, 4180.0, 4182.563965, 4186.153809...   \n",
            "\n",
            "                                              EEG.O2  \\\n",
            "0  [4052.307617, 4056.410156, 4068.205078, 4078.4...   \n",
            "1  [4081.025635, 4090.256348, 4090.769287, 4089.7...   \n",
            "2  [4023.589844, 4032.307617, 4029.230713, 4027.1...   \n",
            "3  [4055.384521, 4048.205078, 4051.281982, 4050.7...   \n",
            "4  [4072.820557, 4076.923096, 4075.384521, 4072.8...   \n",
            "\n",
            "                                              EEG.P8  \\\n",
            "0  [3903.589844, 3906.153809, 3914.871826, 3932.3...   \n",
            "1  [3986.153809, 3991.281982, 3991.281982, 3978.4...   \n",
            "2  [3890.769287, 3900.512939, 3892.307617, 3890.2...   \n",
            "3  [3947.692383, 3943.076904, 3951.794922, 3951.2...   \n",
            "4  [3934.358887, 3947.692383, 3946.153809, 3939.4...   \n",
            "\n",
            "                                              EEG.T8  \\\n",
            "0  [4510.256348, 4512.307617, 4526.153809, 4533.3...   \n",
            "1  [4533.333496, 4540.512695, 4558.461426, 4558.4...   \n",
            "2  [4539.487305, 4545.641113, 4537.94873, 4530.76...   \n",
            "3  [4518.974121, 4508.717773, 4513.846191, 4516.9...   \n",
            "4  [4572.307617, 4568.205078, 4566.666504, 4581.5...   \n",
            "\n",
            "                                             EEG.FC6  \\\n",
            "0  [4497.436035, 4454.871582, 4456.922852, 4505.1...   \n",
            "1  [4477.94873, 4486.666504, 4486.153809, 4477.94...   \n",
            "2  [4504.615234, 4506.666504, 4497.94873, 4495.38...   \n",
            "3  [4457.94873, 4455.384766, 4464.102539, 4466.15...   \n",
            "4  [4444.102539, 4448.717773, 4453.333496, 4456.4...   \n",
            "\n",
            "                                              EEG.F4  \\\n",
            "0  [4372.820313, 4371.282227, 4365.641113, 4367.1...   \n",
            "1  [4586.153809, 4589.230957, 4590.769043, 4589.7...   \n",
            "2  [4569.230957, 4573.333496, 4563.077148, 4561.5...   \n",
            "3  [4506.153809, 4507.692383, 4514.871582, 4513.3...   \n",
            "4  [4548.205078, 4552.307617, 4556.922852, 4556.9...   \n",
            "\n",
            "                                              EEG.F8  \\\n",
            "0  [4113.333496, 4106.666504, 4104.615234, 4111.7...   \n",
            "1  [4062.564209, 4072.307617, 4069.743652, 4063.0...   \n",
            "2  [4026.666748, 4009.743652, 3996.923096, 3985.6...   \n",
            "3  [4121.538574, 4121.025879, 4125.641113, 4125.6...   \n",
            "4  [4138.461426, 4137.94873, 4140.512695, 4150.25...   \n",
            "\n",
            "                                             EEG.AF4 aro val  \n",
            "0  [4636.410156, 4592.307617, 4599.487305, 4643.5...   0   1  \n",
            "1  [4658.974121, 4671.794922, 4672.820313, 4665.1...   1   0  \n",
            "2  [4597.94873, 4599.487305, 4585.641113, 4581.53...   1   1  \n",
            "3  [4617.94873, 4613.846191, 4625.128418, 4626.15...   1   0  \n",
            "4  [4593.846191, 4598.461426, 4612.820313, 4615.3...   0   1  \n"
          ]
        }
      ]
    },
    {
      "cell_type": "code",
      "source": [
        "# 283. satırdaki verilere ulaşmak için\n",
        "print(merged_data_cleaned.iloc[283])\n"
      ],
      "metadata": {
        "colab": {
          "base_uri": "https://localhost:8080/"
        },
        "id": "29TQLoxCTXBo",
        "outputId": "c73a4a12-e362-471c-eba0-3ab163804467"
      },
      "execution_count": 17,
      "outputs": [
        {
          "output_type": "stream",
          "name": "stdout",
          "text": [
            "EEG.AF3    [3981.538574, 3987.692383, 3994.358887, 3991.7...\n",
            "EEG.F7     [4275.897461, 4282.05127, 4288.205078, 4286.15...\n",
            "EEG.F3     [3772.820557, 3771.794922, 3770.769287, 3769.2...\n",
            "EEG.FC5    [4145.128418, 4142.563965, 4143.077148, 4144.6...\n",
            "EEG.T7     [4103.077148, 4098.974121, 4095.897461, 4092.8...\n",
            "EEG.P7     [4214.358887, 4214.358887, 4218.974121, 4211.2...\n",
            "EEG.O1     [4124.102539, 4132.820313, 4131.794922, 4122.0...\n",
            "EEG.O2     [4109.743652, 4110.769043, 4111.282227, 4106.1...\n",
            "EEG.P8     [3929.743652, 3924.615479, 3926.666748, 3933.8...\n",
            "EEG.T8     [4559.487305, 4553.846191, 4569.230957, 4570.2...\n",
            "EEG.FC6    [4478.974121, 4475.384766, 4477.436035, 4477.9...\n",
            "EEG.F4     [4565.128418, 4565.128418, 4567.179688, 4561.5...\n",
            "EEG.F8     [4104.615234, 4105.128418, 4108.205078, 4106.1...\n",
            "EEG.AF4    [4583.077148, 4577.94873, 4575.897461, 4574.87...\n",
            "aro                                                        1\n",
            "val                                                        0\n",
            "Name: 283, dtype: object\n"
          ]
        }
      ]
    },
    {
      "cell_type": "code",
      "source": [
        "# merged_data veri çerçevesinin sütun isimlerini yazdırma\n",
        "print(\"Sütun İsimleri:\")\n",
        "for column in merged_data.columns:\n",
        "    print(column)\n"
      ],
      "metadata": {
        "colab": {
          "base_uri": "https://localhost:8080/"
        },
        "id": "XXx1aaThszbc",
        "outputId": "4476f0a4-a2c3-4065-f6a1-5df0e01891c2"
      },
      "execution_count": 18,
      "outputs": [
        {
          "output_type": "stream",
          "name": "stdout",
          "text": [
            "Sütun İsimleri:\n",
            "user_id\n",
            "Timestamp\n",
            "EEG.AF3\n",
            "EEG.F7\n",
            "EEG.F3\n",
            "EEG.FC5\n",
            "EEG.T7\n",
            "EEG.P7\n",
            "EEG.O1\n",
            "EEG.O2\n",
            "EEG.P8\n",
            "EEG.T8\n",
            "EEG.FC6\n",
            "EEG.F4\n",
            "EEG.F8\n",
            "EEG.AF4\n",
            "source_file\n",
            "aro\n",
            "val\n"
          ]
        }
      ]
    },
    {
      "cell_type": "code",
      "source": [
        "# EEG ile başlayan sütunları seçme\n",
        "eeg_columns = [col for col in merged_data.columns if col.startswith('EEG.')]\n",
        "\n",
        "# EEG sütunlarındaki array'lerde kaç veri olduğunu yazdırma\n",
        "for col in eeg_columns:\n",
        "    # Her bir sütundaki array'in boyutunu yazdırma\n",
        "    print(f\"{col}: {len(merged_data[col].iloc[0])} verisi var.\")\n"
      ],
      "metadata": {
        "colab": {
          "base_uri": "https://localhost:8080/"
        },
        "id": "uudbZNhXAro9",
        "outputId": "db0190e5-b1e5-4ca9-dff7-2c3c862a2000"
      },
      "execution_count": 19,
      "outputs": [
        {
          "output_type": "stream",
          "name": "stdout",
          "text": [
            "EEG.AF3: 3708 verisi var.\n",
            "EEG.F7: 3708 verisi var.\n",
            "EEG.F3: 3708 verisi var.\n",
            "EEG.FC5: 3708 verisi var.\n",
            "EEG.T7: 3708 verisi var.\n",
            "EEG.P7: 3708 verisi var.\n",
            "EEG.O1: 3708 verisi var.\n",
            "EEG.O2: 3708 verisi var.\n",
            "EEG.P8: 3708 verisi var.\n",
            "EEG.T8: 3708 verisi var.\n",
            "EEG.FC6: 3708 verisi var.\n",
            "EEG.F4: 3708 verisi var.\n",
            "EEG.F8: 3708 verisi var.\n",
            "EEG.AF4: 3708 verisi var.\n"
          ]
        }
      ]
    },
    {
      "cell_type": "code",
      "source": [
        "# EEG ile başlayan sütunları seçme\n",
        "eeg_columns = [col for col in merged_data.columns if col.startswith('EEG.')]\n",
        "\n",
        "# EEG sütunlarındaki array'lerdeki uzunlukları kontrol etme\n",
        "for col in eeg_columns:\n",
        "    inconsistent_rows = []\n",
        "\n",
        "    # Her bir satırdaki array'in uzunluğunu kontrol etme\n",
        "    for index, row in merged_data.iterrows():\n",
        "        if len(row[col]) != len(merged_data[col].iloc[0]):\n",
        "            inconsistent_rows.append(index)\n",
        "\n",
        "    # Eğer tutarsızlık varsa, bu satırları yazdırma\n",
        "    if inconsistent_rows:\n",
        "        print(f\"Farklı uzunlukta array bulunan satırlar ({col} sütununda): {inconsistent_rows}\")\n"
      ],
      "metadata": {
        "colab": {
          "base_uri": "https://localhost:8080/"
        },
        "id": "wI4XG0OzA1dO",
        "outputId": "ee4e2a4b-ebed-49c8-ab4f-f2ce61d4d121"
      },
      "execution_count": 20,
      "outputs": [
        {
          "output_type": "stream",
          "name": "stdout",
          "text": [
            "Farklı uzunlukta array bulunan satırlar (EEG.AF3 sütununda): [2, 4, 5, 6, 9, 12, 13, 16, 22, 23, 24, 25, 28, 32, 33, 34, 39, 41, 42, 43, 44, 45, 46, 47, 49, 50, 57, 58, 59, 60, 61, 62, 63, 64, 65, 66, 67, 69, 70, 79, 85, 86, 87, 88, 89, 90, 91, 92, 99, 100, 101, 108, 109, 110, 111, 112, 119, 120, 121, 122, 123, 128, 129, 130, 131, 132, 133, 140, 141, 142, 143, 144, 145, 146, 147, 148, 149, 150, 151, 152, 153, 154, 155, 156, 157, 158, 159, 160, 161, 162, 163, 164, 165, 166, 167, 168, 169, 170, 180, 181, 184, 187, 188, 189, 190, 191, 192, 193, 194, 200, 201, 202, 203, 204, 205, 206, 216, 217, 218, 219, 220, 221, 222, 223, 225, 230, 231, 239, 242, 248, 249, 250, 251, 256, 258, 259, 260, 261, 262, 263, 264, 265, 266, 267, 278, 279, 280, 281, 282, 283, 284, 292, 293, 294, 295, 296, 297, 298, 299, 300, 303, 304, 305, 312, 313, 314, 315, 316, 317, 318, 319, 320, 321, 322, 323, 331, 332, 333, 334, 335, 336, 337, 338, 339, 340, 341, 342, 343, 344, 345, 346, 347, 352, 353, 354, 355, 356, 357, 358, 359, 360, 361, 362, 363, 364, 372, 373, 374, 375, 376, 377, 378, 379, 380, 381, 382, 383, 386, 388, 389, 390, 391, 392, 393, 394, 395, 400, 401, 402, 403, 404, 405, 412, 413, 414, 415, 416, 421, 422, 423, 424, 425, 426, 427, 428, 429, 430, 436, 437, 438, 439, 444, 445, 446, 447, 448, 449, 453, 454, 455, 456, 457, 458, 459, 466, 467, 468, 469, 470, 471, 472, 473, 474, 475, 482, 484, 486, 487, 488, 489, 496, 497, 498, 499, 501, 503, 504, 517, 524, 525, 526, 527, 528, 529, 530, 531, 536, 537, 538, 539, 544, 545, 546, 547, 548, 549, 550, 551, 552, 553, 554, 555, 559, 564, 565, 566, 567, 568, 569, 570, 571, 572, 573, 574, 575, 579, 585, 586, 587, 588, 589, 590, 591, 592, 593, 594, 595, 600, 601, 602, 603, 612, 613, 614, 615, 616, 617, 618, 619, 624, 625, 626, 627, 628, 629, 630, 631, 632, 633, 634, 635, 639, 644, 645, 646, 647, 652, 653, 654, 655, 656, 657, 658, 661, 662, 663, 664, 665, 666, 667, 668, 669, 676, 677, 678, 679, 680, 681, 682, 683, 684, 685, 686, 687, 696, 697, 698, 699, 700, 701, 702, 703, 704, 705, 706, 707, 716, 717, 718, 719, 720, 721, 722, 723, 724, 725, 726, 727, 733, 734, 735, 736, 737, 738, 739, 744, 745, 746, 747, 748, 749, 750, 751, 752, 753, 754, 755, 759, 760, 764, 765, 766, 767, 768, 769, 770, 771, 772, 773, 774, 775, 784, 785, 786, 787, 788, 789, 790, 791, 799]\n",
            "Farklı uzunlukta array bulunan satırlar (EEG.F7 sütununda): [2, 4, 5, 6, 9, 12, 13, 16, 22, 23, 24, 25, 28, 32, 33, 34, 39, 41, 42, 43, 44, 45, 46, 47, 49, 50, 57, 58, 59, 60, 61, 62, 63, 64, 65, 66, 67, 69, 70, 79, 85, 86, 87, 88, 89, 90, 91, 92, 99, 100, 101, 108, 109, 110, 111, 112, 119, 120, 121, 122, 123, 128, 129, 130, 131, 132, 133, 140, 141, 142, 143, 144, 145, 146, 147, 148, 149, 150, 151, 152, 153, 154, 155, 156, 157, 158, 159, 160, 161, 162, 163, 164, 165, 166, 167, 168, 169, 170, 180, 181, 184, 187, 188, 189, 190, 191, 192, 193, 194, 200, 201, 202, 203, 204, 205, 206, 216, 217, 218, 219, 220, 221, 222, 223, 225, 230, 231, 239, 242, 248, 249, 250, 251, 256, 258, 259, 260, 261, 262, 263, 264, 265, 266, 267, 278, 279, 280, 281, 282, 283, 284, 292, 293, 294, 295, 296, 297, 298, 299, 300, 303, 304, 305, 312, 313, 314, 315, 316, 317, 318, 319, 320, 321, 322, 323, 331, 332, 333, 334, 335, 336, 337, 338, 339, 340, 341, 342, 343, 344, 345, 346, 347, 352, 353, 354, 355, 356, 357, 358, 359, 360, 361, 362, 363, 364, 372, 373, 374, 375, 376, 377, 378, 379, 380, 381, 382, 383, 386, 388, 389, 390, 391, 392, 393, 394, 395, 400, 401, 402, 403, 404, 405, 412, 413, 414, 415, 416, 421, 422, 423, 424, 425, 426, 427, 428, 429, 430, 436, 437, 438, 439, 444, 445, 446, 447, 448, 449, 453, 454, 455, 456, 457, 458, 459, 466, 467, 468, 469, 470, 471, 472, 473, 474, 475, 482, 484, 486, 487, 488, 489, 496, 497, 498, 499, 501, 503, 504, 517, 524, 525, 526, 527, 528, 529, 530, 531, 536, 537, 538, 539, 544, 545, 546, 547, 548, 549, 550, 551, 552, 553, 554, 555, 559, 564, 565, 566, 567, 568, 569, 570, 571, 572, 573, 574, 575, 579, 585, 586, 587, 588, 589, 590, 591, 592, 593, 594, 595, 600, 601, 602, 603, 612, 613, 614, 615, 616, 617, 618, 619, 624, 625, 626, 627, 628, 629, 630, 631, 632, 633, 634, 635, 639, 644, 645, 646, 647, 652, 653, 654, 655, 656, 657, 658, 661, 662, 663, 664, 665, 666, 667, 668, 669, 676, 677, 678, 679, 680, 681, 682, 683, 684, 685, 686, 687, 696, 697, 698, 699, 700, 701, 702, 703, 704, 705, 706, 707, 716, 717, 718, 719, 720, 721, 722, 723, 724, 725, 726, 727, 733, 734, 735, 736, 737, 738, 739, 744, 745, 746, 747, 748, 749, 750, 751, 752, 753, 754, 755, 759, 760, 764, 765, 766, 767, 768, 769, 770, 771, 772, 773, 774, 775, 784, 785, 786, 787, 788, 789, 790, 791, 799]\n",
            "Farklı uzunlukta array bulunan satırlar (EEG.F3 sütununda): [2, 4, 5, 6, 9, 12, 13, 16, 22, 23, 24, 25, 28, 32, 33, 34, 39, 41, 42, 43, 44, 45, 46, 47, 49, 50, 57, 58, 59, 60, 61, 62, 63, 64, 65, 66, 67, 69, 70, 79, 85, 86, 87, 88, 89, 90, 91, 92, 99, 100, 101, 108, 109, 110, 111, 112, 119, 120, 121, 122, 123, 128, 129, 130, 131, 132, 133, 140, 141, 142, 143, 144, 145, 146, 147, 148, 149, 150, 151, 152, 153, 154, 155, 156, 157, 158, 159, 160, 161, 162, 163, 164, 165, 166, 167, 168, 169, 170, 180, 181, 184, 187, 188, 189, 190, 191, 192, 193, 194, 200, 201, 202, 203, 204, 205, 206, 216, 217, 218, 219, 220, 221, 222, 223, 225, 230, 231, 239, 242, 248, 249, 250, 251, 256, 258, 259, 260, 261, 262, 263, 264, 265, 266, 267, 278, 279, 280, 281, 282, 283, 284, 292, 293, 294, 295, 296, 297, 298, 299, 300, 303, 304, 305, 312, 313, 314, 315, 316, 317, 318, 319, 320, 321, 322, 323, 331, 332, 333, 334, 335, 336, 337, 338, 339, 340, 341, 342, 343, 344, 345, 346, 347, 352, 353, 354, 355, 356, 357, 358, 359, 360, 361, 362, 363, 364, 372, 373, 374, 375, 376, 377, 378, 379, 380, 381, 382, 383, 386, 388, 389, 390, 391, 392, 393, 394, 395, 400, 401, 402, 403, 404, 405, 412, 413, 414, 415, 416, 421, 422, 423, 424, 425, 426, 427, 428, 429, 430, 436, 437, 438, 439, 444, 445, 446, 447, 448, 449, 453, 454, 455, 456, 457, 458, 459, 466, 467, 468, 469, 470, 471, 472, 473, 474, 475, 482, 484, 486, 487, 488, 489, 496, 497, 498, 499, 501, 503, 504, 517, 524, 525, 526, 527, 528, 529, 530, 531, 536, 537, 538, 539, 544, 545, 546, 547, 548, 549, 550, 551, 552, 553, 554, 555, 559, 564, 565, 566, 567, 568, 569, 570, 571, 572, 573, 574, 575, 579, 585, 586, 587, 588, 589, 590, 591, 592, 593, 594, 595, 600, 601, 602, 603, 612, 613, 614, 615, 616, 617, 618, 619, 624, 625, 626, 627, 628, 629, 630, 631, 632, 633, 634, 635, 639, 644, 645, 646, 647, 652, 653, 654, 655, 656, 657, 658, 661, 662, 663, 664, 665, 666, 667, 668, 669, 676, 677, 678, 679, 680, 681, 682, 683, 684, 685, 686, 687, 696, 697, 698, 699, 700, 701, 702, 703, 704, 705, 706, 707, 716, 717, 718, 719, 720, 721, 722, 723, 724, 725, 726, 727, 733, 734, 735, 736, 737, 738, 739, 744, 745, 746, 747, 748, 749, 750, 751, 752, 753, 754, 755, 759, 760, 764, 765, 766, 767, 768, 769, 770, 771, 772, 773, 774, 775, 784, 785, 786, 787, 788, 789, 790, 791, 799]\n",
            "Farklı uzunlukta array bulunan satırlar (EEG.FC5 sütununda): [2, 4, 5, 6, 9, 12, 13, 16, 22, 23, 24, 25, 28, 32, 33, 34, 39, 41, 42, 43, 44, 45, 46, 47, 49, 50, 57, 58, 59, 60, 61, 62, 63, 64, 65, 66, 67, 69, 70, 79, 85, 86, 87, 88, 89, 90, 91, 92, 99, 100, 101, 108, 109, 110, 111, 112, 119, 120, 121, 122, 123, 128, 129, 130, 131, 132, 133, 140, 141, 142, 143, 144, 145, 146, 147, 148, 149, 150, 151, 152, 153, 154, 155, 156, 157, 158, 159, 160, 161, 162, 163, 164, 165, 166, 167, 168, 169, 170, 180, 181, 184, 187, 188, 189, 190, 191, 192, 193, 194, 200, 201, 202, 203, 204, 205, 206, 216, 217, 218, 219, 220, 221, 222, 223, 225, 230, 231, 239, 242, 248, 249, 250, 251, 256, 258, 259, 260, 261, 262, 263, 264, 265, 266, 267, 278, 279, 280, 281, 282, 283, 284, 292, 293, 294, 295, 296, 297, 298, 299, 300, 303, 304, 305, 312, 313, 314, 315, 316, 317, 318, 319, 320, 321, 322, 323, 331, 332, 333, 334, 335, 336, 337, 338, 339, 340, 341, 342, 343, 344, 345, 346, 347, 352, 353, 354, 355, 356, 357, 358, 359, 360, 361, 362, 363, 364, 372, 373, 374, 375, 376, 377, 378, 379, 380, 381, 382, 383, 386, 388, 389, 390, 391, 392, 393, 394, 395, 400, 401, 402, 403, 404, 405, 412, 413, 414, 415, 416, 421, 422, 423, 424, 425, 426, 427, 428, 429, 430, 436, 437, 438, 439, 444, 445, 446, 447, 448, 449, 453, 454, 455, 456, 457, 458, 459, 466, 467, 468, 469, 470, 471, 472, 473, 474, 475, 482, 484, 486, 487, 488, 489, 496, 497, 498, 499, 501, 503, 504, 517, 524, 525, 526, 527, 528, 529, 530, 531, 536, 537, 538, 539, 544, 545, 546, 547, 548, 549, 550, 551, 552, 553, 554, 555, 559, 564, 565, 566, 567, 568, 569, 570, 571, 572, 573, 574, 575, 579, 585, 586, 587, 588, 589, 590, 591, 592, 593, 594, 595, 600, 601, 602, 603, 612, 613, 614, 615, 616, 617, 618, 619, 624, 625, 626, 627, 628, 629, 630, 631, 632, 633, 634, 635, 639, 644, 645, 646, 647, 652, 653, 654, 655, 656, 657, 658, 661, 662, 663, 664, 665, 666, 667, 668, 669, 676, 677, 678, 679, 680, 681, 682, 683, 684, 685, 686, 687, 696, 697, 698, 699, 700, 701, 702, 703, 704, 705, 706, 707, 716, 717, 718, 719, 720, 721, 722, 723, 724, 725, 726, 727, 733, 734, 735, 736, 737, 738, 739, 744, 745, 746, 747, 748, 749, 750, 751, 752, 753, 754, 755, 759, 760, 764, 765, 766, 767, 768, 769, 770, 771, 772, 773, 774, 775, 784, 785, 786, 787, 788, 789, 790, 791, 799]\n",
            "Farklı uzunlukta array bulunan satırlar (EEG.T7 sütununda): [2, 4, 5, 6, 9, 12, 13, 16, 22, 23, 24, 25, 28, 32, 33, 34, 39, 41, 42, 43, 44, 45, 46, 47, 49, 50, 57, 58, 59, 60, 61, 62, 63, 64, 65, 66, 67, 69, 70, 79, 85, 86, 87, 88, 89, 90, 91, 92, 99, 100, 101, 108, 109, 110, 111, 112, 119, 120, 121, 122, 123, 128, 129, 130, 131, 132, 133, 140, 141, 142, 143, 144, 145, 146, 147, 148, 149, 150, 151, 152, 153, 154, 155, 156, 157, 158, 159, 160, 161, 162, 163, 164, 165, 166, 167, 168, 169, 170, 180, 181, 184, 187, 188, 189, 190, 191, 192, 193, 194, 200, 201, 202, 203, 204, 205, 206, 216, 217, 218, 219, 220, 221, 222, 223, 225, 230, 231, 239, 242, 248, 249, 250, 251, 256, 258, 259, 260, 261, 262, 263, 264, 265, 266, 267, 278, 279, 280, 281, 282, 283, 284, 292, 293, 294, 295, 296, 297, 298, 299, 300, 303, 304, 305, 312, 313, 314, 315, 316, 317, 318, 319, 320, 321, 322, 323, 331, 332, 333, 334, 335, 336, 337, 338, 339, 340, 341, 342, 343, 344, 345, 346, 347, 352, 353, 354, 355, 356, 357, 358, 359, 360, 361, 362, 363, 364, 372, 373, 374, 375, 376, 377, 378, 379, 380, 381, 382, 383, 386, 388, 389, 390, 391, 392, 393, 394, 395, 400, 401, 402, 403, 404, 405, 412, 413, 414, 415, 416, 421, 422, 423, 424, 425, 426, 427, 428, 429, 430, 436, 437, 438, 439, 444, 445, 446, 447, 448, 449, 453, 454, 455, 456, 457, 458, 459, 466, 467, 468, 469, 470, 471, 472, 473, 474, 475, 482, 484, 486, 487, 488, 489, 496, 497, 498, 499, 501, 503, 504, 517, 524, 525, 526, 527, 528, 529, 530, 531, 536, 537, 538, 539, 544, 545, 546, 547, 548, 549, 550, 551, 552, 553, 554, 555, 559, 564, 565, 566, 567, 568, 569, 570, 571, 572, 573, 574, 575, 579, 585, 586, 587, 588, 589, 590, 591, 592, 593, 594, 595, 600, 601, 602, 603, 612, 613, 614, 615, 616, 617, 618, 619, 624, 625, 626, 627, 628, 629, 630, 631, 632, 633, 634, 635, 639, 644, 645, 646, 647, 652, 653, 654, 655, 656, 657, 658, 661, 662, 663, 664, 665, 666, 667, 668, 669, 676, 677, 678, 679, 680, 681, 682, 683, 684, 685, 686, 687, 696, 697, 698, 699, 700, 701, 702, 703, 704, 705, 706, 707, 716, 717, 718, 719, 720, 721, 722, 723, 724, 725, 726, 727, 733, 734, 735, 736, 737, 738, 739, 744, 745, 746, 747, 748, 749, 750, 751, 752, 753, 754, 755, 759, 760, 764, 765, 766, 767, 768, 769, 770, 771, 772, 773, 774, 775, 784, 785, 786, 787, 788, 789, 790, 791, 799]\n",
            "Farklı uzunlukta array bulunan satırlar (EEG.P7 sütununda): [2, 4, 5, 6, 9, 12, 13, 16, 22, 23, 24, 25, 28, 32, 33, 34, 39, 41, 42, 43, 44, 45, 46, 47, 49, 50, 57, 58, 59, 60, 61, 62, 63, 64, 65, 66, 67, 69, 70, 79, 85, 86, 87, 88, 89, 90, 91, 92, 99, 100, 101, 108, 109, 110, 111, 112, 119, 120, 121, 122, 123, 128, 129, 130, 131, 132, 133, 140, 141, 142, 143, 144, 145, 146, 147, 148, 149, 150, 151, 152, 153, 154, 155, 156, 157, 158, 159, 160, 161, 162, 163, 164, 165, 166, 167, 168, 169, 170, 180, 181, 184, 187, 188, 189, 190, 191, 192, 193, 194, 200, 201, 202, 203, 204, 205, 206, 216, 217, 218, 219, 220, 221, 222, 223, 225, 230, 231, 239, 242, 248, 249, 250, 251, 256, 258, 259, 260, 261, 262, 263, 264, 265, 266, 267, 278, 279, 280, 281, 282, 283, 284, 292, 293, 294, 295, 296, 297, 298, 299, 300, 303, 304, 305, 312, 313, 314, 315, 316, 317, 318, 319, 320, 321, 322, 323, 331, 332, 333, 334, 335, 336, 337, 338, 339, 340, 341, 342, 343, 344, 345, 346, 347, 352, 353, 354, 355, 356, 357, 358, 359, 360, 361, 362, 363, 364, 372, 373, 374, 375, 376, 377, 378, 379, 380, 381, 382, 383, 386, 388, 389, 390, 391, 392, 393, 394, 395, 400, 401, 402, 403, 404, 405, 412, 413, 414, 415, 416, 421, 422, 423, 424, 425, 426, 427, 428, 429, 430, 436, 437, 438, 439, 444, 445, 446, 447, 448, 449, 453, 454, 455, 456, 457, 458, 459, 466, 467, 468, 469, 470, 471, 472, 473, 474, 475, 482, 484, 486, 487, 488, 489, 496, 497, 498, 499, 501, 503, 504, 517, 524, 525, 526, 527, 528, 529, 530, 531, 536, 537, 538, 539, 544, 545, 546, 547, 548, 549, 550, 551, 552, 553, 554, 555, 559, 564, 565, 566, 567, 568, 569, 570, 571, 572, 573, 574, 575, 579, 585, 586, 587, 588, 589, 590, 591, 592, 593, 594, 595, 600, 601, 602, 603, 612, 613, 614, 615, 616, 617, 618, 619, 624, 625, 626, 627, 628, 629, 630, 631, 632, 633, 634, 635, 639, 644, 645, 646, 647, 652, 653, 654, 655, 656, 657, 658, 661, 662, 663, 664, 665, 666, 667, 668, 669, 676, 677, 678, 679, 680, 681, 682, 683, 684, 685, 686, 687, 696, 697, 698, 699, 700, 701, 702, 703, 704, 705, 706, 707, 716, 717, 718, 719, 720, 721, 722, 723, 724, 725, 726, 727, 733, 734, 735, 736, 737, 738, 739, 744, 745, 746, 747, 748, 749, 750, 751, 752, 753, 754, 755, 759, 760, 764, 765, 766, 767, 768, 769, 770, 771, 772, 773, 774, 775, 784, 785, 786, 787, 788, 789, 790, 791, 799]\n",
            "Farklı uzunlukta array bulunan satırlar (EEG.O1 sütununda): [2, 4, 5, 6, 9, 12, 13, 16, 22, 23, 24, 25, 28, 32, 33, 34, 39, 41, 42, 43, 44, 45, 46, 47, 49, 50, 57, 58, 59, 60, 61, 62, 63, 64, 65, 66, 67, 69, 70, 79, 85, 86, 87, 88, 89, 90, 91, 92, 99, 100, 101, 108, 109, 110, 111, 112, 119, 120, 121, 122, 123, 128, 129, 130, 131, 132, 133, 140, 141, 142, 143, 144, 145, 146, 147, 148, 149, 150, 151, 152, 153, 154, 155, 156, 157, 158, 159, 160, 161, 162, 163, 164, 165, 166, 167, 168, 169, 170, 180, 181, 184, 187, 188, 189, 190, 191, 192, 193, 194, 200, 201, 202, 203, 204, 205, 206, 216, 217, 218, 219, 220, 221, 222, 223, 225, 230, 231, 239, 242, 248, 249, 250, 251, 256, 258, 259, 260, 261, 262, 263, 264, 265, 266, 267, 278, 279, 280, 281, 282, 283, 284, 292, 293, 294, 295, 296, 297, 298, 299, 300, 303, 304, 305, 312, 313, 314, 315, 316, 317, 318, 319, 320, 321, 322, 323, 331, 332, 333, 334, 335, 336, 337, 338, 339, 340, 341, 342, 343, 344, 345, 346, 347, 352, 353, 354, 355, 356, 357, 358, 359, 360, 361, 362, 363, 364, 372, 373, 374, 375, 376, 377, 378, 379, 380, 381, 382, 383, 386, 388, 389, 390, 391, 392, 393, 394, 395, 400, 401, 402, 403, 404, 405, 412, 413, 414, 415, 416, 421, 422, 423, 424, 425, 426, 427, 428, 429, 430, 436, 437, 438, 439, 444, 445, 446, 447, 448, 449, 453, 454, 455, 456, 457, 458, 459, 466, 467, 468, 469, 470, 471, 472, 473, 474, 475, 482, 484, 486, 487, 488, 489, 496, 497, 498, 499, 501, 503, 504, 517, 524, 525, 526, 527, 528, 529, 530, 531, 536, 537, 538, 539, 544, 545, 546, 547, 548, 549, 550, 551, 552, 553, 554, 555, 559, 564, 565, 566, 567, 568, 569, 570, 571, 572, 573, 574, 575, 579, 585, 586, 587, 588, 589, 590, 591, 592, 593, 594, 595, 600, 601, 602, 603, 612, 613, 614, 615, 616, 617, 618, 619, 624, 625, 626, 627, 628, 629, 630, 631, 632, 633, 634, 635, 639, 644, 645, 646, 647, 652, 653, 654, 655, 656, 657, 658, 661, 662, 663, 664, 665, 666, 667, 668, 669, 676, 677, 678, 679, 680, 681, 682, 683, 684, 685, 686, 687, 696, 697, 698, 699, 700, 701, 702, 703, 704, 705, 706, 707, 716, 717, 718, 719, 720, 721, 722, 723, 724, 725, 726, 727, 733, 734, 735, 736, 737, 738, 739, 744, 745, 746, 747, 748, 749, 750, 751, 752, 753, 754, 755, 759, 760, 764, 765, 766, 767, 768, 769, 770, 771, 772, 773, 774, 775, 784, 785, 786, 787, 788, 789, 790, 791, 799]\n",
            "Farklı uzunlukta array bulunan satırlar (EEG.O2 sütununda): [2, 4, 5, 6, 9, 12, 13, 16, 22, 23, 24, 25, 28, 32, 33, 34, 39, 41, 42, 43, 44, 45, 46, 47, 49, 50, 57, 58, 59, 60, 61, 62, 63, 64, 65, 66, 67, 69, 70, 79, 85, 86, 87, 88, 89, 90, 91, 92, 99, 100, 101, 108, 109, 110, 111, 112, 119, 120, 121, 122, 123, 128, 129, 130, 131, 132, 133, 140, 141, 142, 143, 144, 145, 146, 147, 148, 149, 150, 151, 152, 153, 154, 155, 156, 157, 158, 159, 160, 161, 162, 163, 164, 165, 166, 167, 168, 169, 170, 180, 181, 184, 187, 188, 189, 190, 191, 192, 193, 194, 200, 201, 202, 203, 204, 205, 206, 216, 217, 218, 219, 220, 221, 222, 223, 225, 230, 231, 239, 242, 248, 249, 250, 251, 256, 258, 259, 260, 261, 262, 263, 264, 265, 266, 267, 278, 279, 280, 281, 282, 283, 284, 292, 293, 294, 295, 296, 297, 298, 299, 300, 303, 304, 305, 312, 313, 314, 315, 316, 317, 318, 319, 320, 321, 322, 323, 331, 332, 333, 334, 335, 336, 337, 338, 339, 340, 341, 342, 343, 344, 345, 346, 347, 352, 353, 354, 355, 356, 357, 358, 359, 360, 361, 362, 363, 364, 372, 373, 374, 375, 376, 377, 378, 379, 380, 381, 382, 383, 386, 388, 389, 390, 391, 392, 393, 394, 395, 400, 401, 402, 403, 404, 405, 412, 413, 414, 415, 416, 421, 422, 423, 424, 425, 426, 427, 428, 429, 430, 436, 437, 438, 439, 444, 445, 446, 447, 448, 449, 453, 454, 455, 456, 457, 458, 459, 466, 467, 468, 469, 470, 471, 472, 473, 474, 475, 482, 484, 486, 487, 488, 489, 496, 497, 498, 499, 501, 503, 504, 517, 524, 525, 526, 527, 528, 529, 530, 531, 536, 537, 538, 539, 544, 545, 546, 547, 548, 549, 550, 551, 552, 553, 554, 555, 559, 564, 565, 566, 567, 568, 569, 570, 571, 572, 573, 574, 575, 579, 585, 586, 587, 588, 589, 590, 591, 592, 593, 594, 595, 600, 601, 602, 603, 612, 613, 614, 615, 616, 617, 618, 619, 624, 625, 626, 627, 628, 629, 630, 631, 632, 633, 634, 635, 639, 644, 645, 646, 647, 652, 653, 654, 655, 656, 657, 658, 661, 662, 663, 664, 665, 666, 667, 668, 669, 676, 677, 678, 679, 680, 681, 682, 683, 684, 685, 686, 687, 696, 697, 698, 699, 700, 701, 702, 703, 704, 705, 706, 707, 716, 717, 718, 719, 720, 721, 722, 723, 724, 725, 726, 727, 733, 734, 735, 736, 737, 738, 739, 744, 745, 746, 747, 748, 749, 750, 751, 752, 753, 754, 755, 759, 760, 764, 765, 766, 767, 768, 769, 770, 771, 772, 773, 774, 775, 784, 785, 786, 787, 788, 789, 790, 791, 799]\n",
            "Farklı uzunlukta array bulunan satırlar (EEG.P8 sütununda): [2, 4, 5, 6, 9, 12, 13, 16, 22, 23, 24, 25, 28, 32, 33, 34, 39, 41, 42, 43, 44, 45, 46, 47, 49, 50, 57, 58, 59, 60, 61, 62, 63, 64, 65, 66, 67, 69, 70, 79, 85, 86, 87, 88, 89, 90, 91, 92, 99, 100, 101, 108, 109, 110, 111, 112, 119, 120, 121, 122, 123, 128, 129, 130, 131, 132, 133, 140, 141, 142, 143, 144, 145, 146, 147, 148, 149, 150, 151, 152, 153, 154, 155, 156, 157, 158, 159, 160, 161, 162, 163, 164, 165, 166, 167, 168, 169, 170, 180, 181, 184, 187, 188, 189, 190, 191, 192, 193, 194, 200, 201, 202, 203, 204, 205, 206, 216, 217, 218, 219, 220, 221, 222, 223, 225, 230, 231, 239, 242, 248, 249, 250, 251, 256, 258, 259, 260, 261, 262, 263, 264, 265, 266, 267, 278, 279, 280, 281, 282, 283, 284, 292, 293, 294, 295, 296, 297, 298, 299, 300, 303, 304, 305, 312, 313, 314, 315, 316, 317, 318, 319, 320, 321, 322, 323, 331, 332, 333, 334, 335, 336, 337, 338, 339, 340, 341, 342, 343, 344, 345, 346, 347, 352, 353, 354, 355, 356, 357, 358, 359, 360, 361, 362, 363, 364, 372, 373, 374, 375, 376, 377, 378, 379, 380, 381, 382, 383, 386, 388, 389, 390, 391, 392, 393, 394, 395, 400, 401, 402, 403, 404, 405, 412, 413, 414, 415, 416, 421, 422, 423, 424, 425, 426, 427, 428, 429, 430, 436, 437, 438, 439, 444, 445, 446, 447, 448, 449, 453, 454, 455, 456, 457, 458, 459, 466, 467, 468, 469, 470, 471, 472, 473, 474, 475, 482, 484, 486, 487, 488, 489, 496, 497, 498, 499, 501, 503, 504, 517, 524, 525, 526, 527, 528, 529, 530, 531, 536, 537, 538, 539, 544, 545, 546, 547, 548, 549, 550, 551, 552, 553, 554, 555, 559, 564, 565, 566, 567, 568, 569, 570, 571, 572, 573, 574, 575, 579, 585, 586, 587, 588, 589, 590, 591, 592, 593, 594, 595, 600, 601, 602, 603, 612, 613, 614, 615, 616, 617, 618, 619, 624, 625, 626, 627, 628, 629, 630, 631, 632, 633, 634, 635, 639, 644, 645, 646, 647, 652, 653, 654, 655, 656, 657, 658, 661, 662, 663, 664, 665, 666, 667, 668, 669, 676, 677, 678, 679, 680, 681, 682, 683, 684, 685, 686, 687, 696, 697, 698, 699, 700, 701, 702, 703, 704, 705, 706, 707, 716, 717, 718, 719, 720, 721, 722, 723, 724, 725, 726, 727, 733, 734, 735, 736, 737, 738, 739, 744, 745, 746, 747, 748, 749, 750, 751, 752, 753, 754, 755, 759, 760, 764, 765, 766, 767, 768, 769, 770, 771, 772, 773, 774, 775, 784, 785, 786, 787, 788, 789, 790, 791, 799]\n",
            "Farklı uzunlukta array bulunan satırlar (EEG.T8 sütununda): [2, 4, 5, 6, 9, 12, 13, 16, 22, 23, 24, 25, 28, 32, 33, 34, 39, 41, 42, 43, 44, 45, 46, 47, 49, 50, 57, 58, 59, 60, 61, 62, 63, 64, 65, 66, 67, 69, 70, 79, 85, 86, 87, 88, 89, 90, 91, 92, 99, 100, 101, 108, 109, 110, 111, 112, 119, 120, 121, 122, 123, 128, 129, 130, 131, 132, 133, 140, 141, 142, 143, 144, 145, 146, 147, 148, 149, 150, 151, 152, 153, 154, 155, 156, 157, 158, 159, 160, 161, 162, 163, 164, 165, 166, 167, 168, 169, 170, 180, 181, 184, 187, 188, 189, 190, 191, 192, 193, 194, 200, 201, 202, 203, 204, 205, 206, 216, 217, 218, 219, 220, 221, 222, 223, 225, 230, 231, 239, 242, 248, 249, 250, 251, 256, 258, 259, 260, 261, 262, 263, 264, 265, 266, 267, 278, 279, 280, 281, 282, 283, 284, 292, 293, 294, 295, 296, 297, 298, 299, 300, 303, 304, 305, 312, 313, 314, 315, 316, 317, 318, 319, 320, 321, 322, 323, 331, 332, 333, 334, 335, 336, 337, 338, 339, 340, 341, 342, 343, 344, 345, 346, 347, 352, 353, 354, 355, 356, 357, 358, 359, 360, 361, 362, 363, 364, 372, 373, 374, 375, 376, 377, 378, 379, 380, 381, 382, 383, 386, 388, 389, 390, 391, 392, 393, 394, 395, 400, 401, 402, 403, 404, 405, 412, 413, 414, 415, 416, 421, 422, 423, 424, 425, 426, 427, 428, 429, 430, 436, 437, 438, 439, 444, 445, 446, 447, 448, 449, 453, 454, 455, 456, 457, 458, 459, 466, 467, 468, 469, 470, 471, 472, 473, 474, 475, 482, 484, 486, 487, 488, 489, 496, 497, 498, 499, 501, 503, 504, 517, 524, 525, 526, 527, 528, 529, 530, 531, 536, 537, 538, 539, 544, 545, 546, 547, 548, 549, 550, 551, 552, 553, 554, 555, 559, 564, 565, 566, 567, 568, 569, 570, 571, 572, 573, 574, 575, 579, 585, 586, 587, 588, 589, 590, 591, 592, 593, 594, 595, 600, 601, 602, 603, 612, 613, 614, 615, 616, 617, 618, 619, 624, 625, 626, 627, 628, 629, 630, 631, 632, 633, 634, 635, 639, 644, 645, 646, 647, 652, 653, 654, 655, 656, 657, 658, 661, 662, 663, 664, 665, 666, 667, 668, 669, 676, 677, 678, 679, 680, 681, 682, 683, 684, 685, 686, 687, 696, 697, 698, 699, 700, 701, 702, 703, 704, 705, 706, 707, 716, 717, 718, 719, 720, 721, 722, 723, 724, 725, 726, 727, 733, 734, 735, 736, 737, 738, 739, 744, 745, 746, 747, 748, 749, 750, 751, 752, 753, 754, 755, 759, 760, 764, 765, 766, 767, 768, 769, 770, 771, 772, 773, 774, 775, 784, 785, 786, 787, 788, 789, 790, 791, 799]\n",
            "Farklı uzunlukta array bulunan satırlar (EEG.FC6 sütununda): [2, 4, 5, 6, 9, 12, 13, 16, 22, 23, 24, 25, 28, 32, 33, 34, 39, 41, 42, 43, 44, 45, 46, 47, 49, 50, 57, 58, 59, 60, 61, 62, 63, 64, 65, 66, 67, 69, 70, 79, 85, 86, 87, 88, 89, 90, 91, 92, 99, 100, 101, 108, 109, 110, 111, 112, 119, 120, 121, 122, 123, 128, 129, 130, 131, 132, 133, 140, 141, 142, 143, 144, 145, 146, 147, 148, 149, 150, 151, 152, 153, 154, 155, 156, 157, 158, 159, 160, 161, 162, 163, 164, 165, 166, 167, 168, 169, 170, 180, 181, 184, 187, 188, 189, 190, 191, 192, 193, 194, 200, 201, 202, 203, 204, 205, 206, 216, 217, 218, 219, 220, 221, 222, 223, 225, 230, 231, 239, 242, 248, 249, 250, 251, 256, 258, 259, 260, 261, 262, 263, 264, 265, 266, 267, 278, 279, 280, 281, 282, 283, 284, 292, 293, 294, 295, 296, 297, 298, 299, 300, 303, 304, 305, 312, 313, 314, 315, 316, 317, 318, 319, 320, 321, 322, 323, 331, 332, 333, 334, 335, 336, 337, 338, 339, 340, 341, 342, 343, 344, 345, 346, 347, 352, 353, 354, 355, 356, 357, 358, 359, 360, 361, 362, 363, 364, 372, 373, 374, 375, 376, 377, 378, 379, 380, 381, 382, 383, 386, 388, 389, 390, 391, 392, 393, 394, 395, 400, 401, 402, 403, 404, 405, 412, 413, 414, 415, 416, 421, 422, 423, 424, 425, 426, 427, 428, 429, 430, 436, 437, 438, 439, 444, 445, 446, 447, 448, 449, 453, 454, 455, 456, 457, 458, 459, 466, 467, 468, 469, 470, 471, 472, 473, 474, 475, 482, 484, 486, 487, 488, 489, 496, 497, 498, 499, 501, 503, 504, 517, 524, 525, 526, 527, 528, 529, 530, 531, 536, 537, 538, 539, 544, 545, 546, 547, 548, 549, 550, 551, 552, 553, 554, 555, 559, 564, 565, 566, 567, 568, 569, 570, 571, 572, 573, 574, 575, 579, 585, 586, 587, 588, 589, 590, 591, 592, 593, 594, 595, 600, 601, 602, 603, 612, 613, 614, 615, 616, 617, 618, 619, 624, 625, 626, 627, 628, 629, 630, 631, 632, 633, 634, 635, 639, 644, 645, 646, 647, 652, 653, 654, 655, 656, 657, 658, 661, 662, 663, 664, 665, 666, 667, 668, 669, 676, 677, 678, 679, 680, 681, 682, 683, 684, 685, 686, 687, 696, 697, 698, 699, 700, 701, 702, 703, 704, 705, 706, 707, 716, 717, 718, 719, 720, 721, 722, 723, 724, 725, 726, 727, 733, 734, 735, 736, 737, 738, 739, 744, 745, 746, 747, 748, 749, 750, 751, 752, 753, 754, 755, 759, 760, 764, 765, 766, 767, 768, 769, 770, 771, 772, 773, 774, 775, 784, 785, 786, 787, 788, 789, 790, 791, 799]\n",
            "Farklı uzunlukta array bulunan satırlar (EEG.F4 sütununda): [2, 4, 5, 6, 9, 12, 13, 16, 22, 23, 24, 25, 28, 32, 33, 34, 39, 41, 42, 43, 44, 45, 46, 47, 49, 50, 57, 58, 59, 60, 61, 62, 63, 64, 65, 66, 67, 69, 70, 79, 85, 86, 87, 88, 89, 90, 91, 92, 99, 100, 101, 108, 109, 110, 111, 112, 119, 120, 121, 122, 123, 128, 129, 130, 131, 132, 133, 140, 141, 142, 143, 144, 145, 146, 147, 148, 149, 150, 151, 152, 153, 154, 155, 156, 157, 158, 159, 160, 161, 162, 163, 164, 165, 166, 167, 168, 169, 170, 180, 181, 184, 187, 188, 189, 190, 191, 192, 193, 194, 200, 201, 202, 203, 204, 205, 206, 216, 217, 218, 219, 220, 221, 222, 223, 225, 230, 231, 239, 242, 248, 249, 250, 251, 256, 258, 259, 260, 261, 262, 263, 264, 265, 266, 267, 278, 279, 280, 281, 282, 283, 284, 292, 293, 294, 295, 296, 297, 298, 299, 300, 303, 304, 305, 312, 313, 314, 315, 316, 317, 318, 319, 320, 321, 322, 323, 331, 332, 333, 334, 335, 336, 337, 338, 339, 340, 341, 342, 343, 344, 345, 346, 347, 352, 353, 354, 355, 356, 357, 358, 359, 360, 361, 362, 363, 364, 372, 373, 374, 375, 376, 377, 378, 379, 380, 381, 382, 383, 386, 388, 389, 390, 391, 392, 393, 394, 395, 400, 401, 402, 403, 404, 405, 412, 413, 414, 415, 416, 421, 422, 423, 424, 425, 426, 427, 428, 429, 430, 436, 437, 438, 439, 444, 445, 446, 447, 448, 449, 453, 454, 455, 456, 457, 458, 459, 466, 467, 468, 469, 470, 471, 472, 473, 474, 475, 482, 484, 486, 487, 488, 489, 496, 497, 498, 499, 501, 503, 504, 517, 524, 525, 526, 527, 528, 529, 530, 531, 536, 537, 538, 539, 544, 545, 546, 547, 548, 549, 550, 551, 552, 553, 554, 555, 559, 564, 565, 566, 567, 568, 569, 570, 571, 572, 573, 574, 575, 579, 585, 586, 587, 588, 589, 590, 591, 592, 593, 594, 595, 600, 601, 602, 603, 612, 613, 614, 615, 616, 617, 618, 619, 624, 625, 626, 627, 628, 629, 630, 631, 632, 633, 634, 635, 639, 644, 645, 646, 647, 652, 653, 654, 655, 656, 657, 658, 661, 662, 663, 664, 665, 666, 667, 668, 669, 676, 677, 678, 679, 680, 681, 682, 683, 684, 685, 686, 687, 696, 697, 698, 699, 700, 701, 702, 703, 704, 705, 706, 707, 716, 717, 718, 719, 720, 721, 722, 723, 724, 725, 726, 727, 733, 734, 735, 736, 737, 738, 739, 744, 745, 746, 747, 748, 749, 750, 751, 752, 753, 754, 755, 759, 760, 764, 765, 766, 767, 768, 769, 770, 771, 772, 773, 774, 775, 784, 785, 786, 787, 788, 789, 790, 791, 799]\n",
            "Farklı uzunlukta array bulunan satırlar (EEG.F8 sütununda): [2, 4, 5, 6, 9, 12, 13, 16, 22, 23, 24, 25, 28, 32, 33, 34, 39, 41, 42, 43, 44, 45, 46, 47, 49, 50, 57, 58, 59, 60, 61, 62, 63, 64, 65, 66, 67, 69, 70, 79, 85, 86, 87, 88, 89, 90, 91, 92, 99, 100, 101, 108, 109, 110, 111, 112, 119, 120, 121, 122, 123, 128, 129, 130, 131, 132, 133, 140, 141, 142, 143, 144, 145, 146, 147, 148, 149, 150, 151, 152, 153, 154, 155, 156, 157, 158, 159, 160, 161, 162, 163, 164, 165, 166, 167, 168, 169, 170, 180, 181, 184, 187, 188, 189, 190, 191, 192, 193, 194, 200, 201, 202, 203, 204, 205, 206, 216, 217, 218, 219, 220, 221, 222, 223, 225, 230, 231, 239, 242, 248, 249, 250, 251, 256, 258, 259, 260, 261, 262, 263, 264, 265, 266, 267, 278, 279, 280, 281, 282, 283, 284, 292, 293, 294, 295, 296, 297, 298, 299, 300, 303, 304, 305, 312, 313, 314, 315, 316, 317, 318, 319, 320, 321, 322, 323, 331, 332, 333, 334, 335, 336, 337, 338, 339, 340, 341, 342, 343, 344, 345, 346, 347, 352, 353, 354, 355, 356, 357, 358, 359, 360, 361, 362, 363, 364, 372, 373, 374, 375, 376, 377, 378, 379, 380, 381, 382, 383, 386, 388, 389, 390, 391, 392, 393, 394, 395, 400, 401, 402, 403, 404, 405, 412, 413, 414, 415, 416, 421, 422, 423, 424, 425, 426, 427, 428, 429, 430, 436, 437, 438, 439, 444, 445, 446, 447, 448, 449, 453, 454, 455, 456, 457, 458, 459, 466, 467, 468, 469, 470, 471, 472, 473, 474, 475, 482, 484, 486, 487, 488, 489, 496, 497, 498, 499, 501, 503, 504, 517, 524, 525, 526, 527, 528, 529, 530, 531, 536, 537, 538, 539, 544, 545, 546, 547, 548, 549, 550, 551, 552, 553, 554, 555, 559, 564, 565, 566, 567, 568, 569, 570, 571, 572, 573, 574, 575, 579, 585, 586, 587, 588, 589, 590, 591, 592, 593, 594, 595, 600, 601, 602, 603, 612, 613, 614, 615, 616, 617, 618, 619, 624, 625, 626, 627, 628, 629, 630, 631, 632, 633, 634, 635, 639, 644, 645, 646, 647, 652, 653, 654, 655, 656, 657, 658, 661, 662, 663, 664, 665, 666, 667, 668, 669, 676, 677, 678, 679, 680, 681, 682, 683, 684, 685, 686, 687, 696, 697, 698, 699, 700, 701, 702, 703, 704, 705, 706, 707, 716, 717, 718, 719, 720, 721, 722, 723, 724, 725, 726, 727, 733, 734, 735, 736, 737, 738, 739, 744, 745, 746, 747, 748, 749, 750, 751, 752, 753, 754, 755, 759, 760, 764, 765, 766, 767, 768, 769, 770, 771, 772, 773, 774, 775, 784, 785, 786, 787, 788, 789, 790, 791, 799]\n",
            "Farklı uzunlukta array bulunan satırlar (EEG.AF4 sütununda): [2, 4, 5, 6, 9, 12, 13, 16, 22, 23, 24, 25, 28, 32, 33, 34, 39, 41, 42, 43, 44, 45, 46, 47, 49, 50, 57, 58, 59, 60, 61, 62, 63, 64, 65, 66, 67, 69, 70, 79, 85, 86, 87, 88, 89, 90, 91, 92, 99, 100, 101, 108, 109, 110, 111, 112, 119, 120, 121, 122, 123, 128, 129, 130, 131, 132, 133, 140, 141, 142, 143, 144, 145, 146, 147, 148, 149, 150, 151, 152, 153, 154, 155, 156, 157, 158, 159, 160, 161, 162, 163, 164, 165, 166, 167, 168, 169, 170, 180, 181, 184, 187, 188, 189, 190, 191, 192, 193, 194, 200, 201, 202, 203, 204, 205, 206, 216, 217, 218, 219, 220, 221, 222, 223, 225, 230, 231, 239, 242, 248, 249, 250, 251, 256, 258, 259, 260, 261, 262, 263, 264, 265, 266, 267, 278, 279, 280, 281, 282, 283, 284, 292, 293, 294, 295, 296, 297, 298, 299, 300, 303, 304, 305, 312, 313, 314, 315, 316, 317, 318, 319, 320, 321, 322, 323, 331, 332, 333, 334, 335, 336, 337, 338, 339, 340, 341, 342, 343, 344, 345, 346, 347, 352, 353, 354, 355, 356, 357, 358, 359, 360, 361, 362, 363, 364, 372, 373, 374, 375, 376, 377, 378, 379, 380, 381, 382, 383, 386, 388, 389, 390, 391, 392, 393, 394, 395, 400, 401, 402, 403, 404, 405, 412, 413, 414, 415, 416, 421, 422, 423, 424, 425, 426, 427, 428, 429, 430, 436, 437, 438, 439, 444, 445, 446, 447, 448, 449, 453, 454, 455, 456, 457, 458, 459, 466, 467, 468, 469, 470, 471, 472, 473, 474, 475, 482, 484, 486, 487, 488, 489, 496, 497, 498, 499, 501, 503, 504, 517, 524, 525, 526, 527, 528, 529, 530, 531, 536, 537, 538, 539, 544, 545, 546, 547, 548, 549, 550, 551, 552, 553, 554, 555, 559, 564, 565, 566, 567, 568, 569, 570, 571, 572, 573, 574, 575, 579, 585, 586, 587, 588, 589, 590, 591, 592, 593, 594, 595, 600, 601, 602, 603, 612, 613, 614, 615, 616, 617, 618, 619, 624, 625, 626, 627, 628, 629, 630, 631, 632, 633, 634, 635, 639, 644, 645, 646, 647, 652, 653, 654, 655, 656, 657, 658, 661, 662, 663, 664, 665, 666, 667, 668, 669, 676, 677, 678, 679, 680, 681, 682, 683, 684, 685, 686, 687, 696, 697, 698, 699, 700, 701, 702, 703, 704, 705, 706, 707, 716, 717, 718, 719, 720, 721, 722, 723, 724, 725, 726, 727, 733, 734, 735, 736, 737, 738, 739, 744, 745, 746, 747, 748, 749, 750, 751, 752, 753, 754, 755, 759, 760, 764, 765, 766, 767, 768, 769, 770, 771, 772, 773, 774, 775, 784, 785, 786, 787, 788, 789, 790, 791, 799]\n"
          ]
        }
      ]
    },
    {
      "cell_type": "code",
      "source": [
        "import numpy as np\n",
        "from scipy.signal import butter, filtfilt\n",
        "import pandas as pd\n",
        "\n",
        "# Band-pass filtresi için butterworth filtresi oluşturma\n",
        "def bandpass_filter(data, lowcut, highcut, fs, order=4):\n",
        "    nyquist = 0.5 * fs  # Nyquist frekansı\n",
        "    low = lowcut / nyquist  # Düşük frekans kesimi\n",
        "    high = highcut / nyquist  # Yüksek frekans kesimi\n",
        "    b, a = butter(order, [low, high], btype='band')\n",
        "\n",
        "    if len(data) > order:  # Veri uzunluğunun filtreleme için yeterli olup olmadığını kontrol et\n",
        "        filtered_data = filtfilt(b, a, data)\n",
        "    else:\n",
        "        filtered_data = data  # Eğer veri çok kısa ise, filtreleme yapmadan veriyi olduğu gibi bırak\n",
        "    return filtered_data\n",
        "\n",
        "# EEG verilerini band-pass filtre uygulamak\n",
        "def filter_eeg_data(eeg_data, lowcut, highcut, fs):\n",
        "    filtered_data = {}\n",
        "    for column in eeg_data.columns:\n",
        "        # Her bir EEG kanalındaki veriyi al (bu veri dizisi olarak alınmalıdır)\n",
        "        data = eeg_data[column]  # EEG verisi zaten bir dizi olabilir\n",
        "        # Her kanal için band-pass filtresi uygulama\n",
        "        filtered_data[column] = data.apply(lambda x: bandpass_filter(x, lowcut, highcut, fs))\n",
        "    return pd.DataFrame(filtered_data)\n",
        "\n",
        "# EEG verilerinin bulunduğu 'merged_data' veri çerçevesini 'user_id' ve 'Timestamp' hariç al\n",
        "eeg_data = merged_data.drop(columns=['user_id', 'Timestamp', 'aro', 'val'])\n",
        "\n",
        "# Verinin örnek parametreleri\n",
        "lowcut = 1.0  # Düşük frekans (Hz)\n",
        "highcut = 50.0  # Yüksek frekans (Hz)\n",
        "fs = 250  # Örnekleme frekansı (Hz)\n",
        "\n",
        "# Band-pass filtresini EEG verilerine uygulama\n",
        "filtered_eeg_data = filter_eeg_data(eeg_data, lowcut, highcut, fs)\n",
        "\n",
        "# 'aro' ve 'val' sütunlarını olduğu gibi bırakıyoruz ve filtresi yapılmış EEG verileriyle birleştiriyoruz\n",
        "filtered_eeg_data['aro'] = merged_data['aro']\n",
        "filtered_eeg_data['val'] = merged_data['val']\n",
        "\n"
      ],
      "metadata": {
        "id": "oUFkqSMsYb9Q"
      },
      "execution_count": 31,
      "outputs": []
    },
    {
      "cell_type": "code",
      "source": [
        "print(filtered_eeg_data.head())"
      ],
      "metadata": {
        "colab": {
          "base_uri": "https://localhost:8080/"
        },
        "id": "YPyge3DYYb28",
        "outputId": "4af19760-9ad7-4792-e231-19146f408642"
      },
      "execution_count": 54,
      "outputs": [
        {
          "output_type": "stream",
          "name": "stdout",
          "text": [
            "                                             EEG.AF3  \\\n",
            "0  [3.822408254386287, -0.107609635535617, -2.136...   \n",
            "1  [-4.684884249648351, -2.0445122131796603, -3.3...   \n",
            "2  [-1.7145195955541543, -2.135729125035467, -0.8...   \n",
            "3  [3.719529942264249, 3.8973080855562907, 4.0090...   \n",
            "4  [-3.125178227921227, 3.013932457129723, 4.8534...   \n",
            "\n",
            "                                              EEG.F7  \\\n",
            "0  [15.159046022015639, 8.153032011756563, 0.6569...   \n",
            "1  [-0.6178966280137121, -1.3426158953502862, -3....   \n",
            "2  [2.7197010893899307, 5.764214948801842, 11.241...   \n",
            "3  [14.422464312746353, 23.385855481357922, 30.97...   \n",
            "4  [-4.803572018680795, -2.416309726409969, -1.99...   \n",
            "\n",
            "                                              EEG.F3  \\\n",
            "0  [5.382019274341784, 2.8269712691049156, 1.0699...   \n",
            "1  [-2.3730615932454326, -2.2196447406221522, -4....   \n",
            "2  [-2.025532518982459, -1.624470650652609, 0.195...   \n",
            "3  [0.27144962352863555, 3.9617594432407564, 5.16...   \n",
            "4  [2.666048738620909, 10.393312292786579, 12.370...   \n",
            "\n",
            "                                             EEG.FC5  \\\n",
            "0  [2.8015370842559397, 2.2803030447073542, 1.246...   \n",
            "1  [-2.4524803443820917, -2.7359528858409545, -3....   \n",
            "2  [0.09192568192889339, -1.779423071088083, -1.0...   \n",
            "3  [2.2516743972791042, 5.399336902009578, 5.5502...   \n",
            "4  [2.9098666849978074, -0.7358995751052376, -0.6...   \n",
            "\n",
            "                                              EEG.T7  \\\n",
            "0  [2.413348546238972, 0.35536092118462237, -1.46...   \n",
            "1  [-2.0301940821199973, -4.527937735696225, -5.1...   \n",
            "2  [-0.3692866749065382, -6.6213432306844755, -8....   \n",
            "3  [2.6342794286072637, 9.179651171722103, 10.672...   \n",
            "4  [1.087193868786395, 2.708783199869481, 4.94066...   \n",
            "\n",
            "                                              EEG.P7  \\\n",
            "0  [0.481805002168141, -0.4487287493472509, -1.52...   \n",
            "1  [-3.2690727472570575, -1.8775905052962396, 0.4...   \n",
            "2  [1.6728364055258687, -2.9692411063172184, -4.5...   \n",
            "3  [2.957130727411079, 13.609503086572142, 19.473...   \n",
            "4  [2.597563373136598, 5.531784985749087, 7.91383...   \n",
            "\n",
            "                                              EEG.O1  \\\n",
            "0  [1.1084215392016583, 2.4395132821823196, 3.277...   \n",
            "1  [-1.597035955122126, 4.239079872640968, 6.3856...   \n",
            "2  [-4.106608025106621, 0.12547717361949118, 3.74...   \n",
            "3  [6.415814910950556, 12.046007256956894, 14.991...   \n",
            "4  [10.71653447402178, 14.34991474027254, 17.0631...   \n",
            "\n",
            "                                              EEG.O2  \\\n",
            "0  [8.11094308779527, 15.345906030212259, 23.7189...   \n",
            "1  [0.7321843392839571, 7.324857388416966, 10.890...   \n",
            "2  [-1.913124579963054, 1.5929308254944559, 4.232...   \n",
            "3  [-0.5097067209353809, -3.499754415099878, -6.1...   \n",
            "4  [-2.3760440083115046, -0.05212338116666329, 0....   \n",
            "\n",
            "                                              EEG.P8  \\\n",
            "0  [9.476272686343986, 17.866388389386664, 26.645...   \n",
            "1  [3.597119113115049, 7.672226661507067, 4.81702...   \n",
            "2  [0.865274559198936, 1.2802453745907443, 2.3625...   \n",
            "3  [4.760175788545098, 6.059082395968099, 6.50851...   \n",
            "4  [4.253989472937165, 9.674406350051289, 13.7802...   \n",
            "\n",
            "                                              EEG.T8  \\\n",
            "0  [13.49026585748103, 22.980288943193095, 28.707...   \n",
            "1  [3.410638991630826, 17.69696404444715, 24.0854...   \n",
            "2  [-1.7152282396544454, -3.2245193451242393, -3....   \n",
            "3  [4.8453358350507685, 0.7705363253665498, -0.85...   \n",
            "4  [2.5452735958025343, -0.5513901129031591, 2.39...   \n",
            "\n",
            "                                             EEG.FC6  \\\n",
            "0  [5.478307923277345, 25.5500580476192, -23.3845...   \n",
            "1  [-1.1451612757007614, 4.002414933014902, 4.857...   \n",
            "2  [-1.4770132805307985, -5.105210753343888, -6.8...   \n",
            "3  [8.086076771946063, 11.506232311349908, 13.202...   \n",
            "4  [-2.0299685131473613, 2.838883184719753, 6.290...   \n",
            "\n",
            "                                              EEG.F4  \\\n",
            "0  [5.329633744215592, 3.901037683045259, 2.45642...   \n",
            "1  [-0.2913348730054066, 2.444050052147919, 3.491...   \n",
            "2  [0.6988276610406577, -1.9511888717454569, -2.9...   \n",
            "3  [-1.579379404861311, 3.502519839403521, 5.0518...   \n",
            "4  [-0.17076620007657273, 5.702495966899938, 8.25...   \n",
            "\n",
            "                                              EEG.F8  \\\n",
            "0  [-4.75733162304326, -8.168739616605047, -10.41...   \n",
            "1  [7.04759613641237, 11.105105458123338, 12.7401...   \n",
            "2  [-6.928818766846524, -24.193093955646013, -37....   \n",
            "3  [1.291416185755466, 3.147201735494306, 4.29590...   \n",
            "4  [-4.528788864820896, -3.093988064799788, -0.53...   \n",
            "\n",
            "                                             EEG.AF4 source_file aro val  \n",
            "0  [0.8903140333774182, 17.47909907696328, -30.27...      (1, 1)   0   1  \n",
            "1  [-0.0047344279113516186, 8.421161214988535, 11...      (1, 2)   1   0  \n",
            "2  [-2.4315752551228953, -9.674732388665703, -13....      (1, 3)   1   1  \n",
            "3  [8.282725289538257, 11.96584185221498, 13.9276...      (1, 4)   1   0  \n",
            "4  [-3.513788293108062, 4.994735487184432, 11.265...      (1, 5)   0   1  \n"
          ]
        }
      ]
    },
    {
      "cell_type": "code",
      "source": [],
      "metadata": {
        "id": "lHbkfnkDYbxn"
      },
      "execution_count": null,
      "outputs": []
    },
    {
      "cell_type": "markdown",
      "source": [
        "# Feature Selection"
      ],
      "metadata": {
        "id": "uY8MjtfIikmK"
      }
    },
    {
      "cell_type": "code",
      "source": [
        "import pandas as pd\n",
        "import matplotlib.pyplot as plt\n",
        "import seaborn as sns\n",
        "from sklearn.feature_selection import mutual_info_classif"
      ],
      "metadata": {
        "id": "LZ8TXbsluM57"
      },
      "execution_count": 180,
      "outputs": []
    },
    {
      "cell_type": "code",
      "source": [
        "from sklearn.feature_selection import mutual_info_regression\n",
        "\n",
        "# Karşılıklı bilgi hesaplamak için fonksiyon (regresyon)\n",
        "def mutual_information(X, y):\n",
        "    \"\"\"\n",
        "    Karşılıklı bilgi hesaplama fonksiyonu (regresyon için).\n",
        "    X: Özellikler\n",
        "    y: Sürekli etiketler (regresyon için)\n",
        "    \"\"\"\n",
        "    return mutual_info_regression(X, y)\n",
        "\n",
        "# DMIM özellik seçimi için örnek fonksiyon\n",
        "def dmim_feature_selection(X, y):\n",
        "    \"\"\"\n",
        "    DMIM temelli özellik seçimi.\n",
        "    X: Özellik matrisi\n",
        "    y: Etiketler (sürekli)\n",
        "    \"\"\"\n",
        "    n_features = X.shape[1]\n",
        "    feature_scores = np.zeros(n_features)\n",
        "\n",
        "    # Her özelliği değerlendirme\n",
        "    for i in range(n_features):\n",
        "        feature = X[:, i]\n",
        "        mi_with_class = mutual_information(feature.reshape(-1, 1), y)  # MI özelliği ve sınıf\n",
        "        max_mi_with_other_features = np.max([mutual_information(feature.reshape(-1, 1), X[:, j]) for j in range(n_features) if j != i])\n",
        "        max_mi_with_class_specific = np.max([mutual_information(feature.reshape(-1, 1), X[:, j]) for j in range(n_features)])\n",
        "\n",
        "        # DMIM fonksiyonunu kullanarak her özelliği derecelendirme\n",
        "        feature_scores[i] = mi_with_class - max_mi_with_other_features + max_mi_with_class_specific\n",
        "\n",
        "    # En yüksek skora sahip özellikleri seçme (örneğin, en iyi 20)\n",
        "    top_features_idx = np.argsort(feature_scores)[-20:]\n",
        "\n",
        "    return top_features_idx, feature_scores\n",
        "\n",
        "# Örnek EEG verisi (merged_data_cleaned)\n",
        "X = np.random.rand(100, 50)  # 100 örnek ve 50 özellik (rastgele veriler)\n",
        "y = np.random.rand(100)  # Sürekli etiketler (regresyon)\n",
        "\n",
        "# DMIM ile özellik seçimi yapma\n",
        "top_features, feature_scores = dmim_feature_selection(X, y)\n",
        "\n",
        "# Seçilen en iyi 20 özelliği gösterme\n",
        "print(\"En iyi 20 özellik:\", top_features)\n",
        "print(\"Özellik skorlari:\", feature_scores[top_features])\n",
        "\n",
        "# Özelliklerin sıralanmış hali\n",
        "print(\"Tüm özellik sıralaması:\", np.argsort(feature_scores)[::-1])\n"
      ],
      "metadata": {
        "colab": {
          "base_uri": "https://localhost:8080/"
        },
        "id": "6AKex-J2PTlP",
        "outputId": "fd894283-a252-4fc3-cc51-863ecb791b63"
      },
      "execution_count": 34,
      "outputs": [
        {
          "output_type": "stream",
          "name": "stderr",
          "text": [
            "<ipython-input-34-8098a1c9df72>:30: DeprecationWarning: Conversion of an array with ndim > 0 to a scalar is deprecated, and will error in future. Ensure you extract a single element from your array before performing this operation. (Deprecated NumPy 1.25.)\n",
            "  feature_scores[i] = mi_with_class - max_mi_with_other_features + max_mi_with_class_specific\n",
            "<ipython-input-34-8098a1c9df72>:30: DeprecationWarning: Conversion of an array with ndim > 0 to a scalar is deprecated, and will error in future. Ensure you extract a single element from your array before performing this operation. (Deprecated NumPy 1.25.)\n",
            "  feature_scores[i] = mi_with_class - max_mi_with_other_features + max_mi_with_class_specific\n",
            "<ipython-input-34-8098a1c9df72>:30: DeprecationWarning: Conversion of an array with ndim > 0 to a scalar is deprecated, and will error in future. Ensure you extract a single element from your array before performing this operation. (Deprecated NumPy 1.25.)\n",
            "  feature_scores[i] = mi_with_class - max_mi_with_other_features + max_mi_with_class_specific\n",
            "<ipython-input-34-8098a1c9df72>:30: DeprecationWarning: Conversion of an array with ndim > 0 to a scalar is deprecated, and will error in future. Ensure you extract a single element from your array before performing this operation. (Deprecated NumPy 1.25.)\n",
            "  feature_scores[i] = mi_with_class - max_mi_with_other_features + max_mi_with_class_specific\n",
            "<ipython-input-34-8098a1c9df72>:30: DeprecationWarning: Conversion of an array with ndim > 0 to a scalar is deprecated, and will error in future. Ensure you extract a single element from your array before performing this operation. (Deprecated NumPy 1.25.)\n",
            "  feature_scores[i] = mi_with_class - max_mi_with_other_features + max_mi_with_class_specific\n",
            "<ipython-input-34-8098a1c9df72>:30: DeprecationWarning: Conversion of an array with ndim > 0 to a scalar is deprecated, and will error in future. Ensure you extract a single element from your array before performing this operation. (Deprecated NumPy 1.25.)\n",
            "  feature_scores[i] = mi_with_class - max_mi_with_other_features + max_mi_with_class_specific\n",
            "<ipython-input-34-8098a1c9df72>:30: DeprecationWarning: Conversion of an array with ndim > 0 to a scalar is deprecated, and will error in future. Ensure you extract a single element from your array before performing this operation. (Deprecated NumPy 1.25.)\n",
            "  feature_scores[i] = mi_with_class - max_mi_with_other_features + max_mi_with_class_specific\n",
            "<ipython-input-34-8098a1c9df72>:30: DeprecationWarning: Conversion of an array with ndim > 0 to a scalar is deprecated, and will error in future. Ensure you extract a single element from your array before performing this operation. (Deprecated NumPy 1.25.)\n",
            "  feature_scores[i] = mi_with_class - max_mi_with_other_features + max_mi_with_class_specific\n",
            "<ipython-input-34-8098a1c9df72>:30: DeprecationWarning: Conversion of an array with ndim > 0 to a scalar is deprecated, and will error in future. Ensure you extract a single element from your array before performing this operation. (Deprecated NumPy 1.25.)\n",
            "  feature_scores[i] = mi_with_class - max_mi_with_other_features + max_mi_with_class_specific\n",
            "<ipython-input-34-8098a1c9df72>:30: DeprecationWarning: Conversion of an array with ndim > 0 to a scalar is deprecated, and will error in future. Ensure you extract a single element from your array before performing this operation. (Deprecated NumPy 1.25.)\n",
            "  feature_scores[i] = mi_with_class - max_mi_with_other_features + max_mi_with_class_specific\n",
            "<ipython-input-34-8098a1c9df72>:30: DeprecationWarning: Conversion of an array with ndim > 0 to a scalar is deprecated, and will error in future. Ensure you extract a single element from your array before performing this operation. (Deprecated NumPy 1.25.)\n",
            "  feature_scores[i] = mi_with_class - max_mi_with_other_features + max_mi_with_class_specific\n",
            "<ipython-input-34-8098a1c9df72>:30: DeprecationWarning: Conversion of an array with ndim > 0 to a scalar is deprecated, and will error in future. Ensure you extract a single element from your array before performing this operation. (Deprecated NumPy 1.25.)\n",
            "  feature_scores[i] = mi_with_class - max_mi_with_other_features + max_mi_with_class_specific\n",
            "<ipython-input-34-8098a1c9df72>:30: DeprecationWarning: Conversion of an array with ndim > 0 to a scalar is deprecated, and will error in future. Ensure you extract a single element from your array before performing this operation. (Deprecated NumPy 1.25.)\n",
            "  feature_scores[i] = mi_with_class - max_mi_with_other_features + max_mi_with_class_specific\n",
            "<ipython-input-34-8098a1c9df72>:30: DeprecationWarning: Conversion of an array with ndim > 0 to a scalar is deprecated, and will error in future. Ensure you extract a single element from your array before performing this operation. (Deprecated NumPy 1.25.)\n",
            "  feature_scores[i] = mi_with_class - max_mi_with_other_features + max_mi_with_class_specific\n",
            "<ipython-input-34-8098a1c9df72>:30: DeprecationWarning: Conversion of an array with ndim > 0 to a scalar is deprecated, and will error in future. Ensure you extract a single element from your array before performing this operation. (Deprecated NumPy 1.25.)\n",
            "  feature_scores[i] = mi_with_class - max_mi_with_other_features + max_mi_with_class_specific\n",
            "<ipython-input-34-8098a1c9df72>:30: DeprecationWarning: Conversion of an array with ndim > 0 to a scalar is deprecated, and will error in future. Ensure you extract a single element from your array before performing this operation. (Deprecated NumPy 1.25.)\n",
            "  feature_scores[i] = mi_with_class - max_mi_with_other_features + max_mi_with_class_specific\n",
            "<ipython-input-34-8098a1c9df72>:30: DeprecationWarning: Conversion of an array with ndim > 0 to a scalar is deprecated, and will error in future. Ensure you extract a single element from your array before performing this operation. (Deprecated NumPy 1.25.)\n",
            "  feature_scores[i] = mi_with_class - max_mi_with_other_features + max_mi_with_class_specific\n",
            "<ipython-input-34-8098a1c9df72>:30: DeprecationWarning: Conversion of an array with ndim > 0 to a scalar is deprecated, and will error in future. Ensure you extract a single element from your array before performing this operation. (Deprecated NumPy 1.25.)\n",
            "  feature_scores[i] = mi_with_class - max_mi_with_other_features + max_mi_with_class_specific\n",
            "<ipython-input-34-8098a1c9df72>:30: DeprecationWarning: Conversion of an array with ndim > 0 to a scalar is deprecated, and will error in future. Ensure you extract a single element from your array before performing this operation. (Deprecated NumPy 1.25.)\n",
            "  feature_scores[i] = mi_with_class - max_mi_with_other_features + max_mi_with_class_specific\n",
            "<ipython-input-34-8098a1c9df72>:30: DeprecationWarning: Conversion of an array with ndim > 0 to a scalar is deprecated, and will error in future. Ensure you extract a single element from your array before performing this operation. (Deprecated NumPy 1.25.)\n",
            "  feature_scores[i] = mi_with_class - max_mi_with_other_features + max_mi_with_class_specific\n",
            "<ipython-input-34-8098a1c9df72>:30: DeprecationWarning: Conversion of an array with ndim > 0 to a scalar is deprecated, and will error in future. Ensure you extract a single element from your array before performing this operation. (Deprecated NumPy 1.25.)\n",
            "  feature_scores[i] = mi_with_class - max_mi_with_other_features + max_mi_with_class_specific\n",
            "<ipython-input-34-8098a1c9df72>:30: DeprecationWarning: Conversion of an array with ndim > 0 to a scalar is deprecated, and will error in future. Ensure you extract a single element from your array before performing this operation. (Deprecated NumPy 1.25.)\n",
            "  feature_scores[i] = mi_with_class - max_mi_with_other_features + max_mi_with_class_specific\n",
            "<ipython-input-34-8098a1c9df72>:30: DeprecationWarning: Conversion of an array with ndim > 0 to a scalar is deprecated, and will error in future. Ensure you extract a single element from your array before performing this operation. (Deprecated NumPy 1.25.)\n",
            "  feature_scores[i] = mi_with_class - max_mi_with_other_features + max_mi_with_class_specific\n",
            "<ipython-input-34-8098a1c9df72>:30: DeprecationWarning: Conversion of an array with ndim > 0 to a scalar is deprecated, and will error in future. Ensure you extract a single element from your array before performing this operation. (Deprecated NumPy 1.25.)\n",
            "  feature_scores[i] = mi_with_class - max_mi_with_other_features + max_mi_with_class_specific\n",
            "<ipython-input-34-8098a1c9df72>:30: DeprecationWarning: Conversion of an array with ndim > 0 to a scalar is deprecated, and will error in future. Ensure you extract a single element from your array before performing this operation. (Deprecated NumPy 1.25.)\n",
            "  feature_scores[i] = mi_with_class - max_mi_with_other_features + max_mi_with_class_specific\n",
            "<ipython-input-34-8098a1c9df72>:30: DeprecationWarning: Conversion of an array with ndim > 0 to a scalar is deprecated, and will error in future. Ensure you extract a single element from your array before performing this operation. (Deprecated NumPy 1.25.)\n",
            "  feature_scores[i] = mi_with_class - max_mi_with_other_features + max_mi_with_class_specific\n",
            "<ipython-input-34-8098a1c9df72>:30: DeprecationWarning: Conversion of an array with ndim > 0 to a scalar is deprecated, and will error in future. Ensure you extract a single element from your array before performing this operation. (Deprecated NumPy 1.25.)\n",
            "  feature_scores[i] = mi_with_class - max_mi_with_other_features + max_mi_with_class_specific\n",
            "<ipython-input-34-8098a1c9df72>:30: DeprecationWarning: Conversion of an array with ndim > 0 to a scalar is deprecated, and will error in future. Ensure you extract a single element from your array before performing this operation. (Deprecated NumPy 1.25.)\n",
            "  feature_scores[i] = mi_with_class - max_mi_with_other_features + max_mi_with_class_specific\n",
            "<ipython-input-34-8098a1c9df72>:30: DeprecationWarning: Conversion of an array with ndim > 0 to a scalar is deprecated, and will error in future. Ensure you extract a single element from your array before performing this operation. (Deprecated NumPy 1.25.)\n",
            "  feature_scores[i] = mi_with_class - max_mi_with_other_features + max_mi_with_class_specific\n",
            "<ipython-input-34-8098a1c9df72>:30: DeprecationWarning: Conversion of an array with ndim > 0 to a scalar is deprecated, and will error in future. Ensure you extract a single element from your array before performing this operation. (Deprecated NumPy 1.25.)\n",
            "  feature_scores[i] = mi_with_class - max_mi_with_other_features + max_mi_with_class_specific\n",
            "<ipython-input-34-8098a1c9df72>:30: DeprecationWarning: Conversion of an array with ndim > 0 to a scalar is deprecated, and will error in future. Ensure you extract a single element from your array before performing this operation. (Deprecated NumPy 1.25.)\n",
            "  feature_scores[i] = mi_with_class - max_mi_with_other_features + max_mi_with_class_specific\n",
            "<ipython-input-34-8098a1c9df72>:30: DeprecationWarning: Conversion of an array with ndim > 0 to a scalar is deprecated, and will error in future. Ensure you extract a single element from your array before performing this operation. (Deprecated NumPy 1.25.)\n",
            "  feature_scores[i] = mi_with_class - max_mi_with_other_features + max_mi_with_class_specific\n",
            "<ipython-input-34-8098a1c9df72>:30: DeprecationWarning: Conversion of an array with ndim > 0 to a scalar is deprecated, and will error in future. Ensure you extract a single element from your array before performing this operation. (Deprecated NumPy 1.25.)\n",
            "  feature_scores[i] = mi_with_class - max_mi_with_other_features + max_mi_with_class_specific\n",
            "<ipython-input-34-8098a1c9df72>:30: DeprecationWarning: Conversion of an array with ndim > 0 to a scalar is deprecated, and will error in future. Ensure you extract a single element from your array before performing this operation. (Deprecated NumPy 1.25.)\n",
            "  feature_scores[i] = mi_with_class - max_mi_with_other_features + max_mi_with_class_specific\n",
            "<ipython-input-34-8098a1c9df72>:30: DeprecationWarning: Conversion of an array with ndim > 0 to a scalar is deprecated, and will error in future. Ensure you extract a single element from your array before performing this operation. (Deprecated NumPy 1.25.)\n",
            "  feature_scores[i] = mi_with_class - max_mi_with_other_features + max_mi_with_class_specific\n",
            "<ipython-input-34-8098a1c9df72>:30: DeprecationWarning: Conversion of an array with ndim > 0 to a scalar is deprecated, and will error in future. Ensure you extract a single element from your array before performing this operation. (Deprecated NumPy 1.25.)\n",
            "  feature_scores[i] = mi_with_class - max_mi_with_other_features + max_mi_with_class_specific\n",
            "<ipython-input-34-8098a1c9df72>:30: DeprecationWarning: Conversion of an array with ndim > 0 to a scalar is deprecated, and will error in future. Ensure you extract a single element from your array before performing this operation. (Deprecated NumPy 1.25.)\n",
            "  feature_scores[i] = mi_with_class - max_mi_with_other_features + max_mi_with_class_specific\n",
            "<ipython-input-34-8098a1c9df72>:30: DeprecationWarning: Conversion of an array with ndim > 0 to a scalar is deprecated, and will error in future. Ensure you extract a single element from your array before performing this operation. (Deprecated NumPy 1.25.)\n",
            "  feature_scores[i] = mi_with_class - max_mi_with_other_features + max_mi_with_class_specific\n",
            "<ipython-input-34-8098a1c9df72>:30: DeprecationWarning: Conversion of an array with ndim > 0 to a scalar is deprecated, and will error in future. Ensure you extract a single element from your array before performing this operation. (Deprecated NumPy 1.25.)\n",
            "  feature_scores[i] = mi_with_class - max_mi_with_other_features + max_mi_with_class_specific\n",
            "<ipython-input-34-8098a1c9df72>:30: DeprecationWarning: Conversion of an array with ndim > 0 to a scalar is deprecated, and will error in future. Ensure you extract a single element from your array before performing this operation. (Deprecated NumPy 1.25.)\n",
            "  feature_scores[i] = mi_with_class - max_mi_with_other_features + max_mi_with_class_specific\n",
            "<ipython-input-34-8098a1c9df72>:30: DeprecationWarning: Conversion of an array with ndim > 0 to a scalar is deprecated, and will error in future. Ensure you extract a single element from your array before performing this operation. (Deprecated NumPy 1.25.)\n",
            "  feature_scores[i] = mi_with_class - max_mi_with_other_features + max_mi_with_class_specific\n",
            "<ipython-input-34-8098a1c9df72>:30: DeprecationWarning: Conversion of an array with ndim > 0 to a scalar is deprecated, and will error in future. Ensure you extract a single element from your array before performing this operation. (Deprecated NumPy 1.25.)\n",
            "  feature_scores[i] = mi_with_class - max_mi_with_other_features + max_mi_with_class_specific\n",
            "<ipython-input-34-8098a1c9df72>:30: DeprecationWarning: Conversion of an array with ndim > 0 to a scalar is deprecated, and will error in future. Ensure you extract a single element from your array before performing this operation. (Deprecated NumPy 1.25.)\n",
            "  feature_scores[i] = mi_with_class - max_mi_with_other_features + max_mi_with_class_specific\n",
            "<ipython-input-34-8098a1c9df72>:30: DeprecationWarning: Conversion of an array with ndim > 0 to a scalar is deprecated, and will error in future. Ensure you extract a single element from your array before performing this operation. (Deprecated NumPy 1.25.)\n",
            "  feature_scores[i] = mi_with_class - max_mi_with_other_features + max_mi_with_class_specific\n",
            "<ipython-input-34-8098a1c9df72>:30: DeprecationWarning: Conversion of an array with ndim > 0 to a scalar is deprecated, and will error in future. Ensure you extract a single element from your array before performing this operation. (Deprecated NumPy 1.25.)\n",
            "  feature_scores[i] = mi_with_class - max_mi_with_other_features + max_mi_with_class_specific\n",
            "<ipython-input-34-8098a1c9df72>:30: DeprecationWarning: Conversion of an array with ndim > 0 to a scalar is deprecated, and will error in future. Ensure you extract a single element from your array before performing this operation. (Deprecated NumPy 1.25.)\n",
            "  feature_scores[i] = mi_with_class - max_mi_with_other_features + max_mi_with_class_specific\n",
            "<ipython-input-34-8098a1c9df72>:30: DeprecationWarning: Conversion of an array with ndim > 0 to a scalar is deprecated, and will error in future. Ensure you extract a single element from your array before performing this operation. (Deprecated NumPy 1.25.)\n",
            "  feature_scores[i] = mi_with_class - max_mi_with_other_features + max_mi_with_class_specific\n",
            "<ipython-input-34-8098a1c9df72>:30: DeprecationWarning: Conversion of an array with ndim > 0 to a scalar is deprecated, and will error in future. Ensure you extract a single element from your array before performing this operation. (Deprecated NumPy 1.25.)\n",
            "  feature_scores[i] = mi_with_class - max_mi_with_other_features + max_mi_with_class_specific\n",
            "<ipython-input-34-8098a1c9df72>:30: DeprecationWarning: Conversion of an array with ndim > 0 to a scalar is deprecated, and will error in future. Ensure you extract a single element from your array before performing this operation. (Deprecated NumPy 1.25.)\n",
            "  feature_scores[i] = mi_with_class - max_mi_with_other_features + max_mi_with_class_specific\n"
          ]
        },
        {
          "output_type": "stream",
          "name": "stdout",
          "text": [
            "En iyi 20 özellik: [25 43  4 11 40 33 30 41  8 17  1 15 38 14 46 18  7 36 47 37]\n",
            "Özellik skorlari: [3.21490747 3.22424349 3.22523931 3.23000719 3.23011881 3.23017222\n",
            " 3.23162587 3.2352682  3.24730018 3.25186131 3.25365717 3.25572712\n",
            " 3.26188934 3.27690987 3.28708359 3.29678706 3.29926183 3.31331456\n",
            " 3.32885179 3.35623052]\n",
            "Tüm özellik sıralaması: [37 47 36  7 18 46 14 38 15  1 17  8 41 30 33 40 11  4 43 25 49 10  5 27\n",
            " 23 28 39 34 31  3 45 48 16 42 32  0 44 19 20  2 21 24 12 29 35 26  6 22\n",
            "  9 13]\n"
          ]
        },
        {
          "output_type": "stream",
          "name": "stderr",
          "text": [
            "<ipython-input-34-8098a1c9df72>:30: DeprecationWarning: Conversion of an array with ndim > 0 to a scalar is deprecated, and will error in future. Ensure you extract a single element from your array before performing this operation. (Deprecated NumPy 1.25.)\n",
            "  feature_scores[i] = mi_with_class - max_mi_with_other_features + max_mi_with_class_specific\n"
          ]
        }
      ]
    },
    {
      "cell_type": "code",
      "source": [
        "import matplotlib.pyplot as plt\n",
        "import numpy as np\n",
        "\n",
        "# Özellik skoru görselleştirme\n",
        "def plot_feature_importance(feature_scores):\n",
        "    \"\"\"\n",
        "    Özelliklerin önem derecelerini gösteren bar grafiği.\n",
        "    \"\"\"\n",
        "    plt.figure(figsize=(10, 6))\n",
        "    plt.bar(range(len(feature_scores)), feature_scores, color='skyblue')\n",
        "    plt.xlabel('Özellik Indeksi')\n",
        "    plt.ylabel('Özellik Skoru')\n",
        "    plt.title('Özelliklerin Önem Derecelerinin Dağılımı')\n",
        "    plt.show()\n",
        "\n",
        "# Özelliklerin sıralanmış hali\n",
        "plot_feature_importance(feature_scores)\n"
      ],
      "metadata": {
        "colab": {
          "base_uri": "https://localhost:8080/",
          "height": 566
        },
        "id": "TS3oD1DYWfOg",
        "outputId": "4d566c10-074f-42b8-93d9-11f8c5652a1b"
      },
      "execution_count": 35,
      "outputs": [
        {
          "output_type": "display_data",
          "data": {
            "text/plain": [
              "<Figure size 1000x600 with 1 Axes>"
            ],
            "image/png": "[encoded data removed]"
          },
          "metadata": {}
        }
      ]
    },
    {
      "cell_type": "code",
      "source": [
        "# En iyi 20 özelliğin görselleştirilmesi\n",
        "def plot_top_features(top_features, feature_scores):\n",
        "    \"\"\"\n",
        "    Seçilen en iyi 20 özelliğin önem derecelerini gösteren bar grafiği.\n",
        "    \"\"\"\n",
        "    plt.figure(figsize=(10, 6))\n",
        "    top_scores = feature_scores[top_features]\n",
        "    plt.bar(range(len(top_features)), top_scores, color='salmon')\n",
        "    plt.xlabel('Özellik Indeksi')\n",
        "    plt.ylabel('Özellik Skoru')\n",
        "    plt.title('En İyi 20 Özelliğin Önem Dereceleri')\n",
        "    plt.show()\n",
        "\n",
        "# Seçilen en iyi 20 özelliği görselleştirme\n",
        "plot_top_features(top_features, feature_scores)\n"
      ],
      "metadata": {
        "colab": {
          "base_uri": "https://localhost:8080/",
          "height": 566
        },
        "id": "eXicC0d_Wi15",
        "outputId": "1826b6aa-1880-4a9d-9080-69bf83c441dd"
      },
      "execution_count": 36,
      "outputs": [
        {
          "output_type": "display_data",
          "data": {
            "text/plain": [
              "<Figure size 1000x600 with 1 Axes>"
            ],
            "image/png": "[encoded data removed]"
          },
          "metadata": {}
        }
      ]
    },
    {
      "cell_type": "code",
      "source": [
        "# Özelliklerin sıralanmış halini görselleştirme\n",
        "def plot_sorted_feature_scores(feature_scores):\n",
        "    \"\"\"\n",
        "    Özelliklerin sıralandığı bar grafiği.\n",
        "    \"\"\"\n",
        "    plt.figure(figsize=(10, 6))\n",
        "    sorted_idx = np.argsort(feature_scores)[::-1]\n",
        "    sorted_scores = feature_scores[sorted_idx]\n",
        "    plt.bar(range(len(sorted_scores)), sorted_scores, color='lightgreen')\n",
        "    plt.xlabel('Özellik Indeksi')\n",
        "    plt.ylabel('Özellik Skoru')\n",
        "    plt.title('Özelliklerin Skorlarına Göre Sıralanışı')\n",
        "    plt.show()\n",
        "\n",
        "# Özelliklerin sıralanmış hali\n",
        "plot_sorted_feature_scores(feature_scores)\n"
      ],
      "metadata": {
        "colab": {
          "base_uri": "https://localhost:8080/",
          "height": 566
        },
        "id": "GDrmPn_KWkDI",
        "outputId": "c2dde7e8-b80e-484e-a426-8cb8faf1395b"
      },
      "execution_count": 40,
      "outputs": [
        {
          "output_type": "display_data",
          "data": {
            "text/plain": [
              "<Figure size 1000x600 with 1 Axes>"
            ],
            "image/png": "[encoded data removed]"
          },
          "metadata": {}
        }
      ]
    },
    {
      "cell_type": "code",
      "source": [],
      "metadata": {
        "id": "LGnxkb6yW0oM"
      },
      "execution_count": 39,
      "outputs": []
    },
    {
      "cell_type": "code",
      "source": [
        "# filtered_eeg_data'nın yapısını kontrol etme\n",
        "print(filtered_eeg_data.shape)\n"
      ],
      "metadata": {
        "colab": {
          "base_uri": "https://localhost:8080/"
        },
        "id": "6puX6XNJbRbq",
        "outputId": "40c96b9f-af55-4a9d-91a3-5969dde241aa"
      },
      "execution_count": 50,
      "outputs": [
        {
          "output_type": "stream",
          "name": "stdout",
          "text": [
            "(800, 17)\n"
          ]
        }
      ]
    },
    {
      "cell_type": "code",
      "source": [],
      "metadata": {
        "id": "q6qi1vNVde8w"
      },
      "execution_count": 64,
      "outputs": []
    },
    {
      "cell_type": "markdown",
      "source": [
        "# Model Eğitimi"
      ],
      "metadata": {
        "id": "jbVYs3JGiNoa"
      }
    },
    {
      "cell_type": "markdown",
      "source": [
        "## Binary Class"
      ],
      "metadata": {
        "id": "oppsCUyviRCK"
      }
    },
    {
      "cell_type": "code",
      "source": [
        "import numpy as np\n",
        "import pandas as pd\n",
        "\n",
        "# 1. EEG verisini al\n",
        "# filtered_eeg_data, EEG verilerini içeren DataFrame'dir.\n",
        "X = filtered_eeg_data.iloc[:, :14].values  # İlk 14 kanal (eeg.* sütunları)\n",
        "\n",
        "# 2. Hedef verileri (aro ve val)\n",
        "y = filtered_eeg_data[['aro', 'val']].values\n",
        "\n",
        "# 3. Zaman serisi uzunluğunu eşitlemek için en uzun zaman serisini bul\n",
        "max_length = 0\n",
        "for i in range(X.shape[0]):\n",
        "    for col in range(X.shape[1]):\n",
        "        value = X[i, col]\n",
        "\n",
        "        # Eğer değeri string formatında alıyorsak, listeye dönüştürmek için eval kullanıyoruz\n",
        "        if isinstance(value, str):\n",
        "            time_series = np.array(eval(value))  # String formatındaki array'i alıyoruz\n",
        "        elif isinstance(value, (np.ndarray, list)):\n",
        "            time_series = np.array(value)  # Eğer zaten array veya listse, direkt alıyoruz\n",
        "        else:\n",
        "            raise ValueError(f\"Beklenmeyen veri tipi: {type(value)}\")\n",
        "\n",
        "        # En uzun zaman serisini bulalım\n",
        "        max_length = max(max_length, len(time_series))\n",
        "\n",
        "# 4. Veriyi işleyelim ve zaman serisi uzunluklarını eşitleyelim\n",
        "X_processed = []\n",
        "\n",
        "for i in range(X.shape[0]):\n",
        "    processed_data = []\n",
        "    for col in range(X.shape[1]):\n",
        "        value = X[i, col]\n",
        "\n",
        "        if isinstance(value, str):\n",
        "            time_series = np.array(eval(value))  # String formatındaki array'i alıyoruz\n",
        "        elif isinstance(value, (np.ndarray, list)):\n",
        "            time_series = np.array(value)  # Eğer zaten array veya listse, direkt alıyoruz\n",
        "        else:\n",
        "            raise ValueError(f\"Beklenmeyen veri tipi: {type(value)}\")\n",
        "\n",
        "        # Eğer zaman serisinin uzunluğu max_length'ten kısa ise pad edelim\n",
        "        if len(time_series) < max_length:\n",
        "            time_series = np.pad(time_series, (0, max_length - len(time_series)), 'constant')\n",
        "\n",
        "        # İşlenmiş veriyi listeye ekle\n",
        "        processed_data.append(time_series)\n",
        "\n",
        "    # Tüm kanalları işledikten sonra örneği ekleyelim\n",
        "    X_processed.append(np.array(processed_data))\n",
        "\n",
        "# 5. Sonuçları numpy array'ine çevirelim\n",
        "X_processed = np.array(X_processed)\n",
        "\n",
        "# 6. Şekil kontrolü\n",
        "print(\"X_processed shape:\", X_processed.shape)  # (800, 14, max_length)\n",
        "print(\"y shape:\", y.shape)  # (800, 2)\n"
      ],
      "metadata": {
        "colab": {
          "base_uri": "https://localhost:8080/"
        },
        "id": "hLhua93Pb1fr",
        "outputId": "711bfb76-9875-4a05-f1e7-8cdfa86a1a8e"
      },
      "execution_count": 65,
      "outputs": [
        {
          "output_type": "stream",
          "name": "stdout",
          "text": [
            "X_processed shape: (800, 14, 5116)\n",
            "y shape: (800, 2)\n"
          ]
        }
      ]
    },
    {
      "cell_type": "code",
      "source": [
        "from sklearn.model_selection import train_test_split\n",
        "\n",
        "# Eğitim ve test verisi olarak ayıralım\n",
        "X_train, X_test, y_train, y_test = train_test_split(X_processed, y, test_size=0.2, random_state=42)\n",
        "\n",
        "# Verilerin şekline göz atalım\n",
        "print(f\"X_train shape: {X_train.shape}, X_test shape: {X_test.shape}\")\n",
        "print(f\"y_train shape: {y_train.shape}, y_test shape: {y_test.shape}\")\n"
      ],
      "metadata": {
        "colab": {
          "base_uri": "https://localhost:8080/"
        },
        "id": "r8uOuKT5d666",
        "outputId": "6797d9e3-92fa-4303-b047-b638624c5d14"
      },
      "execution_count": 66,
      "outputs": [
        {
          "output_type": "stream",
          "name": "stdout",
          "text": [
            "X_train shape: (640, 14, 5116), X_test shape: (160, 14, 5116)\n",
            "y_train shape: (640, 2), y_test shape: (160, 2)\n"
          ]
        }
      ]
    },
    {
      "cell_type": "code",
      "source": [
        "from sklearn.preprocessing import MinMaxScaler\n",
        "\n",
        "# MinMaxScaler'i kanal bazında uygulayalım\n",
        "scaler = MinMaxScaler()\n",
        "\n",
        "# X_train ve X_test verilerini normalize edelim\n",
        "X_train = X_train.reshape(-1, X_train.shape[-1])  # (800 * 14, max_length)\n",
        "X_test = X_test.reshape(-1, X_test.shape[-1])    # (200 * 14, max_length)\n",
        "\n",
        "# Normalizasyon\n",
        "X_train_scaled = scaler.fit_transform(X_train)\n",
        "X_test_scaled = scaler.transform(X_test)\n",
        "\n",
        "# Veriyi eski haline getirelim (reshape to 3D again)\n",
        "X_train_scaled = X_train_scaled.reshape(-1, 14, 5116)\n",
        "X_test_scaled = X_test_scaled.reshape(-1, 14, 5116)\n",
        "\n",
        "print(f\"X_train_scaled shape: {X_train_scaled.shape}\")\n",
        "print(f\"X_test_scaled shape: {X_test_scaled.shape}\")\n"
      ],
      "metadata": {
        "colab": {
          "base_uri": "https://localhost:8080/"
        },
        "id": "EhVsjWlWd92i",
        "outputId": "2ba5f32d-51fa-40cd-9d28-c4e18ae9e794"
      },
      "execution_count": 67,
      "outputs": [
        {
          "output_type": "stream",
          "name": "stdout",
          "text": [
            "X_train_scaled shape: (640, 14, 5116)\n",
            "X_test_scaled shape: (160, 14, 5116)\n"
          ]
        }
      ]
    },
    {
      "cell_type": "code",
      "source": [
        "from keras.models import Sequential\n",
        "from keras.layers import Conv1D, MaxPooling1D, Flatten, Dense, Dropout\n",
        "from keras.optimizers import Adam\n",
        "\n",
        "# Modeli başlat\n",
        "model = Sequential()\n",
        "\n",
        "# 1. Konvolüsyonel katman (64 filtre, 5x1 kernel)\n",
        "model.add(Conv1D(64, kernel_size=5, activation='relu', input_shape=(X_train_scaled.shape[1], X_train_scaled.shape[2]), padding='same'))\n",
        "model.add(MaxPooling1D(pool_size=2))  # Pooling katmanı\n",
        "\n",
        "# 2. Konvolüsyonel katman (32 filtre, 3x1 kernel)\n",
        "model.add(Conv1D(32, kernel_size=3, activation='relu', padding='same'))\n",
        "model.add(MaxPooling1D(pool_size=2))\n",
        "\n",
        "# 3. Konvolüsyonel katman (16 filtre, 3x1 kernel)\n",
        "model.add(Conv1D(16, kernel_size=3, activation='relu', padding='same'))\n",
        "\n",
        "# Flatten katmanı\n",
        "model.add(Flatten())\n",
        "\n",
        "# Dropout katmanı (overfitting'i engellemeye yardımcı olur)\n",
        "model.add(Dropout(0.25))\n",
        "\n",
        "# Tam bağlantı katmanı (Valence ve Arousal için 2 nöron)\n",
        "model.add(Dense(2, activation='sigmoid'))\n",
        "\n",
        "# Modeli derleyelim\n",
        "optimizer = Adam(learning_rate=0.005)\n",
        "model.compile(optimizer=optimizer, loss='binary_crossentropy', metrics=['accuracy'])\n",
        "\n",
        "# Modelin özetini alalım\n",
        "model.summary()\n"
      ],
      "metadata": {
        "colab": {
          "base_uri": "https://localhost:8080/",
          "height": 385
        },
        "id": "2WCpzwgIeH1E",
        "outputId": "557cffda-ab19-4be8-c93a-dc170bb1fd9e"
      },
      "execution_count": 80,
      "outputs": [
        {
          "output_type": "display_data",
          "data": {
            "text/plain": [
              "\u001b[1mModel: \"sequential_16\"\u001b[0m\n"
            ],
            "text/html": [
              "<pre style=\"white-space:pre;overflow-x:auto;line-height:normal;font-family:Menlo,'DejaVu Sans Mono',consolas,'Courier New',monospace\"><span style=\"font-weight: bold\">Model: \"sequential_16\"</span>\n",
              "</pre>\n"
            ]
          },
          "metadata": {}
        },
        {
          "output_type": "display_data",
          "data": {
            "text/plain": [
              "┏━━━━━━━━━━━━━━━━━━━━━━━━━━━━━━━━━━━━━━┳━━━━━━━━━━━━━━━━━━━━━━━━━━━━━┳━━━━━━━━━━━━━━━━━┓\n",
              "┃\u001b[1m \u001b[0m\u001b[1mLayer (type)                        \u001b[0m\u001b[1m \u001b[0m┃\u001b[1m \u001b[0m\u001b[1mOutput Shape               \u001b[0m\u001b[1m \u001b[0m┃\u001b[1m \u001b[0m\u001b[1m        Param #\u001b[0m\u001b[1m \u001b[0m┃\n",
              "┡━━━━━━━━━━━━━━━━━━━━━━━━━━━━━━━━━━━━━━╇━━━━━━━━━━━━━━━━━━━━━━━━━━━━━╇━━━━━━━━━━━━━━━━━┩\n",
              "│ conv1d_35 (\u001b[38;5;33mConv1D\u001b[0m)                   │ (\u001b[38;5;45mNone\u001b[0m, \u001b[38;5;34m14\u001b[0m, \u001b[38;5;34m64\u001b[0m)              │       \u001b[38;5;34m1,637,184\u001b[0m │\n",
              "├──────────────────────────────────────┼─────────────────────────────┼─────────────────┤\n",
              "│ max_pooling1d_26 (\u001b[38;5;33mMaxPooling1D\u001b[0m)      │ (\u001b[38;5;45mNone\u001b[0m, \u001b[38;5;34m7\u001b[0m, \u001b[38;5;34m64\u001b[0m)               │               \u001b[38;5;34m0\u001b[0m │\n",
              "├──────────────────────────────────────┼─────────────────────────────┼─────────────────┤\n",
              "│ conv1d_36 (\u001b[38;5;33mConv1D\u001b[0m)                   │ (\u001b[38;5;45mNone\u001b[0m, \u001b[38;5;34m7\u001b[0m, \u001b[38;5;34m32\u001b[0m)               │           \u001b[38;5;34m6,176\u001b[0m │\n",
              "├──────────────────────────────────────┼─────────────────────────────┼─────────────────┤\n",
              "│ max_pooling1d_27 (\u001b[38;5;33mMaxPooling1D\u001b[0m)      │ (\u001b[38;5;45mNone\u001b[0m, \u001b[38;5;34m3\u001b[0m, \u001b[38;5;34m32\u001b[0m)               │               \u001b[38;5;34m0\u001b[0m │\n",
              "├──────────────────────────────────────┼─────────────────────────────┼─────────────────┤\n",
              "│ conv1d_37 (\u001b[38;5;33mConv1D\u001b[0m)                   │ (\u001b[38;5;45mNone\u001b[0m, \u001b[38;5;34m3\u001b[0m, \u001b[38;5;34m16\u001b[0m)               │           \u001b[38;5;34m1,552\u001b[0m │\n",
              "├──────────────────────────────────────┼─────────────────────────────┼─────────────────┤\n",
              "│ flatten_6 (\u001b[38;5;33mFlatten\u001b[0m)                  │ (\u001b[38;5;45mNone\u001b[0m, \u001b[38;5;34m48\u001b[0m)                  │               \u001b[38;5;34m0\u001b[0m │\n",
              "├──────────────────────────────────────┼─────────────────────────────┼─────────────────┤\n",
              "│ dropout_14 (\u001b[38;5;33mDropout\u001b[0m)                 │ (\u001b[38;5;45mNone\u001b[0m, \u001b[38;5;34m48\u001b[0m)                  │               \u001b[38;5;34m0\u001b[0m │\n",
              "├──────────────────────────────────────┼─────────────────────────────┼─────────────────┤\n",
              "│ dense_12 (\u001b[38;5;33mDense\u001b[0m)                     │ (\u001b[38;5;45mNone\u001b[0m, \u001b[38;5;34m2\u001b[0m)                   │              \u001b[38;5;34m98\u001b[0m │\n",
              "└──────────────────────────────────────┴─────────────────────────────┴─────────────────┘\n"
            ],
            "text/html": [
              "<pre style=\"white-space:pre;overflow-x:auto;line-height:normal;font-family:Menlo,'DejaVu Sans Mono',consolas,'Courier New',monospace\">┏━━━━━━━━━━━━━━━━━━━━━━━━━━━━━━━━━━━━━━┳━━━━━━━━━━━━━━━━━━━━━━━━━━━━━┳━━━━━━━━━━━━━━━━━┓\n",
              "┃<span style=\"font-weight: bold\"> Layer (type)                         </span>┃<span style=\"font-weight: bold\"> Output Shape                </span>┃<span style=\"font-weight: bold\">         Param # </span>┃\n",
              "┡━━━━━━━━━━━━━━━━━━━━━━━━━━━━━━━━━━━━━━╇━━━━━━━━━━━━━━━━━━━━━━━━━━━━━╇━━━━━━━━━━━━━━━━━┩\n",
              "│ conv1d_35 (<span style=\"color: #0087ff; text-decoration-color: #0087ff\">Conv1D</span>)                   │ (<span style=\"color: #00d7ff; text-decoration-color: #00d7ff\">None</span>, <span style=\"color: #00af00; text-decoration-color: #00af00\">14</span>, <span style=\"color: #00af00; text-decoration-color: #00af00\">64</span>)              │       <span style=\"color: #00af00; text-decoration-color: #00af00\">1,637,184</span> │\n",
              "├──────────────────────────────────────┼─────────────────────────────┼─────────────────┤\n",
              "│ max_pooling1d_26 (<span style=\"color: #0087ff; text-decoration-color: #0087ff\">MaxPooling1D</span>)      │ (<span style=\"color: #00d7ff; text-decoration-color: #00d7ff\">None</span>, <span style=\"color: #00af00; text-decoration-color: #00af00\">7</span>, <span style=\"color: #00af00; text-decoration-color: #00af00\">64</span>)               │               <span style=\"color: #00af00; text-decoration-color: #00af00\">0</span> │\n",
              "├──────────────────────────────────────┼─────────────────────────────┼─────────────────┤\n",
              "│ conv1d_36 (<span style=\"color: #0087ff; text-decoration-color: #0087ff\">Conv1D</span>)                   │ (<span style=\"color: #00d7ff; text-decoration-color: #00d7ff\">None</span>, <span style=\"color: #00af00; text-decoration-color: #00af00\">7</span>, <span style=\"color: #00af00; text-decoration-color: #00af00\">32</span>)               │           <span style=\"color: #00af00; text-decoration-color: #00af00\">6,176</span> │\n",
              "├──────────────────────────────────────┼─────────────────────────────┼─────────────────┤\n",
              "│ max_pooling1d_27 (<span style=\"color: #0087ff; text-decoration-color: #0087ff\">MaxPooling1D</span>)      │ (<span style=\"color: #00d7ff; text-decoration-color: #00d7ff\">None</span>, <span style=\"color: #00af00; text-decoration-color: #00af00\">3</span>, <span style=\"color: #00af00; text-decoration-color: #00af00\">32</span>)               │               <span style=\"color: #00af00; text-decoration-color: #00af00\">0</span> │\n",
              "├──────────────────────────────────────┼─────────────────────────────┼─────────────────┤\n",
              "│ conv1d_37 (<span style=\"color: #0087ff; text-decoration-color: #0087ff\">Conv1D</span>)                   │ (<span style=\"color: #00d7ff; text-decoration-color: #00d7ff\">None</span>, <span style=\"color: #00af00; text-decoration-color: #00af00\">3</span>, <span style=\"color: #00af00; text-decoration-color: #00af00\">16</span>)               │           <span style=\"color: #00af00; text-decoration-color: #00af00\">1,552</span> │\n",
              "├──────────────────────────────────────┼─────────────────────────────┼─────────────────┤\n",
              "│ flatten_6 (<span style=\"color: #0087ff; text-decoration-color: #0087ff\">Flatten</span>)                  │ (<span style=\"color: #00d7ff; text-decoration-color: #00d7ff\">None</span>, <span style=\"color: #00af00; text-decoration-color: #00af00\">48</span>)                  │               <span style=\"color: #00af00; text-decoration-color: #00af00\">0</span> │\n",
              "├──────────────────────────────────────┼─────────────────────────────┼─────────────────┤\n",
              "│ dropout_14 (<span style=\"color: #0087ff; text-decoration-color: #0087ff\">Dropout</span>)                 │ (<span style=\"color: #00d7ff; text-decoration-color: #00d7ff\">None</span>, <span style=\"color: #00af00; text-decoration-color: #00af00\">48</span>)                  │               <span style=\"color: #00af00; text-decoration-color: #00af00\">0</span> │\n",
              "├──────────────────────────────────────┼─────────────────────────────┼─────────────────┤\n",
              "│ dense_12 (<span style=\"color: #0087ff; text-decoration-color: #0087ff\">Dense</span>)                     │ (<span style=\"color: #00d7ff; text-decoration-color: #00d7ff\">None</span>, <span style=\"color: #00af00; text-decoration-color: #00af00\">2</span>)                   │              <span style=\"color: #00af00; text-decoration-color: #00af00\">98</span> │\n",
              "└──────────────────────────────────────┴─────────────────────────────┴─────────────────┘\n",
              "</pre>\n"
            ]
          },
          "metadata": {}
        },
        {
          "output_type": "display_data",
          "data": {
            "text/plain": [
              "\u001b[1m Total params: \u001b[0m\u001b[38;5;34m1,645,010\u001b[0m (6.28 MB)\n"
            ],
            "text/html": [
              "<pre style=\"white-space:pre;overflow-x:auto;line-height:normal;font-family:Menlo,'DejaVu Sans Mono',consolas,'Courier New',monospace\"><span style=\"font-weight: bold\"> Total params: </span><span style=\"color: #00af00; text-decoration-color: #00af00\">1,645,010</span> (6.28 MB)\n",
              "</pre>\n"
            ]
          },
          "metadata": {}
        },
        {
          "output_type": "display_data",
          "data": {
            "text/plain": [
              "\u001b[1m Trainable params: \u001b[0m\u001b[38;5;34m1,645,010\u001b[0m (6.28 MB)\n"
            ],
            "text/html": [
              "<pre style=\"white-space:pre;overflow-x:auto;line-height:normal;font-family:Menlo,'DejaVu Sans Mono',consolas,'Courier New',monospace\"><span style=\"font-weight: bold\"> Trainable params: </span><span style=\"color: #00af00; text-decoration-color: #00af00\">1,645,010</span> (6.28 MB)\n",
              "</pre>\n"
            ]
          },
          "metadata": {}
        },
        {
          "output_type": "display_data",
          "data": {
            "text/plain": [
              "\u001b[1m Non-trainable params: \u001b[0m\u001b[38;5;34m0\u001b[0m (0.00 B)\n"
            ],
            "text/html": [
              "<pre style=\"white-space:pre;overflow-x:auto;line-height:normal;font-family:Menlo,'DejaVu Sans Mono',consolas,'Courier New',monospace\"><span style=\"font-weight: bold\"> Non-trainable params: </span><span style=\"color: #00af00; text-decoration-color: #00af00\">0</span> (0.00 B)\n",
              "</pre>\n"
            ]
          },
          "metadata": {}
        }
      ]
    },
    {
      "cell_type": "code",
      "source": [
        "# Model eğitimi\n",
        "history = model.fit(X_train_scaled, y_train, epochs=20, batch_size=64, validation_data=(X_test_scaled, y_test))"
      ],
      "metadata": {
        "colab": {
          "base_uri": "https://localhost:8080/"
        },
        "id": "hBOJ--oghA4t",
        "outputId": "f069332c-2c26-4257-9062-91d436f1c2d7"
      },
      "execution_count": 81,
      "outputs": [
        {
          "output_type": "stream",
          "name": "stdout",
          "text": [
            "Epoch 1/20\n",
            "\u001b[1m10/10\u001b[0m \u001b[32m━━━━━━━━━━━━━━━━━━━━\u001b[0m\u001b[37m\u001b[0m \u001b[1m4s\u001b[0m 235ms/step - accuracy: 0.5337 - loss: 4.6361 - val_accuracy: 0.2500 - val_loss: 0.7976\n",
            "Epoch 2/20\n",
            "\u001b[1m10/10\u001b[0m \u001b[32m━━━━━━━━━━━━━━━━━━━━\u001b[0m\u001b[37m\u001b[0m \u001b[1m2s\u001b[0m 205ms/step - accuracy: 0.6001 - loss: 0.7443 - val_accuracy: 0.7500 - val_loss: 0.7100\n",
            "Epoch 3/20\n",
            "\u001b[1m10/10\u001b[0m \u001b[32m━━━━━━━━━━━━━━━━━━━━\u001b[0m\u001b[37m\u001b[0m \u001b[1m2s\u001b[0m 213ms/step - accuracy: 0.6380 - loss: 0.6869 - val_accuracy: 0.7437 - val_loss: 0.7123\n",
            "Epoch 4/20\n",
            "\u001b[1m10/10\u001b[0m \u001b[32m━━━━━━━━━━━━━━━━━━━━\u001b[0m\u001b[37m\u001b[0m \u001b[1m2s\u001b[0m 208ms/step - accuracy: 0.6336 - loss: 0.6876 - val_accuracy: 0.7500 - val_loss: 0.7072\n",
            "Epoch 5/20\n",
            "\u001b[1m10/10\u001b[0m \u001b[32m━━━━━━━━━━━━━━━━━━━━\u001b[0m\u001b[37m\u001b[0m \u001b[1m3s\u001b[0m 344ms/step - accuracy: 0.6210 - loss: 0.6875 - val_accuracy: 0.7500 - val_loss: 0.7036\n",
            "Epoch 6/20\n",
            "\u001b[1m10/10\u001b[0m \u001b[32m━━━━━━━━━━━━━━━━━━━━\u001b[0m\u001b[37m\u001b[0m \u001b[1m4s\u001b[0m 406ms/step - accuracy: 0.6011 - loss: 0.6885 - val_accuracy: 0.7500 - val_loss: 0.7013\n",
            "Epoch 7/20\n",
            "\u001b[1m10/10\u001b[0m \u001b[32m━━━━━━━━━━━━━━━━━━━━\u001b[0m\u001b[37m\u001b[0m \u001b[1m3s\u001b[0m 202ms/step - accuracy: 0.6178 - loss: 0.6857 - val_accuracy: 0.7500 - val_loss: 0.7016\n",
            "Epoch 8/20\n",
            "\u001b[1m10/10\u001b[0m \u001b[32m━━━━━━━━━━━━━━━━━━━━\u001b[0m\u001b[37m\u001b[0m \u001b[1m2s\u001b[0m 195ms/step - accuracy: 0.6070 - loss: 0.6875 - val_accuracy: 0.7437 - val_loss: 0.6911\n",
            "Epoch 9/20\n",
            "\u001b[1m10/10\u001b[0m \u001b[32m━━━━━━━━━━━━━━━━━━━━\u001b[0m\u001b[37m\u001b[0m \u001b[1m2s\u001b[0m 194ms/step - accuracy: 0.6231 - loss: 0.6889 - val_accuracy: 0.7563 - val_loss: 0.6809\n",
            "Epoch 10/20\n",
            "\u001b[1m10/10\u001b[0m \u001b[32m━━━━━━━━━━━━━━━━━━━━\u001b[0m\u001b[37m\u001b[0m \u001b[1m2s\u001b[0m 205ms/step - accuracy: 0.7574 - loss: 0.6896 - val_accuracy: 0.7500 - val_loss: 0.6918\n",
            "Epoch 11/20\n",
            "\u001b[1m10/10\u001b[0m \u001b[32m━━━━━━━━━━━━━━━━━━━━\u001b[0m\u001b[37m\u001b[0m \u001b[1m3s\u001b[0m 264ms/step - accuracy: 0.7429 - loss: 0.6889 - val_accuracy: 0.7500 - val_loss: 0.6940\n",
            "Epoch 12/20\n",
            "\u001b[1m10/10\u001b[0m \u001b[32m━━━━━━━━━━━━━━━━━━━━\u001b[0m\u001b[37m\u001b[0m \u001b[1m6s\u001b[0m 352ms/step - accuracy: 0.7464 - loss: 0.6887 - val_accuracy: 0.7500 - val_loss: 0.6929\n",
            "Epoch 13/20\n",
            "\u001b[1m10/10\u001b[0m \u001b[32m━━━━━━━━━━━━━━━━━━━━\u001b[0m\u001b[37m\u001b[0m \u001b[1m4s\u001b[0m 205ms/step - accuracy: 0.7272 - loss: 0.6878 - val_accuracy: 0.7500 - val_loss: 0.6919\n",
            "Epoch 14/20\n",
            "\u001b[1m10/10\u001b[0m \u001b[32m━━━━━━━━━━━━━━━━━━━━\u001b[0m\u001b[37m\u001b[0m \u001b[1m2s\u001b[0m 199ms/step - accuracy: 0.7215 - loss: 0.6883 - val_accuracy: 0.7500 - val_loss: 0.6911\n",
            "Epoch 15/20\n",
            "\u001b[1m10/10\u001b[0m \u001b[32m━━━━━━━━━━━━━━━━━━━━\u001b[0m\u001b[37m\u001b[0m \u001b[1m3s\u001b[0m 207ms/step - accuracy: 0.7244 - loss: 0.6880 - val_accuracy: 0.7500 - val_loss: 0.6905\n",
            "Epoch 16/20\n",
            "\u001b[1m10/10\u001b[0m \u001b[32m━━━━━━━━━━━━━━━━━━━━\u001b[0m\u001b[37m\u001b[0m \u001b[1m3s\u001b[0m 276ms/step - accuracy: 0.7459 - loss: 0.6864 - val_accuracy: 0.7500 - val_loss: 0.6899\n",
            "Epoch 17/20\n",
            "\u001b[1m10/10\u001b[0m \u001b[32m━━━━━━━━━━━━━━━━━━━━\u001b[0m\u001b[37m\u001b[0m \u001b[1m4s\u001b[0m 375ms/step - accuracy: 0.7232 - loss: 0.6867 - val_accuracy: 0.7500 - val_loss: 0.6894\n",
            "Epoch 18/20\n",
            "\u001b[1m10/10\u001b[0m \u001b[32m━━━━━━━━━━━━━━━━━━━━\u001b[0m\u001b[37m\u001b[0m \u001b[1m4s\u001b[0m 270ms/step - accuracy: 0.7316 - loss: 0.6875 - val_accuracy: 0.7500 - val_loss: 0.6891\n",
            "Epoch 19/20\n",
            "\u001b[1m10/10\u001b[0m \u001b[32m━━━━━━━━━━━━━━━━━━━━\u001b[0m\u001b[37m\u001b[0m \u001b[1m4s\u001b[0m 214ms/step - accuracy: 0.7204 - loss: 0.6849 - val_accuracy: 0.7500 - val_loss: 0.6887\n",
            "Epoch 20/20\n",
            "\u001b[1m10/10\u001b[0m \u001b[32m━━━━━━━━━━━━━━━━━━━━\u001b[0m\u001b[37m\u001b[0m \u001b[1m2s\u001b[0m 211ms/step - accuracy: 0.7472 - loss: 0.6847 - val_accuracy: 0.7500 - val_loss: 0.6885\n"
          ]
        }
      ]
    },
    {
      "cell_type": "code",
      "source": [
        "# Modelin performansını değerlendirelim\n",
        "y_train_pred = model.predict(X_train_scaled)\n",
        "y_test_pred = model.predict(X_test_scaled)\n",
        "\n",
        "# Valence için metrikler\n",
        "valence_train_pred = y_train_pred[:, 0]\n",
        "valence_test_pred = y_test_pred[:, 0]\n",
        "\n",
        "valence_train_true = y_train[:, 0]\n",
        "valence_test_true = y_test[:, 0]\n",
        "\n",
        "# Eğitimdeki Valence sonuçları\n",
        "valence_train_accuracy = np.mean(valence_train_true == np.round(valence_train_pred))\n",
        "valence_train_loss = np.mean(np.abs(valence_train_true - valence_train_pred))\n",
        "\n",
        "# Testteki Valence sonuçları\n",
        "valence_test_accuracy = np.mean(valence_test_true == np.round(valence_test_pred))\n",
        "valence_test_loss = np.mean(np.abs(valence_test_true - valence_test_pred))\n",
        "\n",
        "# Precision, Recall, F1 Score\n",
        "valence_train_precision = precision_score(valence_train_true, np.round(valence_train_pred))\n",
        "valence_train_recall = recall_score(valence_train_true, np.round(valence_train_pred))\n",
        "valence_train_f1 = f1_score(valence_train_true, np.round(valence_train_pred))\n",
        "\n",
        "valence_test_precision = precision_score(valence_test_true, np.round(valence_test_pred))\n",
        "valence_test_recall = recall_score(valence_test_true, np.round(valence_test_pred))\n",
        "valence_test_f1 = f1_score(valence_test_true, np.round(valence_test_pred))\n",
        "\n",
        "# Arousal için metrikler\n",
        "arousal_train_pred = y_train_pred[:, 1]\n",
        "arousal_test_pred = y_test_pred[:, 1]\n",
        "\n",
        "arousal_train_true = y_train[:, 1]\n",
        "arousal_test_true = y_test[:, 1]\n",
        "\n",
        "# Eğitimdeki Arousal sonuçları\n",
        "arousal_train_accuracy = np.mean(arousal_train_true == np.round(arousal_train_pred))\n",
        "arousal_train_loss = np.mean(np.abs(arousal_train_true - arousal_train_pred))\n",
        "\n",
        "# Testteki Arousal sonuçları\n",
        "arousal_test_accuracy = np.mean(arousal_test_true == np.round(arousal_test_pred))\n",
        "arousal_test_loss = np.mean(np.abs(arousal_test_true - arousal_test_pred))\n",
        "\n",
        "# Precision, Recall, F1 Score\n",
        "arousal_train_precision = precision_score(arousal_train_true, np.round(arousal_train_pred))\n",
        "arousal_train_recall = recall_score(arousal_train_true, np.round(arousal_train_pred))\n",
        "arousal_train_f1 = f1_score(arousal_train_true, np.round(arousal_train_pred))\n",
        "\n",
        "arousal_test_precision = precision_score(arousal_test_true, np.round(arousal_test_pred))\n",
        "arousal_test_recall = recall_score(arousal_test_true, np.round(arousal_test_pred))\n",
        "arousal_test_f1 = f1_score(arousal_test_true, np.round(arousal_test_pred))\n",
        "\n",
        "# Sonuçları yazdıralım\n",
        "print(f\"Valence - Train Accuracy: {valence_train_accuracy}\")\n",
        "print(f\"Valence - Train Loss: {valence_train_loss}\")\n",
        "print(f\"Valence - Test Accuracy: {valence_test_accuracy}\")\n",
        "print(f\"Valence - Test Loss: {valence_test_loss}\")\n",
        "print(f\"Valence - Train Precision: {valence_train_precision}\")\n",
        "print(f\"Valence - Train Recall: {valence_train_recall}\")\n",
        "print(f\"Valence - Train F1 Score: {valence_train_f1}\")\n",
        "print(f\"Valence - Test Precision: {valence_test_precision}\")\n",
        "print(f\"Valence - Test Recall: {valence_test_recall}\")\n",
        "print(f\"Valence - Test F1 Score: {valence_test_f1}\")\n",
        "\n",
        "print(\"\\n\")\n",
        "\n",
        "print(f\"Arousal - Train Accuracy: {arousal_train_accuracy}\")\n",
        "print(f\"Arousal - Train Loss: {arousal_train_loss}\")\n",
        "print(f\"Arousal - Test Accuracy: {arousal_test_accuracy}\")\n",
        "print(f\"Arousal - Test Loss: {arousal_test_loss}\")\n",
        "print(f\"Arousal - Train Precision: {arousal_train_precision}\")\n",
        "print(f\"Arousal - Train Recall: {arousal_train_recall}\")\n",
        "print(f\"Arousal - Train F1 Score: {arousal_train_f1}\")\n",
        "print(f\"Arousal - Test Precision: {arousal_test_precision}\")\n",
        "print(f\"Arousal - Test Recall: {arousal_test_recall}\")\n",
        "print(f\"Arousal - Test F1 Score: {arousal_test_f1}\")\n"
      ],
      "metadata": {
        "colab": {
          "base_uri": "https://localhost:8080/"
        },
        "id": "bwIlq-hNemqk",
        "outputId": "ad429494-f058-461f-ba60-db7530c191c9"
      },
      "execution_count": 82,
      "outputs": [
        {
          "output_type": "stream",
          "name": "stdout",
          "text": [
            "\u001b[1m20/20\u001b[0m \u001b[32m━━━━━━━━━━━━━━━━━━━━\u001b[0m\u001b[37m\u001b[0m \u001b[1m2s\u001b[0m 75ms/step\n",
            "\u001b[1m5/5\u001b[0m \u001b[32m━━━━━━━━━━━━━━━━━━━━\u001b[0m\u001b[37m\u001b[0m \u001b[1m0s\u001b[0m 32ms/step\n",
            "Valence - Train Accuracy: 0.5890625\n",
            "Valence - Train Loss: 0.4874662322923541\n",
            "Valence - Test Accuracy: 0.59375\n",
            "Valence - Test Loss: 0.48871956588700416\n",
            "Valence - Train Precision: 0.5890625\n",
            "Valence - Train Recall: 1.0\n",
            "Valence - Train F1 Score: 0.7413962635201573\n",
            "Valence - Test Precision: 0.5974842767295597\n",
            "Valence - Test Recall: 0.9895833333333334\n",
            "Valence - Test F1 Score: 0.7450980392156863\n",
            "\n",
            "\n",
            "Arousal - Train Accuracy: 0.525\n",
            "Arousal - Train Loss: 0.49882282316684723\n",
            "Arousal - Test Accuracy: 0.55625\n",
            "Arousal - Test Loss: 0.49865400455892084\n",
            "Arousal - Train Precision: 0.525\n",
            "Arousal - Train Recall: 1.0\n",
            "Arousal - Train F1 Score: 0.6885245901639344\n",
            "Arousal - Test Precision: 0.559748427672956\n",
            "Arousal - Test Recall: 0.9888888888888889\n",
            "Arousal - Test F1 Score: 0.714859437751004\n"
          ]
        }
      ]
    },
    {
      "cell_type": "markdown",
      "source": [
        "## Multiclass Model"
      ],
      "metadata": {
        "id": "F7mebDDvh8wR"
      }
    },
    {
      "cell_type": "code",
      "source": [],
      "metadata": {
        "id": "I4oNpz-XiAea"
      },
      "execution_count": 1,
      "outputs": []
    }
  ]
}